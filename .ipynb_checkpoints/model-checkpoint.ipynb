{
 "cells": [
  {
   "cell_type": "code",
   "execution_count": 6,
   "metadata": {},
   "outputs": [],
   "source": [
    "import pandas as pd\n",
    "import numpy as np\n",
    "import warnings\n",
    "import os\n",
    "import seaborn as sns\n",
    "import matplotlib.pyplot as plt\n",
    "\"\"\"\n",
    "sns 相关设置\n",
    "@return:\n",
    "\"\"\"\n",
    "# 声明使用 Seaborn 样式\n",
    "sns.set()\n",
    "# 有五种seaborn的绘图风格，它们分别是：darkgrid, whitegrid, dark, white, ticks。默认的主题是darkgrid。\n",
    "sns.set_style(\"whitegrid\")\n",
    "# 有四个预置的环境，按大小从小到大排列分别为：paper, notebook, talk, poster。其中，notebook是默认的。\n",
    "sns.set_context('talk')\n",
    "# 中文字体设置-黑体\n",
    "plt.rcParams['font.sans-serif'] = ['SimHei']\n",
    "# 解决保存图像是负号'-'显示为方块的问题\n",
    "plt.rcParams['axes.unicode_minus'] = False\n",
    "# 解决Seaborn中文显示问题并调整字体大小\n",
    "sns.set(font='SimHei')"
   ]
  },
  {
   "cell_type": "code",
   "execution_count": 2,
   "metadata": {},
   "outputs": [],
   "source": [
    "# reduce_mem_usage 函数通过调整数据类型，帮助我们减少数据在内存中占用的空间\n",
    "def reduce_mem_usage(df):\n",
    "    \"\"\" iterate through all the columns of a dataframe and modify the data type\n",
    "        to reduce memory usage.        \n",
    "    \"\"\"\n",
    "    start_mem = df.memory_usage().sum() \n",
    "    print('Memory usage of dataframe is {:.2f} MB'.format(start_mem))\n",
    "    \n",
    "    for col in df.columns:\n",
    "        col_type = df[col].dtype\n",
    "        \n",
    "        if col_type != object:\n",
    "            c_min = df[col].min()\n",
    "            c_max = df[col].max()\n",
    "            if str(col_type)[:3] == 'int':\n",
    "                if c_min > np.iinfo(np.int8).min and c_max < np.iinfo(np.int8).max:\n",
    "                    df[col] = df[col].astype(np.int8)\n",
    "                elif c_min > np.iinfo(np.int16).min and c_max < np.iinfo(np.int16).max:\n",
    "                    df[col] = df[col].astype(np.int16)\n",
    "                elif c_min > np.iinfo(np.int32).min and c_max < np.iinfo(np.int32).max:\n",
    "                    df[col] = df[col].astype(np.int32)\n",
    "                elif c_min > np.iinfo(np.int64).min and c_max < np.iinfo(np.int64).max:\n",
    "                    df[col] = df[col].astype(np.int64)  \n",
    "            else:\n",
    "                if c_min > np.finfo(np.float16).min and c_max < np.finfo(np.float16).max:\n",
    "                    df[col] = df[col].astype(np.float16)\n",
    "                elif c_min > np.finfo(np.float32).min and c_max < np.finfo(np.float32).max:\n",
    "                    df[col] = df[col].astype(np.float32)\n",
    "                else:\n",
    "                    df[col] = df[col].astype(np.float64)\n",
    "        else:\n",
    "            df[col] = df[col].astype('category')\n",
    "\n",
    "    end_mem = df.memory_usage().sum() \n",
    "    print('Memory usage after optimization is: {:.2f} MB'.format(end_mem))\n",
    "    print('Decreased by {:.1f}%'.format(100 * (start_mem - end_mem) / start_mem))\n",
    "    return df"
   ]
  },
  {
   "cell_type": "code",
   "execution_count": 3,
   "metadata": {},
   "outputs": [
    {
     "name": "stdout",
     "output_type": "stream",
     "text": [
      "Memory usage of dataframe is 384000000.00 MB\n",
      "Memory usage after optimization is: 99034456.00 MB\n",
      "Decreased by 74.2%\n"
     ]
    }
   ],
   "source": [
    "data = pd.read_csv('cf-df.csv',index_col=0)\n",
    "data = reduce_mem_usage(data)"
   ]
  },
  {
   "cell_type": "code",
   "execution_count": 4,
   "metadata": {},
   "outputs": [
    {
     "data": {
      "text/html": [
       "<div>\n",
       "<style scoped>\n",
       "    .dataframe tbody tr th:only-of-type {\n",
       "        vertical-align: middle;\n",
       "    }\n",
       "\n",
       "    .dataframe tbody tr th {\n",
       "        vertical-align: top;\n",
       "    }\n",
       "\n",
       "    .dataframe thead th {\n",
       "        text-align: right;\n",
       "    }\n",
       "</style>\n",
       "<table border=\"1\" class=\"dataframe\">\n",
       "  <thead>\n",
       "    <tr style=\"text-align: right;\">\n",
       "      <th></th>\n",
       "      <th>id</th>\n",
       "      <th>loanAmnt</th>\n",
       "      <th>term</th>\n",
       "      <th>interestRate</th>\n",
       "      <th>installment</th>\n",
       "      <th>employmentTitle</th>\n",
       "      <th>employmentLength</th>\n",
       "      <th>homeOwnership</th>\n",
       "      <th>annualIncome</th>\n",
       "      <th>verificationStatus</th>\n",
       "      <th>...</th>\n",
       "      <th>n7</th>\n",
       "      <th>n8</th>\n",
       "      <th>n9</th>\n",
       "      <th>n10</th>\n",
       "      <th>n11</th>\n",
       "      <th>n12</th>\n",
       "      <th>n13</th>\n",
       "      <th>n14</th>\n",
       "      <th>issueDateDT</th>\n",
       "      <th>creditY</th>\n",
       "    </tr>\n",
       "  </thead>\n",
       "  <tbody>\n",
       "    <tr>\n",
       "      <th>count</th>\n",
       "      <td>1000000.000000</td>\n",
       "      <td>1000000.000000</td>\n",
       "      <td>1000000.000000</td>\n",
       "      <td>1000000.000000</td>\n",
       "      <td>1000000.000000</td>\n",
       "      <td>999999.000000</td>\n",
       "      <td>941459.0</td>\n",
       "      <td>1000000.000000</td>\n",
       "      <td>1.000000e+06</td>\n",
       "      <td>1000000.000000</td>\n",
       "      <td>...</td>\n",
       "      <td>949619.0</td>\n",
       "      <td>949618.0</td>\n",
       "      <td>949619.0</td>\n",
       "      <td>958367.0</td>\n",
       "      <td>912673.0</td>\n",
       "      <td>949619.0</td>\n",
       "      <td>949619.0</td>\n",
       "      <td>949619.0</td>\n",
       "      <td>1000000.0</td>\n",
       "      <td>1000000.0</td>\n",
       "    </tr>\n",
       "    <tr>\n",
       "      <th>mean</th>\n",
       "      <td>499999.500000</td>\n",
       "      <td>14420.845925</td>\n",
       "      <td>3.482534</td>\n",
       "      <td>NaN</td>\n",
       "      <td>NaN</td>\n",
       "      <td>72091.429688</td>\n",
       "      <td>NaN</td>\n",
       "      <td>0.614190</td>\n",
       "      <td>7.619747e+04</td>\n",
       "      <td>1.009832</td>\n",
       "      <td>...</td>\n",
       "      <td>NaN</td>\n",
       "      <td>NaN</td>\n",
       "      <td>NaN</td>\n",
       "      <td>NaN</td>\n",
       "      <td>0.0</td>\n",
       "      <td>0.0</td>\n",
       "      <td>NaN</td>\n",
       "      <td>NaN</td>\n",
       "      <td>NaN</td>\n",
       "      <td>NaN</td>\n",
       "    </tr>\n",
       "    <tr>\n",
       "      <th>std</th>\n",
       "      <td>288675.278932</td>\n",
       "      <td>8720.358533</td>\n",
       "      <td>0.855704</td>\n",
       "      <td>0.000000</td>\n",
       "      <td>NaN</td>\n",
       "      <td>106647.140625</td>\n",
       "      <td>0.0</td>\n",
       "      <td>0.675692</td>\n",
       "      <td>7.077645e+04</td>\n",
       "      <td>0.782519</td>\n",
       "      <td>...</td>\n",
       "      <td>0.0</td>\n",
       "      <td>0.0</td>\n",
       "      <td>0.0</td>\n",
       "      <td>0.0</td>\n",
       "      <td>0.0</td>\n",
       "      <td>0.0</td>\n",
       "      <td>0.0</td>\n",
       "      <td>0.0</td>\n",
       "      <td>NaN</td>\n",
       "      <td>0.0</td>\n",
       "    </tr>\n",
       "    <tr>\n",
       "      <th>min</th>\n",
       "      <td>0.000000</td>\n",
       "      <td>500.000000</td>\n",
       "      <td>3.000000</td>\n",
       "      <td>5.308594</td>\n",
       "      <td>14.007812</td>\n",
       "      <td>0.000000</td>\n",
       "      <td>0.0</td>\n",
       "      <td>0.000000</td>\n",
       "      <td>0.000000e+00</td>\n",
       "      <td>0.000000</td>\n",
       "      <td>...</td>\n",
       "      <td>0.0</td>\n",
       "      <td>1.0</td>\n",
       "      <td>0.0</td>\n",
       "      <td>0.0</td>\n",
       "      <td>0.0</td>\n",
       "      <td>0.0</td>\n",
       "      <td>0.0</td>\n",
       "      <td>0.0</td>\n",
       "      <td>0.0</td>\n",
       "      <td>3.0</td>\n",
       "    </tr>\n",
       "    <tr>\n",
       "      <th>25%</th>\n",
       "      <td>249999.750000</td>\n",
       "      <td>8000.000000</td>\n",
       "      <td>3.000000</td>\n",
       "      <td>9.750000</td>\n",
       "      <td>248.500000</td>\n",
       "      <td>427.000000</td>\n",
       "      <td>2.0</td>\n",
       "      <td>0.000000</td>\n",
       "      <td>4.567103e+04</td>\n",
       "      <td>0.000000</td>\n",
       "      <td>...</td>\n",
       "      <td>5.0</td>\n",
       "      <td>9.0</td>\n",
       "      <td>3.0</td>\n",
       "      <td>8.0</td>\n",
       "      <td>0.0</td>\n",
       "      <td>0.0</td>\n",
       "      <td>0.0</td>\n",
       "      <td>1.0</td>\n",
       "      <td>2588.0</td>\n",
       "      <td>11.0</td>\n",
       "    </tr>\n",
       "    <tr>\n",
       "      <th>50%</th>\n",
       "      <td>499999.500000</td>\n",
       "      <td>12000.000000</td>\n",
       "      <td>3.000000</td>\n",
       "      <td>12.742188</td>\n",
       "      <td>375.500000</td>\n",
       "      <td>7782.000000</td>\n",
       "      <td>6.0</td>\n",
       "      <td>1.000000</td>\n",
       "      <td>6.500000e+04</td>\n",
       "      <td>1.000000</td>\n",
       "      <td>...</td>\n",
       "      <td>7.0</td>\n",
       "      <td>13.0</td>\n",
       "      <td>5.0</td>\n",
       "      <td>11.0</td>\n",
       "      <td>0.0</td>\n",
       "      <td>0.0</td>\n",
       "      <td>0.0</td>\n",
       "      <td>2.0</td>\n",
       "      <td>2984.0</td>\n",
       "      <td>14.0</td>\n",
       "    </tr>\n",
       "    <tr>\n",
       "      <th>75%</th>\n",
       "      <td>749999.250000</td>\n",
       "      <td>20000.000000</td>\n",
       "      <td>3.000000</td>\n",
       "      <td>15.992188</td>\n",
       "      <td>580.500000</td>\n",
       "      <td>118112.000000</td>\n",
       "      <td>10.0</td>\n",
       "      <td>1.000000</td>\n",
       "      <td>9.000000e+04</td>\n",
       "      <td>2.000000</td>\n",
       "      <td>...</td>\n",
       "      <td>10.0</td>\n",
       "      <td>19.0</td>\n",
       "      <td>7.0</td>\n",
       "      <td>14.0</td>\n",
       "      <td>0.0</td>\n",
       "      <td>0.0</td>\n",
       "      <td>0.0</td>\n",
       "      <td>3.0</td>\n",
       "      <td>3318.0</td>\n",
       "      <td>20.0</td>\n",
       "    </tr>\n",
       "    <tr>\n",
       "      <th>max</th>\n",
       "      <td>999999.000000</td>\n",
       "      <td>40000.000000</td>\n",
       "      <td>5.000000</td>\n",
       "      <td>30.984375</td>\n",
       "      <td>1715.000000</td>\n",
       "      <td>378351.000000</td>\n",
       "      <td>10.0</td>\n",
       "      <td>5.000000</td>\n",
       "      <td>1.099920e+07</td>\n",
       "      <td>2.000000</td>\n",
       "      <td>...</td>\n",
       "      <td>83.0</td>\n",
       "      <td>128.0</td>\n",
       "      <td>45.0</td>\n",
       "      <td>90.0</td>\n",
       "      <td>4.0</td>\n",
       "      <td>4.0</td>\n",
       "      <td>39.0</td>\n",
       "      <td>30.0</td>\n",
       "      <td>4200.0</td>\n",
       "      <td>71.0</td>\n",
       "    </tr>\n",
       "  </tbody>\n",
       "</table>\n",
       "<p>8 rows × 43 columns</p>\n",
       "</div>"
      ],
      "text/plain": [
       "                   id        loanAmnt            term    interestRate  \\\n",
       "count  1000000.000000  1000000.000000  1000000.000000  1000000.000000   \n",
       "mean    499999.500000    14420.845925        3.482534             NaN   \n",
       "std     288675.278932     8720.358533        0.855704        0.000000   \n",
       "min          0.000000      500.000000        3.000000        5.308594   \n",
       "25%     249999.750000     8000.000000        3.000000        9.750000   \n",
       "50%     499999.500000    12000.000000        3.000000       12.742188   \n",
       "75%     749999.250000    20000.000000        3.000000       15.992188   \n",
       "max     999999.000000    40000.000000        5.000000       30.984375   \n",
       "\n",
       "          installment  employmentTitle  employmentLength   homeOwnership  \\\n",
       "count  1000000.000000    999999.000000          941459.0  1000000.000000   \n",
       "mean              NaN     72091.429688               NaN        0.614190   \n",
       "std               NaN    106647.140625               0.0        0.675692   \n",
       "min         14.007812         0.000000               0.0        0.000000   \n",
       "25%        248.500000       427.000000               2.0        0.000000   \n",
       "50%        375.500000      7782.000000               6.0        1.000000   \n",
       "75%        580.500000    118112.000000              10.0        1.000000   \n",
       "max       1715.000000    378351.000000              10.0        5.000000   \n",
       "\n",
       "       annualIncome  verificationStatus  ...        n7        n8        n9  \\\n",
       "count  1.000000e+06      1000000.000000  ...  949619.0  949618.0  949619.0   \n",
       "mean   7.619747e+04            1.009832  ...       NaN       NaN       NaN   \n",
       "std    7.077645e+04            0.782519  ...       0.0       0.0       0.0   \n",
       "min    0.000000e+00            0.000000  ...       0.0       1.0       0.0   \n",
       "25%    4.567103e+04            0.000000  ...       5.0       9.0       3.0   \n",
       "50%    6.500000e+04            1.000000  ...       7.0      13.0       5.0   \n",
       "75%    9.000000e+04            2.000000  ...      10.0      19.0       7.0   \n",
       "max    1.099920e+07            2.000000  ...      83.0     128.0      45.0   \n",
       "\n",
       "            n10       n11       n12       n13       n14  issueDateDT  \\\n",
       "count  958367.0  912673.0  949619.0  949619.0  949619.0    1000000.0   \n",
       "mean        NaN       0.0       0.0       NaN       NaN          NaN   \n",
       "std         0.0       0.0       0.0       0.0       0.0          NaN   \n",
       "min         0.0       0.0       0.0       0.0       0.0          0.0   \n",
       "25%         8.0       0.0       0.0       0.0       1.0       2588.0   \n",
       "50%        11.0       0.0       0.0       0.0       2.0       2984.0   \n",
       "75%        14.0       0.0       0.0       0.0       3.0       3318.0   \n",
       "max        90.0       4.0       4.0      39.0      30.0       4200.0   \n",
       "\n",
       "         creditY  \n",
       "count  1000000.0  \n",
       "mean         NaN  \n",
       "std          0.0  \n",
       "min          3.0  \n",
       "25%         11.0  \n",
       "50%         14.0  \n",
       "75%         20.0  \n",
       "max         71.0  \n",
       "\n",
       "[8 rows x 43 columns]"
      ]
     },
     "execution_count": 4,
     "metadata": {},
     "output_type": "execute_result"
    }
   ],
   "source": [
    "data.describe()"
   ]
  },
  {
   "cell_type": "code",
   "execution_count": 5,
   "metadata": {},
   "outputs": [
    {
     "name": "stderr",
     "output_type": "stream",
     "text": [
      "F:\\Anaconda\\envs\\kaggle\\lib\\site-packages\\pandas\\core\\frame.py:4167: SettingWithCopyWarning: \n",
      "A value is trying to be set on a copy of a slice from a DataFrame\n",
      "\n",
      "See the caveats in the documentation: https://pandas.pydata.org/pandas-docs/stable/user_guide/indexing.html#returning-a-view-versus-a-copy\n",
      "  errors=errors,\n"
     ]
    }
   ],
   "source": [
    "from sklearn.model_selection import KFold\n",
    "# 分离数据集，方便进行交叉验证\n",
    "\n",
    "train = data[:800000]\n",
    "test = data[800000:]\n",
    "test.drop('isDefault',axis=1,inplace=True)\n",
    "\n",
    "features = [f for f in train.columns if f not in ['id','issueDate','isDefault','earliesCreditLine']]\n",
    "X_train = train[features]\n",
    "X_test = test[features]\n",
    "y_train = train['isDefault']\n",
    "\n",
    "\n",
    "# 5折交叉验证\n",
    "folds = 5\n",
    "seed = 2020\n",
    "kf = KFold(n_splits=folds, shuffle=True, random_state=seed)"
   ]
  },
  {
   "cell_type": "code",
   "execution_count": 6,
   "metadata": {},
   "outputs": [
    {
     "name": "stderr",
     "output_type": "stream",
     "text": [
      "F:\\Anaconda\\envs\\kaggle\\lib\\site-packages\\lightgbm\\basic.py:794: UserWarning: silent keyword has been found in `params` and will be ignored.\n",
      "Please use silent argument of the Dataset constructor to pass this parameter.\n",
      "  .format(key))\n"
     ]
    },
    {
     "name": "stdout",
     "output_type": "stream",
     "text": [
      "Training until validation scores don't improve for 200 rounds\n",
      "Early stopping, best iteration is:\n",
      "[375]\tvalid_0's auc: 0.733863\n"
     ]
    }
   ],
   "source": [
    "\"\"\"对训练集数据进行划分，分成训练集和验证集，并进行相应的操作\"\"\"\n",
    "from sklearn.model_selection import train_test_split\n",
    "import lightgbm as lgb\n",
    "# 数据集划分\n",
    "X_train_split, X_val, y_train_split, y_val = train_test_split(X_train, y_train, test_size=0.2)\n",
    "train_matrix = lgb.Dataset(X_train_split, label=y_train_split)\n",
    "valid_matrix = lgb.Dataset(X_val, label=y_val)\n",
    "\n",
    "params = {\n",
    "            'boosting_type': 'gbdt',\n",
    "            'objective': 'binary',\n",
    "            'learning_rate': 0.1,\n",
    "            'metric': 'auc',\n",
    "            'min_child_weight': 1e-3,\n",
    "            'num_leaves': 31,\n",
    "            'max_depth': -1,\n",
    "            'reg_lambda': 0,\n",
    "            'reg_alpha': 0,\n",
    "            'feature_fraction': 1,\n",
    "            'bagging_fraction': 1,\n",
    "            'bagging_freq': 0,\n",
    "            'seed': 2020,\n",
    "            'nthread': 8,\n",
    "            'silent': True,\n",
    "            'verbose': -1,\n",
    "}\n",
    "\n",
    "\"\"\"使用训练集数据进行模型训练\"\"\"\n",
    "model = lgb.train(params, train_set=train_matrix, valid_sets=valid_matrix, num_boost_round=20000, verbose_eval=1000, early_stopping_rounds=200)"
   ]
  },
  {
   "cell_type": "code",
   "execution_count": 7,
   "metadata": {},
   "outputs": [
    {
     "name": "stdout",
     "output_type": "stream",
     "text": [
      "未调参前lightgbm单模型在验证集上的AUC：0.7338630125774208\n"
     ]
    },
    {
     "data": {
      "image/png": "[encoded data removed]",
      "text/plain": [
       "<Figure size 576x576 with 1 Axes>"
      ]
     },
     "metadata": {},
     "output_type": "display_data"
    }
   ],
   "source": [
    "from sklearn import metrics\n",
    "from sklearn.metrics import roc_auc_score\n",
    "\n",
    "\"\"\"预测并计算roc的相关指标\"\"\"\n",
    "val_pre_lgb = model.predict(X_val, num_iteration=model.best_iteration)\n",
    "fpr, tpr, threshold = metrics.roc_curve(y_val, val_pre_lgb)\n",
    "roc_auc = metrics.auc(fpr, tpr)\n",
    "print('未调参前lightgbm单模型在验证集上的AUC：{}'.format(roc_auc))\n",
    "\"\"\"画出roc曲线图\"\"\"\n",
    "plt.figure(figsize=(8, 8))\n",
    "plt.title('Validation ROC')\n",
    "plt.plot(fpr, tpr, 'b', label = 'Val AUC = %0.4f' % roc_auc)\n",
    "plt.ylim(0,1)\n",
    "plt.xlim(0,1)\n",
    "plt.legend(loc='best')\n",
    "plt.title('ROC')\n",
    "plt.ylabel('True Positive Rate')\n",
    "plt.xlabel('False Positive Rate')\n",
    "# 画出对角线\n",
    "plt.plot([0,1],[0,1],'r--')\n",
    "plt.show()"
   ]
  },
  {
   "cell_type": "code",
   "execution_count": 8,
   "metadata": {},
   "outputs": [
    {
     "name": "stdout",
     "output_type": "stream",
     "text": [
      "************************************ 1 ************************************\n"
     ]
    },
    {
     "name": "stderr",
     "output_type": "stream",
     "text": [
      "F:\\Anaconda\\envs\\kaggle\\lib\\site-packages\\lightgbm\\basic.py:794: UserWarning: silent keyword has been found in `params` and will be ignored.\n",
      "Please use silent argument of the Dataset constructor to pass this parameter.\n",
      "  .format(key))\n"
     ]
    },
    {
     "name": "stdout",
     "output_type": "stream",
     "text": [
      "Training until validation scores don't improve for 200 rounds\n",
      "Early stopping, best iteration is:\n",
      "[487]\tvalid_0's auc: 0.735138\n",
      "[0.7351378857315147]\n",
      "************************************ 2 ************************************\n"
     ]
    },
    {
     "name": "stderr",
     "output_type": "stream",
     "text": [
      "F:\\Anaconda\\envs\\kaggle\\lib\\site-packages\\lightgbm\\basic.py:794: UserWarning: silent keyword has been found in `params` and will be ignored.\n",
      "Please use silent argument of the Dataset constructor to pass this parameter.\n",
      "  .format(key))\n"
     ]
    },
    {
     "name": "stdout",
     "output_type": "stream",
     "text": [
      "Training until validation scores don't improve for 200 rounds\n",
      "Early stopping, best iteration is:\n",
      "[418]\tvalid_0's auc: 0.731549\n",
      "[0.7351378857315147, 0.7315493290321695]\n",
      "************************************ 3 ************************************\n"
     ]
    },
    {
     "name": "stderr",
     "output_type": "stream",
     "text": [
      "F:\\Anaconda\\envs\\kaggle\\lib\\site-packages\\lightgbm\\basic.py:794: UserWarning: silent keyword has been found in `params` and will be ignored.\n",
      "Please use silent argument of the Dataset constructor to pass this parameter.\n",
      "  .format(key))\n"
     ]
    },
    {
     "name": "stdout",
     "output_type": "stream",
     "text": [
      "Training until validation scores don't improve for 200 rounds\n",
      "Early stopping, best iteration is:\n",
      "[465]\tvalid_0's auc: 0.734482\n",
      "[0.7351378857315147, 0.7315493290321695, 0.7344819413942962]\n",
      "************************************ 4 ************************************\n"
     ]
    },
    {
     "name": "stderr",
     "output_type": "stream",
     "text": [
      "F:\\Anaconda\\envs\\kaggle\\lib\\site-packages\\lightgbm\\basic.py:794: UserWarning: silent keyword has been found in `params` and will be ignored.\n",
      "Please use silent argument of the Dataset constructor to pass this parameter.\n",
      "  .format(key))\n"
     ]
    },
    {
     "name": "stdout",
     "output_type": "stream",
     "text": [
      "Training until validation scores don't improve for 200 rounds\n",
      "Early stopping, best iteration is:\n",
      "[529]\tvalid_0's auc: 0.734162\n",
      "[0.7351378857315147, 0.7315493290321695, 0.7344819413942962, 0.7341619845249269]\n",
      "************************************ 5 ************************************\n"
     ]
    },
    {
     "name": "stderr",
     "output_type": "stream",
     "text": [
      "F:\\Anaconda\\envs\\kaggle\\lib\\site-packages\\lightgbm\\basic.py:794: UserWarning: silent keyword has been found in `params` and will be ignored.\n",
      "Please use silent argument of the Dataset constructor to pass this parameter.\n",
      "  .format(key))\n"
     ]
    },
    {
     "name": "stdout",
     "output_type": "stream",
     "text": [
      "Training until validation scores don't improve for 200 rounds\n",
      "Early stopping, best iteration is:\n",
      "[420]\tvalid_0's auc: 0.733342\n",
      "[0.7351378857315147, 0.7315493290321695, 0.7344819413942962, 0.7341619845249269, 0.7333422251269688]\n",
      "lgb_scotrainre_list:[0.7351378857315147, 0.7315493290321695, 0.7344819413942962, 0.7341619845249269, 0.7333422251269688]\n",
      "lgb_score_mean:0.7337346731619752\n",
      "lgb_score_std:0.0012361031310626233\n"
     ]
    }
   ],
   "source": [
    "import lightgbm as lgb\n",
    "\"\"\"使用lightgbm 5折交叉验证进行建模预测\"\"\"\n",
    "cv_scores = []\n",
    "for i, (train_index, valid_index) in enumerate(kf.split(X_train, y_train)):\n",
    "    print('************************************ {} ************************************'.format(str(i+1)))\n",
    "    X_train_split, y_train_split, X_val, y_val = X_train.iloc[train_index], y_train[train_index], X_train.iloc[valid_index], y_train[valid_index]\n",
    "    \n",
    "    train_matrix = lgb.Dataset(X_train_split, label=y_train_split)\n",
    "    valid_matrix = lgb.Dataset(X_val, label=y_val)\n",
    "\n",
    "    params = {\n",
    "                'boosting_type': 'gbdt',\n",
    "                'objective': 'binary',\n",
    "                'learning_rate': 0.1,\n",
    "                'metric': 'auc',\n",
    "        \n",
    "                'min_child_weight': 1e-3,\n",
    "                'num_leaves': 31,\n",
    "                'max_depth': -1,\n",
    "                'reg_lambda': 0,\n",
    "                'reg_alpha': 0,\n",
    "                'feature_fraction': 1,\n",
    "                'bagging_fraction': 1,\n",
    "                'bagging_freq': 0,\n",
    "                'seed': 2020,\n",
    "                'nthread': 8,\n",
    "                'silent': True,\n",
    "                'verbose': -1,\n",
    "    }\n",
    "    \n",
    "    model = lgb.train(params, train_set=train_matrix, num_boost_round=20000, valid_sets=valid_matrix, verbose_eval=1000, early_stopping_rounds=200)\n",
    "    val_pred = model.predict(X_val, num_iteration=model.best_iteration)\n",
    "    \n",
    "    cv_scores.append(roc_auc_score(y_val, val_pred))\n",
    "    print(cv_scores)\n",
    "\n",
    "print(\"lgb_scotrainre_list:{}\".format(cv_scores))\n",
    "print(\"lgb_score_mean:{}\".format(np.mean(cv_scores)))\n",
    "print(\"lgb_score_std:{}\".format(np.std(cv_scores)))"
   ]
  },
  {
   "cell_type": "markdown",
   "metadata": {},
   "source": [
    "### 贝叶斯调参"
   ]
  },
  {
   "cell_type": "code",
   "execution_count": null,
   "metadata": {},
   "outputs": [],
   "source": []
  },
  {
   "cell_type": "code",
   "execution_count": 9,
   "metadata": {},
   "outputs": [],
   "source": [
    "from sklearn.model_selection import cross_val_score\n",
    "\n",
    "\"\"\"定义优化函数\"\"\"\n",
    "def rf_cv_lgb(num_leaves, max_depth, bagging_fraction, feature_fraction, bagging_freq, min_data_in_leaf, \n",
    "              min_child_weight, min_split_gain, reg_lambda, reg_alpha):\n",
    "    # 建立模型\n",
    "    model_lgb = lgb.LGBMClassifier(boosting_type='gbdt', bjective='binary', metric='auc',\n",
    "                                   learning_rate=0.1, n_estimators=5000,\n",
    "                                   num_leaves=int(num_leaves), max_depth=int(max_depth), \n",
    "                                   bagging_fraction=round(bagging_fraction, 2), feature_fraction=round(feature_fraction, 2),\n",
    "                                   bagging_freq=int(bagging_freq), min_data_in_leaf=int(min_data_in_leaf),\n",
    "                                   min_child_weight=min_child_weight, min_split_gain=min_split_gain,\n",
    "                                   reg_lambda=reg_lambda, reg_alpha=reg_alpha,\n",
    "                                   n_jobs= 8\n",
    "                                  )\n",
    "    \n",
    "    val = cross_val_score(model_lgb, X_train_split, y_train_split, cv=5, scoring='roc_auc').mean()\n",
    "    \n",
    "    return val"
   ]
  },
  {
   "cell_type": "code",
   "execution_count": 11,
   "metadata": {},
   "outputs": [
    {
     "name": "stdout",
     "output_type": "stream",
     "text": [
      "|   iter    |  target   | baggin... | baggin... | featur... | max_depth | min_ch... | min_da... | min_sp... | num_le... | reg_alpha | reg_la... |\n",
      "-------------------------------------------------------------------------------------------------------------------------------------------------\n",
      "| \u001b[0m 1       \u001b[0m | \u001b[0m 0.7101  \u001b[0m | \u001b[0m 0.5499  \u001b[0m | \u001b[0m 95.73   \u001b[0m | \u001b[0m 0.5998  \u001b[0m | \u001b[0m 19.8    \u001b[0m | \u001b[0m 4.414   \u001b[0m | \u001b[0m 79.46   \u001b[0m | \u001b[0m 0.2788  \u001b[0m | \u001b[0m 135.3   \u001b[0m | \u001b[0m 1.229   \u001b[0m | \u001b[0m 4.538   \u001b[0m |\n",
      "| \u001b[95m 2       \u001b[0m | \u001b[95m 0.7323  \u001b[0m | \u001b[95m 0.8175  \u001b[0m | \u001b[95m 58.3    \u001b[0m | \u001b[95m 0.9629  \u001b[0m | \u001b[95m 15.43   \u001b[0m | \u001b[95m 6.371   \u001b[0m | \u001b[95m 69.8    \u001b[0m | \u001b[95m 0.5508  \u001b[0m | \u001b[95m 182.8   \u001b[0m | \u001b[95m 8.905   \u001b[0m | \u001b[95m 5.463   \u001b[0m |\n",
      "| \u001b[0m 3       \u001b[0m | \u001b[0m 0.7253  \u001b[0m | \u001b[0m 0.8024  \u001b[0m | \u001b[0m 7.226   \u001b[0m | \u001b[0m 0.8626  \u001b[0m | \u001b[0m 19.88   \u001b[0m | \u001b[0m 2.647   \u001b[0m | \u001b[0m 70.47   \u001b[0m | \u001b[0m 0.8008  \u001b[0m | \u001b[0m 69.26   \u001b[0m | \u001b[0m 5.726   \u001b[0m | \u001b[0m 9.841   \u001b[0m |\n",
      "| \u001b[0m 4       \u001b[0m | \u001b[0m 0.725   \u001b[0m | \u001b[0m 0.8392  \u001b[0m | \u001b[0m 54.54   \u001b[0m | \u001b[0m 0.9856  \u001b[0m | \u001b[0m 7.309   \u001b[0m | \u001b[0m 2.764   \u001b[0m | \u001b[0m 51.68   \u001b[0m | \u001b[0m 0.0457  \u001b[0m | \u001b[0m 20.34   \u001b[0m | \u001b[0m 9.787   \u001b[0m | \u001b[0m 5.612   \u001b[0m |\n",
      "| \u001b[95m 5       \u001b[0m | \u001b[95m 0.7348  \u001b[0m | \u001b[95m 0.9249  \u001b[0m | \u001b[95m 41.31   \u001b[0m | \u001b[95m 0.5547  \u001b[0m | \u001b[95m 18.08   \u001b[0m | \u001b[95m 5.479   \u001b[0m | \u001b[95m 97.47   \u001b[0m | \u001b[95m 0.5921  \u001b[0m | \u001b[95m 54.28   \u001b[0m | \u001b[95m 6.728   \u001b[0m | \u001b[95m 2.21    \u001b[0m |\n",
      "| \u001b[0m 6       \u001b[0m | \u001b[0m 0.7346  \u001b[0m | \u001b[0m 0.9216  \u001b[0m | \u001b[0m 43.67   \u001b[0m | \u001b[0m 0.7258  \u001b[0m | \u001b[0m 14.81   \u001b[0m | \u001b[0m 3.834   \u001b[0m | \u001b[0m 94.81   \u001b[0m | \u001b[0m 0.8986  \u001b[0m | \u001b[0m 55.59   \u001b[0m | \u001b[0m 5.585   \u001b[0m | \u001b[0m 3.114   \u001b[0m |\n",
      "| \u001b[0m 7       \u001b[0m | \u001b[0m 0.725   \u001b[0m | \u001b[0m 0.6472  \u001b[0m | \u001b[0m 17.73   \u001b[0m | \u001b[0m 0.8091  \u001b[0m | \u001b[0m 17.16   \u001b[0m | \u001b[0m 8.069   \u001b[0m | \u001b[0m 68.98   \u001b[0m | \u001b[0m 0.83    \u001b[0m | \u001b[0m 199.8   \u001b[0m | \u001b[0m 5.962   \u001b[0m | \u001b[0m 3.552   \u001b[0m |\n",
      "| \u001b[0m 8       \u001b[0m | \u001b[0m 0.7098  \u001b[0m | \u001b[0m 0.5     \u001b[0m | \u001b[0m 70.29   \u001b[0m | \u001b[0m 0.5     \u001b[0m | \u001b[0m 20.0    \u001b[0m | \u001b[0m 10.0    \u001b[0m | \u001b[0m 100.0   \u001b[0m | \u001b[0m 0.0     \u001b[0m | \u001b[0m 38.58   \u001b[0m | \u001b[0m 0.3105  \u001b[0m | \u001b[0m 0.0     \u001b[0m |\n",
      "| \u001b[95m 9       \u001b[0m | \u001b[95m 0.7351  \u001b[0m | \u001b[95m 1.0     \u001b[0m | \u001b[95m 31.76   \u001b[0m | \u001b[95m 0.5716  \u001b[0m | \u001b[95m 11.19   \u001b[0m | \u001b[95m 9.29    \u001b[0m | \u001b[95m 96.77   \u001b[0m | \u001b[95m 0.418   \u001b[0m | \u001b[95m 69.56   \u001b[0m | \u001b[95m 10.0    \u001b[0m | \u001b[95m 1.522   \u001b[0m |\n",
      "| \u001b[0m 10      \u001b[0m | \u001b[0m 0.7316  \u001b[0m | \u001b[0m 0.6145  \u001b[0m | \u001b[0m 21.88   \u001b[0m | \u001b[0m 0.8808  \u001b[0m | \u001b[0m 3.305   \u001b[0m | \u001b[0m 3.403   \u001b[0m | \u001b[0m 91.45   \u001b[0m | \u001b[0m 0.7774  \u001b[0m | \u001b[0m 42.93   \u001b[0m | \u001b[0m 8.891   \u001b[0m | \u001b[0m 0.1466  \u001b[0m |\n",
      "| \u001b[0m 11      \u001b[0m | \u001b[0m 0.735   \u001b[0m | \u001b[0m 0.8289  \u001b[0m | \u001b[0m 66.0    \u001b[0m | \u001b[0m 0.5844  \u001b[0m | \u001b[0m 3.916   \u001b[0m | \u001b[0m 2.784   \u001b[0m | \u001b[0m 40.75   \u001b[0m | \u001b[0m 0.3171  \u001b[0m | \u001b[0m 199.0   \u001b[0m | \u001b[0m 9.35    \u001b[0m | \u001b[0m 5.76    \u001b[0m |\n",
      "| \u001b[0m 12      \u001b[0m | \u001b[0m 0.7344  \u001b[0m | \u001b[0m 0.8143  \u001b[0m | \u001b[0m 49.67   \u001b[0m | \u001b[0m 0.5     \u001b[0m | \u001b[0m 3.0     \u001b[0m | \u001b[0m 5.702   \u001b[0m | \u001b[0m 29.35   \u001b[0m | \u001b[0m 0.7266  \u001b[0m | \u001b[0m 173.0   \u001b[0m | \u001b[0m 10.0    \u001b[0m | \u001b[0m 4.412   \u001b[0m |\n",
      "| \u001b[0m 13      \u001b[0m | \u001b[0m 0.7327  \u001b[0m | \u001b[0m 0.9788  \u001b[0m | \u001b[0m 65.93   \u001b[0m | \u001b[0m 0.7433  \u001b[0m | \u001b[0m 19.48   \u001b[0m | \u001b[0m 3.618   \u001b[0m | \u001b[0m 10.21   \u001b[0m | \u001b[0m 0.5493  \u001b[0m | \u001b[0m 192.1   \u001b[0m | \u001b[0m 5.155   \u001b[0m | \u001b[0m 0.7268  \u001b[0m |\n",
      "| \u001b[0m 14      \u001b[0m | \u001b[0m 0.733   \u001b[0m | \u001b[0m 0.8365  \u001b[0m | \u001b[0m 27.65   \u001b[0m | \u001b[0m 0.8999  \u001b[0m | \u001b[0m 9.502   \u001b[0m | \u001b[0m 5.054   \u001b[0m | \u001b[0m 14.54   \u001b[0m | \u001b[0m 0.9503  \u001b[0m | \u001b[0m 197.0   \u001b[0m | \u001b[0m 9.833   \u001b[0m | \u001b[0m 5.348   \u001b[0m |\n",
      "| \u001b[0m 15      \u001b[0m | \u001b[0m 0.7346  \u001b[0m | \u001b[0m 1.0     \u001b[0m | \u001b[0m 17.96   \u001b[0m | \u001b[0m 0.5     \u001b[0m | \u001b[0m 3.0     \u001b[0m | \u001b[0m 0.0     \u001b[0m | \u001b[0m 10.0    \u001b[0m | \u001b[0m 0.0     \u001b[0m | \u001b[0m 154.3   \u001b[0m | \u001b[0m 10.0    \u001b[0m | \u001b[0m 10.0    \u001b[0m |\n",
      "=================================================================================================================================================\n"
     ]
    }
   ],
   "source": [
    "from bayes_opt import BayesianOptimization\n",
    "\"\"\"定义优化参数\"\"\"\n",
    "bayes_lgb = BayesianOptimization(\n",
    "    rf_cv_lgb, \n",
    "    {\n",
    "        'num_leaves':(10, 200),\n",
    "        'max_depth':(3, 20),\n",
    "        'bagging_fraction':(0.5, 1.0),\n",
    "        'feature_fraction':(0.5, 1.0),\n",
    "        'bagging_freq':(0, 100),\n",
    "        'min_data_in_leaf':(10,100),\n",
    "        'min_child_weight':(0, 10),\n",
    "        'min_split_gain':(0.0, 1.0),\n",
    "        'reg_alpha':(0.0, 10),\n",
    "        'reg_lambda':(0.0, 10),\n",
    "    }\n",
    ")\n",
    "\n",
    "\"\"\"开始优化\"\"\"\n",
    "bayes_lgb.maximize(n_iter=10)"
   ]
  },
  {
   "cell_type": "code",
   "execution_count": 12,
   "metadata": {},
   "outputs": [
    {
     "data": {
      "text/plain": [
       "{'target': 0.7351440107578089,\n",
       " 'params': {'bagging_fraction': 1.0,\n",
       "  'bagging_freq': 31.75795863070365,\n",
       "  'feature_fraction': 0.571556569033099,\n",
       "  'max_depth': 11.19181516081979,\n",
       "  'min_child_weight': 9.290306307184125,\n",
       "  'min_data_in_leaf': 96.77439070966646,\n",
       "  'min_split_gain': 0.41801277855506597,\n",
       "  'num_leaves': 69.56125632990224,\n",
       "  'reg_alpha': 10.0,\n",
       "  'reg_lambda': 1.5215799556154528}}"
      ]
     },
     "execution_count": 12,
     "metadata": {},
     "output_type": "execute_result"
    }
   ],
   "source": [
    "bayes_lgb.max"
   ]
  },
  {
   "cell_type": "code",
   "execution_count": 18,
   "metadata": {},
   "outputs": [
    {
     "name": "stdout",
     "output_type": "stream",
     "text": [
      "迭代次数3113\n",
      "最终模型的AUC为0.7367640793497252\n"
     ]
    }
   ],
   "source": [
    "\"\"\"调整一个较小的学习率，并通过cv函数确定当前最优的迭代次数\"\"\"\n",
    "base_params_lgb = {\n",
    "                    'boosting_type': 'gbdt',\n",
    "                    'objective': 'binary',\n",
    "                    'metric': 'auc',\n",
    "                    'learning_rate': 0.01,\n",
    "                    'num_leaves': 70,\n",
    "                    'max_depth': 11,\n",
    "                    'min_data_in_leaf': 96,\n",
    "                    'min_child_weight':9.29,\n",
    "                    'bagging_fraction': 1.0,\n",
    "                    'feature_fraction': 0.57,\n",
    "                    'bagging_freq': 32,\n",
    "                    'reg_lambda': 1.52,\n",
    "                    'reg_alpha': 10,\n",
    "                    'min_split_gain': 0.42,\n",
    "                    'nthread': 8,\n",
    "                    'seed': 2020,\n",
    "                    'silent': True,\n",
    "                    'verbose': -1,\n",
    "}\n",
    "\n",
    "cv_result_lgb = lgb.cv(\n",
    "    train_set=train_matrix,\n",
    "    early_stopping_rounds=1000, \n",
    "    num_boost_round=20000,\n",
    "    nfold=5,\n",
    "    stratified=True,\n",
    "    shuffle=True,\n",
    "    params=base_params_lgb,\n",
    "    metrics='auc',\n",
    "    seed=0\n",
    ")\n",
    "\n",
    "print('迭代次数{}'.format(len(cv_result_lgb['auc-mean'])))\n",
    "print('最终模型的AUC为{}'.format(max(cv_result_lgb['auc-mean'])))"
   ]
  },
  {
   "cell_type": "markdown",
   "metadata": {},
   "source": [
    "**模型参数已经确定，建立最终模型并对验证集进行验证**"
   ]
  },
  {
   "cell_type": "code",
   "execution_count": 23,
   "metadata": {},
   "outputs": [
    {
     "name": "stdout",
     "output_type": "stream",
     "text": [
      "************************************ 1 ************************************\n",
      "Training until validation scores don't improve for 200 rounds\n",
      "[1000]\tvalid_0's auc: 0.735628\n",
      "[2000]\tvalid_0's auc: 0.737662\n",
      "[3000]\tvalid_0's auc: 0.738178\n",
      "Early stopping, best iteration is:\n",
      "[3609]\tvalid_0's auc: 0.738454\n",
      "[0.7384540991598774]\n",
      "************************************ 2 ************************************\n"
     ]
    },
    {
     "name": "stderr",
     "output_type": "stream",
     "text": [
      "F:\\Anaconda\\envs\\kaggle\\lib\\site-packages\\lightgbm\\basic.py:794: UserWarning: silent keyword has been found in `params` and will be ignored.\n",
      "Please use silent argument of the Dataset constructor to pass this parameter.\n",
      "  .format(key))\n"
     ]
    },
    {
     "name": "stdout",
     "output_type": "stream",
     "text": [
      "Training until validation scores don't improve for 200 rounds\n",
      "[1000]\tvalid_0's auc: 0.73206\n",
      "[2000]\tvalid_0's auc: 0.734032\n",
      "[3000]\tvalid_0's auc: 0.734613\n",
      "Early stopping, best iteration is:\n",
      "[3675]\tvalid_0's auc: 0.7349\n",
      "[0.7384540991598774, 0.7349004000164917]\n",
      "************************************ 3 ************************************\n"
     ]
    },
    {
     "name": "stderr",
     "output_type": "stream",
     "text": [
      "F:\\Anaconda\\envs\\kaggle\\lib\\site-packages\\lightgbm\\basic.py:794: UserWarning: silent keyword has been found in `params` and will be ignored.\n",
      "Please use silent argument of the Dataset constructor to pass this parameter.\n",
      "  .format(key))\n"
     ]
    },
    {
     "name": "stdout",
     "output_type": "stream",
     "text": [
      "Training until validation scores don't improve for 200 rounds\n",
      "[1000]\tvalid_0's auc: 0.73525\n",
      "[2000]\tvalid_0's auc: 0.737459\n",
      "[3000]\tvalid_0's auc: 0.73809\n",
      "Early stopping, best iteration is:\n",
      "[3610]\tvalid_0's auc: 0.738339\n",
      "[0.7384540991598774, 0.7349004000164917, 0.7383387062372216]\n",
      "************************************ 4 ************************************\n"
     ]
    },
    {
     "name": "stderr",
     "output_type": "stream",
     "text": [
      "F:\\Anaconda\\envs\\kaggle\\lib\\site-packages\\lightgbm\\basic.py:794: UserWarning: silent keyword has been found in `params` and will be ignored.\n",
      "Please use silent argument of the Dataset constructor to pass this parameter.\n",
      "  .format(key))\n"
     ]
    },
    {
     "name": "stdout",
     "output_type": "stream",
     "text": [
      "Training until validation scores don't improve for 200 rounds\n",
      "[1000]\tvalid_0's auc: 0.734729\n",
      "[2000]\tvalid_0's auc: 0.737073\n",
      "[3000]\tvalid_0's auc: 0.737838\n",
      "Early stopping, best iteration is:\n",
      "[3430]\tvalid_0's auc: 0.73804\n",
      "[0.7384540991598774, 0.7349004000164917, 0.7383387062372216, 0.7380397670204354]\n",
      "************************************ 5 ************************************\n"
     ]
    },
    {
     "name": "stderr",
     "output_type": "stream",
     "text": [
      "F:\\Anaconda\\envs\\kaggle\\lib\\site-packages\\lightgbm\\basic.py:794: UserWarning: silent keyword has been found in `params` and will be ignored.\n",
      "Please use silent argument of the Dataset constructor to pass this parameter.\n",
      "  .format(key))\n"
     ]
    },
    {
     "name": "stdout",
     "output_type": "stream",
     "text": [
      "Training until validation scores don't improve for 200 rounds\n",
      "[1000]\tvalid_0's auc: 0.733496\n",
      "[2000]\tvalid_0's auc: 0.735691\n",
      "[3000]\tvalid_0's auc: 0.736432\n",
      "Early stopping, best iteration is:\n",
      "[3451]\tvalid_0's auc: 0.736697\n",
      "[0.7384540991598774, 0.7349004000164917, 0.7383387062372216, 0.7380397670204354, 0.7366974196254428]\n",
      "lgb_scotrainre_list:[0.7384540991598774, 0.7349004000164917, 0.7383387062372216, 0.7380397670204354, 0.7366974196254428]\n",
      "lgb_score_mean:0.7372860784118938\n",
      "lgb_score_std:0.0013474661330196147\n"
     ]
    }
   ],
   "source": [
    "import lightgbm as lgb\n",
    "\"\"\"使用lightgbm 5折交叉验证进行建模预测\"\"\"\n",
    "cv_scores = []\n",
    "for i, (train_index, valid_index) in enumerate(kf.split(X_train, y_train)):\n",
    "    print('************************************ {} ************************************'.format(str(i+1)))\n",
    "    X_train_split, y_train_split, X_val, y_val = X_train.iloc[train_index], y_train[train_index], X_train.iloc[valid_index], y_train[valid_index]\n",
    "    \n",
    "    train_matrix = lgb.Dataset(X_train_split, label=y_train_split)\n",
    "    valid_matrix = lgb.Dataset(X_val, label=y_val)\n",
    "\n",
    "    params = {\n",
    "                    'boosting_type': 'gbdt',\n",
    "                    'objective': 'binary',\n",
    "                    'metric': 'auc',\n",
    "                    'learning_rate': 0.01,\n",
    "                    'num_leaves': 70,\n",
    "                    'max_depth': 11,\n",
    "                    'min_data_in_leaf': 96,\n",
    "                    'min_child_weight':9.29,\n",
    "                    'bagging_fraction': 1.0,\n",
    "                    'feature_fraction': 0.57,\n",
    "                    'bagging_freq': 32,\n",
    "                    'reg_lambda': 1.52,\n",
    "                    'reg_alpha': 10,\n",
    "                    'min_split_gain': 0.42,\n",
    "                    'nthread': 8,\n",
    "                    'seed': 2020,\n",
    "                    'silent': True,\n",
    "    }\n",
    "    \n",
    "    model = lgb.train(params, train_set=train_matrix, num_boost_round=14269, valid_sets=valid_matrix, verbose_eval=1000, early_stopping_rounds=200)\n",
    "    val_pred = model.predict(X_val, num_iteration=model.best_iteration)\n",
    "    \n",
    "    cv_scores.append(roc_auc_score(y_val, val_pred))\n",
    "    print(cv_scores)\n",
    "\n",
    "print(\"lgb_scotrainre_list:{}\".format(cv_scores))\n",
    "print(\"lgb_score_mean:{}\".format(np.mean(cv_scores)))\n",
    "print(\"lgb_score_std:{}\".format(np.std(cv_scores)))"
   ]
  },
  {
   "cell_type": "markdown",
   "metadata": {},
   "source": [
    "通过5折交叉验证可以发现，模型迭代次数在3600次的时候会停止，那么我们在建立新模型时直接设置最大迭代次数，并使用验证集进行模型预测"
   ]
  },
  {
   "cell_type": "code",
   "execution_count": 24,
   "metadata": {},
   "outputs": [
    {
     "name": "stdout",
     "output_type": "stream",
     "text": [
      "Training until validation scores don't improve for 200 rounds\n",
      "[400]\tvalid_0's auc: 0.726935\n",
      "[800]\tvalid_0's auc: 0.732147\n",
      "[1200]\tvalid_0's auc: 0.734361\n",
      "[1600]\tvalid_0's auc: 0.73531\n",
      "[2000]\tvalid_0's auc: 0.735691\n",
      "[2400]\tvalid_0's auc: 0.735945\n",
      "[2800]\tvalid_0's auc: 0.736307\n",
      "[3200]\tvalid_0's auc: 0.736536\n",
      "[3600]\tvalid_0's auc: 0.736697\n",
      "Did not meet early stopping. Best iteration is:\n",
      "[3451]\tvalid_0's auc: 0.736697\n",
      "调参后lightgbm单模型在验证集上的AUC：0.7366974196254428\n"
     ]
    },
    {
     "data": {
      "image/png": "[encoded data removed]",
      "text/plain": [
       "<Figure size 576x576 with 1 Axes>"
      ]
     },
     "metadata": {},
     "output_type": "display_data"
    }
   ],
   "source": [
    "\"\"\"\"\"\"\n",
    "base_params_lgb = {\n",
    "                    'boosting_type': 'gbdt',\n",
    "                    'objective': 'binary',\n",
    "                    'metric': 'auc',\n",
    "                    'learning_rate': 0.01,\n",
    "                    'num_leaves': 70,\n",
    "                    'max_depth': 11,\n",
    "                    'min_data_in_leaf': 96,\n",
    "                    'min_child_weight':9.29,\n",
    "                    'bagging_fraction': 1.0,\n",
    "                    'feature_fraction': 0.57,\n",
    "                    'bagging_freq': 32,\n",
    "                    'reg_lambda': 1.52,\n",
    "                    'reg_alpha': 10,\n",
    "                    'min_split_gain': 0.42,\n",
    "                    'nthread': 8,\n",
    "                    'seed': 2020,\n",
    "                    'silent': True,\n",
    "}\n",
    "\n",
    "\"\"\"使用训练集数据进行模型训练\"\"\"\n",
    "final_model_lgb = lgb.train(base_params_lgb, train_set=train_matrix, valid_sets=valid_matrix, num_boost_round=3600, verbose_eval=400, early_stopping_rounds=200)\n",
    "\n",
    "\"\"\"预测并计算roc的相关指标\"\"\"\n",
    "val_pre_lgb = final_model_lgb.predict(X_val)\n",
    "fpr, tpr, threshold = metrics.roc_curve(y_val, val_pre_lgb)\n",
    "roc_auc = metrics.auc(fpr, tpr)\n",
    "print('调参后lightgbm单模型在验证集上的AUC：{}'.format(roc_auc))\n",
    "\"\"\"画出roc曲线图\"\"\"\n",
    "plt.figure(figsize=(8, 8))\n",
    "plt.title('Validation ROC')\n",
    "plt.plot(fpr, tpr, 'b', label = 'Val AUC = %0.4f' % roc_auc)\n",
    "plt.ylim(0,1)\n",
    "plt.xlim(0,1)\n",
    "plt.legend(loc='best')\n",
    "plt.title('ROC')\n",
    "plt.ylabel('True Positive Rate')\n",
    "plt.xlabel('False Positive Rate')\n",
    "# 画出对角线\n",
    "plt.plot([0,1],[0,1],'r--')\n",
    "plt.show()"
   ]
  },
  {
   "cell_type": "code",
   "execution_count": 21,
   "metadata": {},
   "outputs": [],
   "source": [
    "\"\"\"保存模型到本地\"\"\"\n",
    "# 保存模型\n",
    "import pickle\n",
    "# pickle.dump(final_model_lgb, open('model/model_lgb_best.txt', 'wb'))\n",
    "\n",
    "gbm.save_model('model.txt')"
   ]
  },
  {
   "cell_type": "code",
   "execution_count": null,
   "metadata": {},
   "outputs": [],
   "source": []
  },
  {
   "cell_type": "markdown",
   "metadata": {},
   "source": [
    "X这里不好！！"
   ]
  },
  {
   "cell_type": "code",
   "execution_count": 27,
   "metadata": {},
   "outputs": [],
   "source": [
    "test = pd.read_csv('cf-testa.csv', index_col='id')"
   ]
  },
  {
   "cell_type": "code",
   "execution_count": 28,
   "metadata": {},
   "outputs": [],
   "source": [
    "pre = final_model_lgb.predict(X_test)\n",
    "pd.Series(pre, name='isDefault', index=test.index).reset_index().to_csv('submit_lgb_tune.csv', index=False)"
   ]
  },
  {
   "cell_type": "code",
   "execution_count": 29,
   "metadata": {},
   "outputs": [
    {
     "data": {
      "text/plain": [
       "Int64Index([800000, 800001, 800002, 800003, 800004, 800005, 800006, 800007,\n",
       "            800008, 800009,\n",
       "            ...\n",
       "            999990, 999991, 999992, 999993, 999994, 999995, 999996, 999997,\n",
       "            999998, 999999],\n",
       "           dtype='int64', name='id', length=200000)"
      ]
     },
     "execution_count": 29,
     "metadata": {},
     "output_type": "execute_result"
    }
   ],
   "source": [
    "test.index"
   ]
  },
  {
   "cell_type": "markdown",
   "metadata": {},
   "source": [
    "线上 0.7343"
   ]
  },
  {
   "cell_type": "code",
   "execution_count": null,
   "metadata": {},
   "outputs": [],
   "source": []
  },
  {
   "cell_type": "code",
   "execution_count": null,
   "metadata": {},
   "outputs": [],
   "source": []
  }
 ],
 "metadata": {
  "kernelspec": {
   "display_name": "kaggle",
   "language": "python",
   "name": "kaggle"
  },
  "language_info": {
   "codemirror_mode": {
    "name": "ipython",
    "version": 3
   },
   "file_extension": ".py",
   "mimetype": "text/x-python",
   "name": "python",
   "nbconvert_exporter": "python",
   "pygments_lexer": "ipython3",
   "version": "3.7.9"
  },
  "toc": {
   "base_numbering": 1,
   "nav_menu": {},
   "number_sections": true,
   "sideBar": true,
   "skip_h1_title": false,
   "title_cell": "Table of Contents",
   "title_sidebar": "Contents",
   "toc_cell": false,
   "toc_position": {},
   "toc_section_display": true,
   "toc_window_display": false
  }
 },
 "nbformat": 4,
 "nbformat_minor": 4
}
