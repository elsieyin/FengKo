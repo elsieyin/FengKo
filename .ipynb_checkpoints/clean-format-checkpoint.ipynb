{
 "cells": [
  {
   "cell_type": "code",
   "execution_count": 1,
   "metadata": {
    "ExecuteTime": {
     "end_time": "2020-09-22T12:07:48.980663Z",
     "start_time": "2020-09-22T12:07:45.887896Z"
    }
   },
   "outputs": [],
   "source": [
    "import pandas as pd\n",
    "import numpy as np\n",
    "import matplotlib.pyplot as plt\n",
    "import seaborn as sns\n",
    "import datetime\n",
    "from tqdm import tqdm\n",
    "from sklearn.preprocessing import LabelEncoder\n",
    "from sklearn.feature_selection import SelectKBest\n",
    "from sklearn.feature_selection import chi2\n",
    "from sklearn.preprocessing import MinMaxScaler\n",
    "import xgboost as xgb\n",
    "import lightgbm as lgb\n",
    "from catboost import CatBoostRegressor\n",
    "import warnings\n",
    "from sklearn.model_selection import StratifiedKFold, KFold\n",
    "from sklearn.metrics import accuracy_score, f1_score, roc_auc_score, log_loss\n",
    "warnings.filterwarnings('ignore')"
   ]
  },
  {
   "cell_type": "code",
   "execution_count": 6,
   "metadata": {
    "ExecuteTime": {
     "end_time": "2020-09-21T06:51:39.284505Z",
     "start_time": "2020-09-21T06:51:39.177106Z"
    }
   },
   "outputs": [],
   "source": []
  },
  {
   "cell_type": "code",
   "execution_count": 5,
   "metadata": {
    "ExecuteTime": {
     "end_time": "2020-09-22T12:09:03.576823Z",
     "start_time": "2020-09-22T12:09:01.143798Z"
    }
   },
   "outputs": [],
   "source": [
    "train = pd.read_csv('./input/train.csv')\n",
    "test = pd.read_csv('./input/testA.csv')"
   ]
  },
  {
   "cell_type": "code",
   "execution_count": 3,
   "metadata": {
    "ExecuteTime": {
     "end_time": "2020-09-22T12:08:27.324253Z",
     "start_time": "2020-09-22T12:08:27.112760Z"
    }
   },
   "outputs": [],
   "source": []
  },
  {
   "cell_type": "markdown",
   "metadata": {},
   "source": [
    "# 用convert_dtypes()读取数据"
   ]
  },
  {
   "cell_type": "code",
   "execution_count": 2,
   "metadata": {
    "ExecuteTime": {
     "end_time": "2020-09-21T01:22:49.107055Z",
     "start_time": "2020-09-21T01:22:46.169293Z"
    }
   },
   "outputs": [],
   "source": [
    "train = pd.read_csv('./input/train.csv').convert_dtypes(convert_string=False)\n",
    "test = pd.read_csv('./input/testA.csv').convert_dtypes(convert_string=False)"
   ]
  },
  {
   "cell_type": "code",
   "execution_count": 3,
   "metadata": {
    "ExecuteTime": {
     "end_time": "2020-09-21T01:22:49.121810Z",
     "start_time": "2020-09-21T01:22:49.110300Z"
    }
   },
   "outputs": [],
   "source": [
    "pd.set_option('display.max_columns', None)\n",
    "pd.set_option('display.max_rows', 20)"
   ]
  },
  {
   "cell_type": "code",
   "execution_count": 4,
   "metadata": {
    "ExecuteTime": {
     "end_time": "2020-09-21T01:22:49.137837Z",
     "start_time": "2020-09-21T01:22:49.122811Z"
    }
   },
   "outputs": [],
   "source": [
    "# train.head()"
   ]
  },
  {
   "cell_type": "code",
   "execution_count": 5,
   "metadata": {
    "ExecuteTime": {
     "end_time": "2020-09-21T01:22:49.153257Z",
     "start_time": "2020-09-21T01:22:49.138838Z"
    }
   },
   "outputs": [],
   "source": [
    "# test.head()"
   ]
  },
  {
   "cell_type": "markdown",
   "metadata": {},
   "source": [
    "## 定义全局变量"
   ]
  },
  {
   "cell_type": "markdown",
   "metadata": {},
   "source": [
    "# 先拼train和test 本来想封装一个函数用来拼接\n",
    "因为似乎concat有个问题，会lose dtype?\n",
    "复盘了一下M5 感觉M5-simple-fe，def merge-by-concat不太看得懂"
   ]
  },
  {
   "cell_type": "markdown",
   "metadata": {},
   "source": [
    "### 防呆 这里+col: 'flag'，test的y('isDefault')设为-1"
   ]
  },
  {
   "cell_type": "code",
   "execution_count": 6,
   "metadata": {
    "ExecuteTime": {
     "end_time": "2020-09-21T01:22:49.168761Z",
     "start_time": "2020-09-21T01:22:49.154259Z"
    }
   },
   "outputs": [],
   "source": [
    "# train.shape  # (800000, 48) & len(train)=800000\n",
    "# test.shape # (200000, 47)"
   ]
  },
  {
   "cell_type": "code",
   "execution_count": 7,
   "metadata": {
    "ExecuteTime": {
     "end_time": "2020-09-21T01:22:49.329617Z",
     "start_time": "2020-09-21T01:22:49.169762Z"
    }
   },
   "outputs": [],
   "source": [
    "TARGET = 'isDefault'\n",
    "test[TARGET] = -1\n",
    "df = pd.concat([train, test])\n",
    "# df"
   ]
  },
  {
   "cell_type": "code",
   "execution_count": 8,
   "metadata": {
    "ExecuteTime": {
     "end_time": "2020-09-21T01:22:49.348161Z",
     "start_time": "2020-09-21T01:22:49.329617Z"
    }
   },
   "outputs": [],
   "source": [
    "# df.info()"
   ]
  },
  {
   "cell_type": "markdown",
   "metadata": {},
   "source": [
    "### drop policycode, 把flag astype 'string"
   ]
  },
  {
   "cell_type": "code",
   "execution_count": 9,
   "metadata": {
    "ExecuteTime": {
     "end_time": "2020-09-21T01:22:49.458260Z",
     "start_time": "2020-09-21T01:22:49.349161Z"
    }
   },
   "outputs": [],
   "source": [
    "df.drop(['policyCode','n3'],axis = 1, inplace=True)"
   ]
  },
  {
   "cell_type": "markdown",
   "metadata": {},
   "source": [
    "### issueDate"
   ]
  },
  {
   "cell_type": "markdown",
   "metadata": {},
   "source": [
    "#### 这里如果string能读datetime吗? "
   ]
  },
  {
   "cell_type": "markdown",
   "metadata": {},
   "source": [
    "#### 这里有个全局变量startdate小心"
   ]
  },
  {
   "cell_type": "code",
   "execution_count": 10,
   "metadata": {
    "ExecuteTime": {
     "end_time": "2020-09-21T01:23:03.534907Z",
     "start_time": "2020-09-21T01:22:49.459261Z"
    }
   },
   "outputs": [],
   "source": [
    "#转化成时间格式，查了确实train的最小日期是2007-6-1，这里加了个issueDateDT,还行吧，就是日期会让数值特别大，\n",
    "df['issueDate'] = pd.to_datetime(df['issueDate'],format='%Y-%m-%d')\n",
    "startdate = datetime.datetime.strptime('2007-06-01', '%Y-%m-%d')\n",
    "# 构造时间特征\n",
    "df['issueDateDT'] = df['issueDate'].apply(lambda x: x-startdate).dt.days // 30"
   ]
  },
  {
   "cell_type": "code",
   "execution_count": null,
   "metadata": {
    "ExecuteTime": {
     "end_time": "2020-09-20T07:21:11.651200Z",
     "start_time": "2020-09-20T07:21:11.588648Z"
    }
   },
   "outputs": [],
   "source": []
  },
  {
   "cell_type": "code",
   "execution_count": 11,
   "metadata": {
    "ExecuteTime": {
     "end_time": "2020-09-21T01:23:03.550934Z",
     "start_time": "2020-09-21T01:23:03.535908Z"
    }
   },
   "outputs": [],
   "source": [
    "# df['issueDate'].value_counts()"
   ]
  },
  {
   "cell_type": "code",
   "execution_count": 12,
   "metadata": {
    "ExecuteTime": {
     "end_time": "2020-09-21T01:23:03.566451Z",
     "start_time": "2020-09-21T01:23:03.551935Z"
    }
   },
   "outputs": [],
   "source": [
    "# df[df['n4'].isna()]['issueDate'].value_counts() # 见miss-excel"
   ]
  },
  {
   "cell_type": "code",
   "execution_count": null,
   "metadata": {},
   "outputs": [],
   "source": []
  },
  {
   "cell_type": "code",
   "execution_count": 13,
   "metadata": {
    "ExecuteTime": {
     "end_time": "2020-09-21T01:23:03.581676Z",
     "start_time": "2020-09-21T01:23:03.567453Z"
    }
   },
   "outputs": [],
   "source": [
    "# df.info()"
   ]
  },
  {
   "cell_type": "code",
   "execution_count": null,
   "metadata": {},
   "outputs": [],
   "source": []
  },
  {
   "cell_type": "code",
   "execution_count": null,
   "metadata": {
    "ExecuteTime": {
     "end_time": "2020-09-20T06:04:07.118726Z",
     "start_time": "2020-09-20T06:04:07.104206Z"
    }
   },
   "outputs": [],
   "source": []
  },
  {
   "cell_type": "code",
   "execution_count": 14,
   "metadata": {
    "ExecuteTime": {
     "end_time": "2020-09-21T01:23:03.597692Z",
     "start_time": "2020-09-21T01:23:03.582678Z"
    }
   },
   "outputs": [],
   "source": [
    "pd.set_option('display.max_rows', None)"
   ]
  },
  {
   "cell_type": "code",
   "execution_count": 15,
   "metadata": {
    "ExecuteTime": {
     "end_time": "2020-09-21T01:23:03.612862Z",
     "start_time": "2020-09-21T01:23:03.598694Z"
    }
   },
   "outputs": [],
   "source": [
    "# df.dtypes   # issueDate datetime64[ns]  '<M8[ns]'"
   ]
  },
  {
   "cell_type": "markdown",
   "metadata": {},
   "source": [
    "### employmentLength的 years删掉，10+ <1转"
   ]
  },
  {
   "cell_type": "markdown",
   "metadata": {},
   "source": [
    "#### 这里如果str是不是只能用正则"
   ]
  },
  {
   "cell_type": "code",
   "execution_count": 16,
   "metadata": {
    "ExecuteTime": {
     "end_time": "2020-09-21T01:23:05.276498Z",
     "start_time": "2020-09-21T01:23:03.613863Z"
    }
   },
   "outputs": [],
   "source": [
    "def employmentLength_to_int(s):\n",
    "    if pd.isnull(s):\n",
    "        return s\n",
    "    else:\n",
    "        return np.int8(s.split()[0])\n",
    "\n",
    "df['employmentLength'].replace(to_replace='10+ years', value='10 years', inplace=True)\n",
    "df['employmentLength'].replace('< 1 year', '0 years', inplace=True)\n",
    "df['employmentLength'] = df['employmentLength'].apply(employmentLength_to_int)"
   ]
  },
  {
   "cell_type": "code",
   "execution_count": 17,
   "metadata": {
    "ExecuteTime": {
     "end_time": "2020-09-21T01:23:05.294339Z",
     "start_time": "2020-09-21T01:23:05.278131Z"
    }
   },
   "outputs": [
    {
     "data": {
      "text/plain": [
       "0.0      80226\n",
       "1.0      65671\n",
       "2.0      90565\n",
       "3.0      80163\n",
       "4.0      59818\n",
       "5.0      62645\n",
       "6.0      46582\n",
       "7.0      44230\n",
       "8.0      45168\n",
       "9.0      37866\n",
       "10.0    328525\n",
       "NaN      58541\n",
       "Name: employmentLength, dtype: int64"
      ]
     },
     "execution_count": 17,
     "metadata": {},
     "output_type": "execute_result"
    }
   ],
   "source": [
    "df['employmentLength'].value_counts(dropna=False).sort_index()"
   ]
  },
  {
   "cell_type": "markdown",
   "metadata": {},
   "source": [
    "#### 这里float，转成Int8"
   ]
  },
  {
   "cell_type": "code",
   "execution_count": 18,
   "metadata": {
    "ExecuteTime": {
     "end_time": "2020-09-21T01:23:05.317038Z",
     "start_time": "2020-09-21T01:23:05.294339Z"
    }
   },
   "outputs": [],
   "source": [
    "df['employmentLength'] = df['employmentLength'].astype('Int8')"
   ]
  },
  {
   "cell_type": "markdown",
   "metadata": {},
   "source": [
    "### earliesCreditLine 转datetime 转year"
   ]
  },
  {
   "cell_type": "markdown",
   "metadata": {},
   "source": [
    "#### 这个现在正常了，就是值有点多，不知道要怎么利用抽取信息做特征"
   ]
  },
  {
   "cell_type": "markdown",
   "metadata": {},
   "source": [
    "之前用excel打开，会变成乱码"
   ]
  },
  {
   "cell_type": "code",
   "execution_count": 19,
   "metadata": {
    "ExecuteTime": {
     "end_time": "2020-09-21T01:23:05.347330Z",
     "start_time": "2020-09-21T01:23:05.317038Z"
    }
   },
   "outputs": [
    {
     "data": {
      "text/plain": [
       "164932    Jan-1999\n",
       "745373    Aug-1989\n",
       "366755    May-1992\n",
       "403865    Oct-2003\n",
       "137440    Aug-1992\n",
       "55673     Dec-1998\n",
       "498717    Mar-1995\n",
       "55150     Mar-2003\n",
       "503840    May-2002\n",
       "567146    Jul-2003\n",
       "Name: earliesCreditLine, dtype: object"
      ]
     },
     "execution_count": 19,
     "metadata": {},
     "output_type": "execute_result"
    }
   ],
   "source": [
    "df['earliesCreditLine'].sample(10)"
   ]
  },
  {
   "cell_type": "code",
   "execution_count": 20,
   "metadata": {
    "ExecuteTime": {
     "end_time": "2020-09-21T01:23:05.469578Z",
     "start_time": "2020-09-21T01:23:05.348332Z"
    }
   },
   "outputs": [],
   "source": [
    "# dw 这里是提取年信息，我想利用原始信息，顺便还可以describe一下,暂时不用他的\n",
    "df['earliesCreditLine'] = pd.to_datetime(df['earliesCreditLine'],format='%b-%Y')"
   ]
  },
  {
   "cell_type": "markdown",
   "metadata": {},
   "source": [
    "#### +特征"
   ]
  },
  {
   "cell_type": "markdown",
   "metadata": {},
   "source": [
    "两列的时间差"
   ]
  },
  {
   "cell_type": "code",
   "execution_count": 21,
   "metadata": {
    "ExecuteTime": {
     "end_time": "2020-09-21T01:23:05.519494Z",
     "start_time": "2020-09-21T01:23:05.469578Z"
    }
   },
   "outputs": [],
   "source": [
    "df['creditY'] = ((df['issueDate'] - df['earliesCreditLine']).dt.days)//365"
   ]
  },
  {
   "cell_type": "markdown",
   "metadata": {},
   "source": [
    "#"
   ]
  },
  {
   "cell_type": "code",
   "execution_count": 22,
   "metadata": {
    "ExecuteTime": {
     "end_time": "2020-09-21T01:23:05.585976Z",
     "start_time": "2020-09-21T01:23:05.519494Z"
    }
   },
   "outputs": [],
   "source": [
    "df['issueDate'] = df['issueDate'].dt.year\n",
    "df['issueDate'] = df['issueDate'] - 2007"
   ]
  },
  {
   "cell_type": "code",
   "execution_count": 23,
   "metadata": {
    "ExecuteTime": {
     "end_time": "2020-09-21T01:23:05.609644Z",
     "start_time": "2020-09-21T01:23:05.586978Z"
    }
   },
   "outputs": [],
   "source": [
    "df['creditY'] = df['creditY'].astype('Int32')"
   ]
  },
  {
   "cell_type": "code",
   "execution_count": null,
   "metadata": {},
   "outputs": [],
   "source": []
  },
  {
   "cell_type": "code",
   "execution_count": 24,
   "metadata": {
    "ExecuteTime": {
     "end_time": "2020-09-21T01:23:24.308684Z",
     "start_time": "2020-09-21T01:23:05.609644Z"
    }
   },
   "outputs": [
    {
     "data": {
      "text/html": [
       "<div>\n",
       "<style scoped>\n",
       "    .dataframe tbody tr th:only-of-type {\n",
       "        vertical-align: middle;\n",
       "    }\n",
       "\n",
       "    .dataframe tbody tr th {\n",
       "        vertical-align: top;\n",
       "    }\n",
       "\n",
       "    .dataframe thead th {\n",
       "        text-align: right;\n",
       "    }\n",
       "</style>\n",
       "<table border=\"1\" class=\"dataframe\">\n",
       "  <thead>\n",
       "    <tr style=\"text-align: right;\">\n",
       "      <th></th>\n",
       "      <th>id</th>\n",
       "      <th>loanAmnt</th>\n",
       "      <th>term</th>\n",
       "      <th>interestRate</th>\n",
       "      <th>installment</th>\n",
       "      <th>grade</th>\n",
       "      <th>subGrade</th>\n",
       "      <th>employmentTitle</th>\n",
       "      <th>employmentLength</th>\n",
       "      <th>homeOwnership</th>\n",
       "      <th>annualIncome</th>\n",
       "      <th>verificationStatus</th>\n",
       "      <th>issueDate</th>\n",
       "      <th>isDefault</th>\n",
       "      <th>purpose</th>\n",
       "      <th>postCode</th>\n",
       "      <th>regionCode</th>\n",
       "      <th>dti</th>\n",
       "      <th>delinquency_2years</th>\n",
       "      <th>ficoRangeLow</th>\n",
       "      <th>ficoRangeHigh</th>\n",
       "      <th>openAcc</th>\n",
       "      <th>pubRec</th>\n",
       "      <th>pubRecBankruptcies</th>\n",
       "      <th>revolBal</th>\n",
       "      <th>revolUtil</th>\n",
       "      <th>totalAcc</th>\n",
       "      <th>initialListStatus</th>\n",
       "      <th>applicationType</th>\n",
       "      <th>earliesCreditLine</th>\n",
       "      <th>title</th>\n",
       "      <th>n0</th>\n",
       "      <th>n1</th>\n",
       "      <th>n2</th>\n",
       "      <th>n4</th>\n",
       "      <th>n5</th>\n",
       "      <th>n6</th>\n",
       "      <th>n7</th>\n",
       "      <th>n8</th>\n",
       "      <th>n9</th>\n",
       "      <th>n10</th>\n",
       "      <th>n11</th>\n",
       "      <th>n12</th>\n",
       "      <th>n13</th>\n",
       "      <th>n14</th>\n",
       "      <th>issueDateDT</th>\n",
       "      <th>creditY</th>\n",
       "    </tr>\n",
       "  </thead>\n",
       "  <tbody>\n",
       "    <tr>\n",
       "      <th>count</th>\n",
       "      <td>1000000.000000</td>\n",
       "      <td>1000000.000000</td>\n",
       "      <td>1000000.000000</td>\n",
       "      <td>1000000.000000</td>\n",
       "      <td>1000000.000000</td>\n",
       "      <td>1000000</td>\n",
       "      <td>1000000</td>\n",
       "      <td>999999.000000</td>\n",
       "      <td>941459.000000</td>\n",
       "      <td>1000000.000000</td>\n",
       "      <td>1.000000e+06</td>\n",
       "      <td>1000000.000000</td>\n",
       "      <td>1000000.00000</td>\n",
       "      <td>1000000.000000</td>\n",
       "      <td>1000000.000000</td>\n",
       "      <td>999999.000000</td>\n",
       "      <td>1000000.000000</td>\n",
       "      <td>999700.000000</td>\n",
       "      <td>1000000.000000</td>\n",
       "      <td>1000000.000000</td>\n",
       "      <td>1000000.000000</td>\n",
       "      <td>1000000.000000</td>\n",
       "      <td>1000000.000000</td>\n",
       "      <td>999479.000000</td>\n",
       "      <td>1.000000e+06</td>\n",
       "      <td>999342.000000</td>\n",
       "      <td>1000000.000000</td>\n",
       "      <td>1000000.000000</td>\n",
       "      <td>1000000.000000</td>\n",
       "      <td>1000000</td>\n",
       "      <td>999999.000000</td>\n",
       "      <td>949619.000000</td>\n",
       "      <td>949619.000000</td>\n",
       "      <td>949619.000000</td>\n",
       "      <td>958367.000000</td>\n",
       "      <td>949619.000000</td>\n",
       "      <td>949619.000000</td>\n",
       "      <td>949619.000000</td>\n",
       "      <td>949618.000000</td>\n",
       "      <td>949619.000000</td>\n",
       "      <td>958367.000000</td>\n",
       "      <td>912673.000000</td>\n",
       "      <td>949619.000000</td>\n",
       "      <td>949619.000000</td>\n",
       "      <td>949619.000000</td>\n",
       "      <td>1000000.000000</td>\n",
       "      <td>1000000.000000</td>\n",
       "    </tr>\n",
       "    <tr>\n",
       "      <th>unique</th>\n",
       "      <td>NaN</td>\n",
       "      <td>NaN</td>\n",
       "      <td>NaN</td>\n",
       "      <td>NaN</td>\n",
       "      <td>NaN</td>\n",
       "      <td>7</td>\n",
       "      <td>35</td>\n",
       "      <td>NaN</td>\n",
       "      <td>NaN</td>\n",
       "      <td>NaN</td>\n",
       "      <td>NaN</td>\n",
       "      <td>NaN</td>\n",
       "      <td>NaN</td>\n",
       "      <td>NaN</td>\n",
       "      <td>NaN</td>\n",
       "      <td>NaN</td>\n",
       "      <td>NaN</td>\n",
       "      <td>NaN</td>\n",
       "      <td>NaN</td>\n",
       "      <td>NaN</td>\n",
       "      <td>NaN</td>\n",
       "      <td>NaN</td>\n",
       "      <td>NaN</td>\n",
       "      <td>NaN</td>\n",
       "      <td>NaN</td>\n",
       "      <td>NaN</td>\n",
       "      <td>NaN</td>\n",
       "      <td>NaN</td>\n",
       "      <td>NaN</td>\n",
       "      <td>726</td>\n",
       "      <td>NaN</td>\n",
       "      <td>NaN</td>\n",
       "      <td>NaN</td>\n",
       "      <td>NaN</td>\n",
       "      <td>NaN</td>\n",
       "      <td>NaN</td>\n",
       "      <td>NaN</td>\n",
       "      <td>NaN</td>\n",
       "      <td>NaN</td>\n",
       "      <td>NaN</td>\n",
       "      <td>NaN</td>\n",
       "      <td>NaN</td>\n",
       "      <td>NaN</td>\n",
       "      <td>NaN</td>\n",
       "      <td>NaN</td>\n",
       "      <td>NaN</td>\n",
       "      <td>NaN</td>\n",
       "    </tr>\n",
       "    <tr>\n",
       "      <th>top</th>\n",
       "      <td>NaN</td>\n",
       "      <td>NaN</td>\n",
       "      <td>NaN</td>\n",
       "      <td>NaN</td>\n",
       "      <td>NaN</td>\n",
       "      <td>B</td>\n",
       "      <td>C1</td>\n",
       "      <td>NaN</td>\n",
       "      <td>NaN</td>\n",
       "      <td>NaN</td>\n",
       "      <td>NaN</td>\n",
       "      <td>NaN</td>\n",
       "      <td>NaN</td>\n",
       "      <td>NaN</td>\n",
       "      <td>NaN</td>\n",
       "      <td>NaN</td>\n",
       "      <td>NaN</td>\n",
       "      <td>NaN</td>\n",
       "      <td>NaN</td>\n",
       "      <td>NaN</td>\n",
       "      <td>NaN</td>\n",
       "      <td>NaN</td>\n",
       "      <td>NaN</td>\n",
       "      <td>NaN</td>\n",
       "      <td>NaN</td>\n",
       "      <td>NaN</td>\n",
       "      <td>NaN</td>\n",
       "      <td>NaN</td>\n",
       "      <td>NaN</td>\n",
       "      <td>2001-08-01 00:00:00</td>\n",
       "      <td>NaN</td>\n",
       "      <td>NaN</td>\n",
       "      <td>NaN</td>\n",
       "      <td>NaN</td>\n",
       "      <td>NaN</td>\n",
       "      <td>NaN</td>\n",
       "      <td>NaN</td>\n",
       "      <td>NaN</td>\n",
       "      <td>NaN</td>\n",
       "      <td>NaN</td>\n",
       "      <td>NaN</td>\n",
       "      <td>NaN</td>\n",
       "      <td>NaN</td>\n",
       "      <td>NaN</td>\n",
       "      <td>NaN</td>\n",
       "      <td>NaN</td>\n",
       "      <td>NaN</td>\n",
       "    </tr>\n",
       "    <tr>\n",
       "      <th>freq</th>\n",
       "      <td>NaN</td>\n",
       "      <td>NaN</td>\n",
       "      <td>NaN</td>\n",
       "      <td>NaN</td>\n",
       "      <td>NaN</td>\n",
       "      <td>292055</td>\n",
       "      <td>63620</td>\n",
       "      <td>NaN</td>\n",
       "      <td>NaN</td>\n",
       "      <td>NaN</td>\n",
       "      <td>NaN</td>\n",
       "      <td>NaN</td>\n",
       "      <td>NaN</td>\n",
       "      <td>NaN</td>\n",
       "      <td>NaN</td>\n",
       "      <td>NaN</td>\n",
       "      <td>NaN</td>\n",
       "      <td>NaN</td>\n",
       "      <td>NaN</td>\n",
       "      <td>NaN</td>\n",
       "      <td>NaN</td>\n",
       "      <td>NaN</td>\n",
       "      <td>NaN</td>\n",
       "      <td>NaN</td>\n",
       "      <td>NaN</td>\n",
       "      <td>NaN</td>\n",
       "      <td>NaN</td>\n",
       "      <td>NaN</td>\n",
       "      <td>NaN</td>\n",
       "      <td>6957</td>\n",
       "      <td>NaN</td>\n",
       "      <td>NaN</td>\n",
       "      <td>NaN</td>\n",
       "      <td>NaN</td>\n",
       "      <td>NaN</td>\n",
       "      <td>NaN</td>\n",
       "      <td>NaN</td>\n",
       "      <td>NaN</td>\n",
       "      <td>NaN</td>\n",
       "      <td>NaN</td>\n",
       "      <td>NaN</td>\n",
       "      <td>NaN</td>\n",
       "      <td>NaN</td>\n",
       "      <td>NaN</td>\n",
       "      <td>NaN</td>\n",
       "      <td>NaN</td>\n",
       "      <td>NaN</td>\n",
       "    </tr>\n",
       "    <tr>\n",
       "      <th>first</th>\n",
       "      <td>NaN</td>\n",
       "      <td>NaN</td>\n",
       "      <td>NaN</td>\n",
       "      <td>NaN</td>\n",
       "      <td>NaN</td>\n",
       "      <td>NaN</td>\n",
       "      <td>NaN</td>\n",
       "      <td>NaN</td>\n",
       "      <td>NaN</td>\n",
       "      <td>NaN</td>\n",
       "      <td>NaN</td>\n",
       "      <td>NaN</td>\n",
       "      <td>NaN</td>\n",
       "      <td>NaN</td>\n",
       "      <td>NaN</td>\n",
       "      <td>NaN</td>\n",
       "      <td>NaN</td>\n",
       "      <td>NaN</td>\n",
       "      <td>NaN</td>\n",
       "      <td>NaN</td>\n",
       "      <td>NaN</td>\n",
       "      <td>NaN</td>\n",
       "      <td>NaN</td>\n",
       "      <td>NaN</td>\n",
       "      <td>NaN</td>\n",
       "      <td>NaN</td>\n",
       "      <td>NaN</td>\n",
       "      <td>NaN</td>\n",
       "      <td>NaN</td>\n",
       "      <td>1944-01-01 00:00:00</td>\n",
       "      <td>NaN</td>\n",
       "      <td>NaN</td>\n",
       "      <td>NaN</td>\n",
       "      <td>NaN</td>\n",
       "      <td>NaN</td>\n",
       "      <td>NaN</td>\n",
       "      <td>NaN</td>\n",
       "      <td>NaN</td>\n",
       "      <td>NaN</td>\n",
       "      <td>NaN</td>\n",
       "      <td>NaN</td>\n",
       "      <td>NaN</td>\n",
       "      <td>NaN</td>\n",
       "      <td>NaN</td>\n",
       "      <td>NaN</td>\n",
       "      <td>NaN</td>\n",
       "      <td>NaN</td>\n",
       "    </tr>\n",
       "    <tr>\n",
       "      <th>last</th>\n",
       "      <td>NaN</td>\n",
       "      <td>NaN</td>\n",
       "      <td>NaN</td>\n",
       "      <td>NaN</td>\n",
       "      <td>NaN</td>\n",
       "      <td>NaN</td>\n",
       "      <td>NaN</td>\n",
       "      <td>NaN</td>\n",
       "      <td>NaN</td>\n",
       "      <td>NaN</td>\n",
       "      <td>NaN</td>\n",
       "      <td>NaN</td>\n",
       "      <td>NaN</td>\n",
       "      <td>NaN</td>\n",
       "      <td>NaN</td>\n",
       "      <td>NaN</td>\n",
       "      <td>NaN</td>\n",
       "      <td>NaN</td>\n",
       "      <td>NaN</td>\n",
       "      <td>NaN</td>\n",
       "      <td>NaN</td>\n",
       "      <td>NaN</td>\n",
       "      <td>NaN</td>\n",
       "      <td>NaN</td>\n",
       "      <td>NaN</td>\n",
       "      <td>NaN</td>\n",
       "      <td>NaN</td>\n",
       "      <td>NaN</td>\n",
       "      <td>NaN</td>\n",
       "      <td>2015-10-01 00:00:00</td>\n",
       "      <td>NaN</td>\n",
       "      <td>NaN</td>\n",
       "      <td>NaN</td>\n",
       "      <td>NaN</td>\n",
       "      <td>NaN</td>\n",
       "      <td>NaN</td>\n",
       "      <td>NaN</td>\n",
       "      <td>NaN</td>\n",
       "      <td>NaN</td>\n",
       "      <td>NaN</td>\n",
       "      <td>NaN</td>\n",
       "      <td>NaN</td>\n",
       "      <td>NaN</td>\n",
       "      <td>NaN</td>\n",
       "      <td>NaN</td>\n",
       "      <td>NaN</td>\n",
       "      <td>NaN</td>\n",
       "    </tr>\n",
       "    <tr>\n",
       "      <th>mean</th>\n",
       "      <td>499999.500000</td>\n",
       "      <td>14420.845925</td>\n",
       "      <td>3.482534</td>\n",
       "      <td>13.239673</td>\n",
       "      <td>438.105739</td>\n",
       "      <td>NaN</td>\n",
       "      <td>NaN</td>\n",
       "      <td>72091.431605</td>\n",
       "      <td>5.965504</td>\n",
       "      <td>0.614190</td>\n",
       "      <td>7.619750e+04</td>\n",
       "      <td>1.009832</td>\n",
       "      <td>7.97165</td>\n",
       "      <td>-0.040390</td>\n",
       "      <td>1.745668</td>\n",
       "      <td>258.480425</td>\n",
       "      <td>16.394772</td>\n",
       "      <td>18.285902</td>\n",
       "      <td>0.317770</td>\n",
       "      <td>696.196545</td>\n",
       "      <td>700.196687</td>\n",
       "      <td>11.594484</td>\n",
       "      <td>0.215038</td>\n",
       "      <td>0.134389</td>\n",
       "      <td>1.623413e+04</td>\n",
       "      <td>51.807612</td>\n",
       "      <td>24.983451</td>\n",
       "      <td>0.416892</td>\n",
       "      <td>0.019307</td>\n",
       "      <td>NaN</td>\n",
       "      <td>1758.926990</td>\n",
       "      <td>0.511119</td>\n",
       "      <td>3.643485</td>\n",
       "      <td>5.643547</td>\n",
       "      <td>4.735022</td>\n",
       "      <td>8.105145</td>\n",
       "      <td>8.566264</td>\n",
       "      <td>8.281331</td>\n",
       "      <td>14.616502</td>\n",
       "      <td>5.593135</td>\n",
       "      <td>11.640496</td>\n",
       "      <td>0.000818</td>\n",
       "      <td>0.003431</td>\n",
       "      <td>0.089161</td>\n",
       "      <td>2.178948</td>\n",
       "      <td>97.110672</td>\n",
       "      <td>15.804700</td>\n",
       "    </tr>\n",
       "    <tr>\n",
       "      <th>std</th>\n",
       "      <td>288675.278932</td>\n",
       "      <td>8720.358533</td>\n",
       "      <td>0.855704</td>\n",
       "      <td>4.765909</td>\n",
       "      <td>261.617903</td>\n",
       "      <td>NaN</td>\n",
       "      <td>NaN</td>\n",
       "      <td>106647.143239</td>\n",
       "      <td>3.690622</td>\n",
       "      <td>0.675692</td>\n",
       "      <td>7.077646e+04</td>\n",
       "      <td>0.782519</td>\n",
       "      <td>1.64012</td>\n",
       "      <td>0.598313</td>\n",
       "      <td>2.367460</td>\n",
       "      <td>199.980363</td>\n",
       "      <td>11.041613</td>\n",
       "      <td>11.219721</td>\n",
       "      <td>0.879524</td>\n",
       "      <td>31.863308</td>\n",
       "      <td>31.863973</td>\n",
       "      <td>5.471342</td>\n",
       "      <td>0.606479</td>\n",
       "      <td>0.378112</td>\n",
       "      <td>2.245257e+04</td>\n",
       "      <td>24.524087</td>\n",
       "      <td>11.988140</td>\n",
       "      <td>0.493045</td>\n",
       "      <td>0.137602</td>\n",
       "      <td>NaN</td>\n",
       "      <td>7949.848213</td>\n",
       "      <td>1.329637</td>\n",
       "      <td>2.249020</td>\n",
       "      <td>3.303965</td>\n",
       "      <td>2.951852</td>\n",
       "      <td>4.800121</td>\n",
       "      <td>7.381178</td>\n",
       "      <td>4.559533</td>\n",
       "      <td>8.121567</td>\n",
       "      <td>3.217142</td>\n",
       "      <td>5.480215</td>\n",
       "      <td>0.030164</td>\n",
       "      <td>0.062495</td>\n",
       "      <td>0.508290</td>\n",
       "      <td>1.843899</td>\n",
       "      <td>19.578704</td>\n",
       "      <td>7.508422</td>\n",
       "    </tr>\n",
       "    <tr>\n",
       "      <th>min</th>\n",
       "      <td>0.000000</td>\n",
       "      <td>500.000000</td>\n",
       "      <td>3.000000</td>\n",
       "      <td>5.310000</td>\n",
       "      <td>14.010000</td>\n",
       "      <td>NaN</td>\n",
       "      <td>NaN</td>\n",
       "      <td>0.000000</td>\n",
       "      <td>0.000000</td>\n",
       "      <td>0.000000</td>\n",
       "      <td>0.000000e+00</td>\n",
       "      <td>0.000000</td>\n",
       "      <td>0.00000</td>\n",
       "      <td>-1.000000</td>\n",
       "      <td>0.000000</td>\n",
       "      <td>0.000000</td>\n",
       "      <td>0.000000</td>\n",
       "      <td>-1.000000</td>\n",
       "      <td>0.000000</td>\n",
       "      <td>625.000000</td>\n",
       "      <td>629.000000</td>\n",
       "      <td>0.000000</td>\n",
       "      <td>0.000000</td>\n",
       "      <td>0.000000</td>\n",
       "      <td>0.000000e+00</td>\n",
       "      <td>0.000000</td>\n",
       "      <td>2.000000</td>\n",
       "      <td>0.000000</td>\n",
       "      <td>0.000000</td>\n",
       "      <td>NaN</td>\n",
       "      <td>0.000000</td>\n",
       "      <td>0.000000</td>\n",
       "      <td>0.000000</td>\n",
       "      <td>0.000000</td>\n",
       "      <td>0.000000</td>\n",
       "      <td>0.000000</td>\n",
       "      <td>0.000000</td>\n",
       "      <td>0.000000</td>\n",
       "      <td>1.000000</td>\n",
       "      <td>0.000000</td>\n",
       "      <td>0.000000</td>\n",
       "      <td>0.000000</td>\n",
       "      <td>0.000000</td>\n",
       "      <td>0.000000</td>\n",
       "      <td>0.000000</td>\n",
       "      <td>0.000000</td>\n",
       "      <td>3.000000</td>\n",
       "    </tr>\n",
       "    <tr>\n",
       "      <th>25%</th>\n",
       "      <td>249999.750000</td>\n",
       "      <td>8000.000000</td>\n",
       "      <td>3.000000</td>\n",
       "      <td>9.750000</td>\n",
       "      <td>248.480000</td>\n",
       "      <td>NaN</td>\n",
       "      <td>NaN</td>\n",
       "      <td>427.000000</td>\n",
       "      <td>2.000000</td>\n",
       "      <td>0.000000</td>\n",
       "      <td>4.567103e+04</td>\n",
       "      <td>0.000000</td>\n",
       "      <td>7.00000</td>\n",
       "      <td>0.000000</td>\n",
       "      <td>0.000000</td>\n",
       "      <td>103.000000</td>\n",
       "      <td>8.000000</td>\n",
       "      <td>11.800000</td>\n",
       "      <td>0.000000</td>\n",
       "      <td>670.000000</td>\n",
       "      <td>674.000000</td>\n",
       "      <td>8.000000</td>\n",
       "      <td>0.000000</td>\n",
       "      <td>0.000000</td>\n",
       "      <td>5.943000e+03</td>\n",
       "      <td>33.400000</td>\n",
       "      <td>16.000000</td>\n",
       "      <td>0.000000</td>\n",
       "      <td>0.000000</td>\n",
       "      <td>NaN</td>\n",
       "      <td>0.000000</td>\n",
       "      <td>0.000000</td>\n",
       "      <td>2.000000</td>\n",
       "      <td>3.000000</td>\n",
       "      <td>3.000000</td>\n",
       "      <td>5.000000</td>\n",
       "      <td>4.000000</td>\n",
       "      <td>5.000000</td>\n",
       "      <td>9.000000</td>\n",
       "      <td>3.000000</td>\n",
       "      <td>8.000000</td>\n",
       "      <td>0.000000</td>\n",
       "      <td>0.000000</td>\n",
       "      <td>0.000000</td>\n",
       "      <td>1.000000</td>\n",
       "      <td>86.000000</td>\n",
       "      <td>11.000000</td>\n",
       "    </tr>\n",
       "    <tr>\n",
       "      <th>50%</th>\n",
       "      <td>499999.500000</td>\n",
       "      <td>12000.000000</td>\n",
       "      <td>3.000000</td>\n",
       "      <td>12.740000</td>\n",
       "      <td>375.380000</td>\n",
       "      <td>NaN</td>\n",
       "      <td>NaN</td>\n",
       "      <td>7782.000000</td>\n",
       "      <td>6.000000</td>\n",
       "      <td>1.000000</td>\n",
       "      <td>6.500000e+04</td>\n",
       "      <td>1.000000</td>\n",
       "      <td>8.00000</td>\n",
       "      <td>0.000000</td>\n",
       "      <td>0.000000</td>\n",
       "      <td>203.000000</td>\n",
       "      <td>14.000000</td>\n",
       "      <td>17.620000</td>\n",
       "      <td>0.000000</td>\n",
       "      <td>690.000000</td>\n",
       "      <td>694.000000</td>\n",
       "      <td>11.000000</td>\n",
       "      <td>0.000000</td>\n",
       "      <td>0.000000</td>\n",
       "      <td>1.113300e+04</td>\n",
       "      <td>52.200000</td>\n",
       "      <td>23.000000</td>\n",
       "      <td>0.000000</td>\n",
       "      <td>0.000000</td>\n",
       "      <td>NaN</td>\n",
       "      <td>1.000000</td>\n",
       "      <td>0.000000</td>\n",
       "      <td>3.000000</td>\n",
       "      <td>5.000000</td>\n",
       "      <td>4.000000</td>\n",
       "      <td>7.000000</td>\n",
       "      <td>7.000000</td>\n",
       "      <td>7.000000</td>\n",
       "      <td>13.000000</td>\n",
       "      <td>5.000000</td>\n",
       "      <td>11.000000</td>\n",
       "      <td>0.000000</td>\n",
       "      <td>0.000000</td>\n",
       "      <td>0.000000</td>\n",
       "      <td>2.000000</td>\n",
       "      <td>99.000000</td>\n",
       "      <td>14.000000</td>\n",
       "    </tr>\n",
       "    <tr>\n",
       "      <th>75%</th>\n",
       "      <td>749999.250000</td>\n",
       "      <td>20000.000000</td>\n",
       "      <td>3.000000</td>\n",
       "      <td>15.990000</td>\n",
       "      <td>580.730000</td>\n",
       "      <td>NaN</td>\n",
       "      <td>NaN</td>\n",
       "      <td>118112.000000</td>\n",
       "      <td>10.000000</td>\n",
       "      <td>1.000000</td>\n",
       "      <td>9.000000e+04</td>\n",
       "      <td>2.000000</td>\n",
       "      <td>9.00000</td>\n",
       "      <td>0.000000</td>\n",
       "      <td>4.000000</td>\n",
       "      <td>394.000000</td>\n",
       "      <td>22.000000</td>\n",
       "      <td>24.060000</td>\n",
       "      <td>0.000000</td>\n",
       "      <td>710.000000</td>\n",
       "      <td>714.000000</td>\n",
       "      <td>14.000000</td>\n",
       "      <td>0.000000</td>\n",
       "      <td>0.000000</td>\n",
       "      <td>1.974300e+04</td>\n",
       "      <td>70.700000</td>\n",
       "      <td>32.000000</td>\n",
       "      <td>1.000000</td>\n",
       "      <td>0.000000</td>\n",
       "      <td>NaN</td>\n",
       "      <td>5.000000</td>\n",
       "      <td>0.000000</td>\n",
       "      <td>5.000000</td>\n",
       "      <td>7.000000</td>\n",
       "      <td>6.000000</td>\n",
       "      <td>11.000000</td>\n",
       "      <td>11.000000</td>\n",
       "      <td>10.000000</td>\n",
       "      <td>19.000000</td>\n",
       "      <td>7.000000</td>\n",
       "      <td>14.000000</td>\n",
       "      <td>0.000000</td>\n",
       "      <td>0.000000</td>\n",
       "      <td>0.000000</td>\n",
       "      <td>3.000000</td>\n",
       "      <td>110.000000</td>\n",
       "      <td>20.000000</td>\n",
       "    </tr>\n",
       "    <tr>\n",
       "      <th>max</th>\n",
       "      <td>999999.000000</td>\n",
       "      <td>40000.000000</td>\n",
       "      <td>5.000000</td>\n",
       "      <td>30.990000</td>\n",
       "      <td>1715.420000</td>\n",
       "      <td>NaN</td>\n",
       "      <td>NaN</td>\n",
       "      <td>378351.000000</td>\n",
       "      <td>10.000000</td>\n",
       "      <td>5.000000</td>\n",
       "      <td>1.099920e+07</td>\n",
       "      <td>2.000000</td>\n",
       "      <td>11.00000</td>\n",
       "      <td>1.000000</td>\n",
       "      <td>13.000000</td>\n",
       "      <td>940.000000</td>\n",
       "      <td>50.000000</td>\n",
       "      <td>999.000000</td>\n",
       "      <td>39.000000</td>\n",
       "      <td>845.000000</td>\n",
       "      <td>850.000000</td>\n",
       "      <td>90.000000</td>\n",
       "      <td>86.000000</td>\n",
       "      <td>12.000000</td>\n",
       "      <td>2.904836e+06</td>\n",
       "      <td>892.300000</td>\n",
       "      <td>162.000000</td>\n",
       "      <td>1.000000</td>\n",
       "      <td>1.000000</td>\n",
       "      <td>NaN</td>\n",
       "      <td>61680.000000</td>\n",
       "      <td>51.000000</td>\n",
       "      <td>33.000000</td>\n",
       "      <td>63.000000</td>\n",
       "      <td>63.000000</td>\n",
       "      <td>70.000000</td>\n",
       "      <td>132.000000</td>\n",
       "      <td>83.000000</td>\n",
       "      <td>128.000000</td>\n",
       "      <td>45.000000</td>\n",
       "      <td>90.000000</td>\n",
       "      <td>4.000000</td>\n",
       "      <td>4.000000</td>\n",
       "      <td>39.000000</td>\n",
       "      <td>30.000000</td>\n",
       "      <td>140.000000</td>\n",
       "      <td>71.000000</td>\n",
       "    </tr>\n",
       "  </tbody>\n",
       "</table>\n",
       "</div>"
      ],
      "text/plain": [
       "                    id        loanAmnt            term    interestRate  \\\n",
       "count   1000000.000000  1000000.000000  1000000.000000  1000000.000000   \n",
       "unique             NaN             NaN             NaN             NaN   \n",
       "top                NaN             NaN             NaN             NaN   \n",
       "freq               NaN             NaN             NaN             NaN   \n",
       "first              NaN             NaN             NaN             NaN   \n",
       "last               NaN             NaN             NaN             NaN   \n",
       "mean     499999.500000    14420.845925        3.482534       13.239673   \n",
       "std      288675.278932     8720.358533        0.855704        4.765909   \n",
       "min           0.000000      500.000000        3.000000        5.310000   \n",
       "25%      249999.750000     8000.000000        3.000000        9.750000   \n",
       "50%      499999.500000    12000.000000        3.000000       12.740000   \n",
       "75%      749999.250000    20000.000000        3.000000       15.990000   \n",
       "max      999999.000000    40000.000000        5.000000       30.990000   \n",
       "\n",
       "           installment    grade subGrade  employmentTitle  employmentLength  \\\n",
       "count   1000000.000000  1000000  1000000    999999.000000     941459.000000   \n",
       "unique             NaN        7       35              NaN               NaN   \n",
       "top                NaN        B       C1              NaN               NaN   \n",
       "freq               NaN   292055    63620              NaN               NaN   \n",
       "first              NaN      NaN      NaN              NaN               NaN   \n",
       "last               NaN      NaN      NaN              NaN               NaN   \n",
       "mean        438.105739      NaN      NaN     72091.431605          5.965504   \n",
       "std         261.617903      NaN      NaN    106647.143239          3.690622   \n",
       "min          14.010000      NaN      NaN         0.000000          0.000000   \n",
       "25%         248.480000      NaN      NaN       427.000000          2.000000   \n",
       "50%         375.380000      NaN      NaN      7782.000000          6.000000   \n",
       "75%         580.730000      NaN      NaN    118112.000000         10.000000   \n",
       "max        1715.420000      NaN      NaN    378351.000000         10.000000   \n",
       "\n",
       "         homeOwnership  annualIncome  verificationStatus      issueDate  \\\n",
       "count   1000000.000000  1.000000e+06      1000000.000000  1000000.00000   \n",
       "unique             NaN           NaN                 NaN            NaN   \n",
       "top                NaN           NaN                 NaN            NaN   \n",
       "freq               NaN           NaN                 NaN            NaN   \n",
       "first              NaN           NaN                 NaN            NaN   \n",
       "last               NaN           NaN                 NaN            NaN   \n",
       "mean          0.614190  7.619750e+04            1.009832        7.97165   \n",
       "std           0.675692  7.077646e+04            0.782519        1.64012   \n",
       "min           0.000000  0.000000e+00            0.000000        0.00000   \n",
       "25%           0.000000  4.567103e+04            0.000000        7.00000   \n",
       "50%           1.000000  6.500000e+04            1.000000        8.00000   \n",
       "75%           1.000000  9.000000e+04            2.000000        9.00000   \n",
       "max           5.000000  1.099920e+07            2.000000       11.00000   \n",
       "\n",
       "             isDefault         purpose       postCode      regionCode  \\\n",
       "count   1000000.000000  1000000.000000  999999.000000  1000000.000000   \n",
       "unique             NaN             NaN            NaN             NaN   \n",
       "top                NaN             NaN            NaN             NaN   \n",
       "freq               NaN             NaN            NaN             NaN   \n",
       "first              NaN             NaN            NaN             NaN   \n",
       "last               NaN             NaN            NaN             NaN   \n",
       "mean         -0.040390        1.745668     258.480425       16.394772   \n",
       "std           0.598313        2.367460     199.980363       11.041613   \n",
       "min          -1.000000        0.000000       0.000000        0.000000   \n",
       "25%           0.000000        0.000000     103.000000        8.000000   \n",
       "50%           0.000000        0.000000     203.000000       14.000000   \n",
       "75%           0.000000        4.000000     394.000000       22.000000   \n",
       "max           1.000000       13.000000     940.000000       50.000000   \n",
       "\n",
       "                  dti  delinquency_2years    ficoRangeLow   ficoRangeHigh  \\\n",
       "count   999700.000000      1000000.000000  1000000.000000  1000000.000000   \n",
       "unique            NaN                 NaN             NaN             NaN   \n",
       "top               NaN                 NaN             NaN             NaN   \n",
       "freq              NaN                 NaN             NaN             NaN   \n",
       "first             NaN                 NaN             NaN             NaN   \n",
       "last              NaN                 NaN             NaN             NaN   \n",
       "mean        18.285902            0.317770      696.196545      700.196687   \n",
       "std         11.219721            0.879524       31.863308       31.863973   \n",
       "min         -1.000000            0.000000      625.000000      629.000000   \n",
       "25%         11.800000            0.000000      670.000000      674.000000   \n",
       "50%         17.620000            0.000000      690.000000      694.000000   \n",
       "75%         24.060000            0.000000      710.000000      714.000000   \n",
       "max        999.000000           39.000000      845.000000      850.000000   \n",
       "\n",
       "               openAcc          pubRec  pubRecBankruptcies      revolBal  \\\n",
       "count   1000000.000000  1000000.000000       999479.000000  1.000000e+06   \n",
       "unique             NaN             NaN                 NaN           NaN   \n",
       "top                NaN             NaN                 NaN           NaN   \n",
       "freq               NaN             NaN                 NaN           NaN   \n",
       "first              NaN             NaN                 NaN           NaN   \n",
       "last               NaN             NaN                 NaN           NaN   \n",
       "mean         11.594484        0.215038            0.134389  1.623413e+04   \n",
       "std           5.471342        0.606479            0.378112  2.245257e+04   \n",
       "min           0.000000        0.000000            0.000000  0.000000e+00   \n",
       "25%           8.000000        0.000000            0.000000  5.943000e+03   \n",
       "50%          11.000000        0.000000            0.000000  1.113300e+04   \n",
       "75%          14.000000        0.000000            0.000000  1.974300e+04   \n",
       "max          90.000000       86.000000           12.000000  2.904836e+06   \n",
       "\n",
       "            revolUtil        totalAcc  initialListStatus  applicationType  \\\n",
       "count   999342.000000  1000000.000000     1000000.000000   1000000.000000   \n",
       "unique            NaN             NaN                NaN              NaN   \n",
       "top               NaN             NaN                NaN              NaN   \n",
       "freq              NaN             NaN                NaN              NaN   \n",
       "first             NaN             NaN                NaN              NaN   \n",
       "last              NaN             NaN                NaN              NaN   \n",
       "mean        51.807612       24.983451           0.416892         0.019307   \n",
       "std         24.524087       11.988140           0.493045         0.137602   \n",
       "min          0.000000        2.000000           0.000000         0.000000   \n",
       "25%         33.400000       16.000000           0.000000         0.000000   \n",
       "50%         52.200000       23.000000           0.000000         0.000000   \n",
       "75%         70.700000       32.000000           1.000000         0.000000   \n",
       "max        892.300000      162.000000           1.000000         1.000000   \n",
       "\n",
       "          earliesCreditLine          title             n0             n1  \\\n",
       "count               1000000  999999.000000  949619.000000  949619.000000   \n",
       "unique                  726            NaN            NaN            NaN   \n",
       "top     2001-08-01 00:00:00            NaN            NaN            NaN   \n",
       "freq                   6957            NaN            NaN            NaN   \n",
       "first   1944-01-01 00:00:00            NaN            NaN            NaN   \n",
       "last    2015-10-01 00:00:00            NaN            NaN            NaN   \n",
       "mean                    NaN    1758.926990       0.511119       3.643485   \n",
       "std                     NaN    7949.848213       1.329637       2.249020   \n",
       "min                     NaN       0.000000       0.000000       0.000000   \n",
       "25%                     NaN       0.000000       0.000000       2.000000   \n",
       "50%                     NaN       1.000000       0.000000       3.000000   \n",
       "75%                     NaN       5.000000       0.000000       5.000000   \n",
       "max                     NaN   61680.000000      51.000000      33.000000   \n",
       "\n",
       "                   n2             n4             n5             n6  \\\n",
       "count   949619.000000  958367.000000  949619.000000  949619.000000   \n",
       "unique            NaN            NaN            NaN            NaN   \n",
       "top               NaN            NaN            NaN            NaN   \n",
       "freq              NaN            NaN            NaN            NaN   \n",
       "first             NaN            NaN            NaN            NaN   \n",
       "last              NaN            NaN            NaN            NaN   \n",
       "mean         5.643547       4.735022       8.105145       8.566264   \n",
       "std          3.303965       2.951852       4.800121       7.381178   \n",
       "min          0.000000       0.000000       0.000000       0.000000   \n",
       "25%          3.000000       3.000000       5.000000       4.000000   \n",
       "50%          5.000000       4.000000       7.000000       7.000000   \n",
       "75%          7.000000       6.000000      11.000000      11.000000   \n",
       "max         63.000000      63.000000      70.000000     132.000000   \n",
       "\n",
       "                   n7             n8             n9            n10  \\\n",
       "count   949619.000000  949618.000000  949619.000000  958367.000000   \n",
       "unique            NaN            NaN            NaN            NaN   \n",
       "top               NaN            NaN            NaN            NaN   \n",
       "freq              NaN            NaN            NaN            NaN   \n",
       "first             NaN            NaN            NaN            NaN   \n",
       "last              NaN            NaN            NaN            NaN   \n",
       "mean         8.281331      14.616502       5.593135      11.640496   \n",
       "std          4.559533       8.121567       3.217142       5.480215   \n",
       "min          0.000000       1.000000       0.000000       0.000000   \n",
       "25%          5.000000       9.000000       3.000000       8.000000   \n",
       "50%          7.000000      13.000000       5.000000      11.000000   \n",
       "75%         10.000000      19.000000       7.000000      14.000000   \n",
       "max         83.000000     128.000000      45.000000      90.000000   \n",
       "\n",
       "                  n11            n12            n13            n14  \\\n",
       "count   912673.000000  949619.000000  949619.000000  949619.000000   \n",
       "unique            NaN            NaN            NaN            NaN   \n",
       "top               NaN            NaN            NaN            NaN   \n",
       "freq              NaN            NaN            NaN            NaN   \n",
       "first             NaN            NaN            NaN            NaN   \n",
       "last              NaN            NaN            NaN            NaN   \n",
       "mean         0.000818       0.003431       0.089161       2.178948   \n",
       "std          0.030164       0.062495       0.508290       1.843899   \n",
       "min          0.000000       0.000000       0.000000       0.000000   \n",
       "25%          0.000000       0.000000       0.000000       1.000000   \n",
       "50%          0.000000       0.000000       0.000000       2.000000   \n",
       "75%          0.000000       0.000000       0.000000       3.000000   \n",
       "max          4.000000       4.000000      39.000000      30.000000   \n",
       "\n",
       "           issueDateDT         creditY  \n",
       "count   1000000.000000  1000000.000000  \n",
       "unique             NaN             NaN  \n",
       "top                NaN             NaN  \n",
       "freq               NaN             NaN  \n",
       "first              NaN             NaN  \n",
       "last               NaN             NaN  \n",
       "mean         97.110672       15.804700  \n",
       "std          19.578704        7.508422  \n",
       "min           0.000000        3.000000  \n",
       "25%          86.000000       11.000000  \n",
       "50%          99.000000       14.000000  \n",
       "75%         110.000000       20.000000  \n",
       "max         140.000000       71.000000  "
      ]
     },
     "execution_count": 24,
     "metadata": {},
     "output_type": "execute_result"
    }
   ],
   "source": [
    "pd.set_option('display.max_columns', None)\n",
    "df.describe(include=\"all\")"
   ]
  },
  {
   "cell_type": "code",
   "execution_count": 25,
   "metadata": {
    "ExecuteTime": {
     "end_time": "2020-09-21T01:23:24.324410Z",
     "start_time": "2020-09-21T01:23:24.309696Z"
    }
   },
   "outputs": [],
   "source": [
    "# df.info()"
   ]
  },
  {
   "cell_type": "markdown",
   "metadata": {},
   "source": [
    "#### 压缩一下内存"
   ]
  },
  {
   "cell_type": "code",
   "execution_count": 26,
   "metadata": {
    "ExecuteTime": {
     "end_time": "2020-09-21T01:23:24.340260Z",
     "start_time": "2020-09-21T01:23:24.325437Z"
    }
   },
   "outputs": [],
   "source": [
    "import psutil\n",
    "\n",
    "## Simple \"Memory profilers\" to see memory usage\n",
    "def get_memory_usage():\n",
    "    return np.round(psutil.Process(os.getpid()).memory_info()[0]/2.**30, 2)\n",
    "\n",
    "def sizeof_fmt(num, suffix='B'):\n",
    "    for unit in ['','Ki','Mi','Gi','Ti','Pi','Ei','Zi']:\n",
    "        if abs(num) < 1024.0:\n",
    "            return \"%3.1f%s%s\" % (num, unit, suffix)\n",
    "        num /= 1024.0\n",
    "    return \"%.1f%s%s\" % (num, 'Yi', suffix)"
   ]
  },
  {
   "cell_type": "code",
   "execution_count": 27,
   "metadata": {
    "ExecuteTime": {
     "end_time": "2020-09-21T01:23:24.356256Z",
     "start_time": "2020-09-21T01:23:24.341241Z"
    }
   },
   "outputs": [],
   "source": [
    "# 这里改了一些 Int\n",
    "## Memory Reducer\n",
    "# :df pandas dataframe to reduce size             # type: pd.DataFrame()\n",
    "# :verbose                                        # type: bool\n",
    "def reduce_mem_usage(df, verbose=True):\n",
    "    numerics = ['Int16', 'Int32', 'Int64', 'float16', 'float32', 'float64']\n",
    "    start_mem = df.memory_usage().sum() / 1024**2\n",
    "    for col in df.columns:\n",
    "        col_type = df[col].dtypes\n",
    "        if col_type in numerics:\n",
    "            c_min = df[col].min()\n",
    "            c_max = df[col].max()\n",
    "            if str(col_type)[:3] == 'Int':\n",
    "                if c_min > np.iinfo(np.int8).min and c_max < np.iinfo(np.int8).max:\n",
    "                    df[col] = df[col].astype('Int8')\n",
    "                elif c_min > np.iinfo(np.int16).min and c_max < np.iinfo(np.int16).max:\n",
    "                       df[col] = df[col].astype('Int16')\n",
    "                elif c_min > np.iinfo(np.int32).min and c_max < np.iinfo(np.int32).max:\n",
    "                    df[col] = df[col].astype('Int32')\n",
    "                elif c_min > np.iinfo(np.int64).min and c_max < np.iinfo(np.int64).max:\n",
    "                    df[col] = df[col].astype('Int64')\n",
    "            else:\n",
    "                if c_min > np.finfo(np.float16).min and c_max < np.finfo(np.float16).max:\n",
    "                    df[col] = df[col].astype(np.float16)\n",
    "                elif c_min > np.finfo(np.float32).min and c_max < np.finfo(np.float32).max:\n",
    "                    df[col] = df[col].astype(np.float32)\n",
    "                else:\n",
    "                    df[col] = df[col].astype(np.float64)\n",
    "    end_mem = df.memory_usage().sum() / 1024**2\n",
    "    if verbose: print('Mem. usage decreased to {:5.2f} Mb ({:.1f}% reduction)'.format(end_mem, 100 * (start_mem - end_mem) / start_mem))\n",
    "    return df"
   ]
  },
  {
   "cell_type": "code",
   "execution_count": 28,
   "metadata": {
    "ExecuteTime": {
     "end_time": "2020-09-21T01:23:24.372085Z",
     "start_time": "2020-09-21T01:23:24.357257Z"
    }
   },
   "outputs": [
    {
     "name": "stdout",
     "output_type": "stream",
     "text": [
      "         Original df: 315.1MiB\n"
     ]
    }
   ],
   "source": [
    "print(\"{:>20}: {:>8}\".format('Original df',sizeof_fmt(train.memory_usage(index=True).sum())))"
   ]
  },
  {
   "cell_type": "code",
   "execution_count": 29,
   "metadata": {
    "ExecuteTime": {
     "end_time": "2020-09-21T01:23:24.736305Z",
     "start_time": "2020-09-21T01:23:24.373086Z"
    }
   },
   "outputs": [
    {
     "name": "stdout",
     "output_type": "stream",
     "text": [
      "Mem. usage decreased to 136.38 Mb (65.1% reduction)\n"
     ]
    }
   ],
   "source": [
    "df = reduce_mem_usage(df)"
   ]
  },
  {
   "cell_type": "code",
   "execution_count": 30,
   "metadata": {
    "ExecuteTime": {
     "end_time": "2020-09-21T01:23:24.752245Z",
     "start_time": "2020-09-21T01:23:24.737307Z"
    }
   },
   "outputs": [],
   "source": [
    "# 看下数据类型变没变\n",
    "# df.info()"
   ]
  },
  {
   "cell_type": "code",
   "execution_count": 31,
   "metadata": {
    "ExecuteTime": {
     "end_time": "2020-09-21T01:23:24.784273Z",
     "start_time": "2020-09-21T01:23:24.753246Z"
    }
   },
   "outputs": [
    {
     "data": {
      "text/html": [
       "<div>\n",
       "<style scoped>\n",
       "    .dataframe tbody tr th:only-of-type {\n",
       "        vertical-align: middle;\n",
       "    }\n",
       "\n",
       "    .dataframe tbody tr th {\n",
       "        vertical-align: top;\n",
       "    }\n",
       "\n",
       "    .dataframe thead th {\n",
       "        text-align: right;\n",
       "    }\n",
       "</style>\n",
       "<table border=\"1\" class=\"dataframe\">\n",
       "  <thead>\n",
       "    <tr style=\"text-align: right;\">\n",
       "      <th></th>\n",
       "      <th>id</th>\n",
       "      <th>loanAmnt</th>\n",
       "      <th>term</th>\n",
       "      <th>interestRate</th>\n",
       "      <th>installment</th>\n",
       "      <th>grade</th>\n",
       "      <th>subGrade</th>\n",
       "      <th>employmentTitle</th>\n",
       "      <th>employmentLength</th>\n",
       "      <th>homeOwnership</th>\n",
       "      <th>annualIncome</th>\n",
       "      <th>verificationStatus</th>\n",
       "      <th>issueDate</th>\n",
       "      <th>isDefault</th>\n",
       "      <th>purpose</th>\n",
       "      <th>postCode</th>\n",
       "      <th>regionCode</th>\n",
       "      <th>dti</th>\n",
       "      <th>delinquency_2years</th>\n",
       "      <th>ficoRangeLow</th>\n",
       "      <th>ficoRangeHigh</th>\n",
       "      <th>openAcc</th>\n",
       "      <th>pubRec</th>\n",
       "      <th>pubRecBankruptcies</th>\n",
       "      <th>revolBal</th>\n",
       "      <th>revolUtil</th>\n",
       "      <th>totalAcc</th>\n",
       "      <th>initialListStatus</th>\n",
       "      <th>applicationType</th>\n",
       "      <th>earliesCreditLine</th>\n",
       "      <th>title</th>\n",
       "      <th>n0</th>\n",
       "      <th>n1</th>\n",
       "      <th>n2</th>\n",
       "      <th>n4</th>\n",
       "      <th>n5</th>\n",
       "      <th>n6</th>\n",
       "      <th>n7</th>\n",
       "      <th>n8</th>\n",
       "      <th>n9</th>\n",
       "      <th>n10</th>\n",
       "      <th>n11</th>\n",
       "      <th>n12</th>\n",
       "      <th>n13</th>\n",
       "      <th>n14</th>\n",
       "      <th>issueDateDT</th>\n",
       "      <th>creditY</th>\n",
       "    </tr>\n",
       "  </thead>\n",
       "  <tbody>\n",
       "    <tr>\n",
       "      <th>0</th>\n",
       "      <td>0</td>\n",
       "      <td>35000</td>\n",
       "      <td>5</td>\n",
       "      <td>19.515625</td>\n",
       "      <td>918.0000</td>\n",
       "      <td>E</td>\n",
       "      <td>E2</td>\n",
       "      <td>320</td>\n",
       "      <td>2</td>\n",
       "      <td>2</td>\n",
       "      <td>110000.0</td>\n",
       "      <td>2</td>\n",
       "      <td>7.0</td>\n",
       "      <td>1</td>\n",
       "      <td>1</td>\n",
       "      <td>137</td>\n",
       "      <td>32</td>\n",
       "      <td>17.046875</td>\n",
       "      <td>0</td>\n",
       "      <td>730</td>\n",
       "      <td>734</td>\n",
       "      <td>7</td>\n",
       "      <td>0</td>\n",
       "      <td>0</td>\n",
       "      <td>24178</td>\n",
       "      <td>48.90625</td>\n",
       "      <td>27</td>\n",
       "      <td>0</td>\n",
       "      <td>0</td>\n",
       "      <td>2001-08-01</td>\n",
       "      <td>1</td>\n",
       "      <td>0</td>\n",
       "      <td>2</td>\n",
       "      <td>2</td>\n",
       "      <td>4</td>\n",
       "      <td>9</td>\n",
       "      <td>8</td>\n",
       "      <td>4</td>\n",
       "      <td>12</td>\n",
       "      <td>2</td>\n",
       "      <td>7</td>\n",
       "      <td>0</td>\n",
       "      <td>0</td>\n",
       "      <td>0</td>\n",
       "      <td>2</td>\n",
       "      <td>86.0</td>\n",
       "      <td>12</td>\n",
       "    </tr>\n",
       "    <tr>\n",
       "      <th>1</th>\n",
       "      <td>1</td>\n",
       "      <td>18000</td>\n",
       "      <td>5</td>\n",
       "      <td>18.484375</td>\n",
       "      <td>462.0000</td>\n",
       "      <td>D</td>\n",
       "      <td>D2</td>\n",
       "      <td>219843</td>\n",
       "      <td>5</td>\n",
       "      <td>0</td>\n",
       "      <td>46000.0</td>\n",
       "      <td>2</td>\n",
       "      <td>5.0</td>\n",
       "      <td>0</td>\n",
       "      <td>0</td>\n",
       "      <td>156</td>\n",
       "      <td>18</td>\n",
       "      <td>27.828125</td>\n",
       "      <td>0</td>\n",
       "      <td>700</td>\n",
       "      <td>704</td>\n",
       "      <td>13</td>\n",
       "      <td>0</td>\n",
       "      <td>0</td>\n",
       "      <td>15096</td>\n",
       "      <td>38.90625</td>\n",
       "      <td>18</td>\n",
       "      <td>1</td>\n",
       "      <td>0</td>\n",
       "      <td>2002-05-01</td>\n",
       "      <td>1723</td>\n",
       "      <td>&lt;NA&gt;</td>\n",
       "      <td>&lt;NA&gt;</td>\n",
       "      <td>&lt;NA&gt;</td>\n",
       "      <td>10</td>\n",
       "      <td>&lt;NA&gt;</td>\n",
       "      <td>&lt;NA&gt;</td>\n",
       "      <td>&lt;NA&gt;</td>\n",
       "      <td>&lt;NA&gt;</td>\n",
       "      <td>&lt;NA&gt;</td>\n",
       "      <td>13</td>\n",
       "      <td>&lt;NA&gt;</td>\n",
       "      <td>&lt;NA&gt;</td>\n",
       "      <td>&lt;NA&gt;</td>\n",
       "      <td>&lt;NA&gt;</td>\n",
       "      <td>62.0</td>\n",
       "      <td>10</td>\n",
       "    </tr>\n",
       "    <tr>\n",
       "      <th>2</th>\n",
       "      <td>2</td>\n",
       "      <td>12000</td>\n",
       "      <td>5</td>\n",
       "      <td>16.984375</td>\n",
       "      <td>298.2500</td>\n",
       "      <td>D</td>\n",
       "      <td>D3</td>\n",
       "      <td>31698</td>\n",
       "      <td>8</td>\n",
       "      <td>0</td>\n",
       "      <td>74000.0</td>\n",
       "      <td>2</td>\n",
       "      <td>8.0</td>\n",
       "      <td>0</td>\n",
       "      <td>0</td>\n",
       "      <td>337</td>\n",
       "      <td>14</td>\n",
       "      <td>22.765625</td>\n",
       "      <td>0</td>\n",
       "      <td>675</td>\n",
       "      <td>679</td>\n",
       "      <td>11</td>\n",
       "      <td>0</td>\n",
       "      <td>0</td>\n",
       "      <td>4606</td>\n",
       "      <td>51.81250</td>\n",
       "      <td>27</td>\n",
       "      <td>0</td>\n",
       "      <td>0</td>\n",
       "      <td>2006-05-01</td>\n",
       "      <td>0</td>\n",
       "      <td>0</td>\n",
       "      <td>0</td>\n",
       "      <td>3</td>\n",
       "      <td>0</td>\n",
       "      <td>0</td>\n",
       "      <td>21</td>\n",
       "      <td>4</td>\n",
       "      <td>5</td>\n",
       "      <td>3</td>\n",
       "      <td>11</td>\n",
       "      <td>0</td>\n",
       "      <td>0</td>\n",
       "      <td>0</td>\n",
       "      <td>4</td>\n",
       "      <td>101.0</td>\n",
       "      <td>9</td>\n",
       "    </tr>\n",
       "    <tr>\n",
       "      <th>3</th>\n",
       "      <td>3</td>\n",
       "      <td>11000</td>\n",
       "      <td>3</td>\n",
       "      <td>7.261719</td>\n",
       "      <td>341.0000</td>\n",
       "      <td>A</td>\n",
       "      <td>A4</td>\n",
       "      <td>46854</td>\n",
       "      <td>10</td>\n",
       "      <td>1</td>\n",
       "      <td>118000.0</td>\n",
       "      <td>1</td>\n",
       "      <td>8.0</td>\n",
       "      <td>0</td>\n",
       "      <td>4</td>\n",
       "      <td>148</td>\n",
       "      <td>11</td>\n",
       "      <td>17.203125</td>\n",
       "      <td>0</td>\n",
       "      <td>685</td>\n",
       "      <td>689</td>\n",
       "      <td>9</td>\n",
       "      <td>0</td>\n",
       "      <td>0</td>\n",
       "      <td>9948</td>\n",
       "      <td>52.59375</td>\n",
       "      <td>28</td>\n",
       "      <td>1</td>\n",
       "      <td>0</td>\n",
       "      <td>1999-05-01</td>\n",
       "      <td>4</td>\n",
       "      <td>6</td>\n",
       "      <td>4</td>\n",
       "      <td>6</td>\n",
       "      <td>4</td>\n",
       "      <td>16</td>\n",
       "      <td>4</td>\n",
       "      <td>7</td>\n",
       "      <td>21</td>\n",
       "      <td>6</td>\n",
       "      <td>9</td>\n",
       "      <td>0</td>\n",
       "      <td>0</td>\n",
       "      <td>0</td>\n",
       "      <td>1</td>\n",
       "      <td>99.0</td>\n",
       "      <td>16</td>\n",
       "    </tr>\n",
       "    <tr>\n",
       "      <th>4</th>\n",
       "      <td>4</td>\n",
       "      <td>3000</td>\n",
       "      <td>3</td>\n",
       "      <td>12.992188</td>\n",
       "      <td>101.0625</td>\n",
       "      <td>C</td>\n",
       "      <td>C2</td>\n",
       "      <td>54</td>\n",
       "      <td>&lt;NA&gt;</td>\n",
       "      <td>1</td>\n",
       "      <td>29000.0</td>\n",
       "      <td>2</td>\n",
       "      <td>9.0</td>\n",
       "      <td>0</td>\n",
       "      <td>10</td>\n",
       "      <td>301</td>\n",
       "      <td>21</td>\n",
       "      <td>32.156250</td>\n",
       "      <td>0</td>\n",
       "      <td>690</td>\n",
       "      <td>694</td>\n",
       "      <td>12</td>\n",
       "      <td>0</td>\n",
       "      <td>0</td>\n",
       "      <td>2942</td>\n",
       "      <td>32.00000</td>\n",
       "      <td>27</td>\n",
       "      <td>0</td>\n",
       "      <td>0</td>\n",
       "      <td>1977-08-01</td>\n",
       "      <td>11</td>\n",
       "      <td>1</td>\n",
       "      <td>2</td>\n",
       "      <td>7</td>\n",
       "      <td>2</td>\n",
       "      <td>4</td>\n",
       "      <td>9</td>\n",
       "      <td>10</td>\n",
       "      <td>15</td>\n",
       "      <td>7</td>\n",
       "      <td>12</td>\n",
       "      <td>0</td>\n",
       "      <td>0</td>\n",
       "      <td>0</td>\n",
       "      <td>4</td>\n",
       "      <td>106.0</td>\n",
       "      <td>38</td>\n",
       "    </tr>\n",
       "  </tbody>\n",
       "</table>\n",
       "</div>"
      ],
      "text/plain": [
       "   id  loanAmnt  term  interestRate  installment grade subGrade  \\\n",
       "0   0     35000     5     19.515625     918.0000     E       E2   \n",
       "1   1     18000     5     18.484375     462.0000     D       D2   \n",
       "2   2     12000     5     16.984375     298.2500     D       D3   \n",
       "3   3     11000     3      7.261719     341.0000     A       A4   \n",
       "4   4      3000     3     12.992188     101.0625     C       C2   \n",
       "\n",
       "   employmentTitle  employmentLength  homeOwnership  annualIncome  \\\n",
       "0              320                 2              2      110000.0   \n",
       "1           219843                 5              0       46000.0   \n",
       "2            31698                 8              0       74000.0   \n",
       "3            46854                10              1      118000.0   \n",
       "4               54              <NA>              1       29000.0   \n",
       "\n",
       "   verificationStatus  issueDate  isDefault  purpose  postCode  regionCode  \\\n",
       "0                   2        7.0          1        1       137          32   \n",
       "1                   2        5.0          0        0       156          18   \n",
       "2                   2        8.0          0        0       337          14   \n",
       "3                   1        8.0          0        4       148          11   \n",
       "4                   2        9.0          0       10       301          21   \n",
       "\n",
       "         dti  delinquency_2years  ficoRangeLow  ficoRangeHigh  openAcc  \\\n",
       "0  17.046875                   0           730            734        7   \n",
       "1  27.828125                   0           700            704       13   \n",
       "2  22.765625                   0           675            679       11   \n",
       "3  17.203125                   0           685            689        9   \n",
       "4  32.156250                   0           690            694       12   \n",
       "\n",
       "   pubRec  pubRecBankruptcies  revolBal  revolUtil  totalAcc  \\\n",
       "0       0                   0     24178   48.90625        27   \n",
       "1       0                   0     15096   38.90625        18   \n",
       "2       0                   0      4606   51.81250        27   \n",
       "3       0                   0      9948   52.59375        28   \n",
       "4       0                   0      2942   32.00000        27   \n",
       "\n",
       "   initialListStatus  applicationType earliesCreditLine  title    n0    n1  \\\n",
       "0                  0                0        2001-08-01      1     0     2   \n",
       "1                  1                0        2002-05-01   1723  <NA>  <NA>   \n",
       "2                  0                0        2006-05-01      0     0     0   \n",
       "3                  1                0        1999-05-01      4     6     4   \n",
       "4                  0                0        1977-08-01     11     1     2   \n",
       "\n",
       "     n2  n4    n5    n6    n7    n8    n9  n10   n11   n12   n13   n14  \\\n",
       "0     2   4     9     8     4    12     2    7     0     0     0     2   \n",
       "1  <NA>  10  <NA>  <NA>  <NA>  <NA>  <NA>   13  <NA>  <NA>  <NA>  <NA>   \n",
       "2     3   0     0    21     4     5     3   11     0     0     0     4   \n",
       "3     6   4    16     4     7    21     6    9     0     0     0     1   \n",
       "4     7   2     4     9    10    15     7   12     0     0     0     4   \n",
       "\n",
       "   issueDateDT  creditY  \n",
       "0         86.0       12  \n",
       "1         62.0       10  \n",
       "2        101.0        9  \n",
       "3         99.0       16  \n",
       "4        106.0       38  "
      ]
     },
     "execution_count": 31,
     "metadata": {},
     "output_type": "execute_result"
    }
   ],
   "source": [
    "df.head()"
   ]
  },
  {
   "cell_type": "markdown",
   "metadata": {},
   "source": [
    "### ?? categorical:  grade"
   ]
  },
  {
   "cell_type": "markdown",
   "metadata": {},
   "source": [
    "### 这里有序不知道要不要加进去"
   ]
  },
  {
   "cell_type": "markdown",
   "metadata": {},
   "source": [
    "不 encode lgb读不了 这里还没跑"
   ]
  },
  {
   "cell_type": "markdown",
   "metadata": {},
   "source": [
    "## be careful if using NN👇"
   ]
  },
  {
   "cell_type": "code",
   "execution_count": 32,
   "metadata": {
    "ExecuteTime": {
     "end_time": "2020-09-21T01:23:27.472696Z",
     "start_time": "2020-09-21T01:23:24.785275Z"
    }
   },
   "outputs": [],
   "source": [
    "for i in ['grade', 'subGrade','term', 'purpose', 'regionCode', 'postCode', 'title', 'employmentTitle']:\n",
    "    df[i] = df[i].astype('category')"
   ]
  },
  {
   "cell_type": "code",
   "execution_count": 33,
   "metadata": {
    "ExecuteTime": {
     "end_time": "2020-09-21T01:23:27.487870Z",
     "start_time": "2020-09-21T01:23:27.472696Z"
    }
   },
   "outputs": [
    {
     "data": {
      "text/plain": [
       "0    E\n",
       "1    D\n",
       "2    D\n",
       "3    A\n",
       "4    C\n",
       "Name: grade, dtype: category\n",
       "Categories (5, object): ['E' < 'D' < 'C' < 'B' < 'A']"
      ]
     },
     "execution_count": 33,
     "metadata": {},
     "output_type": "execute_result"
    }
   ],
   "source": [
    "df['grade'].cat.set_categories(['A','B','C','D','E'][::-1],ordered=True).head()"
   ]
  },
  {
   "cell_type": "code",
   "execution_count": null,
   "metadata": {},
   "outputs": [],
   "source": []
  },
  {
   "cell_type": "code",
   "execution_count": null,
   "metadata": {},
   "outputs": [],
   "source": []
  },
  {
   "cell_type": "code",
   "execution_count": 34,
   "metadata": {
    "ExecuteTime": {
     "end_time": "2020-09-21T01:23:27.626623Z",
     "start_time": "2020-09-21T01:23:27.488880Z"
    }
   },
   "outputs": [
    {
     "name": "stdout",
     "output_type": "stream",
     "text": [
      "<class 'pandas.core.frame.DataFrame'>\n",
      "Int64Index: 1000000 entries, 0 to 199999\n",
      "Data columns (total 47 columns):\n",
      " #   Column              Non-Null Count    Dtype         \n",
      "---  ------              --------------    -----         \n",
      " 0   id                  1000000 non-null  Int32         \n",
      " 1   loanAmnt            1000000 non-null  Int32         \n",
      " 2   term                1000000 non-null  category      \n",
      " 3   interestRate        1000000 non-null  float16       \n",
      " 4   installment         1000000 non-null  float16       \n",
      " 5   grade               1000000 non-null  category      \n",
      " 6   subGrade            1000000 non-null  category      \n",
      " 7   employmentTitle     999999 non-null   category      \n",
      " 8   employmentLength    941459 non-null   Int8          \n",
      " 9   homeOwnership       1000000 non-null  Int8          \n",
      " 10  annualIncome        1000000 non-null  float32       \n",
      " 11  verificationStatus  1000000 non-null  Int8          \n",
      " 12  issueDate           1000000 non-null  float16       \n",
      " 13  isDefault           1000000 non-null  Int8          \n",
      " 14  purpose             1000000 non-null  category      \n",
      " 15  postCode            999999 non-null   category      \n",
      " 16  regionCode          1000000 non-null  category      \n",
      " 17  dti                 999700 non-null   float16       \n",
      " 18  delinquency_2years  1000000 non-null  Int8          \n",
      " 19  ficoRangeLow        1000000 non-null  Int16         \n",
      " 20  ficoRangeHigh       1000000 non-null  Int16         \n",
      " 21  openAcc             1000000 non-null  Int8          \n",
      " 22  pubRec              1000000 non-null  Int8          \n",
      " 23  pubRecBankruptcies  999479 non-null   Int8          \n",
      " 24  revolBal            1000000 non-null  Int32         \n",
      " 25  revolUtil           999342 non-null   float16       \n",
      " 26  totalAcc            1000000 non-null  Int16         \n",
      " 27  initialListStatus   1000000 non-null  Int8          \n",
      " 28  applicationType     1000000 non-null  Int8          \n",
      " 29  earliesCreditLine   1000000 non-null  datetime64[ns]\n",
      " 30  title               999999 non-null   category      \n",
      " 31  n0                  949619 non-null   Int8          \n",
      " 32  n1                  949619 non-null   Int8          \n",
      " 33  n2                  949619 non-null   Int8          \n",
      " 34  n4                  958367 non-null   Int8          \n",
      " 35  n5                  949619 non-null   Int8          \n",
      " 36  n6                  949619 non-null   Int16         \n",
      " 37  n7                  949619 non-null   Int8          \n",
      " 38  n8                  949618 non-null   Int16         \n",
      " 39  n9                  949619 non-null   Int8          \n",
      " 40  n10                 958367 non-null   Int8          \n",
      " 41  n11                 912673 non-null   Int8          \n",
      " 42  n12                 949619 non-null   Int8          \n",
      " 43  n13                 949619 non-null   Int8          \n",
      " 44  n14                 949619 non-null   Int8          \n",
      " 45  issueDateDT         1000000 non-null  float16       \n",
      " 46  creditY             1000000 non-null  Int8          \n",
      "dtypes: Int16(5), Int32(3), Int8(23), category(8), datetime64[ns](1), float16(6), float32(1)\n",
      "memory usage: 131.2 MB\n"
     ]
    }
   ],
   "source": [
    "df.info()"
   ]
  },
  {
   "cell_type": "code",
   "execution_count": null,
   "metadata": {},
   "outputs": [],
   "source": []
  },
  {
   "cell_type": "code",
   "execution_count": null,
   "metadata": {},
   "outputs": [],
   "source": []
  },
  {
   "cell_type": "code",
   "execution_count": null,
   "metadata": {},
   "outputs": [],
   "source": []
  },
  {
   "cell_type": "markdown",
   "metadata": {
    "ExecuteTime": {
     "end_time": "2020-09-17T13:52:01.265882Z",
     "start_time": "2020-09-17T13:52:01.251869Z"
    }
   },
   "source": [
    "#### 这里用除是不是更好？"
   ]
  },
  {
   "cell_type": "code",
   "execution_count": 35,
   "metadata": {
    "ExecuteTime": {
     "end_time": "2020-09-21T01:23:27.649493Z",
     "start_time": "2020-09-21T01:23:27.627630Z"
    }
   },
   "outputs": [],
   "source": [
    "df['n10']=df['openAcc']-df['n10']\n",
    "df['employmentLength'] = df['employmentLength'].astype('Int8')\n",
    "df['n10'] = df['n10'].astype('Int8')  # 减去空值, 会有很多<NA>?? check <NA>相减 没这个说明\n",
    "# df['n10'].value_counts() # 0:922893 1:28767 2:4849... 16nunique"
   ]
  },
  {
   "cell_type": "code",
   "execution_count": null,
   "metadata": {
    "ExecuteTime": {
     "end_time": "2020-09-20T07:41:57.978774Z",
     "start_time": "2020-09-20T07:41:57.964763Z"
    }
   },
   "outputs": [],
   "source": []
  },
  {
   "cell_type": "code",
   "execution_count": 36,
   "metadata": {
    "ExecuteTime": {
     "end_time": "2020-09-21T01:23:27.669581Z",
     "start_time": "2020-09-21T01:23:27.649493Z"
    }
   },
   "outputs": [],
   "source": [
    "df['n9']=df['n2']-df['n9']\n",
    "# df['n9']\n",
    "df['n9'] = df['n9'].astype('Int8')\n",
    "# df['n9'].value_counts() # 0:903891, -1:19141, 1:8860, 2:5791... 38nunique"
   ]
  },
  {
   "cell_type": "code",
   "execution_count": null,
   "metadata": {},
   "outputs": [],
   "source": []
  },
  {
   "cell_type": "code",
   "execution_count": null,
   "metadata": {
    "ExecuteTime": {
     "end_time": "2020-09-20T07:23:30.846112Z",
     "start_time": "2020-09-20T07:23:16.669809Z"
    }
   },
   "outputs": [],
   "source": []
  },
  {
   "cell_type": "code",
   "execution_count": null,
   "metadata": {
    "ExecuteTime": {
     "end_time": "2020-09-20T07:23:34.368019Z",
     "start_time": "2020-09-20T07:23:30.847113Z"
    }
   },
   "outputs": [],
   "source": []
  },
  {
   "cell_type": "code",
   "execution_count": null,
   "metadata": {},
   "outputs": [],
   "source": []
  },
  {
   "cell_type": "markdown",
   "metadata": {},
   "source": [
    "## ?? 异常值"
   ]
  },
  {
   "cell_type": "code",
   "execution_count": null,
   "metadata": {},
   "outputs": [],
   "source": []
  },
  {
   "cell_type": "markdown",
   "metadata": {},
   "source": [
    "## EDA"
   ]
  },
  {
   "cell_type": "code",
   "execution_count": 37,
   "metadata": {
    "ExecuteTime": {
     "end_time": "2020-09-21T01:23:27.689546Z",
     "start_time": "2020-09-21T01:23:27.669581Z"
    }
   },
   "outputs": [],
   "source": [
    "# group_distric = df.groupby(['postCode','regionCode'])"
   ]
  },
  {
   "cell_type": "code",
   "execution_count": null,
   "metadata": {},
   "outputs": [],
   "source": []
  },
  {
   "cell_type": "markdown",
   "metadata": {},
   "source": [
    "## FE"
   ]
  },
  {
   "cell_type": "markdown",
   "metadata": {},
   "source": [
    "### Mean Target Enc"
   ]
  },
  {
   "cell_type": "code",
   "execution_count": null,
   "metadata": {},
   "outputs": [],
   "source": []
  },
  {
   "cell_type": "code",
   "execution_count": 38,
   "metadata": {
    "ExecuteTime": {
     "end_time": "2020-09-21T01:23:27.735239Z",
     "start_time": "2020-09-21T01:23:27.689810Z"
    }
   },
   "outputs": [],
   "source": [
    "for col in ['subGrade']: \n",
    "    temp_dict = df.groupby([col])['isDefault'].agg(['mean']).reset_index().rename(columns={'mean': col + '_target_mean'})\n",
    "    temp_dict.index = temp_dict[col].values\n",
    "    temp_dict = temp_dict[col + '_target_mean'].to_dict()\n",
    "\n",
    "    df[col + '_target_mean'] = df[col].map(temp_dict)\n",
    "    df[col + '_target_mean'] = df[col].map(temp_dict)"
   ]
  },
  {
   "cell_type": "code",
   "execution_count": null,
   "metadata": {},
   "outputs": [],
   "source": []
  },
  {
   "cell_type": "code",
   "execution_count": null,
   "metadata": {},
   "outputs": [],
   "source": []
  },
  {
   "cell_type": "markdown",
   "metadata": {},
   "source": [
    "### loanAmnt log"
   ]
  },
  {
   "cell_type": "code",
   "execution_count": 39,
   "metadata": {
    "ExecuteTime": {
     "end_time": "2020-09-21T01:23:27.759511Z",
     "start_time": "2020-09-21T01:23:27.736240Z"
    }
   },
   "outputs": [],
   "source": [
    "# df['loanAmnt_bin1'] = np.floor_divide(df['loanAmnt'], 1000)"
   ]
  },
  {
   "cell_type": "code",
   "execution_count": 40,
   "metadata": {
    "ExecuteTime": {
     "end_time": "2020-09-21T01:23:27.789506Z",
     "start_time": "2020-09-21T01:23:27.759511Z"
    }
   },
   "outputs": [],
   "source": [
    "df['loanAmnt_bin2'] = np.floor(np.log10(df['loanAmnt']))"
   ]
  },
  {
   "cell_type": "code",
   "execution_count": 41,
   "metadata": {
    "ExecuteTime": {
     "end_time": "2020-09-21T01:23:27.809581Z",
     "start_time": "2020-09-21T01:23:27.789506Z"
    }
   },
   "outputs": [],
   "source": [
    "df.drop(['loanAmnt'],axis = 1, inplace=True)"
   ]
  },
  {
   "cell_type": "code",
   "execution_count": 42,
   "metadata": {
    "ExecuteTime": {
     "end_time": "2020-09-21T01:23:27.841949Z",
     "start_time": "2020-09-21T01:23:27.810713Z"
    }
   },
   "outputs": [
    {
     "data": {
      "text/html": [
       "<div>\n",
       "<style scoped>\n",
       "    .dataframe tbody tr th:only-of-type {\n",
       "        vertical-align: middle;\n",
       "    }\n",
       "\n",
       "    .dataframe tbody tr th {\n",
       "        vertical-align: top;\n",
       "    }\n",
       "\n",
       "    .dataframe thead th {\n",
       "        text-align: right;\n",
       "    }\n",
       "</style>\n",
       "<table border=\"1\" class=\"dataframe\">\n",
       "  <thead>\n",
       "    <tr style=\"text-align: right;\">\n",
       "      <th></th>\n",
       "      <th>id</th>\n",
       "      <th>term</th>\n",
       "      <th>interestRate</th>\n",
       "      <th>installment</th>\n",
       "      <th>grade</th>\n",
       "      <th>subGrade</th>\n",
       "      <th>employmentTitle</th>\n",
       "      <th>employmentLength</th>\n",
       "      <th>homeOwnership</th>\n",
       "      <th>annualIncome</th>\n",
       "      <th>verificationStatus</th>\n",
       "      <th>issueDate</th>\n",
       "      <th>isDefault</th>\n",
       "      <th>purpose</th>\n",
       "      <th>postCode</th>\n",
       "      <th>regionCode</th>\n",
       "      <th>dti</th>\n",
       "      <th>delinquency_2years</th>\n",
       "      <th>ficoRangeLow</th>\n",
       "      <th>ficoRangeHigh</th>\n",
       "      <th>openAcc</th>\n",
       "      <th>pubRec</th>\n",
       "      <th>pubRecBankruptcies</th>\n",
       "      <th>revolBal</th>\n",
       "      <th>revolUtil</th>\n",
       "      <th>totalAcc</th>\n",
       "      <th>initialListStatus</th>\n",
       "      <th>applicationType</th>\n",
       "      <th>earliesCreditLine</th>\n",
       "      <th>title</th>\n",
       "      <th>n0</th>\n",
       "      <th>n1</th>\n",
       "      <th>n2</th>\n",
       "      <th>n4</th>\n",
       "      <th>n5</th>\n",
       "      <th>n6</th>\n",
       "      <th>n7</th>\n",
       "      <th>n8</th>\n",
       "      <th>n9</th>\n",
       "      <th>n10</th>\n",
       "      <th>n11</th>\n",
       "      <th>n12</th>\n",
       "      <th>n13</th>\n",
       "      <th>n14</th>\n",
       "      <th>issueDateDT</th>\n",
       "      <th>creditY</th>\n",
       "      <th>subGrade_target_mean</th>\n",
       "      <th>loanAmnt_bin2</th>\n",
       "    </tr>\n",
       "  </thead>\n",
       "  <tbody>\n",
       "    <tr>\n",
       "      <th>0</th>\n",
       "      <td>0</td>\n",
       "      <td>5</td>\n",
       "      <td>19.515625</td>\n",
       "      <td>918.0000</td>\n",
       "      <td>E</td>\n",
       "      <td>E2</td>\n",
       "      <td>320</td>\n",
       "      <td>2</td>\n",
       "      <td>2</td>\n",
       "      <td>110000.0</td>\n",
       "      <td>2</td>\n",
       "      <td>7.0</td>\n",
       "      <td>1</td>\n",
       "      <td>1</td>\n",
       "      <td>137</td>\n",
       "      <td>32</td>\n",
       "      <td>17.046875</td>\n",
       "      <td>0</td>\n",
       "      <td>730</td>\n",
       "      <td>734</td>\n",
       "      <td>7</td>\n",
       "      <td>0</td>\n",
       "      <td>0</td>\n",
       "      <td>24178</td>\n",
       "      <td>48.90625</td>\n",
       "      <td>27</td>\n",
       "      <td>0</td>\n",
       "      <td>0</td>\n",
       "      <td>2001-08-01</td>\n",
       "      <td>1</td>\n",
       "      <td>0</td>\n",
       "      <td>2</td>\n",
       "      <td>2</td>\n",
       "      <td>4</td>\n",
       "      <td>9</td>\n",
       "      <td>8</td>\n",
       "      <td>4</td>\n",
       "      <td>12</td>\n",
       "      <td>0</td>\n",
       "      <td>0</td>\n",
       "      <td>0</td>\n",
       "      <td>0</td>\n",
       "      <td>0</td>\n",
       "      <td>2</td>\n",
       "      <td>86.0</td>\n",
       "      <td>12</td>\n",
       "      <td>0.102318</td>\n",
       "      <td>4.0</td>\n",
       "    </tr>\n",
       "    <tr>\n",
       "      <th>1</th>\n",
       "      <td>1</td>\n",
       "      <td>5</td>\n",
       "      <td>18.484375</td>\n",
       "      <td>462.0000</td>\n",
       "      <td>D</td>\n",
       "      <td>D2</td>\n",
       "      <td>219843</td>\n",
       "      <td>5</td>\n",
       "      <td>0</td>\n",
       "      <td>46000.0</td>\n",
       "      <td>2</td>\n",
       "      <td>5.0</td>\n",
       "      <td>0</td>\n",
       "      <td>0</td>\n",
       "      <td>156</td>\n",
       "      <td>18</td>\n",
       "      <td>27.828125</td>\n",
       "      <td>0</td>\n",
       "      <td>700</td>\n",
       "      <td>704</td>\n",
       "      <td>13</td>\n",
       "      <td>0</td>\n",
       "      <td>0</td>\n",
       "      <td>15096</td>\n",
       "      <td>38.90625</td>\n",
       "      <td>18</td>\n",
       "      <td>1</td>\n",
       "      <td>0</td>\n",
       "      <td>2002-05-01</td>\n",
       "      <td>1723</td>\n",
       "      <td>&lt;NA&gt;</td>\n",
       "      <td>&lt;NA&gt;</td>\n",
       "      <td>&lt;NA&gt;</td>\n",
       "      <td>10</td>\n",
       "      <td>&lt;NA&gt;</td>\n",
       "      <td>&lt;NA&gt;</td>\n",
       "      <td>&lt;NA&gt;</td>\n",
       "      <td>&lt;NA&gt;</td>\n",
       "      <td>&lt;NA&gt;</td>\n",
       "      <td>0</td>\n",
       "      <td>&lt;NA&gt;</td>\n",
       "      <td>&lt;NA&gt;</td>\n",
       "      <td>&lt;NA&gt;</td>\n",
       "      <td>&lt;NA&gt;</td>\n",
       "      <td>62.0</td>\n",
       "      <td>10</td>\n",
       "      <td>0.035528</td>\n",
       "      <td>4.0</td>\n",
       "    </tr>\n",
       "    <tr>\n",
       "      <th>2</th>\n",
       "      <td>2</td>\n",
       "      <td>5</td>\n",
       "      <td>16.984375</td>\n",
       "      <td>298.2500</td>\n",
       "      <td>D</td>\n",
       "      <td>D3</td>\n",
       "      <td>31698</td>\n",
       "      <td>8</td>\n",
       "      <td>0</td>\n",
       "      <td>74000.0</td>\n",
       "      <td>2</td>\n",
       "      <td>8.0</td>\n",
       "      <td>0</td>\n",
       "      <td>0</td>\n",
       "      <td>337</td>\n",
       "      <td>14</td>\n",
       "      <td>22.765625</td>\n",
       "      <td>0</td>\n",
       "      <td>675</td>\n",
       "      <td>679</td>\n",
       "      <td>11</td>\n",
       "      <td>0</td>\n",
       "      <td>0</td>\n",
       "      <td>4606</td>\n",
       "      <td>51.81250</td>\n",
       "      <td>27</td>\n",
       "      <td>0</td>\n",
       "      <td>0</td>\n",
       "      <td>2006-05-01</td>\n",
       "      <td>0</td>\n",
       "      <td>0</td>\n",
       "      <td>0</td>\n",
       "      <td>3</td>\n",
       "      <td>0</td>\n",
       "      <td>0</td>\n",
       "      <td>21</td>\n",
       "      <td>4</td>\n",
       "      <td>5</td>\n",
       "      <td>0</td>\n",
       "      <td>0</td>\n",
       "      <td>0</td>\n",
       "      <td>0</td>\n",
       "      <td>0</td>\n",
       "      <td>4</td>\n",
       "      <td>101.0</td>\n",
       "      <td>9</td>\n",
       "      <td>0.044336</td>\n",
       "      <td>4.0</td>\n",
       "    </tr>\n",
       "    <tr>\n",
       "      <th>3</th>\n",
       "      <td>3</td>\n",
       "      <td>3</td>\n",
       "      <td>7.261719</td>\n",
       "      <td>341.0000</td>\n",
       "      <td>A</td>\n",
       "      <td>A4</td>\n",
       "      <td>46854</td>\n",
       "      <td>10</td>\n",
       "      <td>1</td>\n",
       "      <td>118000.0</td>\n",
       "      <td>1</td>\n",
       "      <td>8.0</td>\n",
       "      <td>0</td>\n",
       "      <td>4</td>\n",
       "      <td>148</td>\n",
       "      <td>11</td>\n",
       "      <td>17.203125</td>\n",
       "      <td>0</td>\n",
       "      <td>685</td>\n",
       "      <td>689</td>\n",
       "      <td>9</td>\n",
       "      <td>0</td>\n",
       "      <td>0</td>\n",
       "      <td>9948</td>\n",
       "      <td>52.59375</td>\n",
       "      <td>28</td>\n",
       "      <td>1</td>\n",
       "      <td>0</td>\n",
       "      <td>1999-05-01</td>\n",
       "      <td>4</td>\n",
       "      <td>6</td>\n",
       "      <td>4</td>\n",
       "      <td>6</td>\n",
       "      <td>4</td>\n",
       "      <td>16</td>\n",
       "      <td>4</td>\n",
       "      <td>7</td>\n",
       "      <td>21</td>\n",
       "      <td>0</td>\n",
       "      <td>0</td>\n",
       "      <td>0</td>\n",
       "      <td>0</td>\n",
       "      <td>0</td>\n",
       "      <td>1</td>\n",
       "      <td>99.0</td>\n",
       "      <td>16</td>\n",
       "      <td>-0.146687</td>\n",
       "      <td>4.0</td>\n",
       "    </tr>\n",
       "    <tr>\n",
       "      <th>4</th>\n",
       "      <td>4</td>\n",
       "      <td>3</td>\n",
       "      <td>12.992188</td>\n",
       "      <td>101.0625</td>\n",
       "      <td>C</td>\n",
       "      <td>C2</td>\n",
       "      <td>54</td>\n",
       "      <td>&lt;NA&gt;</td>\n",
       "      <td>1</td>\n",
       "      <td>29000.0</td>\n",
       "      <td>2</td>\n",
       "      <td>9.0</td>\n",
       "      <td>0</td>\n",
       "      <td>10</td>\n",
       "      <td>301</td>\n",
       "      <td>21</td>\n",
       "      <td>32.156250</td>\n",
       "      <td>0</td>\n",
       "      <td>690</td>\n",
       "      <td>694</td>\n",
       "      <td>12</td>\n",
       "      <td>0</td>\n",
       "      <td>0</td>\n",
       "      <td>2942</td>\n",
       "      <td>32.00000</td>\n",
       "      <td>27</td>\n",
       "      <td>0</td>\n",
       "      <td>0</td>\n",
       "      <td>1977-08-01</td>\n",
       "      <td>11</td>\n",
       "      <td>1</td>\n",
       "      <td>2</td>\n",
       "      <td>7</td>\n",
       "      <td>2</td>\n",
       "      <td>4</td>\n",
       "      <td>9</td>\n",
       "      <td>10</td>\n",
       "      <td>15</td>\n",
       "      <td>0</td>\n",
       "      <td>0</td>\n",
       "      <td>0</td>\n",
       "      <td>0</td>\n",
       "      <td>0</td>\n",
       "      <td>4</td>\n",
       "      <td>106.0</td>\n",
       "      <td>38</td>\n",
       "      <td>-0.034880</td>\n",
       "      <td>3.0</td>\n",
       "    </tr>\n",
       "  </tbody>\n",
       "</table>\n",
       "</div>"
      ],
      "text/plain": [
       "   id term  interestRate  installment grade subGrade employmentTitle  \\\n",
       "0   0    5     19.515625     918.0000     E       E2             320   \n",
       "1   1    5     18.484375     462.0000     D       D2          219843   \n",
       "2   2    5     16.984375     298.2500     D       D3           31698   \n",
       "3   3    3      7.261719     341.0000     A       A4           46854   \n",
       "4   4    3     12.992188     101.0625     C       C2              54   \n",
       "\n",
       "   employmentLength  homeOwnership  annualIncome  verificationStatus  \\\n",
       "0                 2              2      110000.0                   2   \n",
       "1                 5              0       46000.0                   2   \n",
       "2                 8              0       74000.0                   2   \n",
       "3                10              1      118000.0                   1   \n",
       "4              <NA>              1       29000.0                   2   \n",
       "\n",
       "   issueDate  isDefault purpose postCode regionCode        dti  \\\n",
       "0        7.0          1       1      137         32  17.046875   \n",
       "1        5.0          0       0      156         18  27.828125   \n",
       "2        8.0          0       0      337         14  22.765625   \n",
       "3        8.0          0       4      148         11  17.203125   \n",
       "4        9.0          0      10      301         21  32.156250   \n",
       "\n",
       "   delinquency_2years  ficoRangeLow  ficoRangeHigh  openAcc  pubRec  \\\n",
       "0                   0           730            734        7       0   \n",
       "1                   0           700            704       13       0   \n",
       "2                   0           675            679       11       0   \n",
       "3                   0           685            689        9       0   \n",
       "4                   0           690            694       12       0   \n",
       "\n",
       "   pubRecBankruptcies  revolBal  revolUtil  totalAcc  initialListStatus  \\\n",
       "0                   0     24178   48.90625        27                  0   \n",
       "1                   0     15096   38.90625        18                  1   \n",
       "2                   0      4606   51.81250        27                  0   \n",
       "3                   0      9948   52.59375        28                  1   \n",
       "4                   0      2942   32.00000        27                  0   \n",
       "\n",
       "   applicationType earliesCreditLine title    n0    n1    n2  n4    n5    n6  \\\n",
       "0                0        2001-08-01     1     0     2     2   4     9     8   \n",
       "1                0        2002-05-01  1723  <NA>  <NA>  <NA>  10  <NA>  <NA>   \n",
       "2                0        2006-05-01     0     0     0     3   0     0    21   \n",
       "3                0        1999-05-01     4     6     4     6   4    16     4   \n",
       "4                0        1977-08-01    11     1     2     7   2     4     9   \n",
       "\n",
       "     n7    n8    n9  n10   n11   n12   n13   n14  issueDateDT  creditY  \\\n",
       "0     4    12     0    0     0     0     0     2         86.0       12   \n",
       "1  <NA>  <NA>  <NA>    0  <NA>  <NA>  <NA>  <NA>         62.0       10   \n",
       "2     4     5     0    0     0     0     0     4        101.0        9   \n",
       "3     7    21     0    0     0     0     0     1         99.0       16   \n",
       "4    10    15     0    0     0     0     0     4        106.0       38   \n",
       "\n",
       "  subGrade_target_mean  loanAmnt_bin2  \n",
       "0             0.102318            4.0  \n",
       "1             0.035528            4.0  \n",
       "2             0.044336            4.0  \n",
       "3            -0.146687            4.0  \n",
       "4            -0.034880            3.0  "
      ]
     },
     "execution_count": 42,
     "metadata": {},
     "output_type": "execute_result"
    }
   ],
   "source": [
    "df.head()"
   ]
  },
  {
   "cell_type": "markdown",
   "metadata": {},
   "source": [
    "这里改的面目全非不知道是啥了已经"
   ]
  },
  {
   "cell_type": "code",
   "execution_count": 43,
   "metadata": {
    "ExecuteTime": {
     "end_time": "2020-09-21T01:23:27.857961Z",
     "start_time": "2020-09-21T01:23:27.842948Z"
    }
   },
   "outputs": [],
   "source": [
    "# # 其他衍生变量 mean 和 std\n",
    "# for item in ['n0','n1','n2','n4','n5','n6','n7','n8','n9','n10','n11','n12','n13','n14']:\n",
    "#     df['sg_m_' + item] = df.groupby(['subGrade'])[item].transform('mean')\n",
    "#     df['sg_std_' + item] = df.groupby(['subGrade'])[item].transform('std')"
   ]
  },
  {
   "cell_type": "code",
   "execution_count": null,
   "metadata": {},
   "outputs": [],
   "source": []
  },
  {
   "cell_type": "code",
   "execution_count": null,
   "metadata": {},
   "outputs": [],
   "source": []
  },
  {
   "cell_type": "code",
   "execution_count": null,
   "metadata": {},
   "outputs": [],
   "source": []
  },
  {
   "cell_type": "code",
   "execution_count": null,
   "metadata": {},
   "outputs": [],
   "source": []
  },
  {
   "cell_type": "code",
   "execution_count": null,
   "metadata": {},
   "outputs": [],
   "source": []
  },
  {
   "cell_type": "code",
   "execution_count": null,
   "metadata": {},
   "outputs": [],
   "source": []
  },
  {
   "cell_type": "code",
   "execution_count": 44,
   "metadata": {
    "ExecuteTime": {
     "end_time": "2020-09-21T01:23:27.873976Z",
     "start_time": "2020-09-21T01:23:27.858962Z"
    }
   },
   "outputs": [],
   "source": [
    "# import pandas_profiling\n",
    "# pfr = pandas_profiling.ProfileReport(train)\n",
    "# pfr.to_file(\"./traineg.html\")"
   ]
  },
  {
   "cell_type": "code",
   "execution_count": 45,
   "metadata": {
    "ExecuteTime": {
     "end_time": "2020-09-21T01:23:27.889234Z",
     "start_time": "2020-09-21T01:23:27.874977Z"
    }
   },
   "outputs": [],
   "source": [
    "# pfr = pandas_profiling.ProfileReport(test)\n",
    "# pfr.to_file(\"./testeg.html\")"
   ]
  },
  {
   "cell_type": "code",
   "execution_count": null,
   "metadata": {},
   "outputs": [],
   "source": []
  },
  {
   "cell_type": "code",
   "execution_count": null,
   "metadata": {},
   "outputs": [],
   "source": []
  },
  {
   "cell_type": "code",
   "execution_count": null,
   "metadata": {},
   "outputs": [],
   "source": []
  },
  {
   "cell_type": "code",
   "execution_count": 46,
   "metadata": {
    "ExecuteTime": {
     "end_time": "2020-09-21T01:23:27.904244Z",
     "start_time": "2020-09-21T01:23:27.890235Z"
    }
   },
   "outputs": [],
   "source": [
    "# train = train.fillna(-1)\n",
    "# test = test.fillna(-1)"
   ]
  },
  {
   "cell_type": "code",
   "execution_count": null,
   "metadata": {},
   "outputs": [],
   "source": []
  },
  {
   "cell_type": "code",
   "execution_count": null,
   "metadata": {},
   "outputs": [],
   "source": []
  },
  {
   "cell_type": "code",
   "execution_count": 47,
   "metadata": {
    "ExecuteTime": {
     "end_time": "2020-09-21T01:23:47.109220Z",
     "start_time": "2020-09-21T01:23:27.904244Z"
    }
   },
   "outputs": [],
   "source": [
    "df.to_csv('cf-df.csv')"
   ]
  },
  {
   "cell_type": "code",
   "execution_count": 48,
   "metadata": {
    "ExecuteTime": {
     "end_time": "2020-09-21T01:23:47.124415Z",
     "start_time": "2020-09-21T01:23:47.110390Z"
    }
   },
   "outputs": [],
   "source": [
    "# train = df.iloc[:800000]\n",
    "# test = df.iloc[800000:]\n",
    "# train.head()\n",
    "# train.info()\n",
    "# test.head()"
   ]
  },
  {
   "cell_type": "code",
   "execution_count": 49,
   "metadata": {
    "ExecuteTime": {
     "end_time": "2020-09-21T01:23:47.140420Z",
     "start_time": "2020-09-21T01:23:47.125406Z"
    }
   },
   "outputs": [],
   "source": [
    "# test.drop('isDefault',axis=1,inplace=True)\n",
    "# test.info()"
   ]
  },
  {
   "cell_type": "code",
   "execution_count": 50,
   "metadata": {
    "ExecuteTime": {
     "end_time": "2020-09-21T01:23:47.156434Z",
     "start_time": "2020-09-21T01:23:47.141422Z"
    }
   },
   "outputs": [],
   "source": [
    "# train.to_csv('cf-train.csv')\n",
    "# test.to_csv('cf-testa.csv')"
   ]
  },
  {
   "cell_type": "code",
   "execution_count": null,
   "metadata": {},
   "outputs": [],
   "source": []
  },
  {
   "cell_type": "code",
   "execution_count": 51,
   "metadata": {
    "ExecuteTime": {
     "end_time": "2020-09-21T01:23:47.174492Z",
     "start_time": "2020-09-21T01:23:47.157436Z"
    }
   },
   "outputs": [],
   "source": [
    "# cat_fea = ['grade', 'subGrade', 'employmentTitle', 'verificationStatus', \\\n",
    "#           'purpose', 'postCode', 'regionCode','applicationType','initialListStatus', 'title', 'policyCode']"
   ]
  },
  {
   "cell_type": "code",
   "execution_count": 52,
   "metadata": {
    "ExecuteTime": {
     "end_time": "2020-09-21T01:23:47.179512Z",
     "start_time": "2020-09-21T01:23:47.174492Z"
    }
   },
   "outputs": [],
   "source": [
    "# cols = ['id', 'loanAmnt', 'term', 'interestRate', 'installment', 'grade',\n",
    "#        'subGrade', 'employmentTitle', 'employmentLength', 'homeOwnership',\n",
    "#        'annualIncome', 'verificationStatus', 'issueDate', 'isDefault',\n",
    "#        'purpose', 'postCode', 'regionCode', 'dti', 'detlinquency_2years',\n",
    "#        'ficoRangeLow', 'ficoRangeHigh', 'openAcc', 'pubRec',\n",
    "#        'pubRecBankruptcies', 'revolBal', 'revolUtil', 'totalAcc',\n",
    "#        'initialListStatus', 'applicationType', 'earliesCreditLine', 'title',\n",
    "#        'policyCode', 'n0', 'n1', 'n2', 'n4', 'n5', 'n6', 'n7', 'n8', 'n9',\n",
    "#        'n10', 'n11', 'n12', 'n13', 'n14']"
   ]
  },
  {
   "cell_type": "code",
   "execution_count": 53,
   "metadata": {
    "ExecuteTime": {
     "end_time": "2020-09-21T01:23:47.199508Z",
     "start_time": "2020-09-21T01:23:47.179512Z"
    }
   },
   "outputs": [],
   "source": [
    "# num_fea = [a for a in cols if a not in cat_fea]\n",
    "# num_fea"
   ]
  },
  {
   "cell_type": "code",
   "execution_count": 54,
   "metadata": {
    "ExecuteTime": {
     "end_time": "2020-09-21T01:23:47.219515Z",
     "start_time": "2020-09-21T01:23:47.199508Z"
    }
   },
   "outputs": [],
   "source": [
    "# len(num_fea)"
   ]
  }
 ],
 "metadata": {
  "kernelspec": {
   "display_name": "kaggle",
   "language": "python",
   "name": "kaggle"
  },
  "language_info": {
   "codemirror_mode": {
    "name": "ipython",
    "version": 3
   },
   "file_extension": ".py",
   "mimetype": "text/x-python",
   "name": "python",
   "nbconvert_exporter": "python",
   "pygments_lexer": "ipython3",
   "version": "3.7.9"
  },
  "toc": {
   "base_numbering": 1,
   "nav_menu": {},
   "number_sections": true,
   "sideBar": true,
   "skip_h1_title": false,
   "title_cell": "Table of Contents",
   "title_sidebar": "Contents",
   "toc_cell": false,
   "toc_position": {},
   "toc_section_display": true,
   "toc_window_display": false
  },
  "varInspector": {
   "cols": {
    "lenName": 16,
    "lenType": 16,
    "lenVar": 40
   },
   "kernels_config": {
    "python": {
     "delete_cmd_postfix": "",
     "delete_cmd_prefix": "del ",
     "library": "var_list.py",
     "varRefreshCmd": "print(var_dic_list())"
    },
    "r": {
     "delete_cmd_postfix": ") ",
     "delete_cmd_prefix": "rm(",
     "library": "var_list.r",
     "varRefreshCmd": "cat(var_dic_list()) "
    }
   },
   "types_to_exclude": [
    "module",
    "function",
    "builtin_function_or_method",
    "instance",
    "_Feature"
   ],
   "window_display": false
  }
 },
 "nbformat": 4,
 "nbformat_minor": 4
}
