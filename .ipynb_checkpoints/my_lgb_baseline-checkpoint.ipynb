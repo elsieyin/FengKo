{
 "cells": [
  {
   "cell_type": "code",
   "execution_count": 1,
   "metadata": {},
   "outputs": [],
   "source": [
    "import pandas as pd\n",
    "import numpy as np\n",
    "import warnings\n",
    "import os\n",
    "import seaborn as sns\n",
    "import matplotlib.pyplot as plt\n",
    "\"\"\"\n",
    "sns 相关设置\n",
    "@return:\n",
    "\"\"\"\n",
    "# 声明使用 Seaborn 样式\n",
    "sns.set()\n",
    "# 有五种seaborn的绘图风格，它们分别是：darkgrid, whitegrid, dark, white, ticks。默认的主题是darkgrid。\n",
    "sns.set_style(\"whitegrid\")\n",
    "# 有四个预置的环境，按大小从小到大排列分别为：paper, notebook, talk, poster。其中，notebook是默认的。\n",
    "sns.set_context('talk')\n",
    "# 中文字体设置-黑体\n",
    "plt.rcParams['font.sans-serif'] = ['SimHei']\n",
    "# 解决保存图像是负号'-'显示为方块的问题\n",
    "plt.rcParams['axes.unicode_minus'] = False\n",
    "# 解决Seaborn中文显示问题并调整字体大小\n",
    "sns.set(font='SimHei')"
   ]
  },
  {
   "cell_type": "code",
   "execution_count": 2,
   "metadata": {},
   "outputs": [],
   "source": [
    "# reduce_mem_usage 函数通过调整数据类型，帮助我们减少数据在内存中占用的空间\n",
    "def reduce_mem_usage(df):\n",
    "    \"\"\" iterate through all the columns of a dataframe and modify the data type\n",
    "        to reduce memory usage.        \n",
    "    \"\"\"\n",
    "    start_mem = df.memory_usage().sum() \n",
    "    print('Memory usage of dataframe is {:.2f} MB'.format(start_mem))\n",
    "    \n",
    "    for col in df.columns:\n",
    "        col_type = df[col].dtype\n",
    "        \n",
    "        if col_type != object:\n",
    "            c_min = df[col].min()\n",
    "            c_max = df[col].max()\n",
    "            if str(col_type)[:3] == 'int':\n",
    "                if c_min > np.iinfo(np.int8).min and c_max < np.iinfo(np.int8).max:\n",
    "                    df[col] = df[col].astype(np.int8)\n",
    "                elif c_min > np.iinfo(np.int16).min and c_max < np.iinfo(np.int16).max:\n",
    "                    df[col] = df[col].astype(np.int16)\n",
    "                elif c_min > np.iinfo(np.int32).min and c_max < np.iinfo(np.int32).max:\n",
    "                    df[col] = df[col].astype(np.int32)\n",
    "                elif c_min > np.iinfo(np.int64).min and c_max < np.iinfo(np.int64).max:\n",
    "                    df[col] = df[col].astype(np.int64)  \n",
    "            else:\n",
    "                if c_min > np.finfo(np.float16).min and c_max < np.finfo(np.float16).max:\n",
    "                    df[col] = df[col].astype(np.float16)\n",
    "                elif c_min > np.finfo(np.float32).min and c_max < np.finfo(np.float32).max:\n",
    "                    df[col] = df[col].astype(np.float32)\n",
    "                else:\n",
    "                    df[col] = df[col].astype(np.float64)\n",
    "        else:\n",
    "            df[col] = df[col].astype('category')\n",
    "\n",
    "    end_mem = df.memory_usage().sum() \n",
    "    print('Memory usage after optimization is: {:.2f} MB'.format(end_mem))\n",
    "    print('Decreased by {:.1f}%'.format(100 * (start_mem - end_mem) / start_mem))\n",
    "    return df"
   ]
  },
  {
   "cell_type": "code",
   "execution_count": 3,
   "metadata": {},
   "outputs": [
    {
     "name": "stdout",
     "output_type": "stream",
     "text": [
      "Memory usage of dataframe is 384000000.00 MB\n",
      "Memory usage after optimization is: 99034456.00 MB\n",
      "Decreased by 74.2%\n"
     ]
    }
   ],
   "source": [
    "data = pd.read_csv('cf-df.csv',index_col=0)\n",
    "data = reduce_mem_usage(data)"
   ]
  },
  {
   "cell_type": "code",
   "execution_count": 4,
   "metadata": {},
   "outputs": [
    {
     "data": {
      "text/html": [
       "<div>\n",
       "<style scoped>\n",
       "    .dataframe tbody tr th:only-of-type {\n",
       "        vertical-align: middle;\n",
       "    }\n",
       "\n",
       "    .dataframe tbody tr th {\n",
       "        vertical-align: top;\n",
       "    }\n",
       "\n",
       "    .dataframe thead th {\n",
       "        text-align: right;\n",
       "    }\n",
       "</style>\n",
       "<table border=\"1\" class=\"dataframe\">\n",
       "  <thead>\n",
       "    <tr style=\"text-align: right;\">\n",
       "      <th></th>\n",
       "      <th>id</th>\n",
       "      <th>loanAmnt</th>\n",
       "      <th>term</th>\n",
       "      <th>interestRate</th>\n",
       "      <th>installment</th>\n",
       "      <th>employmentTitle</th>\n",
       "      <th>employmentLength</th>\n",
       "      <th>homeOwnership</th>\n",
       "      <th>annualIncome</th>\n",
       "      <th>verificationStatus</th>\n",
       "      <th>...</th>\n",
       "      <th>n7</th>\n",
       "      <th>n8</th>\n",
       "      <th>n9</th>\n",
       "      <th>n10</th>\n",
       "      <th>n11</th>\n",
       "      <th>n12</th>\n",
       "      <th>n13</th>\n",
       "      <th>n14</th>\n",
       "      <th>issueDateDT</th>\n",
       "      <th>creditY</th>\n",
       "    </tr>\n",
       "  </thead>\n",
       "  <tbody>\n",
       "    <tr>\n",
       "      <th>count</th>\n",
       "      <td>1000000.000000</td>\n",
       "      <td>1000000.000000</td>\n",
       "      <td>1000000.000000</td>\n",
       "      <td>1000000.000000</td>\n",
       "      <td>1000000.000000</td>\n",
       "      <td>999999.000000</td>\n",
       "      <td>941459.0</td>\n",
       "      <td>1000000.000000</td>\n",
       "      <td>1.000000e+06</td>\n",
       "      <td>1000000.000000</td>\n",
       "      <td>...</td>\n",
       "      <td>949619.0</td>\n",
       "      <td>949618.0</td>\n",
       "      <td>949619.0</td>\n",
       "      <td>958367.0</td>\n",
       "      <td>912673.0</td>\n",
       "      <td>949619.0</td>\n",
       "      <td>949619.0</td>\n",
       "      <td>949619.0</td>\n",
       "      <td>1000000.0</td>\n",
       "      <td>1000000.0</td>\n",
       "    </tr>\n",
       "    <tr>\n",
       "      <th>mean</th>\n",
       "      <td>499999.500000</td>\n",
       "      <td>14420.845925</td>\n",
       "      <td>3.482534</td>\n",
       "      <td>NaN</td>\n",
       "      <td>NaN</td>\n",
       "      <td>72091.429688</td>\n",
       "      <td>NaN</td>\n",
       "      <td>0.614190</td>\n",
       "      <td>7.619747e+04</td>\n",
       "      <td>1.009832</td>\n",
       "      <td>...</td>\n",
       "      <td>NaN</td>\n",
       "      <td>NaN</td>\n",
       "      <td>NaN</td>\n",
       "      <td>NaN</td>\n",
       "      <td>0.0</td>\n",
       "      <td>0.0</td>\n",
       "      <td>NaN</td>\n",
       "      <td>NaN</td>\n",
       "      <td>NaN</td>\n",
       "      <td>NaN</td>\n",
       "    </tr>\n",
       "    <tr>\n",
       "      <th>std</th>\n",
       "      <td>288675.278932</td>\n",
       "      <td>8720.358533</td>\n",
       "      <td>0.855704</td>\n",
       "      <td>0.000000</td>\n",
       "      <td>NaN</td>\n",
       "      <td>106647.140625</td>\n",
       "      <td>0.0</td>\n",
       "      <td>0.675692</td>\n",
       "      <td>7.077645e+04</td>\n",
       "      <td>0.782519</td>\n",
       "      <td>...</td>\n",
       "      <td>0.0</td>\n",
       "      <td>0.0</td>\n",
       "      <td>0.0</td>\n",
       "      <td>0.0</td>\n",
       "      <td>0.0</td>\n",
       "      <td>0.0</td>\n",
       "      <td>0.0</td>\n",
       "      <td>0.0</td>\n",
       "      <td>NaN</td>\n",
       "      <td>0.0</td>\n",
       "    </tr>\n",
       "    <tr>\n",
       "      <th>min</th>\n",
       "      <td>0.000000</td>\n",
       "      <td>500.000000</td>\n",
       "      <td>3.000000</td>\n",
       "      <td>5.308594</td>\n",
       "      <td>14.007812</td>\n",
       "      <td>0.000000</td>\n",
       "      <td>0.0</td>\n",
       "      <td>0.000000</td>\n",
       "      <td>0.000000e+00</td>\n",
       "      <td>0.000000</td>\n",
       "      <td>...</td>\n",
       "      <td>0.0</td>\n",
       "      <td>1.0</td>\n",
       "      <td>0.0</td>\n",
       "      <td>0.0</td>\n",
       "      <td>0.0</td>\n",
       "      <td>0.0</td>\n",
       "      <td>0.0</td>\n",
       "      <td>0.0</td>\n",
       "      <td>0.0</td>\n",
       "      <td>3.0</td>\n",
       "    </tr>\n",
       "    <tr>\n",
       "      <th>25%</th>\n",
       "      <td>249999.750000</td>\n",
       "      <td>8000.000000</td>\n",
       "      <td>3.000000</td>\n",
       "      <td>9.750000</td>\n",
       "      <td>248.500000</td>\n",
       "      <td>427.000000</td>\n",
       "      <td>2.0</td>\n",
       "      <td>0.000000</td>\n",
       "      <td>4.567103e+04</td>\n",
       "      <td>0.000000</td>\n",
       "      <td>...</td>\n",
       "      <td>5.0</td>\n",
       "      <td>9.0</td>\n",
       "      <td>3.0</td>\n",
       "      <td>8.0</td>\n",
       "      <td>0.0</td>\n",
       "      <td>0.0</td>\n",
       "      <td>0.0</td>\n",
       "      <td>1.0</td>\n",
       "      <td>2588.0</td>\n",
       "      <td>11.0</td>\n",
       "    </tr>\n",
       "    <tr>\n",
       "      <th>50%</th>\n",
       "      <td>499999.500000</td>\n",
       "      <td>12000.000000</td>\n",
       "      <td>3.000000</td>\n",
       "      <td>12.742188</td>\n",
       "      <td>375.500000</td>\n",
       "      <td>7782.000000</td>\n",
       "      <td>6.0</td>\n",
       "      <td>1.000000</td>\n",
       "      <td>6.500000e+04</td>\n",
       "      <td>1.000000</td>\n",
       "      <td>...</td>\n",
       "      <td>7.0</td>\n",
       "      <td>13.0</td>\n",
       "      <td>5.0</td>\n",
       "      <td>11.0</td>\n",
       "      <td>0.0</td>\n",
       "      <td>0.0</td>\n",
       "      <td>0.0</td>\n",
       "      <td>2.0</td>\n",
       "      <td>2984.0</td>\n",
       "      <td>14.0</td>\n",
       "    </tr>\n",
       "    <tr>\n",
       "      <th>75%</th>\n",
       "      <td>749999.250000</td>\n",
       "      <td>20000.000000</td>\n",
       "      <td>3.000000</td>\n",
       "      <td>15.992188</td>\n",
       "      <td>580.500000</td>\n",
       "      <td>118112.000000</td>\n",
       "      <td>10.0</td>\n",
       "      <td>1.000000</td>\n",
       "      <td>9.000000e+04</td>\n",
       "      <td>2.000000</td>\n",
       "      <td>...</td>\n",
       "      <td>10.0</td>\n",
       "      <td>19.0</td>\n",
       "      <td>7.0</td>\n",
       "      <td>14.0</td>\n",
       "      <td>0.0</td>\n",
       "      <td>0.0</td>\n",
       "      <td>0.0</td>\n",
       "      <td>3.0</td>\n",
       "      <td>3318.0</td>\n",
       "      <td>20.0</td>\n",
       "    </tr>\n",
       "    <tr>\n",
       "      <th>max</th>\n",
       "      <td>999999.000000</td>\n",
       "      <td>40000.000000</td>\n",
       "      <td>5.000000</td>\n",
       "      <td>30.984375</td>\n",
       "      <td>1715.000000</td>\n",
       "      <td>378351.000000</td>\n",
       "      <td>10.0</td>\n",
       "      <td>5.000000</td>\n",
       "      <td>1.099920e+07</td>\n",
       "      <td>2.000000</td>\n",
       "      <td>...</td>\n",
       "      <td>83.0</td>\n",
       "      <td>128.0</td>\n",
       "      <td>45.0</td>\n",
       "      <td>90.0</td>\n",
       "      <td>4.0</td>\n",
       "      <td>4.0</td>\n",
       "      <td>39.0</td>\n",
       "      <td>30.0</td>\n",
       "      <td>4200.0</td>\n",
       "      <td>71.0</td>\n",
       "    </tr>\n",
       "  </tbody>\n",
       "</table>\n",
       "<p>8 rows × 43 columns</p>\n",
       "</div>"
      ],
      "text/plain": [
       "                   id        loanAmnt            term    interestRate  \\\n",
       "count  1000000.000000  1000000.000000  1000000.000000  1000000.000000   \n",
       "mean    499999.500000    14420.845925        3.482534             NaN   \n",
       "std     288675.278932     8720.358533        0.855704        0.000000   \n",
       "min          0.000000      500.000000        3.000000        5.308594   \n",
       "25%     249999.750000     8000.000000        3.000000        9.750000   \n",
       "50%     499999.500000    12000.000000        3.000000       12.742188   \n",
       "75%     749999.250000    20000.000000        3.000000       15.992188   \n",
       "max     999999.000000    40000.000000        5.000000       30.984375   \n",
       "\n",
       "          installment  employmentTitle  employmentLength   homeOwnership  \\\n",
       "count  1000000.000000    999999.000000          941459.0  1000000.000000   \n",
       "mean              NaN     72091.429688               NaN        0.614190   \n",
       "std               NaN    106647.140625               0.0        0.675692   \n",
       "min         14.007812         0.000000               0.0        0.000000   \n",
       "25%        248.500000       427.000000               2.0        0.000000   \n",
       "50%        375.500000      7782.000000               6.0        1.000000   \n",
       "75%        580.500000    118112.000000              10.0        1.000000   \n",
       "max       1715.000000    378351.000000              10.0        5.000000   \n",
       "\n",
       "       annualIncome  verificationStatus  ...        n7        n8        n9  \\\n",
       "count  1.000000e+06      1000000.000000  ...  949619.0  949618.0  949619.0   \n",
       "mean   7.619747e+04            1.009832  ...       NaN       NaN       NaN   \n",
       "std    7.077645e+04            0.782519  ...       0.0       0.0       0.0   \n",
       "min    0.000000e+00            0.000000  ...       0.0       1.0       0.0   \n",
       "25%    4.567103e+04            0.000000  ...       5.0       9.0       3.0   \n",
       "50%    6.500000e+04            1.000000  ...       7.0      13.0       5.0   \n",
       "75%    9.000000e+04            2.000000  ...      10.0      19.0       7.0   \n",
       "max    1.099920e+07            2.000000  ...      83.0     128.0      45.0   \n",
       "\n",
       "            n10       n11       n12       n13       n14  issueDateDT  \\\n",
       "count  958367.0  912673.0  949619.0  949619.0  949619.0    1000000.0   \n",
       "mean        NaN       0.0       0.0       NaN       NaN          NaN   \n",
       "std         0.0       0.0       0.0       0.0       0.0          NaN   \n",
       "min         0.0       0.0       0.0       0.0       0.0          0.0   \n",
       "25%         8.0       0.0       0.0       0.0       1.0       2588.0   \n",
       "50%        11.0       0.0       0.0       0.0       2.0       2984.0   \n",
       "75%        14.0       0.0       0.0       0.0       3.0       3318.0   \n",
       "max        90.0       4.0       4.0      39.0      30.0       4200.0   \n",
       "\n",
       "         creditY  \n",
       "count  1000000.0  \n",
       "mean         NaN  \n",
       "std          0.0  \n",
       "min          3.0  \n",
       "25%         11.0  \n",
       "50%         14.0  \n",
       "75%         20.0  \n",
       "max         71.0  \n",
       "\n",
       "[8 rows x 43 columns]"
      ]
     },
     "execution_count": 4,
     "metadata": {},
     "output_type": "execute_result"
    }
   ],
   "source": [
    "data.describe()"
   ]
  },
  {
   "cell_type": "markdown",
   "metadata": {},
   "source": [
    "## slicing会出问题"
   ]
  },
  {
   "cell_type": "code",
   "execution_count": 5,
   "metadata": {},
   "outputs": [
    {
     "name": "stderr",
     "output_type": "stream",
     "text": [
      "F:\\Anaconda\\envs\\kaggle\\lib\\site-packages\\pandas\\core\\frame.py:4167: SettingWithCopyWarning: \n",
      "A value is trying to be set on a copy of a slice from a DataFrame\n",
      "\n",
      "See the caveats in the documentation: https://pandas.pydata.org/pandas-docs/stable/user_guide/indexing.html#returning-a-view-versus-a-copy\n",
      "  errors=errors,\n"
     ]
    }
   ],
   "source": [
    "from sklearn.model_selection import KFold\n",
    "# 分离数据集，方便进行交叉验证\n",
    "\n",
    "train = data[:800000]\n",
    "test = data[800000:]\n",
    "test.drop('isDefault',axis=1,inplace=True)\n",
    "\n",
    "features = [f for f in train.columns if f not in ['id','issueDate','isDefault','earliesCreditLine']]\n",
    "X_train = train[features]\n",
    "X_test = test[features]\n",
    "y_train = train['isDefault']\n",
    "\n",
    "\n",
    "# 5折交叉验证\n",
    "folds = 5\n",
    "seed = 2020\n",
    "kf = KFold(n_splits=folds, shuffle=True, random_state=seed)"
   ]
  },
  {
   "cell_type": "code",
   "execution_count": 6,
   "metadata": {},
   "outputs": [
    {
     "name": "stdout",
     "output_type": "stream",
     "text": [
      "Training until validation scores don't improve for 200 rounds\n",
      "Early stopping, best iteration is:\n",
      "[298]\tvalid_0's binary_logloss: 0.441713\n"
     ]
    }
   ],
   "source": [
    "\"\"\"对训练集数据进行划分，分成训练集和验证集，并进行相应的操作\"\"\"\n",
    "from sklearn.model_selection import train_test_split\n",
    "import lightgbm as lgb\n",
    "# 数据集划分\n",
    "X_train_split, X_val, y_train_split, y_val = train_test_split(X_train, y_train, test_size=0.2)\n",
    "train_matrix = lgb.Dataset(X_train_split, label=y_train_split)\n",
    "valid_matrix = lgb.Dataset(X_val, label=y_val)\n",
    "\n",
    "params = {\n",
    "            'boosting_type': 'gbdt',\n",
    "            'objective': 'binary',\n",
    "            'bagging_fraction': 0.7,\n",
    "            'seed': 2020,\n",
    "}\n",
    "\n",
    "\"\"\"使用训练集数据进行模型训练\"\"\"\n",
    "model = lgb.train(params, train_set=train_matrix, valid_sets=valid_matrix, num_boost_round=20000, verbose_eval=1000, early_stopping_rounds=200)"
   ]
  },
  {
   "cell_type": "code",
   "execution_count": 7,
   "metadata": {
    "scrolled": true
   },
   "outputs": [
    {
     "name": "stdout",
     "output_type": "stream",
     "text": [
      "未调参前lightgbm单模型在验证集上的AUC：0.7337444773663357\n"
     ]
    },
    {
     "data": {
      "image/png": "[encoded data removed]",
      "text/plain": [
       "<Figure size 576x576 with 1 Axes>"
      ]
     },
     "metadata": {},
     "output_type": "display_data"
    }
   ],
   "source": [
    "from sklearn import metrics\n",
    "from sklearn.metrics import roc_auc_score\n",
    "\n",
    "\"\"\"预测并计算roc的相关指标\"\"\"\n",
    "val_pre_lgb = model.predict(X_val, num_iteration=model.best_iteration)\n",
    "fpr, tpr, threshold = metrics.roc_curve(y_val, val_pre_lgb)\n",
    "roc_auc = metrics.auc(fpr, tpr)\n",
    "print('未调参前lightgbm单模型在验证集上的AUC：{}'.format(roc_auc))\n",
    "\"\"\"画出roc曲线图\"\"\"\n",
    "plt.figure(figsize=(8, 8))\n",
    "plt.title('Validation ROC')\n",
    "plt.plot(fpr, tpr, 'b', label = 'Val AUC = %0.4f' % roc_auc)\n",
    "plt.ylim(0,1)\n",
    "plt.xlim(0,1)\n",
    "plt.legend(loc='best')\n",
    "plt.title('ROC')\n",
    "plt.ylabel('True Positive Rate')\n",
    "plt.xlabel('False Positive Rate')\n",
    "# 画出对角线\n",
    "plt.plot([0,1],[0,1],'r--')\n",
    "plt.show()"
   ]
  },
  {
   "cell_type": "markdown",
   "metadata": {},
   "source": [
    "### 搞不清楚这两个什么不一样 简单点"
   ]
  },
  {
   "cell_type": "code",
   "execution_count": 17,
   "metadata": {},
   "outputs": [
    {
     "name": "stdout",
     "output_type": "stream",
     "text": [
      "************************************ 1 ************************************\n",
      "Training until validation scores don't improve for 200 rounds\n",
      "Early stopping, best iteration is:\n",
      "[487]\tvalid_0's auc: 0.735138\n",
      "[0.7351378857315147]\n",
      "************************************ 2 ************************************\n",
      "Training until validation scores don't improve for 200 rounds\n",
      "Early stopping, best iteration is:\n",
      "[418]\tvalid_0's auc: 0.731549\n",
      "[0.7351378857315147, 0.7315493290321695]\n",
      "************************************ 3 ************************************\n",
      "Training until validation scores don't improve for 200 rounds\n",
      "Early stopping, best iteration is:\n",
      "[465]\tvalid_0's auc: 0.734482\n",
      "[0.7351378857315147, 0.7315493290321695, 0.7344819413942962]\n",
      "************************************ 4 ************************************\n",
      "Training until validation scores don't improve for 200 rounds\n",
      "Early stopping, best iteration is:\n",
      "[529]\tvalid_0's auc: 0.734162\n",
      "[0.7351378857315147, 0.7315493290321695, 0.7344819413942962, 0.7341619845249269]\n",
      "************************************ 5 ************************************\n",
      "Training until validation scores don't improve for 200 rounds\n",
      "Early stopping, best iteration is:\n",
      "[420]\tvalid_0's auc: 0.733342\n",
      "[0.7351378857315147, 0.7315493290321695, 0.7344819413942962, 0.7341619845249269, 0.7333422251269688]\n",
      "lgb_scotrainre_list:[0.7351378857315147, 0.7315493290321695, 0.7344819413942962, 0.7341619845249269, 0.7333422251269688]\n",
      "lgb_score_mean:0.7337346731619752\n",
      "lgb_score_std:0.0012361031310626233\n"
     ]
    }
   ],
   "source": [
    "import lightgbm as lgb\n",
    "\"\"\"使用lightgbm 5折交叉验证进行建模预测\"\"\"\n",
    "cv_scores = []\n",
    "for i, (train_index, valid_index) in enumerate(kf.split(X_train, y_train)):\n",
    "    print('************************************ {} ************************************'.format(str(i+1)))\n",
    "    X_train_split, y_train_split, X_val, y_val = X_train.iloc[train_index], y_train[train_index], X_train.iloc[valid_index], y_train[valid_index]\n",
    "    \n",
    "    train_matrix = lgb.Dataset(X_train_split, label=y_train_split)\n",
    "    valid_matrix = lgb.Dataset(X_val, label=y_val)\n",
    "\n",
    "    params = {\n",
    "                'boosting_type': 'gbdt',\n",
    "                'objective': 'binary',\n",
    "                'metric': 'auc',\n",
    "                'bagging_fraction': 0.7,\n",
    "                'seed': 2020,\n",
    "    }\n",
    "    \n",
    "    model = lgb.train(params, train_set=train_matrix, num_boost_round=20000, valid_sets=valid_matrix, verbose_eval=1000, early_stopping_rounds=200)\n",
    "    val_pred = model.predict(X_val, num_iteration=model.best_iteration)\n",
    "    \n",
    "    cv_scores.append(roc_auc_score(y_val, val_pred))\n",
    "    print(cv_scores)\n",
    "\n",
    "print(\"lgb_scotrainre_list:{}\".format(cv_scores))\n",
    "print(\"lgb_score_mean:{}\".format(np.mean(cv_scores)))\n",
    "print(\"lgb_score_std:{}\".format(np.std(cv_scores)))"
   ]
  },
  {
   "cell_type": "code",
   "execution_count": null,
   "metadata": {},
   "outputs": [],
   "source": []
  },
  {
   "cell_type": "markdown",
   "metadata": {},
   "source": [
    "**模型参数已经确定，建立最终模型并对验证集进行验证**"
   ]
  },
  {
   "cell_type": "markdown",
   "metadata": {},
   "source": [
    "通过5折交叉验证可以发现，模型迭代次数在3600次的时候会停止，那么我们在建立新模型时直接设置最大迭代次数，并使用验证集进行模型预测"
   ]
  },
  {
   "cell_type": "markdown",
   "metadata": {},
   "source": [
    "还是不会保存模型"
   ]
  },
  {
   "cell_type": "code",
   "execution_count": 10,
   "metadata": {},
   "outputs": [
    {
     "ename": "AttributeError",
     "evalue": "module 'lightgbm' has no attribute 'save_model'",
     "output_type": "error",
     "traceback": [
      "\u001b[1;31m---------------------------------------------------------------------------\u001b[0m",
      "\u001b[1;31mAttributeError\u001b[0m                            Traceback (most recent call last)",
      "\u001b[1;32m<ipython-input-10-45481c4f7f4b>\u001b[0m in \u001b[0;36m<module>\u001b[1;34m\u001b[0m\n\u001b[0;32m      4\u001b[0m \u001b[1;31m# pickle.dump(final_model_lgb, open('model/model_lgb_best.txt', 'wb'))\u001b[0m\u001b[1;33m\u001b[0m\u001b[1;33m\u001b[0m\u001b[1;33m\u001b[0m\u001b[0m\n\u001b[0;32m      5\u001b[0m \u001b[1;33m\u001b[0m\u001b[0m\n\u001b[1;32m----> 6\u001b[1;33m \u001b[0mlgb\u001b[0m\u001b[1;33m.\u001b[0m\u001b[0msave_model\u001b[0m\u001b[1;33m(\u001b[0m\u001b[1;34m'model.txt'\u001b[0m\u001b[1;33m)\u001b[0m\u001b[1;33m\u001b[0m\u001b[1;33m\u001b[0m\u001b[0m\n\u001b[0m",
      "\u001b[1;31mAttributeError\u001b[0m: module 'lightgbm' has no attribute 'save_model'"
     ]
    }
   ],
   "source": [
    "\"\"\"保存模型到本地\"\"\"\n",
    "# 保存模型\n",
    "import pickle\n",
    "# pickle.dump(final_model_lgb, open('model/model_lgb_best.txt', 'wb'))\n",
    "\n",
    "lgb.save_model('model.txt')"
   ]
  },
  {
   "cell_type": "code",
   "execution_count": null,
   "metadata": {},
   "outputs": [],
   "source": []
  },
  {
   "cell_type": "markdown",
   "metadata": {},
   "source": [
    "X这里不好！！"
   ]
  },
  {
   "cell_type": "code",
   "execution_count": 11,
   "metadata": {},
   "outputs": [],
   "source": [
    "test = pd.read_csv('cf-testa.csv', index_col='id')"
   ]
  },
  {
   "cell_type": "code",
   "execution_count": 13,
   "metadata": {},
   "outputs": [],
   "source": [
    "pre = model.predict(X_test)\n",
    "pd.Series(pre, name='isDefault', index=test.index).reset_index().to_csv('sub_lgb_base.csv', index=False)"
   ]
  },
  {
   "cell_type": "code",
   "execution_count": 14,
   "metadata": {},
   "outputs": [
    {
     "data": {
      "text/plain": [
       "Int64Index([800000, 800001, 800002, 800003, 800004, 800005, 800006, 800007,\n",
       "            800008, 800009,\n",
       "            ...\n",
       "            999990, 999991, 999992, 999993, 999994, 999995, 999996, 999997,\n",
       "            999998, 999999],\n",
       "           dtype='int64', name='id', length=200000)"
      ]
     },
     "execution_count": 14,
     "metadata": {},
     "output_type": "execute_result"
    }
   ],
   "source": [
    "test.index"
   ]
  },
  {
   "cell_type": "code",
   "execution_count": null,
   "metadata": {},
   "outputs": [],
   "source": []
  }
 ],
 "metadata": {
  "kernelspec": {
   "display_name": "kaggle",
   "language": "python",
   "name": "kaggle"
  },
  "language_info": {
   "codemirror_mode": {
    "name": "ipython",
    "version": 3
   },
   "file_extension": ".py",
   "mimetype": "text/x-python",
   "name": "python",
   "nbconvert_exporter": "python",
   "pygments_lexer": "ipython3",
   "version": "3.7.9"
  },
  "toc": {
   "base_numbering": 1,
   "nav_menu": {},
   "number_sections": true,
   "sideBar": true,
   "skip_h1_title": false,
   "title_cell": "Table of Contents",
   "title_sidebar": "Contents",
   "toc_cell": false,
   "toc_position": {},
   "toc_section_display": true,
   "toc_window_display": false
  }
 },
 "nbformat": 4,
 "nbformat_minor": 4
}
