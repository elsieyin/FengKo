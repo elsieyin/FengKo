{
 "cells": [
  {
   "cell_type": "code",
   "execution_count": 1,
   "metadata": {
    "ExecuteTime": {
     "end_time": "2020-09-20T02:29:50.303437Z",
     "start_time": "2020-09-20T02:29:49.437153Z"
    }
   },
   "outputs": [],
   "source": [
    "import pandas as pd\n",
    "import numpy as np\n",
    "from category_encoders.target_encoder import TargetEncoder\n",
    "from sklearn.model_selection import KFold\n",
    "from sklearn.metrics import auc, roc_curve\n",
    "from lightgbm import LGBMRegressor\n",
    "import pickle"
   ]
  },
  {
   "cell_type": "code",
   "execution_count": 2,
   "metadata": {
    "ExecuteTime": {
     "end_time": "2020-09-20T02:29:52.416036Z",
     "start_time": "2020-09-20T02:29:50.304438Z"
    }
   },
   "outputs": [],
   "source": [
    "# 导入数据\n",
    "train = pd.read_csv('cf-train.csv', index_col='id')\n",
    "test = pd.read_csv('cf-testa.csv', index_col='id')"
   ]
  },
  {
   "cell_type": "code",
   "execution_count": 3,
   "metadata": {
    "ExecuteTime": {
     "end_time": "2020-09-20T02:29:52.431050Z",
     "start_time": "2020-09-20T02:29:52.417037Z"
    }
   },
   "outputs": [
    {
     "data": {
      "text/plain": [
       "Int64Index([800000, 800001, 800002, 800003, 800004, 800005, 800006, 800007,\n",
       "            800008, 800009,\n",
       "            ...\n",
       "            999990, 999991, 999992, 999993, 999994, 999995, 999996, 999997,\n",
       "            999998, 999999],\n",
       "           dtype='int64', name='id', length=200000)"
      ]
     },
     "execution_count": 3,
     "metadata": {},
     "output_type": "execute_result"
    }
   ],
   "source": [
    "test.index"
   ]
  },
  {
   "cell_type": "code",
   "execution_count": 4,
   "metadata": {
    "ExecuteTime": {
     "end_time": "2020-09-20T02:29:52.478093Z",
     "start_time": "2020-09-20T02:29:52.432051Z"
    }
   },
   "outputs": [],
   "source": [
    "target = train.pop('isDefault')\n",
    "test = test[train.columns]"
   ]
  },
  {
   "cell_type": "code",
   "execution_count": 5,
   "metadata": {
    "ExecuteTime": {
     "end_time": "2020-09-20T02:29:52.494106Z",
     "start_time": "2020-09-20T02:29:52.479093Z"
    }
   },
   "outputs": [],
   "source": [
    "# 非数值列\n",
    "tecols = [\"grade\", \"subGrade\", \"issueDate\"]"
   ]
  },
  {
   "cell_type": "code",
   "execution_count": 6,
   "metadata": {
    "ExecuteTime": {
     "end_time": "2020-09-20T02:29:52.618217Z",
     "start_time": "2020-09-20T02:29:52.495108Z"
    }
   },
   "outputs": [],
   "source": [
    "train.drop('earliesCreditLine',axis = 1, inplace=True)"
   ]
  },
  {
   "cell_type": "code",
   "execution_count": 7,
   "metadata": {
    "ExecuteTime": {
     "end_time": "2020-09-20T02:29:52.650247Z",
     "start_time": "2020-09-20T02:29:52.619219Z"
    }
   },
   "outputs": [],
   "source": [
    "test.drop('earliesCreditLine',axis = 1, inplace=True)"
   ]
  },
  {
   "cell_type": "code",
   "execution_count": 8,
   "metadata": {
    "ExecuteTime": {
     "end_time": "2020-09-20T02:29:52.666260Z",
     "start_time": "2020-09-20T02:29:52.651247Z"
    }
   },
   "outputs": [],
   "source": [
    "# 模型\n",
    "def makelgb():\n",
    "    lgbr = LGBMRegressor(num_leaves=30\n",
    "                        ,max_depth=5\n",
    "                        ,learning_rate=.02\n",
    "                        ,n_estimators=1000\n",
    "                        ,subsample_for_bin=5000\n",
    "                        ,min_child_samples=200\n",
    "                        ,colsample_bytree=.2\n",
    "                        ,reg_alpha=.1\n",
    "                        ,reg_lambda=.1\n",
    "                        )\n",
    "    return lgbr"
   ]
  },
  {
   "cell_type": "code",
   "execution_count": 9,
   "metadata": {
    "ExecuteTime": {
     "end_time": "2020-09-20T02:30:50.244194Z",
     "start_time": "2020-09-20T02:29:52.667261Z"
    }
   },
   "outputs": [
    {
     "name": "stderr",
     "output_type": "stream",
     "text": [
      "F:\\Anaconda\\envs\\kaggle\\lib\\site-packages\\category_encoders\\utils.py:21: FutureWarning: is_categorical is deprecated and will be removed in a future version.  Use is_categorical_dtype instead\n",
      "  elif pd.api.types.is_categorical(cols):\n",
      "F:\\Anaconda\\envs\\kaggle\\lib\\site-packages\\category_encoders\\utils.py:21: FutureWarning: is_categorical is deprecated and will be removed in a future version.  Use is_categorical_dtype instead\n",
      "  elif pd.api.types.is_categorical(cols):\n",
      "F:\\Anaconda\\envs\\kaggle\\lib\\site-packages\\category_encoders\\utils.py:21: FutureWarning: is_categorical is deprecated and will be removed in a future version.  Use is_categorical_dtype instead\n",
      "  elif pd.api.types.is_categorical(cols):\n",
      "F:\\Anaconda\\envs\\kaggle\\lib\\site-packages\\category_encoders\\utils.py:21: FutureWarning: is_categorical is deprecated and will be removed in a future version.  Use is_categorical_dtype instead\n",
      "  elif pd.api.types.is_categorical(cols):\n",
      "F:\\Anaconda\\envs\\kaggle\\lib\\site-packages\\category_encoders\\utils.py:21: FutureWarning: is_categorical is deprecated and will be removed in a future version.  Use is_categorical_dtype instead\n",
      "  elif pd.api.types.is_categorical(cols):\n"
     ]
    },
    {
     "name": "stdout",
     "output_type": "stream",
     "text": [
      "0.7329436424421031\n"
     ]
    }
   ],
   "source": [
    "# 本地验证\n",
    "kf = KFold(n_splits=5, shuffle=True, random_state=100)\n",
    "devscore = []\n",
    "for tidx, didx in kf.split(train.index):\n",
    "    tf = train.iloc[tidx]\n",
    "    df = train.iloc[didx]\n",
    "    tt = target.iloc[tidx]\n",
    "    dt = target.iloc[didx]\n",
    "    te = TargetEncoder(cols=tecols)\n",
    "    tf = te.fit_transform(tf, tt)\n",
    "    df = te.transform(df)\n",
    "    lgbr = makelgb()\n",
    "    lgbr.fit(tf, tt)\n",
    "    pre = lgbr.predict(df)\n",
    "    fpr, tpr, thresholds = roc_curve(dt, pre)\n",
    "    score = auc(fpr, tpr)\n",
    "    devscore.append(score)\n",
    "print(np.mean(devscore))"
   ]
  },
  {
   "cell_type": "code",
   "execution_count": 10,
   "metadata": {
    "ExecuteTime": {
     "end_time": "2020-09-20T02:31:04.504582Z",
     "start_time": "2020-09-20T02:30:50.245195Z"
    }
   },
   "outputs": [
    {
     "name": "stderr",
     "output_type": "stream",
     "text": [
      "F:\\Anaconda\\envs\\kaggle\\lib\\site-packages\\category_encoders\\utils.py:21: FutureWarning: is_categorical is deprecated and will be removed in a future version.  Use is_categorical_dtype instead\n",
      "  elif pd.api.types.is_categorical(cols):\n"
     ]
    }
   ],
   "source": [
    "# 在整个train集上重新训练，预测test，输出结果\n",
    "lgbr = makelgb()\n",
    "te = TargetEncoder(cols=tecols)\n",
    "tf = te.fit_transform(train, target)\n",
    "df = te.transform(test)\n",
    "lgbr.fit(tf, target)\n",
    "pre = lgbr.predict(df)\n",
    "pd.Series(pre, name='isDefault', index=test.index).reset_index().to_csv('submit.csv', index=False)"
   ]
  },
  {
   "cell_type": "code",
   "execution_count": null,
   "metadata": {},
   "outputs": [],
   "source": []
  },
  {
   "cell_type": "code",
   "execution_count": 11,
   "metadata": {
    "ExecuteTime": {
     "end_time": "2020-09-20T02:31:05.026048Z",
     "start_time": "2020-09-20T02:31:04.505585Z"
    }
   },
   "outputs": [
    {
     "data": {
      "text/plain": [
       "<Figure size 4320x3600 with 0 Axes>"
      ]
     },
     "metadata": {},
     "output_type": "display_data"
    },
    {
     "data": {
      "image/png": "[encoded data removed]",
      "text/plain": [
       "<Figure size 432x288 with 1 Axes>"
      ]
     },
     "metadata": {
      "needs_background": "light"
     },
     "output_type": "display_data"
    }
   ],
   "source": [
    "import lightgbm as lgb\n",
    "import matplotlib.pyplot as plt\n",
    "import seaborn as sns\n",
    "import warnings\n",
    "warnings.simplefilter(action='ignore', category=FutureWarning)\n",
    "plt.figure(figsize=(60,50))\n",
    "lgb.plot_importance(lgbr, max_num_features=30)\n",
    "plt.title(\"Importances\")\n",
    "plt.show()"
   ]
  },
  {
   "cell_type": "code",
   "execution_count": 12,
   "metadata": {
    "ExecuteTime": {
     "end_time": "2020-09-20T02:31:05.042063Z",
     "start_time": "2020-09-20T02:31:05.027050Z"
    }
   },
   "outputs": [
    {
     "data": {
      "text/plain": [
       "<Figure size 432x288 with 0 Axes>"
      ]
     },
     "metadata": {},
     "output_type": "display_data"
    }
   ],
   "source": [
    "plt.savefig('lgbm_importances-01.png')"
   ]
  }
 ],
 "metadata": {
  "kernelspec": {
   "display_name": "kaggle",
   "language": "python",
   "name": "kaggle"
  },
  "language_info": {
   "codemirror_mode": {
    "name": "ipython",
    "version": 3
   },
   "file_extension": ".py",
   "mimetype": "text/x-python",
   "name": "python",
   "nbconvert_exporter": "python",
   "pygments_lexer": "ipython3",
   "version": "3.7.9"
  },
  "toc": {
   "base_numbering": 1,
   "nav_menu": {},
   "number_sections": true,
   "sideBar": true,
   "skip_h1_title": false,
   "title_cell": "Table of Contents",
   "title_sidebar": "Contents",
   "toc_cell": false,
   "toc_position": {},
   "toc_section_display": true,
   "toc_window_display": false
  },
  "varInspector": {
   "cols": {
    "lenName": 16,
    "lenType": 16,
    "lenVar": 40
   },
   "kernels_config": {
    "python": {
     "delete_cmd_postfix": "",
     "delete_cmd_prefix": "del ",
     "library": "var_list.py",
     "varRefreshCmd": "print(var_dic_list())"
    },
    "r": {
     "delete_cmd_postfix": ") ",
     "delete_cmd_prefix": "rm(",
     "library": "var_list.r",
     "varRefreshCmd": "cat(var_dic_list()) "
    }
   },
   "types_to_exclude": [
    "module",
    "function",
    "builtin_function_or_method",
    "instance",
    "_Feature"
   ],
   "window_display": false
  }
 },
 "nbformat": 4,
 "nbformat_minor": 4
}
