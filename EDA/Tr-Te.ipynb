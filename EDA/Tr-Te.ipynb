{
 "cells": [
  {
   "cell_type": "markdown",
   "metadata": {},
   "source": [
    "not working dont know why"
   ]
  },
  {
   "cell_type": "code",
   "execution_count": null,
   "metadata": {},
   "outputs": [],
   "source": [
    "train['label'] = 0\n",
    "test['label']  = 1\n",
    "trte = pd.concat([train,test],axis=0,ignore_index=True)\n",
    "\n",
    "import lightgbm as lgb\n",
    "import time\n",
    "from sklearn.model_selection import KFold,StratifiedKFold\n",
    "\n",
    "def validation_prediction_lgb(X,y,feature_names, ratio =1, X_test = None,istest = False):\n",
    "    n_fold = 5\n",
    "    folds = StratifiedKFold(n_splits=n_fold, shuffle=True, random_state=42)\n",
    "    params = {\n",
    "    'bagging_freq': 5, \n",
    "    'boost_from_average':'false',\n",
    "    'boost': 'gbdt',\n",
    "    'learning_rate': 0.01,\n",
    "    'max_depth': 5,\n",
    "    'metric':'auc',\n",
    "    'min_data_in_leaf': 50,\n",
    "    'min_sum_hessian_in_leaf': 10.0,\n",
    "    'tree_learner': 'serial',\n",
    "    'objective': 'binary',\n",
    "    'verbosity': 1}\n",
    "\n",
    "    importances = pd.DataFrame() \n",
    "\n",
    "    if istest:\n",
    "        prediction = np.zeros(len(X_test))\n",
    "    models = []\n",
    "\n",
    "    for fold_n, (train_index, valid_index) in enumerate(folds.split(X,y)):\n",
    "        print('Fold', fold_n, 'started at', time.ctime())\n",
    "        X_train, X_valid = X[train_index], X[valid_index]\n",
    "        y_train, y_valid = y[train_index], y[valid_index]\n",
    "        weights = [ratio  if val == 1 else 1 for val in y_train]\n",
    "        train_data = lgb.Dataset(X_train, label=y_train,  weight=weights)\n",
    "        valid_data = lgb.Dataset(X_valid, label=y_valid)\n",
    "        model = lgb.train(params,train_data,num_boost_round=20000,\n",
    "                        valid_sets = [train_data, valid_data],verbose_eval=200,early_stopping_rounds = 200)\n",
    "\n",
    "        imp_df = pd.DataFrame() \n",
    "        imp_df['feature']  = feature_names\n",
    "        imp_df['split']    = model.feature_importance()\n",
    "        imp_df['gain']     = model.feature_importance(importance_type='gain')\n",
    "        imp_df['fold']     = fold_n + 1\n",
    "        importances = pd.concat([importances, imp_df], axis=0)\n",
    "        models.append(model)\n",
    "\n",
    "        if istest == True:\n",
    "            prediction += model.predict(X_test, num_iteration=model.best_iteration)/5\n",
    "    if istest == True:     \n",
    "        return models,importances, prediction\n",
    "    else:\n",
    "        return models,importances\n",
    "    \n",
    "train_cols = [col for col in trte.columns if col not in ['target','ID_code',\\\n",
    "                            'label','grade','subGrade','issueDate','earliesCreditLine']]\n",
    "print(len(train_cols))\n",
    "\n",
    "models,importances = validation_prediction_lgb(trte[train_cols].values, trte['label'].values, train_cols)"
   ]
  }
 ],
 "metadata": {
  "kernelspec": {
   "display_name": "kaggle",
   "language": "python",
   "name": "kaggle"
  },
  "language_info": {
   "codemirror_mode": {
    "name": "ipython",
    "version": 3
   },
   "file_extension": ".py",
   "mimetype": "text/x-python",
   "name": "python",
   "nbconvert_exporter": "python",
   "pygments_lexer": "ipython3",
   "version": "3.7.9"
  },
  "toc": {
   "base_numbering": 1,
   "nav_menu": {},
   "number_sections": true,
   "sideBar": true,
   "skip_h1_title": false,
   "title_cell": "Table of Contents",
   "title_sidebar": "Contents",
   "toc_cell": false,
   "toc_position": {},
   "toc_section_display": true,
   "toc_window_display": false
  }
 },
 "nbformat": 4,
 "nbformat_minor": 4
}
