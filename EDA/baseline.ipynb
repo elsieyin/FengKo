{
 "cells": [
  {
   "cell_type": "code",
   "execution_count": null,
   "metadata": {},
   "outputs": [],
   "source": [
    "import pandas as pd\n",
    "import numpy as np\n",
    "from category_encoders.target_encoder import TargetEncoder\n",
    "from sklearn.model_selection import KFold\n",
    "from sklearn.metrics import auc, roc_curve\n",
    "from lightgbm import LGBMRegressor"
   ]
  },
  {
   "cell_type": "code",
   "execution_count": null,
   "metadata": {},
   "outputs": [],
   "source": [
    "# 导入数据\n",
    "train = pd.read_csv('cf-train.csv', index_col='id')\n",
    "test = pd.read_csv('cf-test.csv', index_col='id')\n",
    "train"
   ]
  },
  {
   "cell_type": "code",
   "execution_count": null,
   "metadata": {},
   "outputs": [],
   "source": [
    "\n",
    "target = train.pop('isDefault')\n",
    "test = test[train.columns]\n",
    "\n",
    "# 非数值列\n",
    "s = train.apply(lambda x:x.dtype)\n",
    "tecols = s[s=='object'].index.tolist()"
   ]
  },
  {
   "cell_type": "code",
   "execution_count": null,
   "metadata": {},
   "outputs": [],
   "source": [
    "# 模型\n",
    "def makelgb():\n",
    "    lgbr = LGBMRegressor(num_leaves=30\n",
    "                        ,max_depth=5\n",
    "                        ,learning_rate=.02\n",
    "                        ,n_estimators=1000\n",
    "                        ,subsample_for_bin=5000\n",
    "                        ,min_child_samples=200\n",
    "                        ,colsample_bytree=.2\n",
    "                        ,reg_alpha=.1\n",
    "                        ,reg_lambda=.1\n",
    "                        )\n",
    "    return lgbr"
   ]
  },
  {
   "cell_type": "code",
   "execution_count": null,
   "metadata": {},
   "outputs": [],
   "source": [
    "# 本地验证\n",
    "kf = KFold(n_splits=5, shuffle=True, random_state=100)\n",
    "devscore = []\n",
    "for tidx, didx in kf.split(train.index):\n",
    "    tf = train.iloc[tidx]\n",
    "    df = train.iloc[didx]\n",
    "    tt = target.iloc[tidx]\n",
    "    dt = target.iloc[didx]\n",
    "    te = TargetEncoder(cols=tecols)\n",
    "    tf = te.fit_transform(tf, tt)\n",
    "    df = te.transform(df)\n",
    "    lgbr = makelgb()\n",
    "    lgbr.fit(tf, tt)\n",
    "    pre = lgbr.predict(df)\n",
    "    fpr, tpr, thresholds = roc_curve(dt, pre)\n",
    "    score = auc(fpr, tpr)\n",
    "    devscore.append(score)\n",
    "print(np.mean(devscore))"
   ]
  },
  {
   "cell_type": "code",
   "execution_count": null,
   "metadata": {},
   "outputs": [],
   "source": [
    "# 在整个train集上重新训练，预测test，输出结果\n",
    "lgbr = makelgb()\n",
    "te = TargetEncoder(cols=tecols)\n",
    "tf = te.fit_transform(train, target)\n",
    "df = te.transform(test)\n",
    "lgbr.fit(tf, target)\n",
    "pre = lgbr.predict(df)\n",
    "pd.Series(pre, name='isDefault', index=test.index).reset_index().to_csv('submit.csv', index=False)"
   ]
  }
 ],
 "metadata": {
  "kernelspec": {
   "display_name": "kaggle",
   "language": "python",
   "name": "kaggle"
  },
  "language_info": {
   "codemirror_mode": {
    "name": "ipython",
    "version": 3
   },
   "file_extension": ".py",
   "mimetype": "text/x-python",
   "name": "python",
   "nbconvert_exporter": "python",
   "pygments_lexer": "ipython3",
   "version": "3.7.9"
  },
  "toc": {
   "base_numbering": 1,
   "nav_menu": {},
   "number_sections": true,
   "sideBar": true,
   "skip_h1_title": false,
   "title_cell": "Table of Contents",
   "title_sidebar": "Contents",
   "toc_cell": false,
   "toc_position": {},
   "toc_section_display": true,
   "toc_window_display": false
  },
  "varInspector": {
   "cols": {
    "lenName": 16,
    "lenType": 16,
    "lenVar": 40
   },
   "kernels_config": {
    "python": {
     "delete_cmd_postfix": "",
     "delete_cmd_prefix": "del ",
     "library": "var_list.py",
     "varRefreshCmd": "print(var_dic_list())"
    },
    "r": {
     "delete_cmd_postfix": ") ",
     "delete_cmd_prefix": "rm(",
     "library": "var_list.r",
     "varRefreshCmd": "cat(var_dic_list()) "
    }
   },
   "types_to_exclude": [
    "module",
    "function",
    "builtin_function_or_method",
    "instance",
    "_Feature"
   ],
   "window_display": false
  }
 },
 "nbformat": 4,
 "nbformat_minor": 4
}
