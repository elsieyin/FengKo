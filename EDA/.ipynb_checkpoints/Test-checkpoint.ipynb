{
 "cells": [
  {
   "cell_type": "code",
   "execution_count": 6,
   "metadata": {},
   "outputs": [],
   "source": [
    "import pandas as pd\n",
    "import numpy as np\n",
    "import matplotlib.pyplot as plt\n",
    "import seaborn as sns\n",
    "import datetime\n",
    "import warnings\n",
    "warnings.filterwarnings('ignore')\n",
    "df = pd.read_csv('../input/train.csv')\n"
   ]
  },
  {
   "cell_type": "code",
   "execution_count": 13,
   "metadata": {},
   "outputs": [],
   "source": [
    "ta = pd.read_csv('../input/testA.csv')"
   ]
  },
  {
   "cell_type": "markdown",
   "metadata": {},
   "source": [
    "df 用来拼train和testA比较好，这里先暂时用来表示train"
   ]
  },
  {
   "cell_type": "code",
   "execution_count": 7,
   "metadata": {},
   "outputs": [
    {
     "data": {
      "text/plain": [
       "3    606902\n",
       "5    193098\n",
       "Name: term, dtype: int64"
      ]
     },
     "execution_count": 7,
     "metadata": {},
     "output_type": "execute_result"
    }
   ],
   "source": [
    "df['term'].value_counts()"
   ]
  },
  {
   "cell_type": "markdown",
   "metadata": {},
   "source": [
    "还以为房多不会坏账呢，好像差不多啊，都是3.8，没对比，主要是不知道总isDefault占比，"
   ]
  },
  {
   "cell_type": "code",
   "execution_count": 8,
   "metadata": {},
   "outputs": [
    {
     "data": {
      "text/plain": [
       "0    68611\n",
       "1    17997\n",
       "Name: isDefault, dtype: int64"
      ]
     },
     "execution_count": 8,
     "metadata": {},
     "output_type": "execute_result"
    }
   ],
   "source": [
    "df.loc[df['homeOwnership']>=2,:]['isDefault'].value_counts()"
   ]
  },
  {
   "cell_type": "code",
   "execution_count": 9,
   "metadata": {},
   "outputs": [
    {
     "data": {
      "text/plain": [
       "0    237\n",
       "1     62\n",
       "Name: isDefault, dtype: int64"
      ]
     },
     "execution_count": 9,
     "metadata": {},
     "output_type": "execute_result"
    }
   ],
   "source": [
    "df.loc[df['homeOwnership']>=3,:]['isDefault'].value_counts()"
   ]
  },
  {
   "cell_type": "markdown",
   "metadata": {},
   "source": [
    "有4套房的可能是大老板"
   ]
  },
  {
   "cell_type": "code",
   "execution_count": 10,
   "metadata": {},
   "outputs": [
    {
     "data": {
      "text/html": [
       "<div>\n",
       "<style scoped>\n",
       "    .dataframe tbody tr th:only-of-type {\n",
       "        vertical-align: middle;\n",
       "    }\n",
       "\n",
       "    .dataframe tbody tr th {\n",
       "        vertical-align: top;\n",
       "    }\n",
       "\n",
       "    .dataframe thead th {\n",
       "        text-align: right;\n",
       "    }\n",
       "</style>\n",
       "<table border=\"1\" class=\"dataframe\">\n",
       "  <thead>\n",
       "    <tr style=\"text-align: right;\">\n",
       "      <th></th>\n",
       "      <th>id</th>\n",
       "      <th>loanAmnt</th>\n",
       "      <th>term</th>\n",
       "      <th>interestRate</th>\n",
       "      <th>installment</th>\n",
       "      <th>grade</th>\n",
       "      <th>subGrade</th>\n",
       "      <th>employmentTitle</th>\n",
       "      <th>employmentLength</th>\n",
       "      <th>homeOwnership</th>\n",
       "      <th>...</th>\n",
       "      <th>n5</th>\n",
       "      <th>n6</th>\n",
       "      <th>n7</th>\n",
       "      <th>n8</th>\n",
       "      <th>n9</th>\n",
       "      <th>n10</th>\n",
       "      <th>n11</th>\n",
       "      <th>n12</th>\n",
       "      <th>n13</th>\n",
       "      <th>n14</th>\n",
       "    </tr>\n",
       "  </thead>\n",
       "  <tbody>\n",
       "    <tr>\n",
       "      <th>361</th>\n",
       "      <td>361</td>\n",
       "      <td>12000</td>\n",
       "      <td>3</td>\n",
       "      <td>16.63</td>\n",
       "      <td>425.64</td>\n",
       "      <td>E</td>\n",
       "      <td>E4</td>\n",
       "      <td>37687.0</td>\n",
       "      <td>3 years</td>\n",
       "      <td>5</td>\n",
       "      <td>...</td>\n",
       "      <td>NaN</td>\n",
       "      <td>NaN</td>\n",
       "      <td>NaN</td>\n",
       "      <td>NaN</td>\n",
       "      <td>NaN</td>\n",
       "      <td>NaN</td>\n",
       "      <td>NaN</td>\n",
       "      <td>NaN</td>\n",
       "      <td>NaN</td>\n",
       "      <td>NaN</td>\n",
       "    </tr>\n",
       "    <tr>\n",
       "      <th>11361</th>\n",
       "      <td>11361</td>\n",
       "      <td>12000</td>\n",
       "      <td>3</td>\n",
       "      <td>16.29</td>\n",
       "      <td>423.61</td>\n",
       "      <td>C</td>\n",
       "      <td>C4</td>\n",
       "      <td>328261.0</td>\n",
       "      <td>5 years</td>\n",
       "      <td>5</td>\n",
       "      <td>...</td>\n",
       "      <td>6.0</td>\n",
       "      <td>11.0</td>\n",
       "      <td>4.0</td>\n",
       "      <td>9.0</td>\n",
       "      <td>4.0</td>\n",
       "      <td>6.0</td>\n",
       "      <td>0.0</td>\n",
       "      <td>0.0</td>\n",
       "      <td>0.0</td>\n",
       "      <td>0.0</td>\n",
       "    </tr>\n",
       "    <tr>\n",
       "      <th>11391</th>\n",
       "      <td>11391</td>\n",
       "      <td>5600</td>\n",
       "      <td>3</td>\n",
       "      <td>10.64</td>\n",
       "      <td>182.39</td>\n",
       "      <td>B</td>\n",
       "      <td>B4</td>\n",
       "      <td>244822.0</td>\n",
       "      <td>4 years</td>\n",
       "      <td>5</td>\n",
       "      <td>...</td>\n",
       "      <td>NaN</td>\n",
       "      <td>NaN</td>\n",
       "      <td>NaN</td>\n",
       "      <td>NaN</td>\n",
       "      <td>NaN</td>\n",
       "      <td>NaN</td>\n",
       "      <td>NaN</td>\n",
       "      <td>NaN</td>\n",
       "      <td>NaN</td>\n",
       "      <td>NaN</td>\n",
       "    </tr>\n",
       "    <tr>\n",
       "      <th>14610</th>\n",
       "      <td>14610</td>\n",
       "      <td>16000</td>\n",
       "      <td>3</td>\n",
       "      <td>12.21</td>\n",
       "      <td>533.04</td>\n",
       "      <td>B</td>\n",
       "      <td>B5</td>\n",
       "      <td>245444.0</td>\n",
       "      <td>&lt; 1 year</td>\n",
       "      <td>5</td>\n",
       "      <td>...</td>\n",
       "      <td>NaN</td>\n",
       "      <td>NaN</td>\n",
       "      <td>NaN</td>\n",
       "      <td>NaN</td>\n",
       "      <td>NaN</td>\n",
       "      <td>NaN</td>\n",
       "      <td>NaN</td>\n",
       "      <td>NaN</td>\n",
       "      <td>NaN</td>\n",
       "      <td>NaN</td>\n",
       "    </tr>\n",
       "    <tr>\n",
       "      <th>17447</th>\n",
       "      <td>17447</td>\n",
       "      <td>11700</td>\n",
       "      <td>3</td>\n",
       "      <td>15.31</td>\n",
       "      <td>407.37</td>\n",
       "      <td>C</td>\n",
       "      <td>C2</td>\n",
       "      <td>326041.0</td>\n",
       "      <td>10+ years</td>\n",
       "      <td>4</td>\n",
       "      <td>...</td>\n",
       "      <td>5.0</td>\n",
       "      <td>0.0</td>\n",
       "      <td>6.0</td>\n",
       "      <td>13.0</td>\n",
       "      <td>6.0</td>\n",
       "      <td>7.0</td>\n",
       "      <td>0.0</td>\n",
       "      <td>0.0</td>\n",
       "      <td>0.0</td>\n",
       "      <td>0.0</td>\n",
       "    </tr>\n",
       "    <tr>\n",
       "      <th>...</th>\n",
       "      <td>...</td>\n",
       "      <td>...</td>\n",
       "      <td>...</td>\n",
       "      <td>...</td>\n",
       "      <td>...</td>\n",
       "      <td>...</td>\n",
       "      <td>...</td>\n",
       "      <td>...</td>\n",
       "      <td>...</td>\n",
       "      <td>...</td>\n",
       "      <td>...</td>\n",
       "      <td>...</td>\n",
       "      <td>...</td>\n",
       "      <td>...</td>\n",
       "      <td>...</td>\n",
       "      <td>...</td>\n",
       "      <td>...</td>\n",
       "      <td>...</td>\n",
       "      <td>...</td>\n",
       "      <td>...</td>\n",
       "      <td>...</td>\n",
       "    </tr>\n",
       "    <tr>\n",
       "      <th>785166</th>\n",
       "      <td>785166</td>\n",
       "      <td>5000</td>\n",
       "      <td>3</td>\n",
       "      <td>11.14</td>\n",
       "      <td>164.02</td>\n",
       "      <td>B</td>\n",
       "      <td>B1</td>\n",
       "      <td>244604.0</td>\n",
       "      <td>3 years</td>\n",
       "      <td>5</td>\n",
       "      <td>...</td>\n",
       "      <td>NaN</td>\n",
       "      <td>NaN</td>\n",
       "      <td>NaN</td>\n",
       "      <td>NaN</td>\n",
       "      <td>NaN</td>\n",
       "      <td>NaN</td>\n",
       "      <td>NaN</td>\n",
       "      <td>NaN</td>\n",
       "      <td>NaN</td>\n",
       "      <td>NaN</td>\n",
       "    </tr>\n",
       "    <tr>\n",
       "      <th>787288</th>\n",
       "      <td>787288</td>\n",
       "      <td>4000</td>\n",
       "      <td>3</td>\n",
       "      <td>9.32</td>\n",
       "      <td>127.79</td>\n",
       "      <td>A</td>\n",
       "      <td>A4</td>\n",
       "      <td>244410.0</td>\n",
       "      <td>5 years</td>\n",
       "      <td>5</td>\n",
       "      <td>...</td>\n",
       "      <td>NaN</td>\n",
       "      <td>NaN</td>\n",
       "      <td>NaN</td>\n",
       "      <td>NaN</td>\n",
       "      <td>NaN</td>\n",
       "      <td>NaN</td>\n",
       "      <td>NaN</td>\n",
       "      <td>NaN</td>\n",
       "      <td>NaN</td>\n",
       "      <td>NaN</td>\n",
       "    </tr>\n",
       "    <tr>\n",
       "      <th>794438</th>\n",
       "      <td>794438</td>\n",
       "      <td>9000</td>\n",
       "      <td>3</td>\n",
       "      <td>10.83</td>\n",
       "      <td>293.93</td>\n",
       "      <td>B</td>\n",
       "      <td>B3</td>\n",
       "      <td>241686.0</td>\n",
       "      <td>&lt; 1 year</td>\n",
       "      <td>5</td>\n",
       "      <td>...</td>\n",
       "      <td>NaN</td>\n",
       "      <td>NaN</td>\n",
       "      <td>NaN</td>\n",
       "      <td>NaN</td>\n",
       "      <td>NaN</td>\n",
       "      <td>NaN</td>\n",
       "      <td>NaN</td>\n",
       "      <td>NaN</td>\n",
       "      <td>NaN</td>\n",
       "      <td>NaN</td>\n",
       "    </tr>\n",
       "    <tr>\n",
       "      <th>796904</th>\n",
       "      <td>796904</td>\n",
       "      <td>9200</td>\n",
       "      <td>3</td>\n",
       "      <td>7.62</td>\n",
       "      <td>286.69</td>\n",
       "      <td>A</td>\n",
       "      <td>A3</td>\n",
       "      <td>327017.0</td>\n",
       "      <td>7 years</td>\n",
       "      <td>4</td>\n",
       "      <td>...</td>\n",
       "      <td>16.0</td>\n",
       "      <td>9.0</td>\n",
       "      <td>7.0</td>\n",
       "      <td>18.0</td>\n",
       "      <td>4.0</td>\n",
       "      <td>11.0</td>\n",
       "      <td>0.0</td>\n",
       "      <td>0.0</td>\n",
       "      <td>0.0</td>\n",
       "      <td>1.0</td>\n",
       "    </tr>\n",
       "    <tr>\n",
       "      <th>797584</th>\n",
       "      <td>797584</td>\n",
       "      <td>25000</td>\n",
       "      <td>3</td>\n",
       "      <td>11.14</td>\n",
       "      <td>820.13</td>\n",
       "      <td>B</td>\n",
       "      <td>B4</td>\n",
       "      <td>224404.0</td>\n",
       "      <td>1 year</td>\n",
       "      <td>5</td>\n",
       "      <td>...</td>\n",
       "      <td>NaN</td>\n",
       "      <td>NaN</td>\n",
       "      <td>NaN</td>\n",
       "      <td>NaN</td>\n",
       "      <td>NaN</td>\n",
       "      <td>NaN</td>\n",
       "      <td>NaN</td>\n",
       "      <td>NaN</td>\n",
       "      <td>NaN</td>\n",
       "      <td>NaN</td>\n",
       "    </tr>\n",
       "  </tbody>\n",
       "</table>\n",
       "<p>114 rows × 45 columns</p>\n",
       "</div>"
      ],
      "text/plain": [
       "            id  loanAmnt  term  interestRate  installment grade subGrade  \\\n",
       "361        361     12000     3         16.63       425.64     E       E4   \n",
       "11361    11361     12000     3         16.29       423.61     C       C4   \n",
       "11391    11391      5600     3         10.64       182.39     B       B4   \n",
       "14610    14610     16000     3         12.21       533.04     B       B5   \n",
       "17447    17447     11700     3         15.31       407.37     C       C2   \n",
       "...        ...       ...   ...           ...          ...   ...      ...   \n",
       "785166  785166      5000     3         11.14       164.02     B       B1   \n",
       "787288  787288      4000     3          9.32       127.79     A       A4   \n",
       "794438  794438      9000     3         10.83       293.93     B       B3   \n",
       "796904  796904      9200     3          7.62       286.69     A       A3   \n",
       "797584  797584     25000     3         11.14       820.13     B       B4   \n",
       "\n",
       "        employmentTitle employmentLength  homeOwnership  ...    n5    n6   n7  \\\n",
       "361             37687.0          3 years              5  ...   NaN   NaN  NaN   \n",
       "11361          328261.0          5 years              5  ...   6.0  11.0  4.0   \n",
       "11391          244822.0          4 years              5  ...   NaN   NaN  NaN   \n",
       "14610          245444.0         < 1 year              5  ...   NaN   NaN  NaN   \n",
       "17447          326041.0        10+ years              4  ...   5.0   0.0  6.0   \n",
       "...                 ...              ...            ...  ...   ...   ...  ...   \n",
       "785166         244604.0          3 years              5  ...   NaN   NaN  NaN   \n",
       "787288         244410.0          5 years              5  ...   NaN   NaN  NaN   \n",
       "794438         241686.0         < 1 year              5  ...   NaN   NaN  NaN   \n",
       "796904         327017.0          7 years              4  ...  16.0   9.0  7.0   \n",
       "797584         224404.0           1 year              5  ...   NaN   NaN  NaN   \n",
       "\n",
       "          n8   n9   n10  n11  n12  n13  n14  \n",
       "361      NaN  NaN   NaN  NaN  NaN  NaN  NaN  \n",
       "11361    9.0  4.0   6.0  0.0  0.0  0.0  0.0  \n",
       "11391    NaN  NaN   NaN  NaN  NaN  NaN  NaN  \n",
       "14610    NaN  NaN   NaN  NaN  NaN  NaN  NaN  \n",
       "17447   13.0  6.0   7.0  0.0  0.0  0.0  0.0  \n",
       "...      ...  ...   ...  ...  ...  ...  ...  \n",
       "785166   NaN  NaN   NaN  NaN  NaN  NaN  NaN  \n",
       "787288   NaN  NaN   NaN  NaN  NaN  NaN  NaN  \n",
       "794438   NaN  NaN   NaN  NaN  NaN  NaN  NaN  \n",
       "796904  18.0  4.0  11.0  0.0  0.0  0.0  1.0  \n",
       "797584   NaN  NaN   NaN  NaN  NaN  NaN  NaN  \n",
       "\n",
       "[114 rows x 45 columns]"
      ]
     },
     "execution_count": 10,
     "metadata": {},
     "output_type": "execute_result"
    }
   ],
   "source": [
    "df.loc[df['homeOwnership']>=4,:]"
   ]
  },
  {
   "cell_type": "markdown",
   "metadata": {},
   "source": [
    "和人一起申请的，是创业或者买房?"
   ]
  },
  {
   "cell_type": "code",
   "execution_count": 12,
   "metadata": {},
   "outputs": [
    {
     "data": {
      "text/plain": [
       "0     9564\n",
       "4     2630\n",
       "2     1213\n",
       "5      899\n",
       "3      296\n",
       "9      255\n",
       "1      130\n",
       "8      127\n",
       "10     111\n",
       "6      103\n",
       "7       78\n",
       "11       8\n",
       "Name: purpose, dtype: int64"
      ]
     },
     "execution_count": 12,
     "metadata": {},
     "output_type": "execute_result"
    }
   ],
   "source": [
    "df.loc[df['applicationType']==1,:]['purpose'].value_counts()"
   ]
  },
  {
   "cell_type": "markdown",
   "metadata": {},
   "source": [
    "怎么把他转成比例看呢?"
   ]
  },
  {
   "cell_type": "code",
   "execution_count": 14,
   "metadata": {},
   "outputs": [
    {
     "data": {
      "text/plain": [
       "0     464096\n",
       "4     175433\n",
       "2      52129\n",
       "5      46276\n",
       "3      17579\n",
       "9       9238\n",
       "1       9106\n",
       "8       8657\n",
       "10      5652\n",
       "7       5373\n",
       "6       4354\n",
       "12      1363\n",
       "11       554\n",
       "13       190\n",
       "Name: purpose, dtype: int64"
      ]
     },
     "execution_count": 14,
     "metadata": {},
     "output_type": "execute_result"
    }
   ],
   "source": [
    "df['purpose'].value_counts()"
   ]
  },
  {
   "cell_type": "code",
   "execution_count": 16,
   "metadata": {},
   "outputs": [
    {
     "data": {
      "text/plain": [
       "0     116130\n",
       "4      43898\n",
       "2      12936\n",
       "5      11504\n",
       "3       4442\n",
       "9       2322\n",
       "1       2263\n",
       "8       2155\n",
       "10      1396\n",
       "7       1357\n",
       "6       1062\n",
       "12       339\n",
       "11       138\n",
       "13        58\n",
       "Name: purpose, dtype: int64"
      ]
     },
     "execution_count": 16,
     "metadata": {},
     "output_type": "execute_result"
    }
   ],
   "source": [
    "ta['purpose'].value_counts()"
   ]
  },
  {
   "cell_type": "code",
   "execution_count": 15,
   "metadata": {},
   "outputs": [
    {
     "data": {
      "text/plain": [
       "54.0        51149\n",
       "38.0        12644\n",
       "32.0        11543\n",
       "184.0        6112\n",
       "151.0        5193\n",
       "            ...  \n",
       "311225.0        1\n",
       "13438.0         1\n",
       "311224.0        1\n",
       "311223.0        1\n",
       "269398.0        1\n",
       "Name: employmentTitle, Length: 248683, dtype: int64"
      ]
     },
     "execution_count": 15,
     "metadata": {},
     "output_type": "execute_result"
    }
   ],
   "source": [
    "df['employmentTitle'].value_counts()"
   ]
  }
 ],
 "metadata": {
  "kernelspec": {
   "display_name": "kaggle",
   "language": "python",
   "name": "kaggle"
  },
  "language_info": {
   "codemirror_mode": {
    "name": "ipython",
    "version": 3
   },
   "file_extension": ".py",
   "mimetype": "text/x-python",
   "name": "python",
   "nbconvert_exporter": "python",
   "pygments_lexer": "ipython3",
   "version": "3.7.9"
  },
  "toc": {
   "base_numbering": 1,
   "nav_menu": {},
   "number_sections": true,
   "sideBar": true,
   "skip_h1_title": false,
   "title_cell": "Table of Contents",
   "title_sidebar": "Contents",
   "toc_cell": false,
   "toc_position": {},
   "toc_section_display": true,
   "toc_window_display": false
  },
  "varInspector": {
   "cols": {
    "lenName": 16,
    "lenType": 16,
    "lenVar": 40
   },
   "kernels_config": {
    "python": {
     "delete_cmd_postfix": "",
     "delete_cmd_prefix": "del ",
     "library": "var_list.py",
     "varRefreshCmd": "print(var_dic_list())"
    },
    "r": {
     "delete_cmd_postfix": ") ",
     "delete_cmd_prefix": "rm(",
     "library": "var_list.r",
     "varRefreshCmd": "cat(var_dic_list()) "
    }
   },
   "types_to_exclude": [
    "module",
    "function",
    "builtin_function_or_method",
    "instance",
    "_Feature"
   ],
   "window_display": false
  }
 },
 "nbformat": 4,
 "nbformat_minor": 4
}
