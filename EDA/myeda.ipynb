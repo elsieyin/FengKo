{
 "cells": [
  {
   "cell_type": "code",
   "execution_count": 1,
   "metadata": {
    "ExecuteTime": {
     "end_time": "2020-09-17T01:58:45.048953Z",
     "start_time": "2020-09-17T01:58:42.864773Z"
    }
   },
   "outputs": [],
   "source": [
    "import pandas as pd\n",
    "import numpy as np\n",
    "import matplotlib.pyplot as plt\n",
    "import seaborn as sns\n",
    "import datetime\n",
    "import warnings\n",
    "import pickle\n",
    "warnings.filterwarnings('ignore')"
   ]
  },
  {
   "cell_type": "code",
   "execution_count": 2,
   "metadata": {
    "ExecuteTime": {
     "end_time": "2020-09-17T01:58:45.254158Z",
     "start_time": "2020-09-17T01:58:45.049955Z"
    }
   },
   "outputs": [],
   "source": [
    "train = pd.read_csv('../cf-train.csv') # 这里用的还是obj的grade\n",
    "test = pd.read_csv('../cf-testa.csv')"
   ]
  },
  {
   "cell_type": "code",
   "execution_count": 3,
   "metadata": {
    "ExecuteTime": {
     "end_time": "2020-09-17T01:58:45.269516Z",
     "start_time": "2020-09-17T01:58:45.255160Z"
    }
   },
   "outputs": [
    {
     "name": "stdout",
     "output_type": "stream",
     "text": [
      "Train data shape: (800000, 48)\n",
      "TestA data shape: (200000, 48)\n"
     ]
    }
   ],
   "source": [
    "print('Train data shape:',train.shape)\n",
    "print('TestA data shape:',test.shape)"
   ]
  },
  {
   "cell_type": "code",
   "execution_count": 4,
   "metadata": {
    "ExecuteTime": {
     "end_time": "2020-09-17T01:58:45.316608Z",
     "start_time": "2020-09-17T01:58:45.270519Z"
    }
   },
   "outputs": [
    {
     "data": {
      "text/html": [
       "<div>\n",
       "<style scoped>\n",
       "    .dataframe tbody tr th:only-of-type {\n",
       "        vertical-align: middle;\n",
       "    }\n",
       "\n",
       "    .dataframe tbody tr th {\n",
       "        vertical-align: top;\n",
       "    }\n",
       "\n",
       "    .dataframe thead th {\n",
       "        text-align: right;\n",
       "    }\n",
       "</style>\n",
       "<table border=\"1\" class=\"dataframe\">\n",
       "  <thead>\n",
       "    <tr style=\"text-align: right;\">\n",
       "      <th></th>\n",
       "      <th>id</th>\n",
       "      <th>loanAmnt</th>\n",
       "      <th>term</th>\n",
       "      <th>interestRate</th>\n",
       "      <th>installment</th>\n",
       "      <th>grade</th>\n",
       "      <th>subGrade</th>\n",
       "      <th>employmentTitle</th>\n",
       "      <th>employmentLength</th>\n",
       "      <th>homeOwnership</th>\n",
       "      <th>annualIncome</th>\n",
       "      <th>verificationStatus</th>\n",
       "      <th>issueDate</th>\n",
       "      <th>isDefault</th>\n",
       "      <th>purpose</th>\n",
       "      <th>postCode</th>\n",
       "      <th>regionCode</th>\n",
       "      <th>dti</th>\n",
       "      <th>delinquency_2years</th>\n",
       "      <th>ficoRangeLow</th>\n",
       "      <th>ficoRangeHigh</th>\n",
       "      <th>openAcc</th>\n",
       "      <th>pubRec</th>\n",
       "      <th>pubRecBankruptcies</th>\n",
       "      <th>revolBal</th>\n",
       "      <th>revolUtil</th>\n",
       "      <th>totalAcc</th>\n",
       "      <th>initialListStatus</th>\n",
       "      <th>applicationType</th>\n",
       "      <th>earliesCreditLine</th>\n",
       "      <th>title</th>\n",
       "      <th>n0</th>\n",
       "      <th>n1</th>\n",
       "      <th>n2</th>\n",
       "      <th>n3</th>\n",
       "      <th>n4</th>\n",
       "      <th>n5</th>\n",
       "      <th>n6</th>\n",
       "      <th>n7</th>\n",
       "      <th>n8</th>\n",
       "      <th>n9</th>\n",
       "      <th>n10</th>\n",
       "      <th>n11</th>\n",
       "      <th>n12</th>\n",
       "      <th>n13</th>\n",
       "      <th>n14</th>\n",
       "      <th>flag</th>\n",
       "      <th>issueDateDT</th>\n",
       "    </tr>\n",
       "  </thead>\n",
       "  <tbody>\n",
       "    <tr>\n",
       "      <th>0</th>\n",
       "      <td>0</td>\n",
       "      <td>35000</td>\n",
       "      <td>5</td>\n",
       "      <td>19.515625</td>\n",
       "      <td>918.0000</td>\n",
       "      <td>E</td>\n",
       "      <td>E2</td>\n",
       "      <td>64</td>\n",
       "      <td>2.0</td>\n",
       "      <td>2</td>\n",
       "      <td>110000.0</td>\n",
       "      <td>2</td>\n",
       "      <td>2014-07-01</td>\n",
       "      <td>1</td>\n",
       "      <td>1</td>\n",
       "      <td>137</td>\n",
       "      <td>32</td>\n",
       "      <td>17.046875</td>\n",
       "      <td>0</td>\n",
       "      <td>730</td>\n",
       "      <td>734</td>\n",
       "      <td>7</td>\n",
       "      <td>0</td>\n",
       "      <td>0</td>\n",
       "      <td>24178</td>\n",
       "      <td>48.90625</td>\n",
       "      <td>27</td>\n",
       "      <td>0</td>\n",
       "      <td>0</td>\n",
       "      <td>2001-08-01</td>\n",
       "      <td>1</td>\n",
       "      <td>0</td>\n",
       "      <td>2</td>\n",
       "      <td>2</td>\n",
       "      <td>2</td>\n",
       "      <td>4</td>\n",
       "      <td>9</td>\n",
       "      <td>8</td>\n",
       "      <td>4</td>\n",
       "      <td>12</td>\n",
       "      <td>2</td>\n",
       "      <td>7</td>\n",
       "      <td>0</td>\n",
       "      <td>0</td>\n",
       "      <td>0</td>\n",
       "      <td>2</td>\n",
       "      <td>train</td>\n",
       "      <td>2588.0</td>\n",
       "    </tr>\n",
       "    <tr>\n",
       "      <th>1</th>\n",
       "      <td>1</td>\n",
       "      <td>18000</td>\n",
       "      <td>5</td>\n",
       "      <td>18.484375</td>\n",
       "      <td>462.0000</td>\n",
       "      <td>D</td>\n",
       "      <td>D2</td>\n",
       "      <td>-61</td>\n",
       "      <td>5.0</td>\n",
       "      <td>0</td>\n",
       "      <td>46000.0</td>\n",
       "      <td>2</td>\n",
       "      <td>2012-08-01</td>\n",
       "      <td>0</td>\n",
       "      <td>0</td>\n",
       "      <td>156</td>\n",
       "      <td>18</td>\n",
       "      <td>27.828125</td>\n",
       "      <td>0</td>\n",
       "      <td>700</td>\n",
       "      <td>704</td>\n",
       "      <td>13</td>\n",
       "      <td>0</td>\n",
       "      <td>0</td>\n",
       "      <td>15096</td>\n",
       "      <td>38.90625</td>\n",
       "      <td>18</td>\n",
       "      <td>1</td>\n",
       "      <td>0</td>\n",
       "      <td>2002-05-01</td>\n",
       "      <td>1723</td>\n",
       "      <td>&lt;NA&gt;</td>\n",
       "      <td>&lt;NA&gt;</td>\n",
       "      <td>&lt;NA&gt;</td>\n",
       "      <td>&lt;NA&gt;</td>\n",
       "      <td>10</td>\n",
       "      <td>&lt;NA&gt;</td>\n",
       "      <td>&lt;NA&gt;</td>\n",
       "      <td>&lt;NA&gt;</td>\n",
       "      <td>&lt;NA&gt;</td>\n",
       "      <td>&lt;NA&gt;</td>\n",
       "      <td>13</td>\n",
       "      <td>&lt;NA&gt;</td>\n",
       "      <td>&lt;NA&gt;</td>\n",
       "      <td>&lt;NA&gt;</td>\n",
       "      <td>&lt;NA&gt;</td>\n",
       "      <td>train</td>\n",
       "      <td>1888.0</td>\n",
       "    </tr>\n",
       "    <tr>\n",
       "      <th>2</th>\n",
       "      <td>2</td>\n",
       "      <td>12000</td>\n",
       "      <td>5</td>\n",
       "      <td>16.984375</td>\n",
       "      <td>298.2500</td>\n",
       "      <td>D</td>\n",
       "      <td>D3</td>\n",
       "      <td>-46</td>\n",
       "      <td>8.0</td>\n",
       "      <td>0</td>\n",
       "      <td>74000.0</td>\n",
       "      <td>2</td>\n",
       "      <td>2015-10-01</td>\n",
       "      <td>0</td>\n",
       "      <td>0</td>\n",
       "      <td>337</td>\n",
       "      <td>14</td>\n",
       "      <td>22.765625</td>\n",
       "      <td>0</td>\n",
       "      <td>675</td>\n",
       "      <td>679</td>\n",
       "      <td>11</td>\n",
       "      <td>0</td>\n",
       "      <td>0</td>\n",
       "      <td>4606</td>\n",
       "      <td>51.81250</td>\n",
       "      <td>27</td>\n",
       "      <td>0</td>\n",
       "      <td>0</td>\n",
       "      <td>2006-05-01</td>\n",
       "      <td>0</td>\n",
       "      <td>0</td>\n",
       "      <td>0</td>\n",
       "      <td>3</td>\n",
       "      <td>3</td>\n",
       "      <td>0</td>\n",
       "      <td>0</td>\n",
       "      <td>21</td>\n",
       "      <td>4</td>\n",
       "      <td>5</td>\n",
       "      <td>3</td>\n",
       "      <td>11</td>\n",
       "      <td>0</td>\n",
       "      <td>0</td>\n",
       "      <td>0</td>\n",
       "      <td>4</td>\n",
       "      <td>train</td>\n",
       "      <td>3044.0</td>\n",
       "    </tr>\n",
       "    <tr>\n",
       "      <th>3</th>\n",
       "      <td>3</td>\n",
       "      <td>11000</td>\n",
       "      <td>3</td>\n",
       "      <td>7.261719</td>\n",
       "      <td>341.0000</td>\n",
       "      <td>A</td>\n",
       "      <td>A4</td>\n",
       "      <td>6</td>\n",
       "      <td>10.0</td>\n",
       "      <td>1</td>\n",
       "      <td>118000.0</td>\n",
       "      <td>1</td>\n",
       "      <td>2015-08-01</td>\n",
       "      <td>0</td>\n",
       "      <td>4</td>\n",
       "      <td>148</td>\n",
       "      <td>11</td>\n",
       "      <td>17.203125</td>\n",
       "      <td>0</td>\n",
       "      <td>685</td>\n",
       "      <td>689</td>\n",
       "      <td>9</td>\n",
       "      <td>0</td>\n",
       "      <td>0</td>\n",
       "      <td>9948</td>\n",
       "      <td>52.59375</td>\n",
       "      <td>28</td>\n",
       "      <td>1</td>\n",
       "      <td>0</td>\n",
       "      <td>1999-05-01</td>\n",
       "      <td>4</td>\n",
       "      <td>6</td>\n",
       "      <td>4</td>\n",
       "      <td>6</td>\n",
       "      <td>6</td>\n",
       "      <td>4</td>\n",
       "      <td>16</td>\n",
       "      <td>4</td>\n",
       "      <td>7</td>\n",
       "      <td>21</td>\n",
       "      <td>6</td>\n",
       "      <td>9</td>\n",
       "      <td>0</td>\n",
       "      <td>0</td>\n",
       "      <td>0</td>\n",
       "      <td>1</td>\n",
       "      <td>train</td>\n",
       "      <td>2984.0</td>\n",
       "    </tr>\n",
       "    <tr>\n",
       "      <th>4</th>\n",
       "      <td>4</td>\n",
       "      <td>3000</td>\n",
       "      <td>3</td>\n",
       "      <td>12.992188</td>\n",
       "      <td>101.0625</td>\n",
       "      <td>C</td>\n",
       "      <td>C2</td>\n",
       "      <td>54</td>\n",
       "      <td>NaN</td>\n",
       "      <td>1</td>\n",
       "      <td>29000.0</td>\n",
       "      <td>2</td>\n",
       "      <td>2016-03-01</td>\n",
       "      <td>0</td>\n",
       "      <td>10</td>\n",
       "      <td>301</td>\n",
       "      <td>21</td>\n",
       "      <td>32.156250</td>\n",
       "      <td>0</td>\n",
       "      <td>690</td>\n",
       "      <td>694</td>\n",
       "      <td>12</td>\n",
       "      <td>0</td>\n",
       "      <td>0</td>\n",
       "      <td>2942</td>\n",
       "      <td>32.00000</td>\n",
       "      <td>27</td>\n",
       "      <td>0</td>\n",
       "      <td>0</td>\n",
       "      <td>1977-08-01</td>\n",
       "      <td>11</td>\n",
       "      <td>1</td>\n",
       "      <td>2</td>\n",
       "      <td>7</td>\n",
       "      <td>7</td>\n",
       "      <td>2</td>\n",
       "      <td>4</td>\n",
       "      <td>9</td>\n",
       "      <td>10</td>\n",
       "      <td>15</td>\n",
       "      <td>7</td>\n",
       "      <td>12</td>\n",
       "      <td>0</td>\n",
       "      <td>0</td>\n",
       "      <td>0</td>\n",
       "      <td>4</td>\n",
       "      <td>train</td>\n",
       "      <td>3196.0</td>\n",
       "    </tr>\n",
       "    <tr>\n",
       "      <th>5</th>\n",
       "      <td>5</td>\n",
       "      <td>11000</td>\n",
       "      <td>3</td>\n",
       "      <td>7.988281</td>\n",
       "      <td>344.7500</td>\n",
       "      <td>A</td>\n",
       "      <td>A5</td>\n",
       "      <td>15</td>\n",
       "      <td>7.0</td>\n",
       "      <td>0</td>\n",
       "      <td>39000.0</td>\n",
       "      <td>2</td>\n",
       "      <td>2017-04-01</td>\n",
       "      <td>0</td>\n",
       "      <td>9</td>\n",
       "      <td>512</td>\n",
       "      <td>21</td>\n",
       "      <td>17.140625</td>\n",
       "      <td>0</td>\n",
       "      <td>730</td>\n",
       "      <td>734</td>\n",
       "      <td>19</td>\n",
       "      <td>0</td>\n",
       "      <td>0</td>\n",
       "      <td>4047</td>\n",
       "      <td>31.09375</td>\n",
       "      <td>52</td>\n",
       "      <td>1</td>\n",
       "      <td>0</td>\n",
       "      <td>1998-07-01</td>\n",
       "      <td>10</td>\n",
       "      <td>12</td>\n",
       "      <td>1</td>\n",
       "      <td>2</td>\n",
       "      <td>2</td>\n",
       "      <td>1</td>\n",
       "      <td>1</td>\n",
       "      <td>48</td>\n",
       "      <td>2</td>\n",
       "      <td>3</td>\n",
       "      <td>2</td>\n",
       "      <td>19</td>\n",
       "      <td>0</td>\n",
       "      <td>0</td>\n",
       "      <td>0</td>\n",
       "      <td>0</td>\n",
       "      <td>train</td>\n",
       "      <td>3592.0</td>\n",
       "    </tr>\n",
       "    <tr>\n",
       "      <th>6</th>\n",
       "      <td>6</td>\n",
       "      <td>2050</td>\n",
       "      <td>3</td>\n",
       "      <td>7.691406</td>\n",
       "      <td>63.9375</td>\n",
       "      <td>A</td>\n",
       "      <td>A4</td>\n",
       "      <td>115</td>\n",
       "      <td>9.0</td>\n",
       "      <td>0</td>\n",
       "      <td>35000.0</td>\n",
       "      <td>0</td>\n",
       "      <td>2014-10-01</td>\n",
       "      <td>0</td>\n",
       "      <td>0</td>\n",
       "      <td>517</td>\n",
       "      <td>14</td>\n",
       "      <td>17.484375</td>\n",
       "      <td>0</td>\n",
       "      <td>755</td>\n",
       "      <td>759</td>\n",
       "      <td>12</td>\n",
       "      <td>0</td>\n",
       "      <td>0</td>\n",
       "      <td>3111</td>\n",
       "      <td>8.50000</td>\n",
       "      <td>23</td>\n",
       "      <td>0</td>\n",
       "      <td>0</td>\n",
       "      <td>2006-10-01</td>\n",
       "      <td>0</td>\n",
       "      <td>0</td>\n",
       "      <td>1</td>\n",
       "      <td>3</td>\n",
       "      <td>3</td>\n",
       "      <td>7</td>\n",
       "      <td>11</td>\n",
       "      <td>3</td>\n",
       "      <td>10</td>\n",
       "      <td>18</td>\n",
       "      <td>3</td>\n",
       "      <td>12</td>\n",
       "      <td>0</td>\n",
       "      <td>0</td>\n",
       "      <td>0</td>\n",
       "      <td>3</td>\n",
       "      <td>train</td>\n",
       "      <td>2680.0</td>\n",
       "    </tr>\n",
       "    <tr>\n",
       "      <th>7</th>\n",
       "      <td>7</td>\n",
       "      <td>11500</td>\n",
       "      <td>3</td>\n",
       "      <td>14.976562</td>\n",
       "      <td>398.5000</td>\n",
       "      <td>C</td>\n",
       "      <td>C3</td>\n",
       "      <td>1</td>\n",
       "      <td>1.0</td>\n",
       "      <td>1</td>\n",
       "      <td>30000.0</td>\n",
       "      <td>2</td>\n",
       "      <td>2014-01-01</td>\n",
       "      <td>0</td>\n",
       "      <td>0</td>\n",
       "      <td>100</td>\n",
       "      <td>4</td>\n",
       "      <td>32.593750</td>\n",
       "      <td>0</td>\n",
       "      <td>665</td>\n",
       "      <td>669</td>\n",
       "      <td>8</td>\n",
       "      <td>1</td>\n",
       "      <td>1</td>\n",
       "      <td>14021</td>\n",
       "      <td>59.68750</td>\n",
       "      <td>33</td>\n",
       "      <td>1</td>\n",
       "      <td>0</td>\n",
       "      <td>1994-12-01</td>\n",
       "      <td>0</td>\n",
       "      <td>0</td>\n",
       "      <td>4</td>\n",
       "      <td>4</td>\n",
       "      <td>4</td>\n",
       "      <td>4</td>\n",
       "      <td>16</td>\n",
       "      <td>10</td>\n",
       "      <td>5</td>\n",
       "      <td>21</td>\n",
       "      <td>4</td>\n",
       "      <td>8</td>\n",
       "      <td>0</td>\n",
       "      <td>0</td>\n",
       "      <td>0</td>\n",
       "      <td>2</td>\n",
       "      <td>train</td>\n",
       "      <td>2406.0</td>\n",
       "    </tr>\n",
       "    <tr>\n",
       "      <th>8</th>\n",
       "      <td>8</td>\n",
       "      <td>12000</td>\n",
       "      <td>3</td>\n",
       "      <td>12.992188</td>\n",
       "      <td>404.2500</td>\n",
       "      <td>C</td>\n",
       "      <td>C2</td>\n",
       "      <td>-68</td>\n",
       "      <td>5.0</td>\n",
       "      <td>2</td>\n",
       "      <td>60000.0</td>\n",
       "      <td>1</td>\n",
       "      <td>2016-05-01</td>\n",
       "      <td>1</td>\n",
       "      <td>0</td>\n",
       "      <td>792</td>\n",
       "      <td>13</td>\n",
       "      <td>19.218750</td>\n",
       "      <td>0</td>\n",
       "      <td>690</td>\n",
       "      <td>694</td>\n",
       "      <td>15</td>\n",
       "      <td>0</td>\n",
       "      <td>0</td>\n",
       "      <td>27176</td>\n",
       "      <td>46.00000</td>\n",
       "      <td>21</td>\n",
       "      <td>1</td>\n",
       "      <td>0</td>\n",
       "      <td>1994-04-01</td>\n",
       "      <td>0</td>\n",
       "      <td>0</td>\n",
       "      <td>7</td>\n",
       "      <td>13</td>\n",
       "      <td>13</td>\n",
       "      <td>7</td>\n",
       "      <td>7</td>\n",
       "      <td>2</td>\n",
       "      <td>13</td>\n",
       "      <td>17</td>\n",
       "      <td>11</td>\n",
       "      <td>15</td>\n",
       "      <td>&lt;NA&gt;</td>\n",
       "      <td>0</td>\n",
       "      <td>0</td>\n",
       "      <td>6</td>\n",
       "      <td>train</td>\n",
       "      <td>3256.0</td>\n",
       "    </tr>\n",
       "    <tr>\n",
       "      <th>9</th>\n",
       "      <td>9</td>\n",
       "      <td>6500</td>\n",
       "      <td>3</td>\n",
       "      <td>10.992188</td>\n",
       "      <td>212.7500</td>\n",
       "      <td>B</td>\n",
       "      <td>B4</td>\n",
       "      <td>54</td>\n",
       "      <td>NaN</td>\n",
       "      <td>1</td>\n",
       "      <td>15300.0</td>\n",
       "      <td>2</td>\n",
       "      <td>2015-11-01</td>\n",
       "      <td>0</td>\n",
       "      <td>0</td>\n",
       "      <td>59</td>\n",
       "      <td>11</td>\n",
       "      <td>24.390625</td>\n",
       "      <td>0</td>\n",
       "      <td>725</td>\n",
       "      <td>729</td>\n",
       "      <td>7</td>\n",
       "      <td>0</td>\n",
       "      <td>0</td>\n",
       "      <td>2936</td>\n",
       "      <td>30.59375</td>\n",
       "      <td>63</td>\n",
       "      <td>0</td>\n",
       "      <td>0</td>\n",
       "      <td>1993-01-01</td>\n",
       "      <td>0</td>\n",
       "      <td>0</td>\n",
       "      <td>4</td>\n",
       "      <td>5</td>\n",
       "      <td>5</td>\n",
       "      <td>4</td>\n",
       "      <td>21</td>\n",
       "      <td>24</td>\n",
       "      <td>6</td>\n",
       "      <td>39</td>\n",
       "      <td>5</td>\n",
       "      <td>7</td>\n",
       "      <td>0</td>\n",
       "      <td>0</td>\n",
       "      <td>0</td>\n",
       "      <td>8</td>\n",
       "      <td>train</td>\n",
       "      <td>3076.0</td>\n",
       "    </tr>\n",
       "  </tbody>\n",
       "</table>\n",
       "</div>"
      ],
      "text/plain": [
       "   id  loanAmnt  term  interestRate  installment grade subGrade  \\\n",
       "0   0     35000     5     19.515625     918.0000     E       E2   \n",
       "1   1     18000     5     18.484375     462.0000     D       D2   \n",
       "2   2     12000     5     16.984375     298.2500     D       D3   \n",
       "3   3     11000     3      7.261719     341.0000     A       A4   \n",
       "4   4      3000     3     12.992188     101.0625     C       C2   \n",
       "5   5     11000     3      7.988281     344.7500     A       A5   \n",
       "6   6      2050     3      7.691406      63.9375     A       A4   \n",
       "7   7     11500     3     14.976562     398.5000     C       C3   \n",
       "8   8     12000     3     12.992188     404.2500     C       C2   \n",
       "9   9      6500     3     10.992188     212.7500     B       B4   \n",
       "\n",
       "   employmentTitle  employmentLength  homeOwnership  annualIncome  \\\n",
       "0               64               2.0              2      110000.0   \n",
       "1              -61               5.0              0       46000.0   \n",
       "2              -46               8.0              0       74000.0   \n",
       "3                6              10.0              1      118000.0   \n",
       "4               54               NaN              1       29000.0   \n",
       "5               15               7.0              0       39000.0   \n",
       "6              115               9.0              0       35000.0   \n",
       "7                1               1.0              1       30000.0   \n",
       "8              -68               5.0              2       60000.0   \n",
       "9               54               NaN              1       15300.0   \n",
       "\n",
       "   verificationStatus  issueDate  isDefault  purpose  postCode  regionCode  \\\n",
       "0                   2 2014-07-01          1        1       137          32   \n",
       "1                   2 2012-08-01          0        0       156          18   \n",
       "2                   2 2015-10-01          0        0       337          14   \n",
       "3                   1 2015-08-01          0        4       148          11   \n",
       "4                   2 2016-03-01          0       10       301          21   \n",
       "5                   2 2017-04-01          0        9       512          21   \n",
       "6                   0 2014-10-01          0        0       517          14   \n",
       "7                   2 2014-01-01          0        0       100           4   \n",
       "8                   1 2016-05-01          1        0       792          13   \n",
       "9                   2 2015-11-01          0        0        59          11   \n",
       "\n",
       "         dti  delinquency_2years  ficoRangeLow  ficoRangeHigh  openAcc  \\\n",
       "0  17.046875                   0           730            734        7   \n",
       "1  27.828125                   0           700            704       13   \n",
       "2  22.765625                   0           675            679       11   \n",
       "3  17.203125                   0           685            689        9   \n",
       "4  32.156250                   0           690            694       12   \n",
       "5  17.140625                   0           730            734       19   \n",
       "6  17.484375                   0           755            759       12   \n",
       "7  32.593750                   0           665            669        8   \n",
       "8  19.218750                   0           690            694       15   \n",
       "9  24.390625                   0           725            729        7   \n",
       "\n",
       "   pubRec  pubRecBankruptcies  revolBal  revolUtil  totalAcc  \\\n",
       "0       0                   0     24178   48.90625        27   \n",
       "1       0                   0     15096   38.90625        18   \n",
       "2       0                   0      4606   51.81250        27   \n",
       "3       0                   0      9948   52.59375        28   \n",
       "4       0                   0      2942   32.00000        27   \n",
       "5       0                   0      4047   31.09375        52   \n",
       "6       0                   0      3111    8.50000        23   \n",
       "7       1                   1     14021   59.68750        33   \n",
       "8       0                   0     27176   46.00000        21   \n",
       "9       0                   0      2936   30.59375        63   \n",
       "\n",
       "   initialListStatus  applicationType earliesCreditLine  title    n0    n1  \\\n",
       "0                  0                0        2001-08-01      1     0     2   \n",
       "1                  1                0        2002-05-01   1723  <NA>  <NA>   \n",
       "2                  0                0        2006-05-01      0     0     0   \n",
       "3                  1                0        1999-05-01      4     6     4   \n",
       "4                  0                0        1977-08-01     11     1     2   \n",
       "5                  1                0        1998-07-01     10    12     1   \n",
       "6                  0                0        2006-10-01      0     0     1   \n",
       "7                  1                0        1994-12-01      0     0     4   \n",
       "8                  1                0        1994-04-01      0     0     7   \n",
       "9                  0                0        1993-01-01      0     0     4   \n",
       "\n",
       "     n2    n3  n4    n5    n6    n7    n8    n9  n10   n11   n12   n13   n14  \\\n",
       "0     2     2   4     9     8     4    12     2    7     0     0     0     2   \n",
       "1  <NA>  <NA>  10  <NA>  <NA>  <NA>  <NA>  <NA>   13  <NA>  <NA>  <NA>  <NA>   \n",
       "2     3     3   0     0    21     4     5     3   11     0     0     0     4   \n",
       "3     6     6   4    16     4     7    21     6    9     0     0     0     1   \n",
       "4     7     7   2     4     9    10    15     7   12     0     0     0     4   \n",
       "5     2     2   1     1    48     2     3     2   19     0     0     0     0   \n",
       "6     3     3   7    11     3    10    18     3   12     0     0     0     3   \n",
       "7     4     4   4    16    10     5    21     4    8     0     0     0     2   \n",
       "8    13    13   7     7     2    13    17    11   15  <NA>     0     0     6   \n",
       "9     5     5   4    21    24     6    39     5    7     0     0     0     8   \n",
       "\n",
       "    flag  issueDateDT  \n",
       "0  train       2588.0  \n",
       "1  train       1888.0  \n",
       "2  train       3044.0  \n",
       "3  train       2984.0  \n",
       "4  train       3196.0  \n",
       "5  train       3592.0  \n",
       "6  train       2680.0  \n",
       "7  train       2406.0  \n",
       "8  train       3256.0  \n",
       "9  train       3076.0  "
      ]
     },
     "execution_count": 4,
     "metadata": {},
     "output_type": "execute_result"
    }
   ],
   "source": [
    "pd.set_option('display.max_columns', None)\n",
    "train.head(10)"
   ]
  },
  {
   "cell_type": "code",
   "execution_count": 5,
   "metadata": {
    "ExecuteTime": {
     "end_time": "2020-09-17T01:58:45.457621Z",
     "start_time": "2020-09-17T01:58:45.317609Z"
    }
   },
   "outputs": [
    {
     "name": "stdout",
     "output_type": "stream",
     "text": [
      "<class 'pandas.core.frame.DataFrame'>\n",
      "Int64Index: 800000 entries, 0 to 799999\n",
      "Data columns (total 48 columns):\n",
      " #   Column              Non-Null Count   Dtype         \n",
      "---  ------              --------------   -----         \n",
      " 0   id                  800000 non-null  Int32         \n",
      " 1   loanAmnt            800000 non-null  Int32         \n",
      " 2   term                800000 non-null  Int8          \n",
      " 3   interestRate        800000 non-null  float16       \n",
      " 4   installment         800000 non-null  float16       \n",
      " 5   grade               800000 non-null  object        \n",
      " 6   subGrade            800000 non-null  object        \n",
      " 7   employmentTitle     799999 non-null  Int8          \n",
      " 8   employmentLength    753201 non-null  float16       \n",
      " 9   homeOwnership       800000 non-null  Int8          \n",
      " 10  annualIncome        800000 non-null  float32       \n",
      " 11  verificationStatus  800000 non-null  Int8          \n",
      " 12  issueDate           800000 non-null  datetime64[ns]\n",
      " 13  isDefault           800000 non-null  Int8          \n",
      " 14  purpose             800000 non-null  Int8          \n",
      " 15  postCode            799999 non-null  Int16         \n",
      " 16  regionCode          800000 non-null  Int8          \n",
      " 17  dti                 799761 non-null  float16       \n",
      " 18  delinquency_2years  800000 non-null  Int8          \n",
      " 19  ficoRangeLow        800000 non-null  Int16         \n",
      " 20  ficoRangeHigh       800000 non-null  Int16         \n",
      " 21  openAcc             800000 non-null  Int8          \n",
      " 22  pubRec              800000 non-null  Int8          \n",
      " 23  pubRecBankruptcies  799595 non-null  Int8          \n",
      " 24  revolBal            800000 non-null  Int32         \n",
      " 25  revolUtil           799469 non-null  float16       \n",
      " 26  totalAcc            800000 non-null  Int16         \n",
      " 27  initialListStatus   800000 non-null  Int8          \n",
      " 28  applicationType     800000 non-null  Int8          \n",
      " 29  earliesCreditLine   800000 non-null  datetime64[ns]\n",
      " 30  title               799999 non-null  Int32         \n",
      " 31  n0                  759730 non-null  Int8          \n",
      " 32  n1                  759730 non-null  Int8          \n",
      " 33  n2                  759730 non-null  Int8          \n",
      " 34  n3                  759730 non-null  Int8          \n",
      " 35  n4                  766761 non-null  Int8          \n",
      " 36  n5                  759730 non-null  Int8          \n",
      " 37  n6                  759730 non-null  Int16         \n",
      " 38  n7                  759730 non-null  Int8          \n",
      " 39  n8                  759729 non-null  Int16         \n",
      " 40  n9                  759730 non-null  Int8          \n",
      " 41  n10                 766761 non-null  Int8          \n",
      " 42  n11                 730248 non-null  Int8          \n",
      " 43  n12                 759730 non-null  Int8          \n",
      " 44  n13                 759730 non-null  Int8          \n",
      " 45  n14                 759730 non-null  Int8          \n",
      " 46  flag                800000 non-null  string        \n",
      " 47  issueDateDT         800000 non-null  float16       \n",
      "dtypes: Int16(6), Int32(4), Int8(26), datetime64[ns](2), float16(6), float32(1), object(2), string(1)\n",
      "memory usage: 117.5+ MB\n"
     ]
    }
   ],
   "source": [
    "train.info()"
   ]
  },
  {
   "cell_type": "markdown",
   "metadata": {},
   "source": [
    "### grade & subgrade"
   ]
  },
  {
   "cell_type": "code",
   "execution_count": 6,
   "metadata": {
    "ExecuteTime": {
     "end_time": "2020-09-17T01:58:45.520677Z",
     "start_time": "2020-09-17T01:58:45.458621Z"
    }
   },
   "outputs": [
    {
     "data": {
      "text/plain": [
       "A1    25909\n",
       "A2    22124\n",
       "A3    22655\n",
       "A4    30928\n",
       "A5    38045\n",
       "B1    42382\n",
       "B2    44227\n",
       "B3    48600\n",
       "B4    49516\n",
       "B5    48965\n",
       "C1    50763\n",
       "C2    47068\n",
       "C3    44751\n",
       "C4    44272\n",
       "C5    40264\n",
       "D1    30538\n",
       "D2    26528\n",
       "D3    23410\n",
       "D4    21139\n",
       "D5    17838\n",
       "E1    14064\n",
       "E2    12746\n",
       "E3    10925\n",
       "E4     9273\n",
       "E5     8653\n",
       "F1     5925\n",
       "F2     4340\n",
       "F3     3577\n",
       "F4     2859\n",
       "F5     2352\n",
       "G1     1759\n",
       "G2     1231\n",
       "G3      978\n",
       "G4      751\n",
       "G5      645\n",
       "Name: subGrade, dtype: int64"
      ]
     },
     "execution_count": 6,
     "metadata": {},
     "output_type": "execute_result"
    }
   ],
   "source": [
    "train['subGrade'].value_counts().sort_index()"
   ]
  },
  {
   "cell_type": "markdown",
   "metadata": {},
   "source": [
    "### 就是每一组，不还的占比"
   ]
  },
  {
   "cell_type": "code",
   "execution_count": 7,
   "metadata": {
    "ExecuteTime": {
     "end_time": "2020-09-17T01:58:45.583734Z",
     "start_time": "2020-09-17T01:58:45.521677Z"
    }
   },
   "outputs": [
    {
     "data": {
      "text/plain": [
       "C1    50763\n",
       "B4    49516\n",
       "B5    48965\n",
       "B3    48600\n",
       "C2    47068\n",
       "C3    44751\n",
       "C4    44272\n",
       "B2    44227\n",
       "B1    42382\n",
       "C5    40264\n",
       "A5    38045\n",
       "A4    30928\n",
       "D1    30538\n",
       "D2    26528\n",
       "A1    25909\n",
       "D3    23410\n",
       "A3    22655\n",
       "A2    22124\n",
       "D4    21139\n",
       "D5    17838\n",
       "E1    14064\n",
       "E2    12746\n",
       "E3    10925\n",
       "E4     9273\n",
       "E5     8653\n",
       "F1     5925\n",
       "F2     4340\n",
       "F3     3577\n",
       "F4     2859\n",
       "F5     2352\n",
       "G1     1759\n",
       "G2     1231\n",
       "G3      978\n",
       "G4      751\n",
       "G5      645\n",
       "Name: subGrade, dtype: int64"
      ]
     },
     "execution_count": 7,
     "metadata": {},
     "output_type": "execute_result"
    }
   ],
   "source": [
    "train['subGrade'].value_counts().sort_values(ascending=False)"
   ]
  },
  {
   "cell_type": "code",
   "execution_count": 8,
   "metadata": {
    "ExecuteTime": {
     "end_time": "2020-09-17T01:58:45.599747Z",
     "start_time": "2020-09-17T01:58:45.585735Z"
    }
   },
   "outputs": [
    {
     "data": {
      "text/plain": [
       " 54     53745\n",
       " 38     14554\n",
       " 32     14094\n",
       "-72      8389\n",
       " 51      7419\n",
       "        ...  \n",
       " 121     1774\n",
       " 27      1774\n",
       "-17      1765\n",
       "-19      1765\n",
       "-24      1713\n",
       "Name: employmentTitle, Length: 256, dtype: Int64"
      ]
     },
     "execution_count": 8,
     "metadata": {},
     "output_type": "execute_result"
    }
   ],
   "source": [
    "train['employmentTitle'].value_counts().sort_values(ascending=False)"
   ]
  },
  {
   "cell_type": "code",
   "execution_count": 10,
   "metadata": {
    "ExecuteTime": {
     "end_time": "2020-09-17T02:01:17.748454Z",
     "start_time": "2020-09-17T02:01:17.735939Z"
    }
   },
   "outputs": [
    {
     "data": {
      "text/plain": [
       " 54    13449\n",
       " 38     3703\n",
       " 32     3630\n",
       "-72     2129\n",
       " 51     1855\n",
       "       ...  \n",
       "-67      435\n",
       " 10      433\n",
       "-17      425\n",
       " 57      419\n",
       "-24      408\n",
       "Name: employmentTitle, Length: 256, dtype: Int64"
      ]
     },
     "execution_count": 10,
     "metadata": {},
     "output_type": "execute_result"
    }
   ],
   "source": [
    "test['employmentTitle'].value_counts().sort_values(ascending=False)"
   ]
  },
  {
   "cell_type": "code",
   "execution_count": 9,
   "metadata": {
    "ExecuteTime": {
     "end_time": "2020-09-17T01:59:48.547417Z",
     "start_time": "2020-09-17T01:59:48.526890Z"
    }
   },
   "outputs": [
    {
     "data": {
      "text/plain": [
       "0     464096\n",
       "4     175433\n",
       "2      52129\n",
       "5      46276\n",
       "3      17579\n",
       "9       9238\n",
       "1       9106\n",
       "8       8657\n",
       "10      5652\n",
       "7       5373\n",
       "6       4354\n",
       "12      1363\n",
       "11       554\n",
       "13       190\n",
       "Name: purpose, dtype: Int64"
      ]
     },
     "execution_count": 9,
     "metadata": {},
     "output_type": "execute_result"
    }
   ],
   "source": [
    "train['purpose'].value_counts().sort_values(ascending=False)"
   ]
  },
  {
   "cell_type": "code",
   "execution_count": 11,
   "metadata": {
    "ExecuteTime": {
     "end_time": "2020-09-17T02:02:32.396089Z",
     "start_time": "2020-09-17T02:02:32.379570Z"
    }
   },
   "outputs": [
    {
     "data": {
      "text/plain": [
       "0     116130\n",
       "4      43898\n",
       "2      12936\n",
       "5      11504\n",
       "3       4442\n",
       "9       2322\n",
       "1       2263\n",
       "8       2155\n",
       "10      1396\n",
       "7       1357\n",
       "6       1062\n",
       "12       339\n",
       "11       138\n",
       "13        58\n",
       "Name: purpose, dtype: Int64"
      ]
     },
     "execution_count": 11,
     "metadata": {},
     "output_type": "execute_result"
    }
   ],
   "source": [
    "test['purpose'].value_counts().sort_values(ascending=False)"
   ]
  },
  {
   "cell_type": "code",
   "execution_count": 12,
   "metadata": {
    "ExecuteTime": {
     "end_time": "2020-09-17T02:04:06.124811Z",
     "start_time": "2020-09-17T02:04:06.104288Z"
    }
   },
   "outputs": [
    {
     "data": {
      "text/plain": [
       "8     116921\n",
       "14     65768\n",
       "13     65041\n",
       "21     56671\n",
       "2      30513\n",
       "30     28634\n",
       "0      27180\n",
       "19     26198\n",
       "3      25766\n",
       "9      22902\n",
       "7      22600\n",
       "23     20919\n",
       "10     19604\n",
       "12     18543\n",
       "26     18432\n",
       "22     17722\n",
       "18     17286\n",
       "4      14177\n",
       "11     12929\n",
       "24     12776\n",
       "32     12065\n",
       "38     11982\n",
       "36     11644\n",
       "27     10521\n",
       "17      9863\n",
       "35      9669\n",
       "5       9581\n",
       "20      9124\n",
       "43      7701\n",
       "42      7267\n",
       "15      6690\n",
       "37      5998\n",
       "45      5932\n",
       "16      4325\n",
       "28      4036\n",
       "44      3963\n",
       "33      3817\n",
       "6       3496\n",
       "39      2943\n",
       "40      2287\n",
       "31      2261\n",
       "34      2136\n",
       "25      2102\n",
       "48      1880\n",
       "41      1778\n",
       "1       1624\n",
       "29      1560\n",
       "47      1213\n",
       "49      1001\n",
       "46       953\n",
       "50         6\n",
       "Name: regionCode, dtype: Int64"
      ]
     },
     "execution_count": 12,
     "metadata": {},
     "output_type": "execute_result"
    }
   ],
   "source": [
    "train['regionCode'].value_counts().sort_values(ascending=False)"
   ]
  },
  {
   "cell_type": "code",
   "execution_count": 14,
   "metadata": {
    "ExecuteTime": {
     "end_time": "2020-09-17T02:05:36.260073Z",
     "start_time": "2020-09-17T02:05:36.250541Z"
    }
   },
   "outputs": [
    {
     "data": {
      "text/plain": [
       "8     29031\n",
       "13    16309\n",
       "14    16249\n",
       "21    14492\n",
       "2      7666\n",
       "30     7299\n",
       "0      6821\n",
       "19     6429\n",
       "3      6358\n",
       "7      5633\n",
       "9      5607\n",
       "23     5327\n",
       "10     4747\n",
       "26     4654\n",
       "12     4577\n",
       "22     4394\n",
       "18     4286\n",
       "4      3600\n",
       "11     3348\n",
       "24     3086\n",
       "38     3042\n",
       "32     3026\n",
       "36     2928\n",
       "27     2628\n",
       "35     2491\n",
       "17     2471\n",
       "5      2349\n",
       "20     2330\n",
       "43     1880\n",
       "42     1826\n",
       "15     1641\n",
       "45     1583\n",
       "37     1472\n",
       "16     1170\n",
       "28     1000\n",
       "44      969\n",
       "33      949\n",
       "6       909\n",
       "39      712\n",
       "31      581\n",
       "40      579\n",
       "34      527\n",
       "48      499\n",
       "25      493\n",
       "1       441\n",
       "41      406\n",
       "29      384\n",
       "47      304\n",
       "49      274\n",
       "46      222\n",
       "50        1\n",
       "Name: regionCode, dtype: Int64"
      ]
     },
     "execution_count": 14,
     "metadata": {},
     "output_type": "execute_result"
    }
   ],
   "source": [
    "test['regionCode'].value_counts().sort_values(ascending=False)"
   ]
  },
  {
   "cell_type": "code",
   "execution_count": 13,
   "metadata": {
    "ExecuteTime": {
     "end_time": "2020-09-17T02:05:22.520325Z",
     "start_time": "2020-09-17T02:05:22.503806Z"
    }
   },
   "outputs": [
    {
     "data": {
      "text/plain": [
       "134    8956\n",
       "19     8611\n",
       "51     8161\n",
       "31     7337\n",
       "4      7176\n",
       "       ... \n",
       "935       1\n",
       "886       1\n",
       "932       1\n",
       "933       1\n",
       "915       1\n",
       "Name: postCode, Length: 932, dtype: Int64"
      ]
     },
     "execution_count": 13,
     "metadata": {},
     "output_type": "execute_result"
    }
   ],
   "source": [
    "train['postCode'].value_counts().sort_values(ascending=False)"
   ]
  },
  {
   "cell_type": "code",
   "execution_count": 15,
   "metadata": {
    "ExecuteTime": {
     "end_time": "2020-09-17T02:07:52.656894Z",
     "start_time": "2020-09-17T02:07:52.636372Z"
    }
   },
   "outputs": [
    {
     "data": {
      "text/plain": [
       "134    2136\n",
       "19     2105\n",
       "51     2028\n",
       "31     1851\n",
       "4      1790\n",
       "       ... \n",
       "868       1\n",
       "889       1\n",
       "931       1\n",
       "850       1\n",
       "858       1\n",
       "Name: postCode, Length: 889, dtype: Int64"
      ]
     },
     "execution_count": 15,
     "metadata": {},
     "output_type": "execute_result"
    }
   ],
   "source": [
    "test['postCode'].value_counts().sort_values(ascending=False)"
   ]
  },
  {
   "cell_type": "code",
   "execution_count": 16,
   "metadata": {
    "ExecuteTime": {
     "end_time": "2020-09-17T05:03:23.849839Z",
     "start_time": "2020-09-17T04:50:30.256597Z"
    }
   },
   "outputs": [
    {
     "data": {
      "application/vnd.jupyter.widget-view+json": {
       "model_id": "fc960110d0e941dca16b40ba23947462",
       "version_major": 2,
       "version_minor": 0
      },
      "text/plain": [
       "HBox(children=(FloatProgress(value=0.0, description='Summarize dataset', max=62.0, style=ProgressStyle(descrip…"
      ]
     },
     "metadata": {},
     "output_type": "display_data"
    },
    {
     "name": "stdout",
     "output_type": "stream",
     "text": [
      "\n"
     ]
    },
    {
     "data": {
      "application/vnd.jupyter.widget-view+json": {
       "model_id": "8c91c3dec68d4bf192cf7c106e405e7e",
       "version_major": 2,
       "version_minor": 0
      },
      "text/plain": [
       "HBox(children=(FloatProgress(value=0.0, description='Generate report structure', max=1.0, style=ProgressStyle(…"
      ]
     },
     "metadata": {},
     "output_type": "display_data"
    },
    {
     "name": "stdout",
     "output_type": "stream",
     "text": [
      "\n"
     ]
    },
    {
     "data": {
      "application/vnd.jupyter.widget-view+json": {
       "model_id": "1e14c646dca54e5f88db88445be6bef5",
       "version_major": 2,
       "version_minor": 0
      },
      "text/plain": [
       "HBox(children=(FloatProgress(value=0.0, description='Render HTML', max=1.0, style=ProgressStyle(description_wi…"
      ]
     },
     "metadata": {},
     "output_type": "display_data"
    },
    {
     "name": "stdout",
     "output_type": "stream",
     "text": [
      "\n"
     ]
    },
    {
     "data": {
      "application/vnd.jupyter.widget-view+json": {
       "model_id": "1739c2cb5e76458e9770ab1f000d3ee9",
       "version_major": 2,
       "version_minor": 0
      },
      "text/plain": [
       "HBox(children=(FloatProgress(value=0.0, description='Export report to file', max=1.0, style=ProgressStyle(desc…"
      ]
     },
     "metadata": {},
     "output_type": "display_data"
    },
    {
     "name": "stdout",
     "output_type": "stream",
     "text": [
      "\n"
     ]
    }
   ],
   "source": [
    "import pandas_profiling\n",
    "pfr = pandas_profiling.ProfileReport(train)\n",
    "pfr.to_file(\"./traineg.html\")"
   ]
  },
  {
   "cell_type": "code",
   "execution_count": null,
   "metadata": {},
   "outputs": [],
   "source": []
  }
 ],
 "metadata": {
  "kernelspec": {
   "display_name": "kaggle",
   "language": "python",
   "name": "kaggle"
  },
  "language_info": {
   "codemirror_mode": {
    "name": "ipython",
    "version": 3
   },
   "file_extension": ".py",
   "mimetype": "text/x-python",
   "name": "python",
   "nbconvert_exporter": "python",
   "pygments_lexer": "ipython3",
   "version": "3.7.9"
  },
  "toc": {
   "base_numbering": 1,
   "nav_menu": {},
   "number_sections": true,
   "sideBar": true,
   "skip_h1_title": false,
   "title_cell": "Table of Contents",
   "title_sidebar": "Contents",
   "toc_cell": false,
   "toc_position": {},
   "toc_section_display": true,
   "toc_window_display": false
  },
  "varInspector": {
   "cols": {
    "lenName": 16,
    "lenType": 16,
    "lenVar": 40
   },
   "kernels_config": {
    "python": {
     "delete_cmd_postfix": "",
     "delete_cmd_prefix": "del ",
     "library": "var_list.py",
     "varRefreshCmd": "print(var_dic_list())"
    },
    "r": {
     "delete_cmd_postfix": ") ",
     "delete_cmd_prefix": "rm(",
     "library": "var_list.r",
     "varRefreshCmd": "cat(var_dic_list()) "
    }
   },
   "types_to_exclude": [
    "module",
    "function",
    "builtin_function_or_method",
    "instance",
    "_Feature"
   ],
   "window_display": false
  }
 },
 "nbformat": 4,
 "nbformat_minor": 4
}
