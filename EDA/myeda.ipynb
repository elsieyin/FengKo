{
 "cells": [
  {
   "cell_type": "code",
   "execution_count": 1,
   "metadata": {
    "ExecuteTime": {
     "end_time": "2020-09-17T06:04:32.719904Z",
     "start_time": "2020-09-17T06:04:31.907139Z"
    }
   },
   "outputs": [],
   "source": [
    "import pandas as pd\n",
    "import numpy as np\n",
    "import matplotlib.pyplot as plt\n",
    "import seaborn as sns\n",
    "import datetime\n",
    "import warnings\n",
    "import pickle\n",
    "warnings.filterwarnings('ignore')"
   ]
  },
  {
   "cell_type": "code",
   "execution_count": 2,
   "metadata": {
    "ExecuteTime": {
     "end_time": "2020-09-17T06:04:34.844320Z",
     "start_time": "2020-09-17T06:04:32.720905Z"
    }
   },
   "outputs": [],
   "source": [
    "train = pd.read_csv('../cf-train.csv',index_col=0) # 这里用的还是obj的grade\n",
    "test = pd.read_csv('../cf-testa.csv',index_col=0)"
   ]
  },
  {
   "cell_type": "code",
   "execution_count": null,
   "metadata": {},
   "outputs": [],
   "source": []
  },
  {
   "cell_type": "code",
   "execution_count": null,
   "metadata": {},
   "outputs": [],
   "source": []
  },
  {
   "cell_type": "code",
   "execution_count": null,
   "metadata": {},
   "outputs": [],
   "source": [
    "train['target'].value_counts().sort_index().plot(kind = 'bar')"
   ]
  },
  {
   "cell_type": "code",
   "execution_count": null,
   "metadata": {},
   "outputs": [],
   "source": []
  },
  {
   "cell_type": "code",
   "execution_count": null,
   "metadata": {},
   "outputs": [],
   "source": []
  },
  {
   "cell_type": "code",
   "execution_count": null,
   "metadata": {},
   "outputs": [],
   "source": []
  },
  {
   "cell_type": "code",
   "execution_count": 3,
   "metadata": {
    "ExecuteTime": {
     "end_time": "2020-09-17T06:04:34.859843Z",
     "start_time": "2020-09-17T06:04:34.845321Z"
    }
   },
   "outputs": [
    {
     "name": "stdout",
     "output_type": "stream",
     "text": [
      "Train data shape: (800000, 46)\n",
      "TestA data shape: (200000, 45)\n"
     ]
    }
   ],
   "source": [
    "print('Train data shape:',train.shape)\n",
    "print('TestA data shape:',test.shape)"
   ]
  },
  {
   "cell_type": "code",
   "execution_count": 4,
   "metadata": {
    "ExecuteTime": {
     "end_time": "2020-09-17T06:04:34.906732Z",
     "start_time": "2020-09-17T06:04:34.861845Z"
    }
   },
   "outputs": [
    {
     "data": {
      "text/html": [
       "<div>\n",
       "<style scoped>\n",
       "    .dataframe tbody tr th:only-of-type {\n",
       "        vertical-align: middle;\n",
       "    }\n",
       "\n",
       "    .dataframe tbody tr th {\n",
       "        vertical-align: top;\n",
       "    }\n",
       "\n",
       "    .dataframe thead th {\n",
       "        text-align: right;\n",
       "    }\n",
       "</style>\n",
       "<table border=\"1\" class=\"dataframe\">\n",
       "  <thead>\n",
       "    <tr style=\"text-align: right;\">\n",
       "      <th></th>\n",
       "      <th>id</th>\n",
       "      <th>loanAmnt</th>\n",
       "      <th>term</th>\n",
       "      <th>interestRate</th>\n",
       "      <th>installment</th>\n",
       "      <th>grade</th>\n",
       "      <th>subGrade</th>\n",
       "      <th>employmentTitle</th>\n",
       "      <th>employmentLength</th>\n",
       "      <th>homeOwnership</th>\n",
       "      <th>annualIncome</th>\n",
       "      <th>verificationStatus</th>\n",
       "      <th>issueDate</th>\n",
       "      <th>isDefault</th>\n",
       "      <th>purpose</th>\n",
       "      <th>postCode</th>\n",
       "      <th>regionCode</th>\n",
       "      <th>dti</th>\n",
       "      <th>delinquency_2years</th>\n",
       "      <th>ficoRangeLow</th>\n",
       "      <th>ficoRangeHigh</th>\n",
       "      <th>openAcc</th>\n",
       "      <th>pubRec</th>\n",
       "      <th>pubRecBankruptcies</th>\n",
       "      <th>revolBal</th>\n",
       "      <th>revolUtil</th>\n",
       "      <th>totalAcc</th>\n",
       "      <th>initialListStatus</th>\n",
       "      <th>applicationType</th>\n",
       "      <th>earliesCreditLine</th>\n",
       "      <th>title</th>\n",
       "      <th>n0</th>\n",
       "      <th>n1</th>\n",
       "      <th>n2</th>\n",
       "      <th>n4</th>\n",
       "      <th>n5</th>\n",
       "      <th>n6</th>\n",
       "      <th>n7</th>\n",
       "      <th>n8</th>\n",
       "      <th>n9</th>\n",
       "      <th>n10</th>\n",
       "      <th>n11</th>\n",
       "      <th>n12</th>\n",
       "      <th>n13</th>\n",
       "      <th>n14</th>\n",
       "      <th>issueDateDT</th>\n",
       "    </tr>\n",
       "  </thead>\n",
       "  <tbody>\n",
       "    <tr>\n",
       "      <th>0</th>\n",
       "      <td>0</td>\n",
       "      <td>35000</td>\n",
       "      <td>5</td>\n",
       "      <td>19.52</td>\n",
       "      <td>918.00</td>\n",
       "      <td>E</td>\n",
       "      <td>E2</td>\n",
       "      <td>320.0</td>\n",
       "      <td>64.0</td>\n",
       "      <td>2</td>\n",
       "      <td>110000.0</td>\n",
       "      <td>2</td>\n",
       "      <td>2014-07-01</td>\n",
       "      <td>1</td>\n",
       "      <td>1</td>\n",
       "      <td>137.0</td>\n",
       "      <td>32</td>\n",
       "      <td>17.05</td>\n",
       "      <td>0</td>\n",
       "      <td>730</td>\n",
       "      <td>734</td>\n",
       "      <td>7</td>\n",
       "      <td>0</td>\n",
       "      <td>0.0</td>\n",
       "      <td>24178</td>\n",
       "      <td>48.9</td>\n",
       "      <td>27</td>\n",
       "      <td>0</td>\n",
       "      <td>0</td>\n",
       "      <td>2001-08-01</td>\n",
       "      <td>1.0</td>\n",
       "      <td>0.0</td>\n",
       "      <td>2.0</td>\n",
       "      <td>2.0</td>\n",
       "      <td>4.0</td>\n",
       "      <td>9.0</td>\n",
       "      <td>8.0</td>\n",
       "      <td>4.0</td>\n",
       "      <td>12.0</td>\n",
       "      <td>2.0</td>\n",
       "      <td>7.0</td>\n",
       "      <td>0.0</td>\n",
       "      <td>0.0</td>\n",
       "      <td>0.0</td>\n",
       "      <td>2.0</td>\n",
       "      <td>2588.0</td>\n",
       "    </tr>\n",
       "    <tr>\n",
       "      <th>1</th>\n",
       "      <td>1</td>\n",
       "      <td>18000</td>\n",
       "      <td>5</td>\n",
       "      <td>18.48</td>\n",
       "      <td>462.00</td>\n",
       "      <td>D</td>\n",
       "      <td>D2</td>\n",
       "      <td>219843.0</td>\n",
       "      <td>-61.0</td>\n",
       "      <td>0</td>\n",
       "      <td>46000.0</td>\n",
       "      <td>2</td>\n",
       "      <td>2012-08-01</td>\n",
       "      <td>0</td>\n",
       "      <td>0</td>\n",
       "      <td>156.0</td>\n",
       "      <td>18</td>\n",
       "      <td>27.83</td>\n",
       "      <td>0</td>\n",
       "      <td>700</td>\n",
       "      <td>704</td>\n",
       "      <td>13</td>\n",
       "      <td>0</td>\n",
       "      <td>0.0</td>\n",
       "      <td>15096</td>\n",
       "      <td>38.9</td>\n",
       "      <td>18</td>\n",
       "      <td>1</td>\n",
       "      <td>0</td>\n",
       "      <td>2002-05-01</td>\n",
       "      <td>1723.0</td>\n",
       "      <td>NaN</td>\n",
       "      <td>NaN</td>\n",
       "      <td>NaN</td>\n",
       "      <td>10.0</td>\n",
       "      <td>NaN</td>\n",
       "      <td>NaN</td>\n",
       "      <td>NaN</td>\n",
       "      <td>NaN</td>\n",
       "      <td>NaN</td>\n",
       "      <td>13.0</td>\n",
       "      <td>NaN</td>\n",
       "      <td>NaN</td>\n",
       "      <td>NaN</td>\n",
       "      <td>NaN</td>\n",
       "      <td>1888.0</td>\n",
       "    </tr>\n",
       "    <tr>\n",
       "      <th>2</th>\n",
       "      <td>2</td>\n",
       "      <td>12000</td>\n",
       "      <td>5</td>\n",
       "      <td>16.98</td>\n",
       "      <td>298.20</td>\n",
       "      <td>D</td>\n",
       "      <td>D3</td>\n",
       "      <td>31698.0</td>\n",
       "      <td>-46.0</td>\n",
       "      <td>0</td>\n",
       "      <td>74000.0</td>\n",
       "      <td>2</td>\n",
       "      <td>2015-10-01</td>\n",
       "      <td>0</td>\n",
       "      <td>0</td>\n",
       "      <td>337.0</td>\n",
       "      <td>14</td>\n",
       "      <td>22.77</td>\n",
       "      <td>0</td>\n",
       "      <td>675</td>\n",
       "      <td>679</td>\n",
       "      <td>11</td>\n",
       "      <td>0</td>\n",
       "      <td>0.0</td>\n",
       "      <td>4606</td>\n",
       "      <td>51.8</td>\n",
       "      <td>27</td>\n",
       "      <td>0</td>\n",
       "      <td>0</td>\n",
       "      <td>2006-05-01</td>\n",
       "      <td>0.0</td>\n",
       "      <td>0.0</td>\n",
       "      <td>0.0</td>\n",
       "      <td>3.0</td>\n",
       "      <td>0.0</td>\n",
       "      <td>0.0</td>\n",
       "      <td>21.0</td>\n",
       "      <td>4.0</td>\n",
       "      <td>5.0</td>\n",
       "      <td>3.0</td>\n",
       "      <td>11.0</td>\n",
       "      <td>0.0</td>\n",
       "      <td>0.0</td>\n",
       "      <td>0.0</td>\n",
       "      <td>4.0</td>\n",
       "      <td>3044.0</td>\n",
       "    </tr>\n",
       "    <tr>\n",
       "      <th>3</th>\n",
       "      <td>3</td>\n",
       "      <td>11000</td>\n",
       "      <td>3</td>\n",
       "      <td>7.26</td>\n",
       "      <td>341.00</td>\n",
       "      <td>A</td>\n",
       "      <td>A4</td>\n",
       "      <td>46854.0</td>\n",
       "      <td>6.0</td>\n",
       "      <td>1</td>\n",
       "      <td>118000.0</td>\n",
       "      <td>1</td>\n",
       "      <td>2015-08-01</td>\n",
       "      <td>0</td>\n",
       "      <td>4</td>\n",
       "      <td>148.0</td>\n",
       "      <td>11</td>\n",
       "      <td>17.20</td>\n",
       "      <td>0</td>\n",
       "      <td>685</td>\n",
       "      <td>689</td>\n",
       "      <td>9</td>\n",
       "      <td>0</td>\n",
       "      <td>0.0</td>\n",
       "      <td>9948</td>\n",
       "      <td>52.6</td>\n",
       "      <td>28</td>\n",
       "      <td>1</td>\n",
       "      <td>0</td>\n",
       "      <td>1999-05-01</td>\n",
       "      <td>4.0</td>\n",
       "      <td>6.0</td>\n",
       "      <td>4.0</td>\n",
       "      <td>6.0</td>\n",
       "      <td>4.0</td>\n",
       "      <td>16.0</td>\n",
       "      <td>4.0</td>\n",
       "      <td>7.0</td>\n",
       "      <td>21.0</td>\n",
       "      <td>6.0</td>\n",
       "      <td>9.0</td>\n",
       "      <td>0.0</td>\n",
       "      <td>0.0</td>\n",
       "      <td>0.0</td>\n",
       "      <td>1.0</td>\n",
       "      <td>2984.0</td>\n",
       "    </tr>\n",
       "    <tr>\n",
       "      <th>4</th>\n",
       "      <td>4</td>\n",
       "      <td>3000</td>\n",
       "      <td>3</td>\n",
       "      <td>12.99</td>\n",
       "      <td>101.06</td>\n",
       "      <td>C</td>\n",
       "      <td>C2</td>\n",
       "      <td>54.0</td>\n",
       "      <td>54.0</td>\n",
       "      <td>1</td>\n",
       "      <td>29000.0</td>\n",
       "      <td>2</td>\n",
       "      <td>2016-03-01</td>\n",
       "      <td>0</td>\n",
       "      <td>10</td>\n",
       "      <td>301.0</td>\n",
       "      <td>21</td>\n",
       "      <td>32.16</td>\n",
       "      <td>0</td>\n",
       "      <td>690</td>\n",
       "      <td>694</td>\n",
       "      <td>12</td>\n",
       "      <td>0</td>\n",
       "      <td>0.0</td>\n",
       "      <td>2942</td>\n",
       "      <td>32.0</td>\n",
       "      <td>27</td>\n",
       "      <td>0</td>\n",
       "      <td>0</td>\n",
       "      <td>1977-08-01</td>\n",
       "      <td>11.0</td>\n",
       "      <td>1.0</td>\n",
       "      <td>2.0</td>\n",
       "      <td>7.0</td>\n",
       "      <td>2.0</td>\n",
       "      <td>4.0</td>\n",
       "      <td>9.0</td>\n",
       "      <td>10.0</td>\n",
       "      <td>15.0</td>\n",
       "      <td>7.0</td>\n",
       "      <td>12.0</td>\n",
       "      <td>0.0</td>\n",
       "      <td>0.0</td>\n",
       "      <td>0.0</td>\n",
       "      <td>4.0</td>\n",
       "      <td>3196.0</td>\n",
       "    </tr>\n",
       "    <tr>\n",
       "      <th>5</th>\n",
       "      <td>5</td>\n",
       "      <td>11000</td>\n",
       "      <td>3</td>\n",
       "      <td>7.99</td>\n",
       "      <td>344.80</td>\n",
       "      <td>A</td>\n",
       "      <td>A5</td>\n",
       "      <td>51727.0</td>\n",
       "      <td>15.0</td>\n",
       "      <td>0</td>\n",
       "      <td>39000.0</td>\n",
       "      <td>2</td>\n",
       "      <td>2017-04-01</td>\n",
       "      <td>0</td>\n",
       "      <td>9</td>\n",
       "      <td>512.0</td>\n",
       "      <td>21</td>\n",
       "      <td>17.14</td>\n",
       "      <td>0</td>\n",
       "      <td>730</td>\n",
       "      <td>734</td>\n",
       "      <td>19</td>\n",
       "      <td>0</td>\n",
       "      <td>0.0</td>\n",
       "      <td>4047</td>\n",
       "      <td>31.1</td>\n",
       "      <td>52</td>\n",
       "      <td>1</td>\n",
       "      <td>0</td>\n",
       "      <td>1998-07-01</td>\n",
       "      <td>10.0</td>\n",
       "      <td>12.0</td>\n",
       "      <td>1.0</td>\n",
       "      <td>2.0</td>\n",
       "      <td>1.0</td>\n",
       "      <td>1.0</td>\n",
       "      <td>48.0</td>\n",
       "      <td>2.0</td>\n",
       "      <td>3.0</td>\n",
       "      <td>2.0</td>\n",
       "      <td>19.0</td>\n",
       "      <td>0.0</td>\n",
       "      <td>0.0</td>\n",
       "      <td>0.0</td>\n",
       "      <td>0.0</td>\n",
       "      <td>3592.0</td>\n",
       "    </tr>\n",
       "    <tr>\n",
       "      <th>6</th>\n",
       "      <td>6</td>\n",
       "      <td>2050</td>\n",
       "      <td>3</td>\n",
       "      <td>7.69</td>\n",
       "      <td>63.94</td>\n",
       "      <td>A</td>\n",
       "      <td>A4</td>\n",
       "      <td>180083.0</td>\n",
       "      <td>115.0</td>\n",
       "      <td>0</td>\n",
       "      <td>35000.0</td>\n",
       "      <td>0</td>\n",
       "      <td>2014-10-01</td>\n",
       "      <td>0</td>\n",
       "      <td>0</td>\n",
       "      <td>517.0</td>\n",
       "      <td>14</td>\n",
       "      <td>17.48</td>\n",
       "      <td>0</td>\n",
       "      <td>755</td>\n",
       "      <td>759</td>\n",
       "      <td>12</td>\n",
       "      <td>0</td>\n",
       "      <td>0.0</td>\n",
       "      <td>3111</td>\n",
       "      <td>8.5</td>\n",
       "      <td>23</td>\n",
       "      <td>0</td>\n",
       "      <td>0</td>\n",
       "      <td>2006-10-01</td>\n",
       "      <td>0.0</td>\n",
       "      <td>0.0</td>\n",
       "      <td>1.0</td>\n",
       "      <td>3.0</td>\n",
       "      <td>7.0</td>\n",
       "      <td>11.0</td>\n",
       "      <td>3.0</td>\n",
       "      <td>10.0</td>\n",
       "      <td>18.0</td>\n",
       "      <td>3.0</td>\n",
       "      <td>12.0</td>\n",
       "      <td>0.0</td>\n",
       "      <td>0.0</td>\n",
       "      <td>0.0</td>\n",
       "      <td>3.0</td>\n",
       "      <td>2680.0</td>\n",
       "    </tr>\n",
       "    <tr>\n",
       "      <th>7</th>\n",
       "      <td>7</td>\n",
       "      <td>11500</td>\n",
       "      <td>3</td>\n",
       "      <td>14.98</td>\n",
       "      <td>398.50</td>\n",
       "      <td>C</td>\n",
       "      <td>C3</td>\n",
       "      <td>214017.0</td>\n",
       "      <td>1.0</td>\n",
       "      <td>1</td>\n",
       "      <td>30000.0</td>\n",
       "      <td>2</td>\n",
       "      <td>2014-01-01</td>\n",
       "      <td>0</td>\n",
       "      <td>0</td>\n",
       "      <td>100.0</td>\n",
       "      <td>4</td>\n",
       "      <td>32.60</td>\n",
       "      <td>0</td>\n",
       "      <td>665</td>\n",
       "      <td>669</td>\n",
       "      <td>8</td>\n",
       "      <td>1</td>\n",
       "      <td>1.0</td>\n",
       "      <td>14021</td>\n",
       "      <td>59.7</td>\n",
       "      <td>33</td>\n",
       "      <td>1</td>\n",
       "      <td>0</td>\n",
       "      <td>1994-12-01</td>\n",
       "      <td>0.0</td>\n",
       "      <td>0.0</td>\n",
       "      <td>4.0</td>\n",
       "      <td>4.0</td>\n",
       "      <td>4.0</td>\n",
       "      <td>16.0</td>\n",
       "      <td>10.0</td>\n",
       "      <td>5.0</td>\n",
       "      <td>21.0</td>\n",
       "      <td>4.0</td>\n",
       "      <td>8.0</td>\n",
       "      <td>0.0</td>\n",
       "      <td>0.0</td>\n",
       "      <td>0.0</td>\n",
       "      <td>2.0</td>\n",
       "      <td>2406.0</td>\n",
       "    </tr>\n",
       "    <tr>\n",
       "      <th>8</th>\n",
       "      <td>8</td>\n",
       "      <td>12000</td>\n",
       "      <td>3</td>\n",
       "      <td>12.99</td>\n",
       "      <td>404.20</td>\n",
       "      <td>C</td>\n",
       "      <td>C2</td>\n",
       "      <td>188.0</td>\n",
       "      <td>-68.0</td>\n",
       "      <td>2</td>\n",
       "      <td>60000.0</td>\n",
       "      <td>1</td>\n",
       "      <td>2016-05-01</td>\n",
       "      <td>1</td>\n",
       "      <td>0</td>\n",
       "      <td>792.0</td>\n",
       "      <td>13</td>\n",
       "      <td>19.22</td>\n",
       "      <td>0</td>\n",
       "      <td>690</td>\n",
       "      <td>694</td>\n",
       "      <td>15</td>\n",
       "      <td>0</td>\n",
       "      <td>0.0</td>\n",
       "      <td>27176</td>\n",
       "      <td>46.0</td>\n",
       "      <td>21</td>\n",
       "      <td>1</td>\n",
       "      <td>0</td>\n",
       "      <td>1994-04-01</td>\n",
       "      <td>0.0</td>\n",
       "      <td>0.0</td>\n",
       "      <td>7.0</td>\n",
       "      <td>13.0</td>\n",
       "      <td>7.0</td>\n",
       "      <td>7.0</td>\n",
       "      <td>2.0</td>\n",
       "      <td>13.0</td>\n",
       "      <td>17.0</td>\n",
       "      <td>11.0</td>\n",
       "      <td>15.0</td>\n",
       "      <td>NaN</td>\n",
       "      <td>0.0</td>\n",
       "      <td>0.0</td>\n",
       "      <td>6.0</td>\n",
       "      <td>3256.0</td>\n",
       "    </tr>\n",
       "    <tr>\n",
       "      <th>9</th>\n",
       "      <td>9</td>\n",
       "      <td>6500</td>\n",
       "      <td>3</td>\n",
       "      <td>10.99</td>\n",
       "      <td>212.80</td>\n",
       "      <td>B</td>\n",
       "      <td>B4</td>\n",
       "      <td>54.0</td>\n",
       "      <td>54.0</td>\n",
       "      <td>1</td>\n",
       "      <td>15300.0</td>\n",
       "      <td>2</td>\n",
       "      <td>2015-11-01</td>\n",
       "      <td>0</td>\n",
       "      <td>0</td>\n",
       "      <td>59.0</td>\n",
       "      <td>11</td>\n",
       "      <td>24.39</td>\n",
       "      <td>0</td>\n",
       "      <td>725</td>\n",
       "      <td>729</td>\n",
       "      <td>7</td>\n",
       "      <td>0</td>\n",
       "      <td>0.0</td>\n",
       "      <td>2936</td>\n",
       "      <td>30.6</td>\n",
       "      <td>63</td>\n",
       "      <td>0</td>\n",
       "      <td>0</td>\n",
       "      <td>1993-01-01</td>\n",
       "      <td>0.0</td>\n",
       "      <td>0.0</td>\n",
       "      <td>4.0</td>\n",
       "      <td>5.0</td>\n",
       "      <td>4.0</td>\n",
       "      <td>21.0</td>\n",
       "      <td>24.0</td>\n",
       "      <td>6.0</td>\n",
       "      <td>39.0</td>\n",
       "      <td>5.0</td>\n",
       "      <td>7.0</td>\n",
       "      <td>0.0</td>\n",
       "      <td>0.0</td>\n",
       "      <td>0.0</td>\n",
       "      <td>8.0</td>\n",
       "      <td>3076.0</td>\n",
       "    </tr>\n",
       "  </tbody>\n",
       "</table>\n",
       "</div>"
      ],
      "text/plain": [
       "   id  loanAmnt  term  interestRate  installment grade subGrade  \\\n",
       "0   0     35000     5         19.52       918.00     E       E2   \n",
       "1   1     18000     5         18.48       462.00     D       D2   \n",
       "2   2     12000     5         16.98       298.20     D       D3   \n",
       "3   3     11000     3          7.26       341.00     A       A4   \n",
       "4   4      3000     3         12.99       101.06     C       C2   \n",
       "5   5     11000     3          7.99       344.80     A       A5   \n",
       "6   6      2050     3          7.69        63.94     A       A4   \n",
       "7   7     11500     3         14.98       398.50     C       C3   \n",
       "8   8     12000     3         12.99       404.20     C       C2   \n",
       "9   9      6500     3         10.99       212.80     B       B4   \n",
       "\n",
       "   employmentTitle  employmentLength  homeOwnership  annualIncome  \\\n",
       "0            320.0              64.0              2      110000.0   \n",
       "1         219843.0             -61.0              0       46000.0   \n",
       "2          31698.0             -46.0              0       74000.0   \n",
       "3          46854.0               6.0              1      118000.0   \n",
       "4             54.0              54.0              1       29000.0   \n",
       "5          51727.0              15.0              0       39000.0   \n",
       "6         180083.0             115.0              0       35000.0   \n",
       "7         214017.0               1.0              1       30000.0   \n",
       "8            188.0             -68.0              2       60000.0   \n",
       "9             54.0              54.0              1       15300.0   \n",
       "\n",
       "   verificationStatus   issueDate  isDefault  purpose  postCode  regionCode  \\\n",
       "0                   2  2014-07-01          1        1     137.0          32   \n",
       "1                   2  2012-08-01          0        0     156.0          18   \n",
       "2                   2  2015-10-01          0        0     337.0          14   \n",
       "3                   1  2015-08-01          0        4     148.0          11   \n",
       "4                   2  2016-03-01          0       10     301.0          21   \n",
       "5                   2  2017-04-01          0        9     512.0          21   \n",
       "6                   0  2014-10-01          0        0     517.0          14   \n",
       "7                   2  2014-01-01          0        0     100.0           4   \n",
       "8                   1  2016-05-01          1        0     792.0          13   \n",
       "9                   2  2015-11-01          0        0      59.0          11   \n",
       "\n",
       "     dti  delinquency_2years  ficoRangeLow  ficoRangeHigh  openAcc  pubRec  \\\n",
       "0  17.05                   0           730            734        7       0   \n",
       "1  27.83                   0           700            704       13       0   \n",
       "2  22.77                   0           675            679       11       0   \n",
       "3  17.20                   0           685            689        9       0   \n",
       "4  32.16                   0           690            694       12       0   \n",
       "5  17.14                   0           730            734       19       0   \n",
       "6  17.48                   0           755            759       12       0   \n",
       "7  32.60                   0           665            669        8       1   \n",
       "8  19.22                   0           690            694       15       0   \n",
       "9  24.39                   0           725            729        7       0   \n",
       "\n",
       "   pubRecBankruptcies  revolBal  revolUtil  totalAcc  initialListStatus  \\\n",
       "0                 0.0     24178       48.9        27                  0   \n",
       "1                 0.0     15096       38.9        18                  1   \n",
       "2                 0.0      4606       51.8        27                  0   \n",
       "3                 0.0      9948       52.6        28                  1   \n",
       "4                 0.0      2942       32.0        27                  0   \n",
       "5                 0.0      4047       31.1        52                  1   \n",
       "6                 0.0      3111        8.5        23                  0   \n",
       "7                 1.0     14021       59.7        33                  1   \n",
       "8                 0.0     27176       46.0        21                  1   \n",
       "9                 0.0      2936       30.6        63                  0   \n",
       "\n",
       "   applicationType earliesCreditLine   title    n0   n1    n2    n4    n5  \\\n",
       "0                0        2001-08-01     1.0   0.0  2.0   2.0   4.0   9.0   \n",
       "1                0        2002-05-01  1723.0   NaN  NaN   NaN  10.0   NaN   \n",
       "2                0        2006-05-01     0.0   0.0  0.0   3.0   0.0   0.0   \n",
       "3                0        1999-05-01     4.0   6.0  4.0   6.0   4.0  16.0   \n",
       "4                0        1977-08-01    11.0   1.0  2.0   7.0   2.0   4.0   \n",
       "5                0        1998-07-01    10.0  12.0  1.0   2.0   1.0   1.0   \n",
       "6                0        2006-10-01     0.0   0.0  1.0   3.0   7.0  11.0   \n",
       "7                0        1994-12-01     0.0   0.0  4.0   4.0   4.0  16.0   \n",
       "8                0        1994-04-01     0.0   0.0  7.0  13.0   7.0   7.0   \n",
       "9                0        1993-01-01     0.0   0.0  4.0   5.0   4.0  21.0   \n",
       "\n",
       "     n6    n7    n8    n9   n10  n11  n12  n13  n14  issueDateDT  \n",
       "0   8.0   4.0  12.0   2.0   7.0  0.0  0.0  0.0  2.0       2588.0  \n",
       "1   NaN   NaN   NaN   NaN  13.0  NaN  NaN  NaN  NaN       1888.0  \n",
       "2  21.0   4.0   5.0   3.0  11.0  0.0  0.0  0.0  4.0       3044.0  \n",
       "3   4.0   7.0  21.0   6.0   9.0  0.0  0.0  0.0  1.0       2984.0  \n",
       "4   9.0  10.0  15.0   7.0  12.0  0.0  0.0  0.0  4.0       3196.0  \n",
       "5  48.0   2.0   3.0   2.0  19.0  0.0  0.0  0.0  0.0       3592.0  \n",
       "6   3.0  10.0  18.0   3.0  12.0  0.0  0.0  0.0  3.0       2680.0  \n",
       "7  10.0   5.0  21.0   4.0   8.0  0.0  0.0  0.0  2.0       2406.0  \n",
       "8   2.0  13.0  17.0  11.0  15.0  NaN  0.0  0.0  6.0       3256.0  \n",
       "9  24.0   6.0  39.0   5.0   7.0  0.0  0.0  0.0  8.0       3076.0  "
      ]
     },
     "execution_count": 4,
     "metadata": {},
     "output_type": "execute_result"
    }
   ],
   "source": [
    "pd.set_option('display.max_columns', None)\n",
    "train.head(10)"
   ]
  },
  {
   "cell_type": "code",
   "execution_count": 5,
   "metadata": {
    "ExecuteTime": {
     "end_time": "2020-09-17T06:04:35.079989Z",
     "start_time": "2020-09-17T06:04:34.907744Z"
    }
   },
   "outputs": [
    {
     "name": "stdout",
     "output_type": "stream",
     "text": [
      "<class 'pandas.core.frame.DataFrame'>\n",
      "Int64Index: 800000 entries, 0 to 799999\n",
      "Data columns (total 46 columns):\n",
      " #   Column              Non-Null Count   Dtype  \n",
      "---  ------              --------------   -----  \n",
      " 0   id                  800000 non-null  int64  \n",
      " 1   loanAmnt            800000 non-null  int64  \n",
      " 2   term                800000 non-null  int64  \n",
      " 3   interestRate        800000 non-null  float64\n",
      " 4   installment         800000 non-null  float64\n",
      " 5   grade               800000 non-null  object \n",
      " 6   subGrade            800000 non-null  object \n",
      " 7   employmentTitle     799999 non-null  float64\n",
      " 8   employmentLength    799999 non-null  float64\n",
      " 9   homeOwnership       800000 non-null  int64  \n",
      " 10  annualIncome        800000 non-null  float64\n",
      " 11  verificationStatus  800000 non-null  int64  \n",
      " 12  issueDate           800000 non-null  object \n",
      " 13  isDefault           800000 non-null  int64  \n",
      " 14  purpose             800000 non-null  int64  \n",
      " 15  postCode            799999 non-null  float64\n",
      " 16  regionCode          800000 non-null  int64  \n",
      " 17  dti                 799761 non-null  float64\n",
      " 18  delinquency_2years  800000 non-null  int64  \n",
      " 19  ficoRangeLow        800000 non-null  int64  \n",
      " 20  ficoRangeHigh       800000 non-null  int64  \n",
      " 21  openAcc             800000 non-null  int64  \n",
      " 22  pubRec              800000 non-null  int64  \n",
      " 23  pubRecBankruptcies  799595 non-null  float64\n",
      " 24  revolBal            800000 non-null  int64  \n",
      " 25  revolUtil           799469 non-null  float64\n",
      " 26  totalAcc            800000 non-null  int64  \n",
      " 27  initialListStatus   800000 non-null  int64  \n",
      " 28  applicationType     800000 non-null  int64  \n",
      " 29  earliesCreditLine   800000 non-null  object \n",
      " 30  title               799999 non-null  float64\n",
      " 31  n0                  759730 non-null  float64\n",
      " 32  n1                  759730 non-null  float64\n",
      " 33  n2                  759730 non-null  float64\n",
      " 34  n4                  766761 non-null  float64\n",
      " 35  n5                  759730 non-null  float64\n",
      " 36  n6                  759730 non-null  float64\n",
      " 37  n7                  759730 non-null  float64\n",
      " 38  n8                  759729 non-null  float64\n",
      " 39  n9                  759730 non-null  float64\n",
      " 40  n10                 766761 non-null  float64\n",
      " 41  n11                 730248 non-null  float64\n",
      " 42  n12                 759730 non-null  float64\n",
      " 43  n13                 759730 non-null  float64\n",
      " 44  n14                 759730 non-null  float64\n",
      " 45  issueDateDT         800000 non-null  float64\n",
      "dtypes: float64(25), int64(17), object(4)\n",
      "memory usage: 286.9+ MB\n"
     ]
    }
   ],
   "source": [
    "train.info()"
   ]
  },
  {
   "cell_type": "markdown",
   "metadata": {},
   "source": [
    "### grade & subgrade"
   ]
  },
  {
   "cell_type": "code",
   "execution_count": 6,
   "metadata": {
    "ExecuteTime": {
     "end_time": "2020-09-17T06:04:35.142038Z",
     "start_time": "2020-09-17T06:04:35.080990Z"
    }
   },
   "outputs": [
    {
     "data": {
      "text/plain": [
       "A1    25909\n",
       "A2    22124\n",
       "A3    22655\n",
       "A4    30928\n",
       "A5    38045\n",
       "B1    42382\n",
       "B2    44227\n",
       "B3    48600\n",
       "B4    49516\n",
       "B5    48965\n",
       "C1    50763\n",
       "C2    47068\n",
       "C3    44751\n",
       "C4    44272\n",
       "C5    40264\n",
       "D1    30538\n",
       "D2    26528\n",
       "D3    23410\n",
       "D4    21139\n",
       "D5    17838\n",
       "E1    14064\n",
       "E2    12746\n",
       "E3    10925\n",
       "E4     9273\n",
       "E5     8653\n",
       "F1     5925\n",
       "F2     4340\n",
       "F3     3577\n",
       "F4     2859\n",
       "F5     2352\n",
       "G1     1759\n",
       "G2     1231\n",
       "G3      978\n",
       "G4      751\n",
       "G5      645\n",
       "Name: subGrade, dtype: int64"
      ]
     },
     "execution_count": 6,
     "metadata": {},
     "output_type": "execute_result"
    }
   ],
   "source": [
    "train['subGrade'].value_counts().sort_index()"
   ]
  },
  {
   "cell_type": "markdown",
   "metadata": {},
   "source": [
    "### 就是每一组，不还的占比"
   ]
  },
  {
   "cell_type": "code",
   "execution_count": 7,
   "metadata": {
    "ExecuteTime": {
     "end_time": "2020-09-17T06:04:35.204961Z",
     "start_time": "2020-09-17T06:04:35.143039Z"
    }
   },
   "outputs": [
    {
     "data": {
      "text/plain": [
       "C1    50763\n",
       "B4    49516\n",
       "B5    48965\n",
       "B3    48600\n",
       "C2    47068\n",
       "C3    44751\n",
       "C4    44272\n",
       "B2    44227\n",
       "B1    42382\n",
       "C5    40264\n",
       "A5    38045\n",
       "A4    30928\n",
       "D1    30538\n",
       "D2    26528\n",
       "A1    25909\n",
       "D3    23410\n",
       "A3    22655\n",
       "A2    22124\n",
       "D4    21139\n",
       "D5    17838\n",
       "E1    14064\n",
       "E2    12746\n",
       "E3    10925\n",
       "E4     9273\n",
       "E5     8653\n",
       "F1     5925\n",
       "F2     4340\n",
       "F3     3577\n",
       "F4     2859\n",
       "F5     2352\n",
       "G1     1759\n",
       "G2     1231\n",
       "G3      978\n",
       "G4      751\n",
       "G5      645\n",
       "Name: subGrade, dtype: int64"
      ]
     },
     "execution_count": 7,
     "metadata": {},
     "output_type": "execute_result"
    }
   ],
   "source": [
    "train['subGrade'].value_counts().sort_values(ascending=False)"
   ]
  },
  {
   "cell_type": "code",
   "execution_count": 8,
   "metadata": {
    "ExecuteTime": {
     "end_time": "2020-09-17T06:04:35.267150Z",
     "start_time": "2020-09-17T06:04:35.206963Z"
    }
   },
   "outputs": [
    {
     "data": {
      "text/plain": [
       "54.0        51149\n",
       "38.0        12644\n",
       "32.0        11543\n",
       "184.0        6112\n",
       "151.0        5193\n",
       "            ...  \n",
       "42012.0         1\n",
       "41984.0         1\n",
       "52857.0         1\n",
       "119041.0        1\n",
       "52118.0         1\n",
       "Name: employmentTitle, Length: 248683, dtype: int64"
      ]
     },
     "execution_count": 8,
     "metadata": {},
     "output_type": "execute_result"
    }
   ],
   "source": [
    "train['employmentTitle'].value_counts().sort_values(ascending=False)"
   ]
  },
  {
   "cell_type": "code",
   "execution_count": 9,
   "metadata": {
    "ExecuteTime": {
     "end_time": "2020-09-17T06:04:35.298200Z",
     "start_time": "2020-09-17T06:04:35.269141Z"
    }
   },
   "outputs": [
    {
     "data": {
      "text/plain": [
       "54        12829\n",
       "38         3234\n",
       "32         2979\n",
       "184        1527\n",
       "151        1340\n",
       "          ...  \n",
       "358868        1\n",
       "84434         1\n",
       "88528         1\n",
       "371150        1\n",
       "56079         1\n",
       "Name: employmentTitle, Length: 79282, dtype: int64"
      ]
     },
     "execution_count": 9,
     "metadata": {},
     "output_type": "execute_result"
    }
   ],
   "source": [
    "test['employmentTitle'].value_counts().sort_values(ascending=False)"
   ]
  },
  {
   "cell_type": "code",
   "execution_count": 10,
   "metadata": {
    "ExecuteTime": {
     "end_time": "2020-09-17T06:04:35.313188Z",
     "start_time": "2020-09-17T06:04:35.299172Z"
    }
   },
   "outputs": [
    {
     "data": {
      "text/plain": [
       "0     464096\n",
       "4     175433\n",
       "2      52129\n",
       "5      46276\n",
       "3      17579\n",
       "9       9238\n",
       "1       9106\n",
       "8       8657\n",
       "10      5652\n",
       "7       5373\n",
       "6       4354\n",
       "12      1363\n",
       "11       554\n",
       "13       190\n",
       "Name: purpose, dtype: int64"
      ]
     },
     "execution_count": 10,
     "metadata": {},
     "output_type": "execute_result"
    }
   ],
   "source": [
    "train['purpose'].value_counts().sort_values(ascending=False)"
   ]
  },
  {
   "cell_type": "code",
   "execution_count": 11,
   "metadata": {
    "ExecuteTime": {
     "end_time": "2020-09-17T06:04:35.329020Z",
     "start_time": "2020-09-17T06:04:35.314190Z"
    }
   },
   "outputs": [
    {
     "data": {
      "text/plain": [
       "0     116130\n",
       "4      43898\n",
       "2      12936\n",
       "5      11504\n",
       "3       4442\n",
       "9       2322\n",
       "1       2263\n",
       "8       2155\n",
       "10      1396\n",
       "7       1357\n",
       "6       1062\n",
       "12       339\n",
       "11       138\n",
       "13        58\n",
       "Name: purpose, dtype: int64"
      ]
     },
     "execution_count": 11,
     "metadata": {},
     "output_type": "execute_result"
    }
   ],
   "source": [
    "test['purpose'].value_counts().sort_values(ascending=False)"
   ]
  },
  {
   "cell_type": "code",
   "execution_count": 12,
   "metadata": {
    "ExecuteTime": {
     "end_time": "2020-09-17T06:04:35.345037Z",
     "start_time": "2020-09-17T06:04:35.330021Z"
    }
   },
   "outputs": [
    {
     "data": {
      "text/plain": [
       "8     116921\n",
       "14     65768\n",
       "13     65041\n",
       "21     56671\n",
       "2      30513\n",
       "30     28634\n",
       "0      27180\n",
       "19     26198\n",
       "3      25766\n",
       "9      22902\n",
       "7      22600\n",
       "23     20919\n",
       "10     19604\n",
       "12     18543\n",
       "26     18432\n",
       "22     17722\n",
       "18     17286\n",
       "4      14177\n",
       "11     12929\n",
       "24     12776\n",
       "32     12065\n",
       "38     11982\n",
       "36     11644\n",
       "27     10521\n",
       "17      9863\n",
       "35      9669\n",
       "5       9581\n",
       "20      9124\n",
       "43      7701\n",
       "42      7267\n",
       "15      6690\n",
       "37      5998\n",
       "45      5932\n",
       "16      4325\n",
       "28      4036\n",
       "44      3963\n",
       "33      3817\n",
       "6       3496\n",
       "39      2943\n",
       "40      2287\n",
       "31      2261\n",
       "34      2136\n",
       "25      2102\n",
       "48      1880\n",
       "41      1778\n",
       "1       1624\n",
       "29      1560\n",
       "47      1213\n",
       "49      1001\n",
       "46       953\n",
       "50         6\n",
       "Name: regionCode, dtype: int64"
      ]
     },
     "execution_count": 12,
     "metadata": {},
     "output_type": "execute_result"
    }
   ],
   "source": [
    "train['regionCode'].value_counts().sort_values(ascending=False)"
   ]
  },
  {
   "cell_type": "code",
   "execution_count": 13,
   "metadata": {
    "ExecuteTime": {
     "end_time": "2020-09-17T06:04:35.361055Z",
     "start_time": "2020-09-17T06:04:35.346037Z"
    }
   },
   "outputs": [
    {
     "data": {
      "text/plain": [
       "8     29031\n",
       "13    16309\n",
       "14    16249\n",
       "21    14492\n",
       "2      7666\n",
       "30     7299\n",
       "0      6821\n",
       "19     6429\n",
       "3      6358\n",
       "7      5633\n",
       "9      5607\n",
       "23     5327\n",
       "10     4747\n",
       "26     4654\n",
       "12     4577\n",
       "22     4394\n",
       "18     4286\n",
       "4      3600\n",
       "11     3348\n",
       "24     3086\n",
       "38     3042\n",
       "32     3026\n",
       "36     2928\n",
       "27     2628\n",
       "35     2491\n",
       "17     2471\n",
       "5      2349\n",
       "20     2330\n",
       "43     1880\n",
       "42     1826\n",
       "15     1641\n",
       "45     1583\n",
       "37     1472\n",
       "16     1170\n",
       "28     1000\n",
       "44      969\n",
       "33      949\n",
       "6       909\n",
       "39      712\n",
       "31      581\n",
       "40      579\n",
       "34      527\n",
       "48      499\n",
       "25      493\n",
       "1       441\n",
       "41      406\n",
       "29      384\n",
       "47      304\n",
       "49      274\n",
       "46      222\n",
       "50        1\n",
       "Name: regionCode, dtype: int64"
      ]
     },
     "execution_count": 13,
     "metadata": {},
     "output_type": "execute_result"
    }
   ],
   "source": [
    "test['regionCode'].value_counts().sort_values(ascending=False)"
   ]
  },
  {
   "cell_type": "code",
   "execution_count": 14,
   "metadata": {
    "ExecuteTime": {
     "end_time": "2020-09-17T06:04:35.391244Z",
     "start_time": "2020-09-17T06:04:35.362056Z"
    }
   },
   "outputs": [
    {
     "data": {
      "text/plain": [
       "134.0    8956\n",
       "19.0     8611\n",
       "51.0     8161\n",
       "31.0     7337\n",
       "4.0      7176\n",
       "         ... \n",
       "877.0       1\n",
       "856.0       1\n",
       "907.0       1\n",
       "884.0       1\n",
       "916.0       1\n",
       "Name: postCode, Length: 932, dtype: int64"
      ]
     },
     "execution_count": 14,
     "metadata": {},
     "output_type": "execute_result"
    }
   ],
   "source": [
    "train['postCode'].value_counts().sort_values(ascending=False)"
   ]
  },
  {
   "cell_type": "code",
   "execution_count": 15,
   "metadata": {
    "ExecuteTime": {
     "end_time": "2020-09-17T06:04:35.407260Z",
     "start_time": "2020-09-17T06:04:35.392245Z"
    }
   },
   "outputs": [
    {
     "data": {
      "text/plain": [
       "134    2136\n",
       "19     2105\n",
       "51     2028\n",
       "31     1851\n",
       "4      1790\n",
       "       ... \n",
       "886       1\n",
       "821       1\n",
       "896       1\n",
       "887       1\n",
       "858       1\n",
       "Name: postCode, Length: 889, dtype: int64"
      ]
     },
     "execution_count": 15,
     "metadata": {},
     "output_type": "execute_result"
    }
   ],
   "source": [
    "test['postCode'].value_counts().sort_values(ascending=False)"
   ]
  },
  {
   "cell_type": "code",
   "execution_count": 19,
   "metadata": {
    "ExecuteTime": {
     "end_time": "2020-09-17T06:45:45.987175Z",
     "start_time": "2020-09-17T06:34:12.401205Z"
    }
   },
   "outputs": [
    {
     "data": {
      "application/vnd.jupyter.widget-view+json": {
       "model_id": "ba6a782694384573b1e4191cd72b17bf",
       "version_major": 2,
       "version_minor": 0
      },
      "text/plain": [
       "HBox(children=(FloatProgress(value=0.0, description='Summarize dataset', max=60.0, style=ProgressStyle(descrip…"
      ]
     },
     "metadata": {},
     "output_type": "display_data"
    },
    {
     "name": "stdout",
     "output_type": "stream",
     "text": [
      "\n"
     ]
    },
    {
     "data": {
      "application/vnd.jupyter.widget-view+json": {
       "model_id": "28707c41ee9443e1b1f1e33e4bb27e26",
       "version_major": 2,
       "version_minor": 0
      },
      "text/plain": [
       "HBox(children=(FloatProgress(value=0.0, description='Generate report structure', max=1.0, style=ProgressStyle(…"
      ]
     },
     "metadata": {},
     "output_type": "display_data"
    },
    {
     "name": "stdout",
     "output_type": "stream",
     "text": [
      "\n"
     ]
    },
    {
     "data": {
      "application/vnd.jupyter.widget-view+json": {
       "model_id": "e7f855636572412eba7c7d4b8cb4edab",
       "version_major": 2,
       "version_minor": 0
      },
      "text/plain": [
       "HBox(children=(FloatProgress(value=0.0, description='Render HTML', max=1.0, style=ProgressStyle(description_wi…"
      ]
     },
     "metadata": {},
     "output_type": "display_data"
    },
    {
     "name": "stdout",
     "output_type": "stream",
     "text": [
      "\n"
     ]
    },
    {
     "data": {
      "application/vnd.jupyter.widget-view+json": {
       "model_id": "6d5f34256e4e4f05abc4eeb72d49086d",
       "version_major": 2,
       "version_minor": 0
      },
      "text/plain": [
       "HBox(children=(FloatProgress(value=0.0, description='Export report to file', max=1.0, style=ProgressStyle(desc…"
      ]
     },
     "metadata": {},
     "output_type": "display_data"
    },
    {
     "name": "stdout",
     "output_type": "stream",
     "text": [
      "\n"
     ]
    }
   ],
   "source": [
    "import pandas_profiling\n",
    "pfr = pandas_profiling.ProfileReport(train)\n",
    "pfr.to_file(\"./traineg.html\")"
   ]
  },
  {
   "cell_type": "code",
   "execution_count": 17,
   "metadata": {
    "ExecuteTime": {
     "end_time": "2020-09-17T06:20:38.908864Z",
     "start_time": "2020-09-17T06:16:01.157735Z"
    }
   },
   "outputs": [
    {
     "data": {
      "application/vnd.jupyter.widget-view+json": {
       "model_id": "3dbc9af71fc643a7aa27b22c266d2735",
       "version_major": 2,
       "version_minor": 0
      },
      "text/plain": [
       "HBox(children=(FloatProgress(value=0.0, description='Summarize dataset', max=59.0, style=ProgressStyle(descrip…"
      ]
     },
     "metadata": {},
     "output_type": "display_data"
    },
    {
     "name": "stdout",
     "output_type": "stream",
     "text": [
      "\n"
     ]
    },
    {
     "data": {
      "application/vnd.jupyter.widget-view+json": {
       "model_id": "993e946924fb465f9f72add740647213",
       "version_major": 2,
       "version_minor": 0
      },
      "text/plain": [
       "HBox(children=(FloatProgress(value=0.0, description='Generate report structure', max=1.0, style=ProgressStyle(…"
      ]
     },
     "metadata": {},
     "output_type": "display_data"
    },
    {
     "name": "stdout",
     "output_type": "stream",
     "text": [
      "\n"
     ]
    },
    {
     "data": {
      "application/vnd.jupyter.widget-view+json": {
       "model_id": "61f3485207184b0088f84bc509c8f94e",
       "version_major": 2,
       "version_minor": 0
      },
      "text/plain": [
       "HBox(children=(FloatProgress(value=0.0, description='Render HTML', max=1.0, style=ProgressStyle(description_wi…"
      ]
     },
     "metadata": {},
     "output_type": "display_data"
    },
    {
     "name": "stdout",
     "output_type": "stream",
     "text": [
      "\n"
     ]
    },
    {
     "data": {
      "application/vnd.jupyter.widget-view+json": {
       "model_id": "6a4e55ca894f4b618e3be741dd8eb49e",
       "version_major": 2,
       "version_minor": 0
      },
      "text/plain": [
       "HBox(children=(FloatProgress(value=0.0, description='Export report to file', max=1.0, style=ProgressStyle(desc…"
      ]
     },
     "metadata": {},
     "output_type": "display_data"
    },
    {
     "name": "stdout",
     "output_type": "stream",
     "text": [
      "\n"
     ]
    }
   ],
   "source": [
    "pfr = pandas_profiling.ProfileReport(test)\n",
    "pfr.to_file(\"./testeg.html\")"
   ]
  },
  {
   "cell_type": "code",
   "execution_count": 18,
   "metadata": {
    "ExecuteTime": {
     "end_time": "2020-09-17T06:20:38.954905Z",
     "start_time": "2020-09-17T06:20:38.909865Z"
    }
   },
   "outputs": [
    {
     "name": "stdout",
     "output_type": "stream",
     "text": [
      "<class 'pandas.core.frame.DataFrame'>\n",
      "Int64Index: 200000 entries, 0 to 199999\n",
      "Data columns (total 45 columns):\n",
      " #   Column              Non-Null Count   Dtype  \n",
      "---  ------              --------------   -----  \n",
      " 0   id                  200000 non-null  int64  \n",
      " 1   loanAmnt            200000 non-null  int64  \n",
      " 2   term                200000 non-null  int64  \n",
      " 3   interestRate        200000 non-null  float64\n",
      " 4   installment         200000 non-null  float64\n",
      " 5   grade               200000 non-null  object \n",
      " 6   subGrade            200000 non-null  object \n",
      " 7   employmentTitle     200000 non-null  int64  \n",
      " 8   employmentLength    200000 non-null  int64  \n",
      " 9   homeOwnership       200000 non-null  int64  \n",
      " 10  annualIncome        200000 non-null  float64\n",
      " 11  verificationStatus  200000 non-null  int64  \n",
      " 12  issueDate           200000 non-null  object \n",
      " 13  purpose             200000 non-null  int64  \n",
      " 14  postCode            200000 non-null  int64  \n",
      " 15  regionCode          200000 non-null  int64  \n",
      " 16  dti                 199939 non-null  float64\n",
      " 17  delinquency_2years  200000 non-null  int64  \n",
      " 18  ficoRangeLow        200000 non-null  int64  \n",
      " 19  ficoRangeHigh       200000 non-null  int64  \n",
      " 20  openAcc             200000 non-null  int64  \n",
      " 21  pubRec              200000 non-null  int64  \n",
      " 22  pubRecBankruptcies  199884 non-null  float64\n",
      " 23  revolBal            200000 non-null  int64  \n",
      " 24  revolUtil           199873 non-null  float64\n",
      " 25  totalAcc            200000 non-null  int64  \n",
      " 26  initialListStatus   200000 non-null  int64  \n",
      " 27  applicationType     200000 non-null  int64  \n",
      " 28  earliesCreditLine   200000 non-null  object \n",
      " 29  title               200000 non-null  int64  \n",
      " 30  n0                  189889 non-null  float64\n",
      " 31  n1                  189889 non-null  float64\n",
      " 32  n2                  189889 non-null  float64\n",
      " 33  n4                  191606 non-null  float64\n",
      " 34  n5                  189889 non-null  float64\n",
      " 35  n6                  189889 non-null  float64\n",
      " 36  n7                  189889 non-null  float64\n",
      " 37  n8                  189889 non-null  float64\n",
      " 38  n9                  189889 non-null  float64\n",
      " 39  n10                 191606 non-null  float64\n",
      " 40  n11                 182425 non-null  float64\n",
      " 41  n12                 189889 non-null  float64\n",
      " 42  n13                 189889 non-null  float64\n",
      " 43  n14                 189889 non-null  float64\n",
      " 44  issueDateDT         200000 non-null  float64\n",
      "dtypes: float64(21), int64(20), object(4)\n",
      "memory usage: 70.2+ MB\n"
     ]
    }
   ],
   "source": [
    "test.info()"
   ]
  }
 ],
 "metadata": {
  "kernelspec": {
   "display_name": "kaggle",
   "language": "python",
   "name": "kaggle"
  },
  "language_info": {
   "codemirror_mode": {
    "name": "ipython",
    "version": 3
   },
   "file_extension": ".py",
   "mimetype": "text/x-python",
   "name": "python",
   "nbconvert_exporter": "python",
   "pygments_lexer": "ipython3",
   "version": "3.7.9"
  },
  "toc": {
   "base_numbering": 1,
   "nav_menu": {},
   "number_sections": true,
   "sideBar": true,
   "skip_h1_title": false,
   "title_cell": "Table of Contents",
   "title_sidebar": "Contents",
   "toc_cell": false,
   "toc_position": {},
   "toc_section_display": true,
   "toc_window_display": false
  },
  "varInspector": {
   "cols": {
    "lenName": 16,
    "lenType": 16,
    "lenVar": 40
   },
   "kernels_config": {
    "python": {
     "delete_cmd_postfix": "",
     "delete_cmd_prefix": "del ",
     "library": "var_list.py",
     "varRefreshCmd": "print(var_dic_list())"
    },
    "r": {
     "delete_cmd_postfix": ") ",
     "delete_cmd_prefix": "rm(",
     "library": "var_list.r",
     "varRefreshCmd": "cat(var_dic_list()) "
    }
   },
   "types_to_exclude": [
    "module",
    "function",
    "builtin_function_or_method",
    "instance",
    "_Feature"
   ],
   "window_display": false
  }
 },
 "nbformat": 4,
 "nbformat_minor": 4
}
