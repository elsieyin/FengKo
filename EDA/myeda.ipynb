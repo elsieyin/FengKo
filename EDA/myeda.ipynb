{
 "cells": [
  {
   "cell_type": "code",
   "execution_count": 1,
   "metadata": {
    "ExecuteTime": {
     "end_time": "2020-09-17T14:14:16.776018Z",
     "start_time": "2020-09-17T14:14:15.999818Z"
    }
   },
   "outputs": [],
   "source": [
    "import pandas as pd\n",
    "import numpy as np\n",
    "import matplotlib.pyplot as plt\n",
    "import seaborn as sns\n",
    "import datetime\n",
    "import warnings\n",
    "import pickle\n",
    "warnings.filterwarnings('ignore')"
   ]
  },
  {
   "cell_type": "code",
   "execution_count": 2,
   "metadata": {
    "ExecuteTime": {
     "end_time": "2020-09-17T14:14:18.917933Z",
     "start_time": "2020-09-17T14:14:16.777020Z"
    }
   },
   "outputs": [],
   "source": [
    "train = pd.read_csv('../cf-train.csv',index_col=0) # 这里用的还是obj的grade\n",
    "test = pd.read_csv('../cf-testa.csv',index_col=0)"
   ]
  },
  {
   "cell_type": "code",
   "execution_count": 3,
   "metadata": {
    "ExecuteTime": {
     "end_time": "2020-09-17T14:14:18.933232Z",
     "start_time": "2020-09-17T14:14:18.918933Z"
    }
   },
   "outputs": [],
   "source": [
    "import psutil\n",
    "\n",
    "## Simple \"Memory profilers\" to see memory usage\n",
    "def get_memory_usage():\n",
    "    return np.round(psutil.Process(os.getpid()).memory_info()[0]/2.**30, 2)\n",
    "\n",
    "def sizeof_fmt(num, suffix='B'):\n",
    "    for unit in ['','Ki','Mi','Gi','Ti','Pi','Ei','Zi']:\n",
    "        if abs(num) < 1024.0:\n",
    "            return \"%3.1f%s%s\" % (num, unit, suffix)\n",
    "        num /= 1024.0\n",
    "    return \"%.1f%s%s\" % (num, 'Yi', suffix)"
   ]
  },
  {
   "cell_type": "code",
   "execution_count": 4,
   "metadata": {
    "ExecuteTime": {
     "end_time": "2020-09-17T14:14:18.949246Z",
     "start_time": "2020-09-17T14:14:18.934233Z"
    }
   },
   "outputs": [],
   "source": [
    "## Memory Reducer\n",
    "# :df pandas dataframe to reduce size             # type: pd.DataFrame()\n",
    "# :verbose                                        # type: bool\n",
    "def reduce_mem_usage(df, verbose=True):\n",
    "    numerics = ['int16', 'int32', 'int64', 'float16', 'float32', 'float64']\n",
    "    start_mem = df.memory_usage().sum() / 1024**2    \n",
    "    for col in df.columns:\n",
    "        col_type = df[col].dtypes\n",
    "        if col_type in numerics:\n",
    "            c_min = df[col].min()\n",
    "            c_max = df[col].max()\n",
    "            if str(col_type)[:3] == 'int':\n",
    "                if c_min > np.iinfo(np.int8).min and c_max < np.iinfo(np.int8).max:\n",
    "                    df[col] = df[col].astype(np.int8)\n",
    "                elif c_min > np.iinfo(np.int16).min and c_max < np.iinfo(np.int16).max:\n",
    "                       df[col] = df[col].astype(np.int16)\n",
    "                elif c_min > np.iinfo(np.int32).min and c_max < np.iinfo(np.int32).max:\n",
    "                    df[col] = df[col].astype(np.int32)\n",
    "                elif c_min > np.iinfo(np.int64).min and c_max < np.iinfo(np.int64).max:\n",
    "                    df[col] = df[col].astype(np.int64)  \n",
    "            else:\n",
    "                if c_min > np.finfo(np.float16).min and c_max < np.finfo(np.float16).max:\n",
    "                    df[col] = df[col].astype(np.float16)\n",
    "                elif c_min > np.finfo(np.float32).min and c_max < np.finfo(np.float32).max:\n",
    "                    df[col] = df[col].astype(np.float32)\n",
    "                else:\n",
    "                    df[col] = df[col].astype(np.float64)    \n",
    "    end_mem = df.memory_usage().sum() / 1024**2\n",
    "    if verbose: print('Mem. usage decreased to {:5.2f} Mb ({:.1f}% reduction)'.format(end_mem, 100 * (start_mem - end_mem) / start_mem))\n",
    "    return df"
   ]
  },
  {
   "cell_type": "code",
   "execution_count": 5,
   "metadata": {
    "ExecuteTime": {
     "end_time": "2020-09-17T14:14:18.964260Z",
     "start_time": "2020-09-17T14:14:18.950248Z"
    }
   },
   "outputs": [
    {
     "name": "stdout",
     "output_type": "stream",
     "text": [
      "         Original df: 293.0MiB\n"
     ]
    }
   ],
   "source": [
    "print(\"{:>20}: {:>8}\".format('Original df',sizeof_fmt(train.memory_usage(index=True).sum())))"
   ]
  },
  {
   "cell_type": "code",
   "execution_count": 6,
   "metadata": {
    "ExecuteTime": {
     "end_time": "2020-09-17T14:14:19.732453Z",
     "start_time": "2020-09-17T14:14:18.965261Z"
    }
   },
   "outputs": [
    {
     "name": "stdout",
     "output_type": "stream",
     "text": [
      "Mem. usage decreased to 95.37 Mb (67.4% reduction)\n"
     ]
    }
   ],
   "source": [
    "train = reduce_mem_usage(train)"
   ]
  },
  {
   "cell_type": "code",
   "execution_count": 7,
   "metadata": {
    "ExecuteTime": {
     "end_time": "2020-09-17T14:14:19.935634Z",
     "start_time": "2020-09-17T14:14:19.733454Z"
    }
   },
   "outputs": [
    {
     "name": "stdout",
     "output_type": "stream",
     "text": [
      "Mem. usage decreased to 24.03 Mb (66.5% reduction)\n"
     ]
    }
   ],
   "source": [
    "test= reduce_mem_usage(test)"
   ]
  },
  {
   "cell_type": "code",
   "execution_count": 8,
   "metadata": {
    "ExecuteTime": {
     "end_time": "2020-09-17T14:14:20.199871Z",
     "start_time": "2020-09-17T14:14:19.937637Z"
    }
   },
   "outputs": [
    {
     "name": "stdout",
     "output_type": "stream",
     "text": [
      "<class 'pandas.core.frame.DataFrame'>\n",
      "Int64Index: 800000 entries, 0 to 799999\n",
      "Data columns (total 47 columns):\n",
      " #   Column               Non-Null Count   Dtype  \n",
      "---  ------               --------------   -----  \n",
      " 0   id                   800000 non-null  int32  \n",
      " 1   loanAmnt             800000 non-null  int32  \n",
      " 2   term                 800000 non-null  int8   \n",
      " 3   interestRate         800000 non-null  float16\n",
      " 4   installment          800000 non-null  float16\n",
      " 5   grade                800000 non-null  object \n",
      " 6   subGrade             800000 non-null  object \n",
      " 7   employmentTitle      799999 non-null  float32\n",
      " 8   employmentLength     753201 non-null  float16\n",
      " 9   homeOwnership        800000 non-null  int8   \n",
      " 10  annualIncome         800000 non-null  float32\n",
      " 11  verificationStatus   800000 non-null  int8   \n",
      " 12  issueDate            800000 non-null  object \n",
      " 13  isDefault            800000 non-null  int8   \n",
      " 14  purpose              800000 non-null  int8   \n",
      " 15  postCode             799999 non-null  float16\n",
      " 16  regionCode           800000 non-null  int8   \n",
      " 17  dti                  799761 non-null  float16\n",
      " 18  delinquency_2years   800000 non-null  int8   \n",
      " 19  ficoRangeLow         800000 non-null  int16  \n",
      " 20  ficoRangeHigh        800000 non-null  int16  \n",
      " 21  openAcc              800000 non-null  int8   \n",
      " 22  pubRec               800000 non-null  int8   \n",
      " 23  pubRecBankruptcies   799595 non-null  float16\n",
      " 24  revolBal             800000 non-null  int32  \n",
      " 25  revolUtil            799469 non-null  float16\n",
      " 26  totalAcc             800000 non-null  int16  \n",
      " 27  initialListStatus    800000 non-null  int8   \n",
      " 28  applicationType      800000 non-null  int8   \n",
      " 29  earliesCreditLine    800000 non-null  object \n",
      " 30  title                799999 non-null  float16\n",
      " 31  n0                   759730 non-null  float16\n",
      " 32  n1                   759730 non-null  float16\n",
      " 33  n2                   759730 non-null  float16\n",
      " 34  n4                   766761 non-null  float16\n",
      " 35  n5                   759730 non-null  float16\n",
      " 36  n6                   759730 non-null  float16\n",
      " 37  n7                   759730 non-null  float16\n",
      " 38  n8                   759729 non-null  float16\n",
      " 39  n9                   759730 non-null  float16\n",
      " 40  n10                  766761 non-null  float16\n",
      " 41  n11                  730248 non-null  float16\n",
      " 42  n12                  759730 non-null  float16\n",
      " 43  n13                  759730 non-null  float16\n",
      " 44  n14                  759730 non-null  float16\n",
      " 45  issueDateDT          800000 non-null  float16\n",
      " 46  earliesCreditLineDT  800000 non-null  float16\n",
      "dtypes: float16(24), float32(2), int16(3), int32(3), int8(11), object(4)\n",
      "memory usage: 95.4+ MB\n"
     ]
    }
   ],
   "source": [
    "train.info()"
   ]
  },
  {
   "cell_type": "code",
   "execution_count": null,
   "metadata": {
    "ExecuteTime": {
     "end_time": "2020-09-17T14:09:09.032867Z",
     "start_time": "2020-09-17T14:09:08.986822Z"
    }
   },
   "outputs": [],
   "source": []
  },
  {
   "cell_type": "code",
   "execution_count": 9,
   "metadata": {
    "ExecuteTime": {
     "end_time": "2020-09-17T14:14:20.215886Z",
     "start_time": "2020-09-17T14:14:20.200872Z"
    }
   },
   "outputs": [],
   "source": [
    "# train['grade'] = train['grade'].astype('category')\n",
    "# train['subGrade']= train['subGrade'].astype('category')\n",
    "# test['grade'] = test['grade'].astype('category')\n",
    "# test['subGrade']= test['subGrade'].astype('category')"
   ]
  },
  {
   "cell_type": "code",
   "execution_count": 10,
   "metadata": {
    "ExecuteTime": {
     "end_time": "2020-09-17T14:14:20.278941Z",
     "start_time": "2020-09-17T14:14:20.216886Z"
    }
   },
   "outputs": [
    {
     "name": "stdout",
     "output_type": "stream",
     "text": [
      "<class 'pandas.core.frame.DataFrame'>\n",
      "Int64Index: 200000 entries, 0 to 199999\n",
      "Data columns (total 46 columns):\n",
      " #   Column               Non-Null Count   Dtype  \n",
      "---  ------               --------------   -----  \n",
      " 0   id                   200000 non-null  int32  \n",
      " 1   loanAmnt             200000 non-null  int32  \n",
      " 2   term                 200000 non-null  int8   \n",
      " 3   interestRate         200000 non-null  float16\n",
      " 4   installment          200000 non-null  float16\n",
      " 5   grade                200000 non-null  object \n",
      " 6   subGrade             200000 non-null  object \n",
      " 7   employmentTitle      200000 non-null  int32  \n",
      " 8   employmentLength     188258 non-null  float16\n",
      " 9   homeOwnership        200000 non-null  int8   \n",
      " 10  annualIncome         200000 non-null  float32\n",
      " 11  verificationStatus   200000 non-null  int8   \n",
      " 12  issueDate            200000 non-null  object \n",
      " 13  purpose              200000 non-null  int8   \n",
      " 14  postCode             200000 non-null  int16  \n",
      " 15  regionCode           200000 non-null  int8   \n",
      " 16  dti                  199939 non-null  float16\n",
      " 17  delinquency_2years   200000 non-null  int8   \n",
      " 18  ficoRangeLow         200000 non-null  int16  \n",
      " 19  ficoRangeHigh        200000 non-null  int16  \n",
      " 20  openAcc              200000 non-null  int8   \n",
      " 21  pubRec               200000 non-null  int8   \n",
      " 22  pubRecBankruptcies   199884 non-null  float16\n",
      " 23  revolBal             200000 non-null  int32  \n",
      " 24  revolUtil            199873 non-null  float16\n",
      " 25  totalAcc             200000 non-null  int16  \n",
      " 26  initialListStatus    200000 non-null  int8   \n",
      " 27  applicationType      200000 non-null  int8   \n",
      " 28  earliesCreditLine    200000 non-null  object \n",
      " 29  title                200000 non-null  int32  \n",
      " 30  n0                   189889 non-null  float16\n",
      " 31  n1                   189889 non-null  float16\n",
      " 32  n2                   189889 non-null  float16\n",
      " 33  n4                   191606 non-null  float16\n",
      " 34  n5                   189889 non-null  float16\n",
      " 35  n6                   189889 non-null  float16\n",
      " 36  n7                   189889 non-null  float16\n",
      " 37  n8                   189889 non-null  float16\n",
      " 38  n9                   189889 non-null  float16\n",
      " 39  n10                  191606 non-null  float16\n",
      " 40  n11                  182425 non-null  float16\n",
      " 41  n12                  189889 non-null  float16\n",
      " 42  n13                  189889 non-null  float16\n",
      " 43  n14                  189889 non-null  float16\n",
      " 44  issueDateDT          200000 non-null  float16\n",
      " 45  earliesCreditLineDT  200000 non-null  float16\n",
      "dtypes: float16(22), float32(1), int16(4), int32(5), int8(10), object(4)\n",
      "memory usage: 24.0+ MB\n"
     ]
    }
   ],
   "source": [
    "test.info()"
   ]
  },
  {
   "cell_type": "code",
   "execution_count": null,
   "metadata": {},
   "outputs": [],
   "source": []
  },
  {
   "cell_type": "code",
   "execution_count": null,
   "metadata": {},
   "outputs": [],
   "source": []
  },
  {
   "cell_type": "code",
   "execution_count": 11,
   "metadata": {
    "ExecuteTime": {
     "end_time": "2020-09-17T14:14:20.387037Z",
     "start_time": "2020-09-17T14:14:20.279941Z"
    }
   },
   "outputs": [
    {
     "data": {
      "text/plain": [
       "<AxesSubplot:>"
      ]
     },
     "execution_count": 11,
     "metadata": {},
     "output_type": "execute_result"
    },
    {
     "data": {
      "image/png": "[encoded data removed]",
      "text/plain": [
       "<Figure size 432x288 with 1 Axes>"
      ]
     },
     "metadata": {
      "needs_background": "light"
     },
     "output_type": "display_data"
    }
   ],
   "source": [
    "train['isDefault'].value_counts().sort_index().plot(kind = 'bar')"
   ]
  },
  {
   "cell_type": "code",
   "execution_count": null,
   "metadata": {},
   "outputs": [],
   "source": []
  },
  {
   "cell_type": "markdown",
   "metadata": {},
   "source": [
    "## grade & subgrade"
   ]
  },
  {
   "cell_type": "markdown",
   "metadata": {},
   "source": [
    "### grade 0/1"
   ]
  },
  {
   "cell_type": "markdown",
   "metadata": {},
   "source": [
    "从后续的groupby来看好像不影响"
   ]
  },
  {
   "cell_type": "markdown",
   "metadata": {},
   "source": [
    "不是很会，但是这里，好像grade是有一定序的关系的，"
   ]
  },
  {
   "cell_type": "code",
   "execution_count": 12,
   "metadata": {
    "ExecuteTime": {
     "end_time": "2020-09-17T14:14:20.496135Z",
     "start_time": "2020-09-17T14:14:20.388038Z"
    }
   },
   "outputs": [],
   "source": [
    "a0 = train.loc[train['isDefault']==1]\n",
    "b0 = a0.groupby('grade')['grade'].count()\n",
    "c0 = train.groupby('grade')['grade'].count()\n",
    "p0 = b0/c0"
   ]
  },
  {
   "cell_type": "code",
   "execution_count": 13,
   "metadata": {
    "ExecuteTime": {
     "end_time": "2020-09-17T14:14:20.589220Z",
     "start_time": "2020-09-17T14:14:20.497136Z"
    }
   },
   "outputs": [
    {
     "data": {
      "text/plain": [
       "<AxesSubplot:xlabel='grade'>"
      ]
     },
     "execution_count": 13,
     "metadata": {},
     "output_type": "execute_result"
    },
    {
     "data": {
      "image/png": "[encoded data removed]",
      "text/plain": [
       "<Figure size 432x288 with 1 Axes>"
      ]
     },
     "metadata": {
      "needs_background": "light"
     },
     "output_type": "display_data"
    }
   ],
   "source": [
    "sns.lineplot(p0.index, p0.values)"
   ]
  },
  {
   "cell_type": "markdown",
   "metadata": {},
   "source": [
    "#### subGrade 注意这里不是完全线性"
   ]
  },
  {
   "cell_type": "code",
   "execution_count": 14,
   "metadata": {
    "ExecuteTime": {
     "end_time": "2020-09-17T14:14:20.698316Z",
     "start_time": "2020-09-17T14:14:20.590220Z"
    }
   },
   "outputs": [
    {
     "data": {
      "text/plain": [
       "subGrade\n",
       "A1    0.031919\n",
       "A2    0.045697\n",
       "A3    0.055882\n",
       "A4    0.067221\n",
       "A5    0.085399\n",
       "B1    0.102921\n",
       "B2    0.112262\n",
       "B3    0.129239\n",
       "B4    0.148639\n",
       "B5    0.165649\n",
       "C1    0.191360\n",
       "C2    0.206892\n",
       "C3    0.224576\n",
       "C4    0.250113\n",
       "C5    0.261549\n",
       "D1    0.277982\n",
       "D2    0.297572\n",
       "D3    0.304015\n",
       "D4    0.322863\n",
       "D5    0.334735\n",
       "E1    0.355233\n",
       "E2    0.376903\n",
       "E3    0.387460\n",
       "E4    0.402243\n",
       "E5    0.419161\n",
       "F1    0.426498\n",
       "F2    0.455991\n",
       "F3    0.456807\n",
       "F4    0.477440\n",
       "F5    0.482993\n",
       "G1    0.466174\n",
       "G2    0.480910\n",
       "G3    0.519427\n",
       "G4    0.521971\n",
       "G5    0.548837\n",
       "Name: subGrade, dtype: float64"
      ]
     },
     "execution_count": 14,
     "metadata": {},
     "output_type": "execute_result"
    }
   ],
   "source": [
    "a1 = train.loc[train['isDefault']==1]\n",
    "b1 = a1.groupby('subGrade')['subGrade'].count()\n",
    "c1 = train.groupby('subGrade')['subGrade'].count()\n",
    "b1/c1"
   ]
  },
  {
   "cell_type": "code",
   "execution_count": 15,
   "metadata": {
    "ExecuteTime": {
     "end_time": "2020-09-17T14:14:20.855457Z",
     "start_time": "2020-09-17T14:14:20.699317Z"
    }
   },
   "outputs": [
    {
     "data": {
      "text/plain": [
       "<AxesSubplot:xlabel='subGrade'>"
      ]
     },
     "execution_count": 15,
     "metadata": {},
     "output_type": "execute_result"
    },
    {
     "data": {
      "image/png": "[encoded data removed]",
      "text/plain": [
       "<Figure size 432x288 with 1 Axes>"
      ]
     },
     "metadata": {
      "needs_background": "light"
     },
     "output_type": "display_data"
    }
   ],
   "source": [
    "p1=b1/c1\n",
    "sns.lineplot(p1.index, p1.values)"
   ]
  },
  {
   "cell_type": "markdown",
   "metadata": {},
   "source": [
    "employmentLength"
   ]
  },
  {
   "cell_type": "code",
   "execution_count": 16,
   "metadata": {
    "ExecuteTime": {
     "end_time": "2020-09-17T14:14:21.043624Z",
     "start_time": "2020-09-17T14:14:20.856458Z"
    }
   },
   "outputs": [
    {
     "data": {
      "text/plain": [
       "employmentLength\n",
       "0.0     0.795118\n",
       "1.0     0.794814\n",
       "2.0     0.799967\n",
       "3.0     0.798510\n",
       "4.0     0.801709\n",
       "5.0     0.804259\n",
       "6.0     0.807188\n",
       "7.0     0.804954\n",
       "8.0     0.802774\n",
       "9.0     0.801599\n",
       "10.0    0.812961\n",
       "Name: employmentLength, dtype: float64"
      ]
     },
     "execution_count": 16,
     "metadata": {},
     "output_type": "execute_result"
    }
   ],
   "source": [
    "a2 = train.loc[train['isDefault']==0]\n",
    "b2 = a2.groupby('employmentLength')['employmentLength'].count()\n",
    "c2 = train.groupby('employmentLength')['employmentLength'].count()\n",
    "p2 = b2/c2\n",
    "p2"
   ]
  },
  {
   "cell_type": "code",
   "execution_count": 17,
   "metadata": {
    "ExecuteTime": {
     "end_time": "2020-09-17T14:14:21.135706Z",
     "start_time": "2020-09-17T14:14:21.044626Z"
    }
   },
   "outputs": [
    {
     "data": {
      "text/plain": [
       "<AxesSubplot:xlabel='employmentLength'>"
      ]
     },
     "execution_count": 17,
     "metadata": {},
     "output_type": "execute_result"
    },
    {
     "data": {
      "image/png": "[encoded data removed]",
      "text/plain": [
       "<Figure size 432x288 with 1 Axes>"
      ]
     },
     "metadata": {
      "needs_background": "light"
     },
     "output_type": "display_data"
    }
   ],
   "source": [
    "sns.lineplot(p2.index, p2.values)"
   ]
  },
  {
   "cell_type": "code",
   "execution_count": null,
   "metadata": {},
   "outputs": [],
   "source": []
  },
  {
   "cell_type": "markdown",
   "metadata": {
    "ExecuteTime": {
     "end_time": "2020-09-17T09:17:50.345535Z",
     "start_time": "2020-09-17T09:17:50.341532Z"
    }
   },
   "source": [
    "### Santander Train & Test分布"
   ]
  },
  {
   "cell_type": "markdown",
   "metadata": {},
   "source": [
    "### 结果让人迷惑"
   ]
  },
  {
   "cell_type": "code",
   "execution_count": 18,
   "metadata": {
    "ExecuteTime": {
     "end_time": "2020-09-17T14:14:21.323875Z",
     "start_time": "2020-09-17T14:14:21.152721Z"
    }
   },
   "outputs": [
    {
     "name": "stdout",
     "output_type": "stream",
     "text": [
      "<class 'pandas.core.frame.DataFrame'>\n",
      "Int64Index: 800000 entries, 0 to 799999\n",
      "Data columns (total 47 columns):\n",
      " #   Column               Non-Null Count   Dtype  \n",
      "---  ------               --------------   -----  \n",
      " 0   id                   800000 non-null  int32  \n",
      " 1   loanAmnt             800000 non-null  int32  \n",
      " 2   term                 800000 non-null  int8   \n",
      " 3   interestRate         800000 non-null  float16\n",
      " 4   installment          800000 non-null  float16\n",
      " 5   grade                800000 non-null  object \n",
      " 6   subGrade             800000 non-null  object \n",
      " 7   employmentTitle      799999 non-null  float32\n",
      " 8   employmentLength     753201 non-null  float16\n",
      " 9   homeOwnership        800000 non-null  int8   \n",
      " 10  annualIncome         800000 non-null  float32\n",
      " 11  verificationStatus   800000 non-null  int8   \n",
      " 12  issueDate            800000 non-null  object \n",
      " 13  isDefault            800000 non-null  int8   \n",
      " 14  purpose              800000 non-null  int8   \n",
      " 15  postCode             799999 non-null  float16\n",
      " 16  regionCode           800000 non-null  int8   \n",
      " 17  dti                  799761 non-null  float16\n",
      " 18  delinquency_2years   800000 non-null  int8   \n",
      " 19  ficoRangeLow         800000 non-null  int16  \n",
      " 20  ficoRangeHigh        800000 non-null  int16  \n",
      " 21  openAcc              800000 non-null  int8   \n",
      " 22  pubRec               800000 non-null  int8   \n",
      " 23  pubRecBankruptcies   799595 non-null  float16\n",
      " 24  revolBal             800000 non-null  int32  \n",
      " 25  revolUtil            799469 non-null  float16\n",
      " 26  totalAcc             800000 non-null  int16  \n",
      " 27  initialListStatus    800000 non-null  int8   \n",
      " 28  applicationType      800000 non-null  int8   \n",
      " 29  earliesCreditLine    800000 non-null  object \n",
      " 30  title                799999 non-null  float16\n",
      " 31  n0                   759730 non-null  float16\n",
      " 32  n1                   759730 non-null  float16\n",
      " 33  n2                   759730 non-null  float16\n",
      " 34  n4                   766761 non-null  float16\n",
      " 35  n5                   759730 non-null  float16\n",
      " 36  n6                   759730 non-null  float16\n",
      " 37  n7                   759730 non-null  float16\n",
      " 38  n8                   759729 non-null  float16\n",
      " 39  n9                   759730 non-null  float16\n",
      " 40  n10                  766761 non-null  float16\n",
      " 41  n11                  730248 non-null  float16\n",
      " 42  n12                  759730 non-null  float16\n",
      " 43  n13                  759730 non-null  float16\n",
      " 44  n14                  759730 non-null  float16\n",
      " 45  issueDateDT          800000 non-null  float16\n",
      " 46  earliesCreditLineDT  800000 non-null  float16\n",
      "dtypes: float16(24), float32(2), int16(3), int32(3), int8(11), object(4)\n",
      "memory usage: 95.4+ MB\n"
     ]
    }
   ],
   "source": [
    "train.info()"
   ]
  },
  {
   "cell_type": "code",
   "execution_count": 19,
   "metadata": {
    "ExecuteTime": {
     "end_time": "2020-09-17T14:14:21.401934Z",
     "start_time": "2020-09-17T14:14:21.324876Z"
    }
   },
   "outputs": [],
   "source": [
    "for data in [train, test]:\n",
    "    data['grade'] = data['grade'].map({'A':1,'B':2,'C':3,'D':4,'E':5,'F':6,'G':7})\n",
    "    data['grade'].astype('int8')"
   ]
  },
  {
   "cell_type": "code",
   "execution_count": 20,
   "metadata": {
    "ExecuteTime": {
     "end_time": "2020-09-17T14:14:21.432962Z",
     "start_time": "2020-09-17T14:14:21.402936Z"
    }
   },
   "outputs": [
    {
     "data": {
      "text/html": [
       "<div>\n",
       "<style scoped>\n",
       "    .dataframe tbody tr th:only-of-type {\n",
       "        vertical-align: middle;\n",
       "    }\n",
       "\n",
       "    .dataframe tbody tr th {\n",
       "        vertical-align: top;\n",
       "    }\n",
       "\n",
       "    .dataframe thead th {\n",
       "        text-align: right;\n",
       "    }\n",
       "</style>\n",
       "<table border=\"1\" class=\"dataframe\">\n",
       "  <thead>\n",
       "    <tr style=\"text-align: right;\">\n",
       "      <th></th>\n",
       "      <th>id</th>\n",
       "      <th>loanAmnt</th>\n",
       "      <th>term</th>\n",
       "      <th>interestRate</th>\n",
       "      <th>installment</th>\n",
       "      <th>grade</th>\n",
       "      <th>subGrade</th>\n",
       "      <th>employmentTitle</th>\n",
       "      <th>employmentLength</th>\n",
       "      <th>homeOwnership</th>\n",
       "      <th>...</th>\n",
       "      <th>n7</th>\n",
       "      <th>n8</th>\n",
       "      <th>n9</th>\n",
       "      <th>n10</th>\n",
       "      <th>n11</th>\n",
       "      <th>n12</th>\n",
       "      <th>n13</th>\n",
       "      <th>n14</th>\n",
       "      <th>issueDateDT</th>\n",
       "      <th>earliesCreditLineDT</th>\n",
       "    </tr>\n",
       "  </thead>\n",
       "  <tbody>\n",
       "    <tr>\n",
       "      <th>0</th>\n",
       "      <td>0</td>\n",
       "      <td>35000</td>\n",
       "      <td>5</td>\n",
       "      <td>19.515625</td>\n",
       "      <td>918.0000</td>\n",
       "      <td>5</td>\n",
       "      <td>E2</td>\n",
       "      <td>320.0</td>\n",
       "      <td>2.0</td>\n",
       "      <td>2</td>\n",
       "      <td>...</td>\n",
       "      <td>4.0</td>\n",
       "      <td>12.0</td>\n",
       "      <td>2.0</td>\n",
       "      <td>7.0</td>\n",
       "      <td>0.0</td>\n",
       "      <td>0.0</td>\n",
       "      <td>0.0</td>\n",
       "      <td>2.0</td>\n",
       "      <td>2588.0</td>\n",
       "      <td>57.0</td>\n",
       "    </tr>\n",
       "    <tr>\n",
       "      <th>1</th>\n",
       "      <td>1</td>\n",
       "      <td>18000</td>\n",
       "      <td>5</td>\n",
       "      <td>18.484375</td>\n",
       "      <td>462.0000</td>\n",
       "      <td>4</td>\n",
       "      <td>D2</td>\n",
       "      <td>219843.0</td>\n",
       "      <td>5.0</td>\n",
       "      <td>0</td>\n",
       "      <td>...</td>\n",
       "      <td>NaN</td>\n",
       "      <td>NaN</td>\n",
       "      <td>NaN</td>\n",
       "      <td>13.0</td>\n",
       "      <td>NaN</td>\n",
       "      <td>NaN</td>\n",
       "      <td>NaN</td>\n",
       "      <td>NaN</td>\n",
       "      <td>1888.0</td>\n",
       "      <td>58.0</td>\n",
       "    </tr>\n",
       "    <tr>\n",
       "      <th>2</th>\n",
       "      <td>2</td>\n",
       "      <td>12000</td>\n",
       "      <td>5</td>\n",
       "      <td>16.984375</td>\n",
       "      <td>298.2500</td>\n",
       "      <td>4</td>\n",
       "      <td>D3</td>\n",
       "      <td>31698.0</td>\n",
       "      <td>8.0</td>\n",
       "      <td>0</td>\n",
       "      <td>...</td>\n",
       "      <td>4.0</td>\n",
       "      <td>5.0</td>\n",
       "      <td>3.0</td>\n",
       "      <td>11.0</td>\n",
       "      <td>0.0</td>\n",
       "      <td>0.0</td>\n",
       "      <td>0.0</td>\n",
       "      <td>4.0</td>\n",
       "      <td>3044.0</td>\n",
       "      <td>62.0</td>\n",
       "    </tr>\n",
       "    <tr>\n",
       "      <th>3</th>\n",
       "      <td>3</td>\n",
       "      <td>11000</td>\n",
       "      <td>3</td>\n",
       "      <td>7.261719</td>\n",
       "      <td>341.0000</td>\n",
       "      <td>1</td>\n",
       "      <td>A4</td>\n",
       "      <td>46854.0</td>\n",
       "      <td>10.0</td>\n",
       "      <td>1</td>\n",
       "      <td>...</td>\n",
       "      <td>7.0</td>\n",
       "      <td>21.0</td>\n",
       "      <td>6.0</td>\n",
       "      <td>9.0</td>\n",
       "      <td>0.0</td>\n",
       "      <td>0.0</td>\n",
       "      <td>0.0</td>\n",
       "      <td>1.0</td>\n",
       "      <td>2984.0</td>\n",
       "      <td>55.0</td>\n",
       "    </tr>\n",
       "    <tr>\n",
       "      <th>4</th>\n",
       "      <td>4</td>\n",
       "      <td>3000</td>\n",
       "      <td>3</td>\n",
       "      <td>12.992188</td>\n",
       "      <td>101.0625</td>\n",
       "      <td>3</td>\n",
       "      <td>C2</td>\n",
       "      <td>54.0</td>\n",
       "      <td>NaN</td>\n",
       "      <td>1</td>\n",
       "      <td>...</td>\n",
       "      <td>10.0</td>\n",
       "      <td>15.0</td>\n",
       "      <td>7.0</td>\n",
       "      <td>12.0</td>\n",
       "      <td>0.0</td>\n",
       "      <td>0.0</td>\n",
       "      <td>0.0</td>\n",
       "      <td>4.0</td>\n",
       "      <td>3196.0</td>\n",
       "      <td>33.0</td>\n",
       "    </tr>\n",
       "  </tbody>\n",
       "</table>\n",
       "<p>5 rows × 47 columns</p>\n",
       "</div>"
      ],
      "text/plain": [
       "   id  loanAmnt  term  interestRate  installment  grade subGrade  \\\n",
       "0   0     35000     5     19.515625     918.0000      5       E2   \n",
       "1   1     18000     5     18.484375     462.0000      4       D2   \n",
       "2   2     12000     5     16.984375     298.2500      4       D3   \n",
       "3   3     11000     3      7.261719     341.0000      1       A4   \n",
       "4   4      3000     3     12.992188     101.0625      3       C2   \n",
       "\n",
       "   employmentTitle  employmentLength  homeOwnership  ...    n7    n8   n9  \\\n",
       "0            320.0               2.0              2  ...   4.0  12.0  2.0   \n",
       "1         219843.0               5.0              0  ...   NaN   NaN  NaN   \n",
       "2          31698.0               8.0              0  ...   4.0   5.0  3.0   \n",
       "3          46854.0              10.0              1  ...   7.0  21.0  6.0   \n",
       "4             54.0               NaN              1  ...  10.0  15.0  7.0   \n",
       "\n",
       "    n10  n11  n12  n13  n14  issueDateDT  earliesCreditLineDT  \n",
       "0   7.0  0.0  0.0  0.0  2.0       2588.0                 57.0  \n",
       "1  13.0  NaN  NaN  NaN  NaN       1888.0                 58.0  \n",
       "2  11.0  0.0  0.0  0.0  4.0       3044.0                 62.0  \n",
       "3   9.0  0.0  0.0  0.0  1.0       2984.0                 55.0  \n",
       "4  12.0  0.0  0.0  0.0  4.0       3196.0                 33.0  \n",
       "\n",
       "[5 rows x 47 columns]"
      ]
     },
     "execution_count": 20,
     "metadata": {},
     "output_type": "execute_result"
    }
   ],
   "source": [
    "train.head()"
   ]
  },
  {
   "cell_type": "code",
   "execution_count": 21,
   "metadata": {
    "ExecuteTime": {
     "end_time": "2020-09-17T14:14:21.588101Z",
     "start_time": "2020-09-17T14:14:21.433962Z"
    }
   },
   "outputs": [
    {
     "name": "stdout",
     "output_type": "stream",
     "text": [
      "<class 'pandas.core.frame.DataFrame'>\n",
      "Int64Index: 800000 entries, 0 to 799999\n",
      "Data columns (total 47 columns):\n",
      " #   Column               Non-Null Count   Dtype  \n",
      "---  ------               --------------   -----  \n",
      " 0   id                   800000 non-null  int32  \n",
      " 1   loanAmnt             800000 non-null  int32  \n",
      " 2   term                 800000 non-null  int8   \n",
      " 3   interestRate         800000 non-null  float16\n",
      " 4   installment          800000 non-null  float16\n",
      " 5   grade                800000 non-null  int64  \n",
      " 6   subGrade             800000 non-null  object \n",
      " 7   employmentTitle      799999 non-null  float32\n",
      " 8   employmentLength     753201 non-null  float16\n",
      " 9   homeOwnership        800000 non-null  int8   \n",
      " 10  annualIncome         800000 non-null  float32\n",
      " 11  verificationStatus   800000 non-null  int8   \n",
      " 12  issueDate            800000 non-null  object \n",
      " 13  isDefault            800000 non-null  int8   \n",
      " 14  purpose              800000 non-null  int8   \n",
      " 15  postCode             799999 non-null  float16\n",
      " 16  regionCode           800000 non-null  int8   \n",
      " 17  dti                  799761 non-null  float16\n",
      " 18  delinquency_2years   800000 non-null  int8   \n",
      " 19  ficoRangeLow         800000 non-null  int16  \n",
      " 20  ficoRangeHigh        800000 non-null  int16  \n",
      " 21  openAcc              800000 non-null  int8   \n",
      " 22  pubRec               800000 non-null  int8   \n",
      " 23  pubRecBankruptcies   799595 non-null  float16\n",
      " 24  revolBal             800000 non-null  int32  \n",
      " 25  revolUtil            799469 non-null  float16\n",
      " 26  totalAcc             800000 non-null  int16  \n",
      " 27  initialListStatus    800000 non-null  int8   \n",
      " 28  applicationType      800000 non-null  int8   \n",
      " 29  earliesCreditLine    800000 non-null  object \n",
      " 30  title                799999 non-null  float16\n",
      " 31  n0                   759730 non-null  float16\n",
      " 32  n1                   759730 non-null  float16\n",
      " 33  n2                   759730 non-null  float16\n",
      " 34  n4                   766761 non-null  float16\n",
      " 35  n5                   759730 non-null  float16\n",
      " 36  n6                   759730 non-null  float16\n",
      " 37  n7                   759730 non-null  float16\n",
      " 38  n8                   759729 non-null  float16\n",
      " 39  n9                   759730 non-null  float16\n",
      " 40  n10                  766761 non-null  float16\n",
      " 41  n11                  730248 non-null  float16\n",
      " 42  n12                  759730 non-null  float16\n",
      " 43  n13                  759730 non-null  float16\n",
      " 44  n14                  759730 non-null  float16\n",
      " 45  issueDateDT          800000 non-null  float16\n",
      " 46  earliesCreditLineDT  800000 non-null  float16\n",
      "dtypes: float16(24), float32(2), int16(3), int32(3), int64(1), int8(11), object(3)\n",
      "memory usage: 95.4+ MB\n"
     ]
    }
   ],
   "source": [
    "train.info()"
   ]
  },
  {
   "cell_type": "code",
   "execution_count": null,
   "metadata": {},
   "outputs": [],
   "source": []
  },
  {
   "cell_type": "code",
   "execution_count": 22,
   "metadata": {
    "ExecuteTime": {
     "end_time": "2020-09-17T14:14:21.604115Z",
     "start_time": "2020-09-17T14:14:21.591103Z"
    }
   },
   "outputs": [
    {
     "name": "stdout",
     "output_type": "stream",
     "text": [
      "Train data shape: (800000, 47)\n",
      "TestA data shape: (200000, 46)\n"
     ]
    }
   ],
   "source": [
    "print('Train data shape:',train.shape)\n",
    "print('TestA data shape:',test.shape)"
   ]
  },
  {
   "cell_type": "code",
   "execution_count": 23,
   "metadata": {
    "ExecuteTime": {
     "end_time": "2020-09-17T14:14:21.652157Z",
     "start_time": "2020-09-17T14:14:21.606116Z"
    }
   },
   "outputs": [
    {
     "data": {
      "text/html": [
       "<div>\n",
       "<style scoped>\n",
       "    .dataframe tbody tr th:only-of-type {\n",
       "        vertical-align: middle;\n",
       "    }\n",
       "\n",
       "    .dataframe tbody tr th {\n",
       "        vertical-align: top;\n",
       "    }\n",
       "\n",
       "    .dataframe thead th {\n",
       "        text-align: right;\n",
       "    }\n",
       "</style>\n",
       "<table border=\"1\" class=\"dataframe\">\n",
       "  <thead>\n",
       "    <tr style=\"text-align: right;\">\n",
       "      <th></th>\n",
       "      <th>id</th>\n",
       "      <th>loanAmnt</th>\n",
       "      <th>term</th>\n",
       "      <th>interestRate</th>\n",
       "      <th>installment</th>\n",
       "      <th>grade</th>\n",
       "      <th>subGrade</th>\n",
       "      <th>employmentTitle</th>\n",
       "      <th>employmentLength</th>\n",
       "      <th>homeOwnership</th>\n",
       "      <th>annualIncome</th>\n",
       "      <th>verificationStatus</th>\n",
       "      <th>issueDate</th>\n",
       "      <th>isDefault</th>\n",
       "      <th>purpose</th>\n",
       "      <th>postCode</th>\n",
       "      <th>regionCode</th>\n",
       "      <th>dti</th>\n",
       "      <th>delinquency_2years</th>\n",
       "      <th>ficoRangeLow</th>\n",
       "      <th>ficoRangeHigh</th>\n",
       "      <th>openAcc</th>\n",
       "      <th>pubRec</th>\n",
       "      <th>pubRecBankruptcies</th>\n",
       "      <th>revolBal</th>\n",
       "      <th>revolUtil</th>\n",
       "      <th>totalAcc</th>\n",
       "      <th>initialListStatus</th>\n",
       "      <th>applicationType</th>\n",
       "      <th>earliesCreditLine</th>\n",
       "      <th>title</th>\n",
       "      <th>n0</th>\n",
       "      <th>n1</th>\n",
       "      <th>n2</th>\n",
       "      <th>n4</th>\n",
       "      <th>n5</th>\n",
       "      <th>n6</th>\n",
       "      <th>n7</th>\n",
       "      <th>n8</th>\n",
       "      <th>n9</th>\n",
       "      <th>n10</th>\n",
       "      <th>n11</th>\n",
       "      <th>n12</th>\n",
       "      <th>n13</th>\n",
       "      <th>n14</th>\n",
       "      <th>issueDateDT</th>\n",
       "      <th>earliesCreditLineDT</th>\n",
       "    </tr>\n",
       "  </thead>\n",
       "  <tbody>\n",
       "    <tr>\n",
       "      <th>0</th>\n",
       "      <td>0</td>\n",
       "      <td>35000</td>\n",
       "      <td>5</td>\n",
       "      <td>19.515625</td>\n",
       "      <td>918.0000</td>\n",
       "      <td>5</td>\n",
       "      <td>E2</td>\n",
       "      <td>320.0</td>\n",
       "      <td>2.0</td>\n",
       "      <td>2</td>\n",
       "      <td>110000.0</td>\n",
       "      <td>2</td>\n",
       "      <td>2014-07-01</td>\n",
       "      <td>1</td>\n",
       "      <td>1</td>\n",
       "      <td>137.0</td>\n",
       "      <td>32</td>\n",
       "      <td>17.046875</td>\n",
       "      <td>0</td>\n",
       "      <td>730</td>\n",
       "      <td>734</td>\n",
       "      <td>7</td>\n",
       "      <td>0</td>\n",
       "      <td>0.0</td>\n",
       "      <td>24178</td>\n",
       "      <td>48.90625</td>\n",
       "      <td>27</td>\n",
       "      <td>0</td>\n",
       "      <td>0</td>\n",
       "      <td>2001-08-01</td>\n",
       "      <td>1.0</td>\n",
       "      <td>0.0</td>\n",
       "      <td>2.0</td>\n",
       "      <td>2.0</td>\n",
       "      <td>4.0</td>\n",
       "      <td>9.0</td>\n",
       "      <td>8.0</td>\n",
       "      <td>4.0</td>\n",
       "      <td>12.0</td>\n",
       "      <td>2.0</td>\n",
       "      <td>7.0</td>\n",
       "      <td>0.0</td>\n",
       "      <td>0.0</td>\n",
       "      <td>0.0</td>\n",
       "      <td>2.0</td>\n",
       "      <td>2588.0</td>\n",
       "      <td>57.0</td>\n",
       "    </tr>\n",
       "    <tr>\n",
       "      <th>1</th>\n",
       "      <td>1</td>\n",
       "      <td>18000</td>\n",
       "      <td>5</td>\n",
       "      <td>18.484375</td>\n",
       "      <td>462.0000</td>\n",
       "      <td>4</td>\n",
       "      <td>D2</td>\n",
       "      <td>219843.0</td>\n",
       "      <td>5.0</td>\n",
       "      <td>0</td>\n",
       "      <td>46000.0</td>\n",
       "      <td>2</td>\n",
       "      <td>2012-08-01</td>\n",
       "      <td>0</td>\n",
       "      <td>0</td>\n",
       "      <td>156.0</td>\n",
       "      <td>18</td>\n",
       "      <td>27.828125</td>\n",
       "      <td>0</td>\n",
       "      <td>700</td>\n",
       "      <td>704</td>\n",
       "      <td>13</td>\n",
       "      <td>0</td>\n",
       "      <td>0.0</td>\n",
       "      <td>15096</td>\n",
       "      <td>38.90625</td>\n",
       "      <td>18</td>\n",
       "      <td>1</td>\n",
       "      <td>0</td>\n",
       "      <td>2002-05-01</td>\n",
       "      <td>1723.0</td>\n",
       "      <td>NaN</td>\n",
       "      <td>NaN</td>\n",
       "      <td>NaN</td>\n",
       "      <td>10.0</td>\n",
       "      <td>NaN</td>\n",
       "      <td>NaN</td>\n",
       "      <td>NaN</td>\n",
       "      <td>NaN</td>\n",
       "      <td>NaN</td>\n",
       "      <td>13.0</td>\n",
       "      <td>NaN</td>\n",
       "      <td>NaN</td>\n",
       "      <td>NaN</td>\n",
       "      <td>NaN</td>\n",
       "      <td>1888.0</td>\n",
       "      <td>58.0</td>\n",
       "    </tr>\n",
       "    <tr>\n",
       "      <th>2</th>\n",
       "      <td>2</td>\n",
       "      <td>12000</td>\n",
       "      <td>5</td>\n",
       "      <td>16.984375</td>\n",
       "      <td>298.2500</td>\n",
       "      <td>4</td>\n",
       "      <td>D3</td>\n",
       "      <td>31698.0</td>\n",
       "      <td>8.0</td>\n",
       "      <td>0</td>\n",
       "      <td>74000.0</td>\n",
       "      <td>2</td>\n",
       "      <td>2015-10-01</td>\n",
       "      <td>0</td>\n",
       "      <td>0</td>\n",
       "      <td>337.0</td>\n",
       "      <td>14</td>\n",
       "      <td>22.765625</td>\n",
       "      <td>0</td>\n",
       "      <td>675</td>\n",
       "      <td>679</td>\n",
       "      <td>11</td>\n",
       "      <td>0</td>\n",
       "      <td>0.0</td>\n",
       "      <td>4606</td>\n",
       "      <td>51.81250</td>\n",
       "      <td>27</td>\n",
       "      <td>0</td>\n",
       "      <td>0</td>\n",
       "      <td>2006-05-01</td>\n",
       "      <td>0.0</td>\n",
       "      <td>0.0</td>\n",
       "      <td>0.0</td>\n",
       "      <td>3.0</td>\n",
       "      <td>0.0</td>\n",
       "      <td>0.0</td>\n",
       "      <td>21.0</td>\n",
       "      <td>4.0</td>\n",
       "      <td>5.0</td>\n",
       "      <td>3.0</td>\n",
       "      <td>11.0</td>\n",
       "      <td>0.0</td>\n",
       "      <td>0.0</td>\n",
       "      <td>0.0</td>\n",
       "      <td>4.0</td>\n",
       "      <td>3044.0</td>\n",
       "      <td>62.0</td>\n",
       "    </tr>\n",
       "    <tr>\n",
       "      <th>3</th>\n",
       "      <td>3</td>\n",
       "      <td>11000</td>\n",
       "      <td>3</td>\n",
       "      <td>7.261719</td>\n",
       "      <td>341.0000</td>\n",
       "      <td>1</td>\n",
       "      <td>A4</td>\n",
       "      <td>46854.0</td>\n",
       "      <td>10.0</td>\n",
       "      <td>1</td>\n",
       "      <td>118000.0</td>\n",
       "      <td>1</td>\n",
       "      <td>2015-08-01</td>\n",
       "      <td>0</td>\n",
       "      <td>4</td>\n",
       "      <td>148.0</td>\n",
       "      <td>11</td>\n",
       "      <td>17.203125</td>\n",
       "      <td>0</td>\n",
       "      <td>685</td>\n",
       "      <td>689</td>\n",
       "      <td>9</td>\n",
       "      <td>0</td>\n",
       "      <td>0.0</td>\n",
       "      <td>9948</td>\n",
       "      <td>52.59375</td>\n",
       "      <td>28</td>\n",
       "      <td>1</td>\n",
       "      <td>0</td>\n",
       "      <td>1999-05-01</td>\n",
       "      <td>4.0</td>\n",
       "      <td>6.0</td>\n",
       "      <td>4.0</td>\n",
       "      <td>6.0</td>\n",
       "      <td>4.0</td>\n",
       "      <td>16.0</td>\n",
       "      <td>4.0</td>\n",
       "      <td>7.0</td>\n",
       "      <td>21.0</td>\n",
       "      <td>6.0</td>\n",
       "      <td>9.0</td>\n",
       "      <td>0.0</td>\n",
       "      <td>0.0</td>\n",
       "      <td>0.0</td>\n",
       "      <td>1.0</td>\n",
       "      <td>2984.0</td>\n",
       "      <td>55.0</td>\n",
       "    </tr>\n",
       "    <tr>\n",
       "      <th>4</th>\n",
       "      <td>4</td>\n",
       "      <td>3000</td>\n",
       "      <td>3</td>\n",
       "      <td>12.992188</td>\n",
       "      <td>101.0625</td>\n",
       "      <td>3</td>\n",
       "      <td>C2</td>\n",
       "      <td>54.0</td>\n",
       "      <td>NaN</td>\n",
       "      <td>1</td>\n",
       "      <td>29000.0</td>\n",
       "      <td>2</td>\n",
       "      <td>2016-03-01</td>\n",
       "      <td>0</td>\n",
       "      <td>10</td>\n",
       "      <td>301.0</td>\n",
       "      <td>21</td>\n",
       "      <td>32.156250</td>\n",
       "      <td>0</td>\n",
       "      <td>690</td>\n",
       "      <td>694</td>\n",
       "      <td>12</td>\n",
       "      <td>0</td>\n",
       "      <td>0.0</td>\n",
       "      <td>2942</td>\n",
       "      <td>32.00000</td>\n",
       "      <td>27</td>\n",
       "      <td>0</td>\n",
       "      <td>0</td>\n",
       "      <td>1977-08-01</td>\n",
       "      <td>11.0</td>\n",
       "      <td>1.0</td>\n",
       "      <td>2.0</td>\n",
       "      <td>7.0</td>\n",
       "      <td>2.0</td>\n",
       "      <td>4.0</td>\n",
       "      <td>9.0</td>\n",
       "      <td>10.0</td>\n",
       "      <td>15.0</td>\n",
       "      <td>7.0</td>\n",
       "      <td>12.0</td>\n",
       "      <td>0.0</td>\n",
       "      <td>0.0</td>\n",
       "      <td>0.0</td>\n",
       "      <td>4.0</td>\n",
       "      <td>3196.0</td>\n",
       "      <td>33.0</td>\n",
       "    </tr>\n",
       "    <tr>\n",
       "      <th>5</th>\n",
       "      <td>5</td>\n",
       "      <td>11000</td>\n",
       "      <td>3</td>\n",
       "      <td>7.988281</td>\n",
       "      <td>344.7500</td>\n",
       "      <td>1</td>\n",
       "      <td>A5</td>\n",
       "      <td>51727.0</td>\n",
       "      <td>7.0</td>\n",
       "      <td>0</td>\n",
       "      <td>39000.0</td>\n",
       "      <td>2</td>\n",
       "      <td>2017-04-01</td>\n",
       "      <td>0</td>\n",
       "      <td>9</td>\n",
       "      <td>512.0</td>\n",
       "      <td>21</td>\n",
       "      <td>17.140625</td>\n",
       "      <td>0</td>\n",
       "      <td>730</td>\n",
       "      <td>734</td>\n",
       "      <td>19</td>\n",
       "      <td>0</td>\n",
       "      <td>0.0</td>\n",
       "      <td>4047</td>\n",
       "      <td>31.09375</td>\n",
       "      <td>52</td>\n",
       "      <td>1</td>\n",
       "      <td>0</td>\n",
       "      <td>1998-07-01</td>\n",
       "      <td>10.0</td>\n",
       "      <td>12.0</td>\n",
       "      <td>1.0</td>\n",
       "      <td>2.0</td>\n",
       "      <td>1.0</td>\n",
       "      <td>1.0</td>\n",
       "      <td>48.0</td>\n",
       "      <td>2.0</td>\n",
       "      <td>3.0</td>\n",
       "      <td>2.0</td>\n",
       "      <td>19.0</td>\n",
       "      <td>0.0</td>\n",
       "      <td>0.0</td>\n",
       "      <td>0.0</td>\n",
       "      <td>0.0</td>\n",
       "      <td>3592.0</td>\n",
       "      <td>54.0</td>\n",
       "    </tr>\n",
       "    <tr>\n",
       "      <th>6</th>\n",
       "      <td>6</td>\n",
       "      <td>2050</td>\n",
       "      <td>3</td>\n",
       "      <td>7.691406</td>\n",
       "      <td>63.9375</td>\n",
       "      <td>1</td>\n",
       "      <td>A4</td>\n",
       "      <td>180083.0</td>\n",
       "      <td>9.0</td>\n",
       "      <td>0</td>\n",
       "      <td>35000.0</td>\n",
       "      <td>0</td>\n",
       "      <td>2014-10-01</td>\n",
       "      <td>0</td>\n",
       "      <td>0</td>\n",
       "      <td>517.0</td>\n",
       "      <td>14</td>\n",
       "      <td>17.484375</td>\n",
       "      <td>0</td>\n",
       "      <td>755</td>\n",
       "      <td>759</td>\n",
       "      <td>12</td>\n",
       "      <td>0</td>\n",
       "      <td>0.0</td>\n",
       "      <td>3111</td>\n",
       "      <td>8.50000</td>\n",
       "      <td>23</td>\n",
       "      <td>0</td>\n",
       "      <td>0</td>\n",
       "      <td>2006-10-01</td>\n",
       "      <td>0.0</td>\n",
       "      <td>0.0</td>\n",
       "      <td>1.0</td>\n",
       "      <td>3.0</td>\n",
       "      <td>7.0</td>\n",
       "      <td>11.0</td>\n",
       "      <td>3.0</td>\n",
       "      <td>10.0</td>\n",
       "      <td>18.0</td>\n",
       "      <td>3.0</td>\n",
       "      <td>12.0</td>\n",
       "      <td>0.0</td>\n",
       "      <td>0.0</td>\n",
       "      <td>0.0</td>\n",
       "      <td>3.0</td>\n",
       "      <td>2680.0</td>\n",
       "      <td>62.0</td>\n",
       "    </tr>\n",
       "    <tr>\n",
       "      <th>7</th>\n",
       "      <td>7</td>\n",
       "      <td>11500</td>\n",
       "      <td>3</td>\n",
       "      <td>14.976562</td>\n",
       "      <td>398.5000</td>\n",
       "      <td>3</td>\n",
       "      <td>C3</td>\n",
       "      <td>214017.0</td>\n",
       "      <td>1.0</td>\n",
       "      <td>1</td>\n",
       "      <td>30000.0</td>\n",
       "      <td>2</td>\n",
       "      <td>2014-01-01</td>\n",
       "      <td>0</td>\n",
       "      <td>0</td>\n",
       "      <td>100.0</td>\n",
       "      <td>4</td>\n",
       "      <td>32.593750</td>\n",
       "      <td>0</td>\n",
       "      <td>665</td>\n",
       "      <td>669</td>\n",
       "      <td>8</td>\n",
       "      <td>1</td>\n",
       "      <td>1.0</td>\n",
       "      <td>14021</td>\n",
       "      <td>59.68750</td>\n",
       "      <td>33</td>\n",
       "      <td>1</td>\n",
       "      <td>0</td>\n",
       "      <td>1994-12-01</td>\n",
       "      <td>0.0</td>\n",
       "      <td>0.0</td>\n",
       "      <td>4.0</td>\n",
       "      <td>4.0</td>\n",
       "      <td>4.0</td>\n",
       "      <td>16.0</td>\n",
       "      <td>10.0</td>\n",
       "      <td>5.0</td>\n",
       "      <td>21.0</td>\n",
       "      <td>4.0</td>\n",
       "      <td>8.0</td>\n",
       "      <td>0.0</td>\n",
       "      <td>0.0</td>\n",
       "      <td>0.0</td>\n",
       "      <td>2.0</td>\n",
       "      <td>2406.0</td>\n",
       "      <td>50.0</td>\n",
       "    </tr>\n",
       "    <tr>\n",
       "      <th>8</th>\n",
       "      <td>8</td>\n",
       "      <td>12000</td>\n",
       "      <td>3</td>\n",
       "      <td>12.992188</td>\n",
       "      <td>404.2500</td>\n",
       "      <td>3</td>\n",
       "      <td>C2</td>\n",
       "      <td>188.0</td>\n",
       "      <td>5.0</td>\n",
       "      <td>2</td>\n",
       "      <td>60000.0</td>\n",
       "      <td>1</td>\n",
       "      <td>2016-05-01</td>\n",
       "      <td>1</td>\n",
       "      <td>0</td>\n",
       "      <td>792.0</td>\n",
       "      <td>13</td>\n",
       "      <td>19.218750</td>\n",
       "      <td>0</td>\n",
       "      <td>690</td>\n",
       "      <td>694</td>\n",
       "      <td>15</td>\n",
       "      <td>0</td>\n",
       "      <td>0.0</td>\n",
       "      <td>27176</td>\n",
       "      <td>46.00000</td>\n",
       "      <td>21</td>\n",
       "      <td>1</td>\n",
       "      <td>0</td>\n",
       "      <td>1994-04-01</td>\n",
       "      <td>0.0</td>\n",
       "      <td>0.0</td>\n",
       "      <td>7.0</td>\n",
       "      <td>13.0</td>\n",
       "      <td>7.0</td>\n",
       "      <td>7.0</td>\n",
       "      <td>2.0</td>\n",
       "      <td>13.0</td>\n",
       "      <td>17.0</td>\n",
       "      <td>11.0</td>\n",
       "      <td>15.0</td>\n",
       "      <td>NaN</td>\n",
       "      <td>0.0</td>\n",
       "      <td>0.0</td>\n",
       "      <td>6.0</td>\n",
       "      <td>3256.0</td>\n",
       "      <td>50.0</td>\n",
       "    </tr>\n",
       "    <tr>\n",
       "      <th>9</th>\n",
       "      <td>9</td>\n",
       "      <td>6500</td>\n",
       "      <td>3</td>\n",
       "      <td>10.992188</td>\n",
       "      <td>212.7500</td>\n",
       "      <td>2</td>\n",
       "      <td>B4</td>\n",
       "      <td>54.0</td>\n",
       "      <td>NaN</td>\n",
       "      <td>1</td>\n",
       "      <td>15300.0</td>\n",
       "      <td>2</td>\n",
       "      <td>2015-11-01</td>\n",
       "      <td>0</td>\n",
       "      <td>0</td>\n",
       "      <td>59.0</td>\n",
       "      <td>11</td>\n",
       "      <td>24.390625</td>\n",
       "      <td>0</td>\n",
       "      <td>725</td>\n",
       "      <td>729</td>\n",
       "      <td>7</td>\n",
       "      <td>0</td>\n",
       "      <td>0.0</td>\n",
       "      <td>2936</td>\n",
       "      <td>30.59375</td>\n",
       "      <td>63</td>\n",
       "      <td>0</td>\n",
       "      <td>0</td>\n",
       "      <td>1993-01-01</td>\n",
       "      <td>0.0</td>\n",
       "      <td>0.0</td>\n",
       "      <td>4.0</td>\n",
       "      <td>5.0</td>\n",
       "      <td>4.0</td>\n",
       "      <td>21.0</td>\n",
       "      <td>24.0</td>\n",
       "      <td>6.0</td>\n",
       "      <td>39.0</td>\n",
       "      <td>5.0</td>\n",
       "      <td>7.0</td>\n",
       "      <td>0.0</td>\n",
       "      <td>0.0</td>\n",
       "      <td>0.0</td>\n",
       "      <td>8.0</td>\n",
       "      <td>3076.0</td>\n",
       "      <td>49.0</td>\n",
       "    </tr>\n",
       "  </tbody>\n",
       "</table>\n",
       "</div>"
      ],
      "text/plain": [
       "   id  loanAmnt  term  interestRate  installment  grade subGrade  \\\n",
       "0   0     35000     5     19.515625     918.0000      5       E2   \n",
       "1   1     18000     5     18.484375     462.0000      4       D2   \n",
       "2   2     12000     5     16.984375     298.2500      4       D3   \n",
       "3   3     11000     3      7.261719     341.0000      1       A4   \n",
       "4   4      3000     3     12.992188     101.0625      3       C2   \n",
       "5   5     11000     3      7.988281     344.7500      1       A5   \n",
       "6   6      2050     3      7.691406      63.9375      1       A4   \n",
       "7   7     11500     3     14.976562     398.5000      3       C3   \n",
       "8   8     12000     3     12.992188     404.2500      3       C2   \n",
       "9   9      6500     3     10.992188     212.7500      2       B4   \n",
       "\n",
       "   employmentTitle  employmentLength  homeOwnership  annualIncome  \\\n",
       "0            320.0               2.0              2      110000.0   \n",
       "1         219843.0               5.0              0       46000.0   \n",
       "2          31698.0               8.0              0       74000.0   \n",
       "3          46854.0              10.0              1      118000.0   \n",
       "4             54.0               NaN              1       29000.0   \n",
       "5          51727.0               7.0              0       39000.0   \n",
       "6         180083.0               9.0              0       35000.0   \n",
       "7         214017.0               1.0              1       30000.0   \n",
       "8            188.0               5.0              2       60000.0   \n",
       "9             54.0               NaN              1       15300.0   \n",
       "\n",
       "   verificationStatus   issueDate  isDefault  purpose  postCode  regionCode  \\\n",
       "0                   2  2014-07-01          1        1     137.0          32   \n",
       "1                   2  2012-08-01          0        0     156.0          18   \n",
       "2                   2  2015-10-01          0        0     337.0          14   \n",
       "3                   1  2015-08-01          0        4     148.0          11   \n",
       "4                   2  2016-03-01          0       10     301.0          21   \n",
       "5                   2  2017-04-01          0        9     512.0          21   \n",
       "6                   0  2014-10-01          0        0     517.0          14   \n",
       "7                   2  2014-01-01          0        0     100.0           4   \n",
       "8                   1  2016-05-01          1        0     792.0          13   \n",
       "9                   2  2015-11-01          0        0      59.0          11   \n",
       "\n",
       "         dti  delinquency_2years  ficoRangeLow  ficoRangeHigh  openAcc  \\\n",
       "0  17.046875                   0           730            734        7   \n",
       "1  27.828125                   0           700            704       13   \n",
       "2  22.765625                   0           675            679       11   \n",
       "3  17.203125                   0           685            689        9   \n",
       "4  32.156250                   0           690            694       12   \n",
       "5  17.140625                   0           730            734       19   \n",
       "6  17.484375                   0           755            759       12   \n",
       "7  32.593750                   0           665            669        8   \n",
       "8  19.218750                   0           690            694       15   \n",
       "9  24.390625                   0           725            729        7   \n",
       "\n",
       "   pubRec  pubRecBankruptcies  revolBal  revolUtil  totalAcc  \\\n",
       "0       0                 0.0     24178   48.90625        27   \n",
       "1       0                 0.0     15096   38.90625        18   \n",
       "2       0                 0.0      4606   51.81250        27   \n",
       "3       0                 0.0      9948   52.59375        28   \n",
       "4       0                 0.0      2942   32.00000        27   \n",
       "5       0                 0.0      4047   31.09375        52   \n",
       "6       0                 0.0      3111    8.50000        23   \n",
       "7       1                 1.0     14021   59.68750        33   \n",
       "8       0                 0.0     27176   46.00000        21   \n",
       "9       0                 0.0      2936   30.59375        63   \n",
       "\n",
       "   initialListStatus  applicationType earliesCreditLine   title    n0   n1  \\\n",
       "0                  0                0        2001-08-01     1.0   0.0  2.0   \n",
       "1                  1                0        2002-05-01  1723.0   NaN  NaN   \n",
       "2                  0                0        2006-05-01     0.0   0.0  0.0   \n",
       "3                  1                0        1999-05-01     4.0   6.0  4.0   \n",
       "4                  0                0        1977-08-01    11.0   1.0  2.0   \n",
       "5                  1                0        1998-07-01    10.0  12.0  1.0   \n",
       "6                  0                0        2006-10-01     0.0   0.0  1.0   \n",
       "7                  1                0        1994-12-01     0.0   0.0  4.0   \n",
       "8                  1                0        1994-04-01     0.0   0.0  7.0   \n",
       "9                  0                0        1993-01-01     0.0   0.0  4.0   \n",
       "\n",
       "     n2    n4    n5    n6    n7    n8    n9   n10  n11  n12  n13  n14  \\\n",
       "0   2.0   4.0   9.0   8.0   4.0  12.0   2.0   7.0  0.0  0.0  0.0  2.0   \n",
       "1   NaN  10.0   NaN   NaN   NaN   NaN   NaN  13.0  NaN  NaN  NaN  NaN   \n",
       "2   3.0   0.0   0.0  21.0   4.0   5.0   3.0  11.0  0.0  0.0  0.0  4.0   \n",
       "3   6.0   4.0  16.0   4.0   7.0  21.0   6.0   9.0  0.0  0.0  0.0  1.0   \n",
       "4   7.0   2.0   4.0   9.0  10.0  15.0   7.0  12.0  0.0  0.0  0.0  4.0   \n",
       "5   2.0   1.0   1.0  48.0   2.0   3.0   2.0  19.0  0.0  0.0  0.0  0.0   \n",
       "6   3.0   7.0  11.0   3.0  10.0  18.0   3.0  12.0  0.0  0.0  0.0  3.0   \n",
       "7   4.0   4.0  16.0  10.0   5.0  21.0   4.0   8.0  0.0  0.0  0.0  2.0   \n",
       "8  13.0   7.0   7.0   2.0  13.0  17.0  11.0  15.0  NaN  0.0  0.0  6.0   \n",
       "9   5.0   4.0  21.0  24.0   6.0  39.0   5.0   7.0  0.0  0.0  0.0  8.0   \n",
       "\n",
       "   issueDateDT  earliesCreditLineDT  \n",
       "0       2588.0                 57.0  \n",
       "1       1888.0                 58.0  \n",
       "2       3044.0                 62.0  \n",
       "3       2984.0                 55.0  \n",
       "4       3196.0                 33.0  \n",
       "5       3592.0                 54.0  \n",
       "6       2680.0                 62.0  \n",
       "7       2406.0                 50.0  \n",
       "8       3256.0                 50.0  \n",
       "9       3076.0                 49.0  "
      ]
     },
     "execution_count": 23,
     "metadata": {},
     "output_type": "execute_result"
    }
   ],
   "source": [
    "pd.set_option('display.max_columns', None)\n",
    "train.head(10)"
   ]
  },
  {
   "cell_type": "code",
   "execution_count": 24,
   "metadata": {
    "ExecuteTime": {
     "end_time": "2020-09-17T14:14:22.170621Z",
     "start_time": "2020-09-17T14:14:21.654159Z"
    }
   },
   "outputs": [
    {
     "data": {
      "text/html": [
       "<div>\n",
       "<style scoped>\n",
       "    .dataframe tbody tr th:only-of-type {\n",
       "        vertical-align: middle;\n",
       "    }\n",
       "\n",
       "    .dataframe tbody tr th {\n",
       "        vertical-align: top;\n",
       "    }\n",
       "\n",
       "    .dataframe thead th {\n",
       "        text-align: right;\n",
       "    }\n",
       "</style>\n",
       "<table border=\"1\" class=\"dataframe\">\n",
       "  <thead>\n",
       "    <tr style=\"text-align: right;\">\n",
       "      <th></th>\n",
       "      <th>id</th>\n",
       "      <th>loanAmnt</th>\n",
       "      <th>term</th>\n",
       "      <th>interestRate</th>\n",
       "      <th>installment</th>\n",
       "      <th>grade</th>\n",
       "      <th>employmentTitle</th>\n",
       "      <th>employmentLength</th>\n",
       "      <th>homeOwnership</th>\n",
       "      <th>annualIncome</th>\n",
       "      <th>verificationStatus</th>\n",
       "      <th>purpose</th>\n",
       "      <th>postCode</th>\n",
       "      <th>regionCode</th>\n",
       "      <th>dti</th>\n",
       "      <th>delinquency_2years</th>\n",
       "      <th>ficoRangeLow</th>\n",
       "      <th>ficoRangeHigh</th>\n",
       "      <th>openAcc</th>\n",
       "      <th>pubRec</th>\n",
       "      <th>pubRecBankruptcies</th>\n",
       "      <th>revolBal</th>\n",
       "      <th>revolUtil</th>\n",
       "      <th>totalAcc</th>\n",
       "      <th>initialListStatus</th>\n",
       "      <th>applicationType</th>\n",
       "      <th>title</th>\n",
       "      <th>n0</th>\n",
       "      <th>n1</th>\n",
       "      <th>n2</th>\n",
       "      <th>n4</th>\n",
       "      <th>n5</th>\n",
       "      <th>n6</th>\n",
       "      <th>n7</th>\n",
       "      <th>n8</th>\n",
       "      <th>n9</th>\n",
       "      <th>n10</th>\n",
       "      <th>n11</th>\n",
       "      <th>n12</th>\n",
       "      <th>n13</th>\n",
       "      <th>n14</th>\n",
       "      <th>issueDateDT</th>\n",
       "      <th>earliesCreditLineDT</th>\n",
       "    </tr>\n",
       "  </thead>\n",
       "  <tbody>\n",
       "    <tr>\n",
       "      <th>count</th>\n",
       "      <td>200000.000000</td>\n",
       "      <td>200000.000000</td>\n",
       "      <td>200000.000000</td>\n",
       "      <td>200000.000000</td>\n",
       "      <td>200000.000000</td>\n",
       "      <td>200000.000000</td>\n",
       "      <td>200000.000000</td>\n",
       "      <td>188258.0</td>\n",
       "      <td>200000.000000</td>\n",
       "      <td>2.000000e+05</td>\n",
       "      <td>200000.000000</td>\n",
       "      <td>200000.000000</td>\n",
       "      <td>200000.000000</td>\n",
       "      <td>200000.000000</td>\n",
       "      <td>199939.000000</td>\n",
       "      <td>200000.000000</td>\n",
       "      <td>200000.000000</td>\n",
       "      <td>200000.000000</td>\n",
       "      <td>200000.000000</td>\n",
       "      <td>200000.00000</td>\n",
       "      <td>199884.0</td>\n",
       "      <td>2.000000e+05</td>\n",
       "      <td>199873.0000</td>\n",
       "      <td>200000.000000</td>\n",
       "      <td>200000.000000</td>\n",
       "      <td>200000.000000</td>\n",
       "      <td>200000.000000</td>\n",
       "      <td>189889.0</td>\n",
       "      <td>189889.0</td>\n",
       "      <td>189889.0</td>\n",
       "      <td>191606.0</td>\n",
       "      <td>189889.0</td>\n",
       "      <td>189889.0</td>\n",
       "      <td>189889.0</td>\n",
       "      <td>189889.0</td>\n",
       "      <td>189889.0</td>\n",
       "      <td>191606.0</td>\n",
       "      <td>182425.0</td>\n",
       "      <td>189889.0</td>\n",
       "      <td>189889.0</td>\n",
       "      <td>189889.0</td>\n",
       "      <td>200000.0</td>\n",
       "      <td>200000.0</td>\n",
       "    </tr>\n",
       "    <tr>\n",
       "      <th>mean</th>\n",
       "      <td>899999.500000</td>\n",
       "      <td>14436.954125</td>\n",
       "      <td>3.481690</td>\n",
       "      <td>NaN</td>\n",
       "      <td>NaN</td>\n",
       "      <td>2.746595</td>\n",
       "      <td>72435.750740</td>\n",
       "      <td>NaN</td>\n",
       "      <td>0.614100</td>\n",
       "      <td>7.645184e+04</td>\n",
       "      <td>1.010430</td>\n",
       "      <td>1.744410</td>\n",
       "      <td>258.259535</td>\n",
       "      <td>16.430830</td>\n",
       "      <td>NaN</td>\n",
       "      <td>0.315895</td>\n",
       "      <td>696.166400</td>\n",
       "      <td>700.166530</td>\n",
       "      <td>11.580340</td>\n",
       "      <td>0.21553</td>\n",
       "      <td>0.0</td>\n",
       "      <td>1.625583e+04</td>\n",
       "      <td>NaN</td>\n",
       "      <td>24.921810</td>\n",
       "      <td>0.416650</td>\n",
       "      <td>0.019465</td>\n",
       "      <td>1778.180570</td>\n",
       "      <td>NaN</td>\n",
       "      <td>NaN</td>\n",
       "      <td>NaN</td>\n",
       "      <td>NaN</td>\n",
       "      <td>NaN</td>\n",
       "      <td>NaN</td>\n",
       "      <td>NaN</td>\n",
       "      <td>NaN</td>\n",
       "      <td>NaN</td>\n",
       "      <td>NaN</td>\n",
       "      <td>0.0</td>\n",
       "      <td>0.0</td>\n",
       "      <td>0.0</td>\n",
       "      <td>NaN</td>\n",
       "      <td>NaN</td>\n",
       "      <td>NaN</td>\n",
       "    </tr>\n",
       "    <tr>\n",
       "      <th>std</th>\n",
       "      <td>57735.171256</td>\n",
       "      <td>8737.430326</td>\n",
       "      <td>0.855195</td>\n",
       "      <td>0.000000</td>\n",
       "      <td>NaN</td>\n",
       "      <td>1.295141</td>\n",
       "      <td>106892.374933</td>\n",
       "      <td>0.0</td>\n",
       "      <td>0.675465</td>\n",
       "      <td>7.766238e+04</td>\n",
       "      <td>0.781732</td>\n",
       "      <td>2.367497</td>\n",
       "      <td>199.752214</td>\n",
       "      <td>11.061279</td>\n",
       "      <td>NaN</td>\n",
       "      <td>0.876316</td>\n",
       "      <td>31.852619</td>\n",
       "      <td>31.853228</td>\n",
       "      <td>5.455525</td>\n",
       "      <td>0.60653</td>\n",
       "      <td>0.0</td>\n",
       "      <td>2.243082e+04</td>\n",
       "      <td>NaN</td>\n",
       "      <td>11.943628</td>\n",
       "      <td>0.493005</td>\n",
       "      <td>0.138153</td>\n",
       "      <td>7983.247915</td>\n",
       "      <td>0.0</td>\n",
       "      <td>0.0</td>\n",
       "      <td>0.0</td>\n",
       "      <td>0.0</td>\n",
       "      <td>0.0</td>\n",
       "      <td>0.0</td>\n",
       "      <td>0.0</td>\n",
       "      <td>0.0</td>\n",
       "      <td>0.0</td>\n",
       "      <td>0.0</td>\n",
       "      <td>0.0</td>\n",
       "      <td>0.0</td>\n",
       "      <td>0.0</td>\n",
       "      <td>0.0</td>\n",
       "      <td>NaN</td>\n",
       "      <td>0.0</td>\n",
       "    </tr>\n",
       "    <tr>\n",
       "      <th>min</th>\n",
       "      <td>800000.000000</td>\n",
       "      <td>500.000000</td>\n",
       "      <td>3.000000</td>\n",
       "      <td>5.308594</td>\n",
       "      <td>14.007812</td>\n",
       "      <td>1.000000</td>\n",
       "      <td>0.000000</td>\n",
       "      <td>0.0</td>\n",
       "      <td>0.000000</td>\n",
       "      <td>0.000000e+00</td>\n",
       "      <td>0.000000</td>\n",
       "      <td>0.000000</td>\n",
       "      <td>0.000000</td>\n",
       "      <td>0.000000</td>\n",
       "      <td>0.000000</td>\n",
       "      <td>0.000000</td>\n",
       "      <td>625.000000</td>\n",
       "      <td>629.000000</td>\n",
       "      <td>0.000000</td>\n",
       "      <td>0.00000</td>\n",
       "      <td>0.0</td>\n",
       "      <td>0.000000e+00</td>\n",
       "      <td>0.0000</td>\n",
       "      <td>2.000000</td>\n",
       "      <td>0.000000</td>\n",
       "      <td>0.000000</td>\n",
       "      <td>0.000000</td>\n",
       "      <td>0.0</td>\n",
       "      <td>0.0</td>\n",
       "      <td>0.0</td>\n",
       "      <td>0.0</td>\n",
       "      <td>0.0</td>\n",
       "      <td>0.0</td>\n",
       "      <td>0.0</td>\n",
       "      <td>1.0</td>\n",
       "      <td>0.0</td>\n",
       "      <td>0.0</td>\n",
       "      <td>0.0</td>\n",
       "      <td>0.0</td>\n",
       "      <td>0.0</td>\n",
       "      <td>0.0</td>\n",
       "      <td>30.0</td>\n",
       "      <td>0.0</td>\n",
       "    </tr>\n",
       "    <tr>\n",
       "      <th>25%</th>\n",
       "      <td>849999.750000</td>\n",
       "      <td>8000.000000</td>\n",
       "      <td>3.000000</td>\n",
       "      <td>9.750000</td>\n",
       "      <td>248.875000</td>\n",
       "      <td>2.000000</td>\n",
       "      <td>420.000000</td>\n",
       "      <td>2.0</td>\n",
       "      <td>0.000000</td>\n",
       "      <td>4.600000e+04</td>\n",
       "      <td>0.000000</td>\n",
       "      <td>0.000000</td>\n",
       "      <td>103.000000</td>\n",
       "      <td>8.000000</td>\n",
       "      <td>11.828125</td>\n",
       "      <td>0.000000</td>\n",
       "      <td>670.000000</td>\n",
       "      <td>674.000000</td>\n",
       "      <td>8.000000</td>\n",
       "      <td>0.00000</td>\n",
       "      <td>0.0</td>\n",
       "      <td>5.940000e+03</td>\n",
       "      <td>33.5000</td>\n",
       "      <td>16.000000</td>\n",
       "      <td>0.000000</td>\n",
       "      <td>0.000000</td>\n",
       "      <td>0.000000</td>\n",
       "      <td>0.0</td>\n",
       "      <td>2.0</td>\n",
       "      <td>3.0</td>\n",
       "      <td>3.0</td>\n",
       "      <td>5.0</td>\n",
       "      <td>4.0</td>\n",
       "      <td>5.0</td>\n",
       "      <td>9.0</td>\n",
       "      <td>3.0</td>\n",
       "      <td>8.0</td>\n",
       "      <td>0.0</td>\n",
       "      <td>0.0</td>\n",
       "      <td>0.0</td>\n",
       "      <td>1.0</td>\n",
       "      <td>2588.0</td>\n",
       "      <td>51.0</td>\n",
       "    </tr>\n",
       "    <tr>\n",
       "      <th>50%</th>\n",
       "      <td>899999.500000</td>\n",
       "      <td>12000.000000</td>\n",
       "      <td>3.000000</td>\n",
       "      <td>12.742188</td>\n",
       "      <td>375.500000</td>\n",
       "      <td>3.000000</td>\n",
       "      <td>7836.000000</td>\n",
       "      <td>6.0</td>\n",
       "      <td>1.000000</td>\n",
       "      <td>6.500000e+04</td>\n",
       "      <td>1.000000</td>\n",
       "      <td>0.000000</td>\n",
       "      <td>203.000000</td>\n",
       "      <td>14.000000</td>\n",
       "      <td>17.625000</td>\n",
       "      <td>0.000000</td>\n",
       "      <td>690.000000</td>\n",
       "      <td>694.000000</td>\n",
       "      <td>11.000000</td>\n",
       "      <td>0.00000</td>\n",
       "      <td>0.0</td>\n",
       "      <td>1.114000e+04</td>\n",
       "      <td>52.3125</td>\n",
       "      <td>23.000000</td>\n",
       "      <td>0.000000</td>\n",
       "      <td>0.000000</td>\n",
       "      <td>2.000000</td>\n",
       "      <td>0.0</td>\n",
       "      <td>3.0</td>\n",
       "      <td>5.0</td>\n",
       "      <td>4.0</td>\n",
       "      <td>7.0</td>\n",
       "      <td>7.0</td>\n",
       "      <td>7.0</td>\n",
       "      <td>13.0</td>\n",
       "      <td>5.0</td>\n",
       "      <td>11.0</td>\n",
       "      <td>0.0</td>\n",
       "      <td>0.0</td>\n",
       "      <td>0.0</td>\n",
       "      <td>2.0</td>\n",
       "      <td>2984.0</td>\n",
       "      <td>56.0</td>\n",
       "    </tr>\n",
       "    <tr>\n",
       "      <th>75%</th>\n",
       "      <td>949999.250000</td>\n",
       "      <td>20000.000000</td>\n",
       "      <td>3.000000</td>\n",
       "      <td>15.992188</td>\n",
       "      <td>581.000000</td>\n",
       "      <td>4.000000</td>\n",
       "      <td>119739.250000</td>\n",
       "      <td>10.0</td>\n",
       "      <td>1.000000</td>\n",
       "      <td>9.000000e+04</td>\n",
       "      <td>2.000000</td>\n",
       "      <td>4.000000</td>\n",
       "      <td>392.000000</td>\n",
       "      <td>22.000000</td>\n",
       "      <td>24.078125</td>\n",
       "      <td>0.000000</td>\n",
       "      <td>710.000000</td>\n",
       "      <td>714.000000</td>\n",
       "      <td>14.000000</td>\n",
       "      <td>0.00000</td>\n",
       "      <td>0.0</td>\n",
       "      <td>1.977925e+04</td>\n",
       "      <td>70.8125</td>\n",
       "      <td>32.000000</td>\n",
       "      <td>1.000000</td>\n",
       "      <td>0.000000</td>\n",
       "      <td>5.000000</td>\n",
       "      <td>0.0</td>\n",
       "      <td>5.0</td>\n",
       "      <td>7.0</td>\n",
       "      <td>6.0</td>\n",
       "      <td>11.0</td>\n",
       "      <td>11.0</td>\n",
       "      <td>10.0</td>\n",
       "      <td>19.0</td>\n",
       "      <td>7.0</td>\n",
       "      <td>14.0</td>\n",
       "      <td>0.0</td>\n",
       "      <td>0.0</td>\n",
       "      <td>0.0</td>\n",
       "      <td>3.0</td>\n",
       "      <td>3318.0</td>\n",
       "      <td>60.0</td>\n",
       "    </tr>\n",
       "    <tr>\n",
       "      <th>max</th>\n",
       "      <td>999999.000000</td>\n",
       "      <td>40000.000000</td>\n",
       "      <td>5.000000</td>\n",
       "      <td>30.984375</td>\n",
       "      <td>1715.000000</td>\n",
       "      <td>7.000000</td>\n",
       "      <td>378338.000000</td>\n",
       "      <td>10.0</td>\n",
       "      <td>5.000000</td>\n",
       "      <td>9.500000e+06</td>\n",
       "      <td>2.000000</td>\n",
       "      <td>13.000000</td>\n",
       "      <td>931.000000</td>\n",
       "      <td>50.000000</td>\n",
       "      <td>999.000000</td>\n",
       "      <td>28.000000</td>\n",
       "      <td>845.000000</td>\n",
       "      <td>850.000000</td>\n",
       "      <td>90.000000</td>\n",
       "      <td>61.00000</td>\n",
       "      <td>11.0</td>\n",
       "      <td>1.743266e+06</td>\n",
       "      <td>366.5000</td>\n",
       "      <td>127.000000</td>\n",
       "      <td>1.000000</td>\n",
       "      <td>1.000000</td>\n",
       "      <td>61676.000000</td>\n",
       "      <td>32.0</td>\n",
       "      <td>32.0</td>\n",
       "      <td>51.0</td>\n",
       "      <td>63.0</td>\n",
       "      <td>70.0</td>\n",
       "      <td>99.0</td>\n",
       "      <td>83.0</td>\n",
       "      <td>112.0</td>\n",
       "      <td>41.0</td>\n",
       "      <td>90.0</td>\n",
       "      <td>3.0</td>\n",
       "      <td>3.0</td>\n",
       "      <td>25.0</td>\n",
       "      <td>28.0</td>\n",
       "      <td>4200.0</td>\n",
       "      <td>71.0</td>\n",
       "    </tr>\n",
       "  </tbody>\n",
       "</table>\n",
       "</div>"
      ],
      "text/plain": [
       "                  id       loanAmnt           term   interestRate  \\\n",
       "count  200000.000000  200000.000000  200000.000000  200000.000000   \n",
       "mean   899999.500000   14436.954125       3.481690            NaN   \n",
       "std     57735.171256    8737.430326       0.855195       0.000000   \n",
       "min    800000.000000     500.000000       3.000000       5.308594   \n",
       "25%    849999.750000    8000.000000       3.000000       9.750000   \n",
       "50%    899999.500000   12000.000000       3.000000      12.742188   \n",
       "75%    949999.250000   20000.000000       3.000000      15.992188   \n",
       "max    999999.000000   40000.000000       5.000000      30.984375   \n",
       "\n",
       "         installment          grade  employmentTitle  employmentLength  \\\n",
       "count  200000.000000  200000.000000    200000.000000          188258.0   \n",
       "mean             NaN       2.746595     72435.750740               NaN   \n",
       "std              NaN       1.295141    106892.374933               0.0   \n",
       "min        14.007812       1.000000         0.000000               0.0   \n",
       "25%       248.875000       2.000000       420.000000               2.0   \n",
       "50%       375.500000       3.000000      7836.000000               6.0   \n",
       "75%       581.000000       4.000000    119739.250000              10.0   \n",
       "max      1715.000000       7.000000    378338.000000              10.0   \n",
       "\n",
       "       homeOwnership  annualIncome  verificationStatus        purpose  \\\n",
       "count  200000.000000  2.000000e+05       200000.000000  200000.000000   \n",
       "mean        0.614100  7.645184e+04            1.010430       1.744410   \n",
       "std         0.675465  7.766238e+04            0.781732       2.367497   \n",
       "min         0.000000  0.000000e+00            0.000000       0.000000   \n",
       "25%         0.000000  4.600000e+04            0.000000       0.000000   \n",
       "50%         1.000000  6.500000e+04            1.000000       0.000000   \n",
       "75%         1.000000  9.000000e+04            2.000000       4.000000   \n",
       "max         5.000000  9.500000e+06            2.000000      13.000000   \n",
       "\n",
       "            postCode     regionCode            dti  delinquency_2years  \\\n",
       "count  200000.000000  200000.000000  199939.000000       200000.000000   \n",
       "mean      258.259535      16.430830            NaN            0.315895   \n",
       "std       199.752214      11.061279            NaN            0.876316   \n",
       "min         0.000000       0.000000       0.000000            0.000000   \n",
       "25%       103.000000       8.000000      11.828125            0.000000   \n",
       "50%       203.000000      14.000000      17.625000            0.000000   \n",
       "75%       392.000000      22.000000      24.078125            0.000000   \n",
       "max       931.000000      50.000000     999.000000           28.000000   \n",
       "\n",
       "        ficoRangeLow  ficoRangeHigh        openAcc        pubRec  \\\n",
       "count  200000.000000  200000.000000  200000.000000  200000.00000   \n",
       "mean      696.166400     700.166530      11.580340       0.21553   \n",
       "std        31.852619      31.853228       5.455525       0.60653   \n",
       "min       625.000000     629.000000       0.000000       0.00000   \n",
       "25%       670.000000     674.000000       8.000000       0.00000   \n",
       "50%       690.000000     694.000000      11.000000       0.00000   \n",
       "75%       710.000000     714.000000      14.000000       0.00000   \n",
       "max       845.000000     850.000000      90.000000      61.00000   \n",
       "\n",
       "       pubRecBankruptcies      revolBal    revolUtil       totalAcc  \\\n",
       "count            199884.0  2.000000e+05  199873.0000  200000.000000   \n",
       "mean                  0.0  1.625583e+04          NaN      24.921810   \n",
       "std                   0.0  2.243082e+04          NaN      11.943628   \n",
       "min                   0.0  0.000000e+00       0.0000       2.000000   \n",
       "25%                   0.0  5.940000e+03      33.5000      16.000000   \n",
       "50%                   0.0  1.114000e+04      52.3125      23.000000   \n",
       "75%                   0.0  1.977925e+04      70.8125      32.000000   \n",
       "max                  11.0  1.743266e+06     366.5000     127.000000   \n",
       "\n",
       "       initialListStatus  applicationType          title        n0        n1  \\\n",
       "count      200000.000000    200000.000000  200000.000000  189889.0  189889.0   \n",
       "mean            0.416650         0.019465    1778.180570       NaN       NaN   \n",
       "std             0.493005         0.138153    7983.247915       0.0       0.0   \n",
       "min             0.000000         0.000000       0.000000       0.0       0.0   \n",
       "25%             0.000000         0.000000       0.000000       0.0       2.0   \n",
       "50%             0.000000         0.000000       2.000000       0.0       3.0   \n",
       "75%             1.000000         0.000000       5.000000       0.0       5.0   \n",
       "max             1.000000         1.000000   61676.000000      32.0      32.0   \n",
       "\n",
       "             n2        n4        n5        n6        n7        n8        n9  \\\n",
       "count  189889.0  191606.0  189889.0  189889.0  189889.0  189889.0  189889.0   \n",
       "mean        NaN       NaN       NaN       NaN       NaN       NaN       NaN   \n",
       "std         0.0       0.0       0.0       0.0       0.0       0.0       0.0   \n",
       "min         0.0       0.0       0.0       0.0       0.0       1.0       0.0   \n",
       "25%         3.0       3.0       5.0       4.0       5.0       9.0       3.0   \n",
       "50%         5.0       4.0       7.0       7.0       7.0      13.0       5.0   \n",
       "75%         7.0       6.0      11.0      11.0      10.0      19.0       7.0   \n",
       "max        51.0      63.0      70.0      99.0      83.0     112.0      41.0   \n",
       "\n",
       "            n10       n11       n12       n13       n14  issueDateDT  \\\n",
       "count  191606.0  182425.0  189889.0  189889.0  189889.0     200000.0   \n",
       "mean        NaN       0.0       0.0       0.0       NaN          NaN   \n",
       "std         0.0       0.0       0.0       0.0       0.0          NaN   \n",
       "min         0.0       0.0       0.0       0.0       0.0         30.0   \n",
       "25%         8.0       0.0       0.0       0.0       1.0       2588.0   \n",
       "50%        11.0       0.0       0.0       0.0       2.0       2984.0   \n",
       "75%        14.0       0.0       0.0       0.0       3.0       3318.0   \n",
       "max        90.0       3.0       3.0      25.0      28.0       4200.0   \n",
       "\n",
       "       earliesCreditLineDT  \n",
       "count             200000.0  \n",
       "mean                   NaN  \n",
       "std                    0.0  \n",
       "min                    0.0  \n",
       "25%                   51.0  \n",
       "50%                   56.0  \n",
       "75%                   60.0  \n",
       "max                   71.0  "
      ]
     },
     "execution_count": 24,
     "metadata": {},
     "output_type": "execute_result"
    }
   ],
   "source": [
    "test.describe()"
   ]
  },
  {
   "cell_type": "code",
   "execution_count": 25,
   "metadata": {
    "ExecuteTime": {
     "end_time": "2020-09-17T14:14:22.217663Z",
     "start_time": "2020-09-17T14:14:22.171622Z"
    }
   },
   "outputs": [
    {
     "name": "stdout",
     "output_type": "stream",
     "text": [
      "<class 'pandas.core.frame.DataFrame'>\n",
      "Int64Index: 200000 entries, 0 to 199999\n",
      "Data columns (total 46 columns):\n",
      " #   Column               Non-Null Count   Dtype  \n",
      "---  ------               --------------   -----  \n",
      " 0   id                   200000 non-null  int32  \n",
      " 1   loanAmnt             200000 non-null  int32  \n",
      " 2   term                 200000 non-null  int8   \n",
      " 3   interestRate         200000 non-null  float16\n",
      " 4   installment          200000 non-null  float16\n",
      " 5   grade                200000 non-null  int64  \n",
      " 6   subGrade             200000 non-null  object \n",
      " 7   employmentTitle      200000 non-null  int32  \n",
      " 8   employmentLength     188258 non-null  float16\n",
      " 9   homeOwnership        200000 non-null  int8   \n",
      " 10  annualIncome         200000 non-null  float32\n",
      " 11  verificationStatus   200000 non-null  int8   \n",
      " 12  issueDate            200000 non-null  object \n",
      " 13  purpose              200000 non-null  int8   \n",
      " 14  postCode             200000 non-null  int16  \n",
      " 15  regionCode           200000 non-null  int8   \n",
      " 16  dti                  199939 non-null  float16\n",
      " 17  delinquency_2years   200000 non-null  int8   \n",
      " 18  ficoRangeLow         200000 non-null  int16  \n",
      " 19  ficoRangeHigh        200000 non-null  int16  \n",
      " 20  openAcc              200000 non-null  int8   \n",
      " 21  pubRec               200000 non-null  int8   \n",
      " 22  pubRecBankruptcies   199884 non-null  float16\n",
      " 23  revolBal             200000 non-null  int32  \n",
      " 24  revolUtil            199873 non-null  float16\n",
      " 25  totalAcc             200000 non-null  int16  \n",
      " 26  initialListStatus    200000 non-null  int8   \n",
      " 27  applicationType      200000 non-null  int8   \n",
      " 28  earliesCreditLine    200000 non-null  object \n",
      " 29  title                200000 non-null  int32  \n",
      " 30  n0                   189889 non-null  float16\n",
      " 31  n1                   189889 non-null  float16\n",
      " 32  n2                   189889 non-null  float16\n",
      " 33  n4                   191606 non-null  float16\n",
      " 34  n5                   189889 non-null  float16\n",
      " 35  n6                   189889 non-null  float16\n",
      " 36  n7                   189889 non-null  float16\n",
      " 37  n8                   189889 non-null  float16\n",
      " 38  n9                   189889 non-null  float16\n",
      " 39  n10                  191606 non-null  float16\n",
      " 40  n11                  182425 non-null  float16\n",
      " 41  n12                  189889 non-null  float16\n",
      " 42  n13                  189889 non-null  float16\n",
      " 43  n14                  189889 non-null  float16\n",
      " 44  issueDateDT          200000 non-null  float16\n",
      " 45  earliesCreditLineDT  200000 non-null  float16\n",
      "dtypes: float16(22), float32(1), int16(4), int32(5), int64(1), int8(10), object(3)\n",
      "memory usage: 24.0+ MB\n"
     ]
    }
   ],
   "source": [
    "test.info()"
   ]
  },
  {
   "cell_type": "markdown",
   "metadata": {},
   "source": []
  },
  {
   "cell_type": "code",
   "execution_count": 26,
   "metadata": {
    "ExecuteTime": {
     "end_time": "2020-09-17T14:14:22.232677Z",
     "start_time": "2020-09-17T14:14:22.218663Z"
    }
   },
   "outputs": [],
   "source": [
    "# train['subGrade'].value_counts().sort_index()"
   ]
  },
  {
   "cell_type": "code",
   "execution_count": null,
   "metadata": {},
   "outputs": [],
   "source": []
  },
  {
   "cell_type": "code",
   "execution_count": 27,
   "metadata": {
    "ExecuteTime": {
     "end_time": "2020-09-17T14:14:22.653052Z",
     "start_time": "2020-09-17T14:14:22.233677Z"
    }
   },
   "outputs": [
    {
     "data": {
      "text/plain": [
       "Text(0.5, 0, 'FICORangeLow')"
      ]
     },
     "execution_count": 27,
     "metadata": {},
     "output_type": "execute_result"
    },
    {
     "data": {
      "image/png": "[encoded data removed]",
      "text/plain": [
       "<Figure size 720x432 with 1 Axes>"
      ]
     },
     "metadata": {
      "needs_background": "light"
     },
     "output_type": "display_data"
    }
   ],
   "source": [
    "plt.figure(figsize=(10,6))\n",
    "train[train['isDefault']==1]['ficoRangeLow'].hist(bins=30, alpha=0.5, color='blue', label='isDefault=1')\n",
    "train[train['isDefault']==0]['ficoRangeLow'].hist(bins=30, alpha=0.5, color='green', label='isDefault=0')\n",
    "plt.legend()\n",
    "plt.xlabel('FICORangeLow')"
   ]
  },
  {
   "cell_type": "code",
   "execution_count": null,
   "metadata": {},
   "outputs": [],
   "source": []
  },
  {
   "cell_type": "markdown",
   "metadata": {},
   "source": [
    "### 就是每一组，不还的占比"
   ]
  },
  {
   "cell_type": "code",
   "execution_count": 28,
   "metadata": {
    "ExecuteTime": {
     "end_time": "2020-09-17T14:14:22.669076Z",
     "start_time": "2020-09-17T14:14:22.654053Z"
    }
   },
   "outputs": [],
   "source": [
    "# train['subGrade'].value_counts().sort_values(ascending=False)"
   ]
  },
  {
   "cell_type": "code",
   "execution_count": 29,
   "metadata": {
    "ExecuteTime": {
     "end_time": "2020-09-17T14:14:22.685090Z",
     "start_time": "2020-09-17T14:14:22.670077Z"
    }
   },
   "outputs": [],
   "source": [
    "# train['employmentTitle'].value_counts().sort_values(ascending=False)"
   ]
  },
  {
   "cell_type": "code",
   "execution_count": 30,
   "metadata": {
    "ExecuteTime": {
     "end_time": "2020-09-17T14:14:22.700098Z",
     "start_time": "2020-09-17T14:14:22.686092Z"
    }
   },
   "outputs": [],
   "source": [
    "# test['employmentTitle'].value_counts().sort_values(ascending=False)"
   ]
  },
  {
   "cell_type": "code",
   "execution_count": 31,
   "metadata": {
    "ExecuteTime": {
     "end_time": "2020-09-17T14:14:22.715111Z",
     "start_time": "2020-09-17T14:14:22.701099Z"
    }
   },
   "outputs": [],
   "source": [
    "# train['purpose'].value_counts().sort_values(ascending=False)"
   ]
  },
  {
   "cell_type": "code",
   "execution_count": 32,
   "metadata": {
    "ExecuteTime": {
     "end_time": "2020-09-17T14:14:22.730106Z",
     "start_time": "2020-09-17T14:14:22.716112Z"
    }
   },
   "outputs": [],
   "source": [
    "# test['purpose'].value_counts().sort_values(ascending=False)"
   ]
  },
  {
   "cell_type": "code",
   "execution_count": 33,
   "metadata": {
    "ExecuteTime": {
     "end_time": "2020-09-17T14:14:22.745125Z",
     "start_time": "2020-09-17T14:14:22.731109Z"
    }
   },
   "outputs": [],
   "source": [
    "# train['regionCode'].value_counts().sort_values(ascending=False)"
   ]
  },
  {
   "cell_type": "code",
   "execution_count": 34,
   "metadata": {
    "ExecuteTime": {
     "end_time": "2020-09-17T14:14:22.760139Z",
     "start_time": "2020-09-17T14:14:22.746127Z"
    }
   },
   "outputs": [],
   "source": [
    "# test['regionCode'].value_counts().sort_values(ascending=False)"
   ]
  },
  {
   "cell_type": "code",
   "execution_count": 35,
   "metadata": {
    "ExecuteTime": {
     "end_time": "2020-09-17T14:14:22.776150Z",
     "start_time": "2020-09-17T14:14:22.761141Z"
    }
   },
   "outputs": [],
   "source": [
    "# train['postCode'].value_counts().sort_values(ascending=False)"
   ]
  },
  {
   "cell_type": "code",
   "execution_count": 36,
   "metadata": {
    "ExecuteTime": {
     "end_time": "2020-09-17T14:14:22.792166Z",
     "start_time": "2020-09-17T14:14:22.777153Z"
    }
   },
   "outputs": [],
   "source": [
    "# test['postCode'].value_counts().sort_values(ascending=False)"
   ]
  },
  {
   "cell_type": "code",
   "execution_count": 42,
   "metadata": {},
   "outputs": [
    {
     "name": "stderr",
     "output_type": "stream",
     "text": [
      "'profile.to_notebook_iframe' 不是内部或外部命令，也不是可运行的程序\n",
      "或批处理文件。\n"
     ]
    }
   ],
   "source": [
    "# profile.to_notebook_iframe()"
   ]
  },
  {
   "cell_type": "code",
   "execution_count": 47,
   "metadata": {
    "ExecuteTime": {
     "end_time": "2020-09-17T14:14:28.308656Z",
     "start_time": "2020-09-17T14:14:22.793166Z"
    }
   },
   "outputs": [
    {
     "data": {
      "application/vnd.jupyter.widget-view+json": {
       "model_id": "77a3e068671c4b1795c10c82f22f018d",
       "version_major": 2,
       "version_minor": 0
      },
      "text/plain": [
       "HBox(children=(FloatProgress(value=0.0, description='Summarize dataset', max=61.0, style=ProgressStyle(descrip…"
      ]
     },
     "metadata": {},
     "output_type": "display_data"
    },
    {
     "name": "stdout",
     "output_type": "stream",
     "text": [
      "\n"
     ]
    },
    {
     "ename": "IndexError",
     "evalue": "index -9223372036854775808 is out of bounds for axis 0 with size 572736",
     "output_type": "error",
     "traceback": [
      "\u001b[1;31m---------------------------------------------------------------------------\u001b[0m",
      "\u001b[1;31mIndexError\u001b[0m                                Traceback (most recent call last)",
      "\u001b[1;32m<ipython-input-47-41d80015dc20>\u001b[0m in \u001b[0;36m<module>\u001b[1;34m\u001b[0m\n\u001b[0;32m      1\u001b[0m \u001b[1;32mimport\u001b[0m \u001b[0mpandas_profiling\u001b[0m\u001b[1;33m\u001b[0m\u001b[1;33m\u001b[0m\u001b[0m\n\u001b[0;32m      2\u001b[0m \u001b[0mpfr\u001b[0m \u001b[1;33m=\u001b[0m \u001b[0mpandas_profiling\u001b[0m\u001b[1;33m.\u001b[0m\u001b[0mProfileReport\u001b[0m\u001b[1;33m(\u001b[0m\u001b[0mtrain\u001b[0m\u001b[1;33m)\u001b[0m\u001b[1;33m\u001b[0m\u001b[1;33m\u001b[0m\u001b[0m\n\u001b[1;32m----> 3\u001b[1;33m \u001b[0mpfr\u001b[0m\u001b[1;33m.\u001b[0m\u001b[0mto_file\u001b[0m\u001b[1;33m(\u001b[0m\u001b[1;34m\"../traineg.html\"\u001b[0m\u001b[1;33m)\u001b[0m\u001b[1;33m\u001b[0m\u001b[1;33m\u001b[0m\u001b[0m\n\u001b[0m",
      "\u001b[1;32mF:\\Anaconda\\envs\\kaggle\\lib\\site-packages\\pandas_profiling\\profile_report.py\u001b[0m in \u001b[0;36mto_file\u001b[1;34m(self, output_file, silent)\u001b[0m\n\u001b[0;32m    254\u001b[0m                 \u001b[0mcreate_html_assets\u001b[0m\u001b[1;33m(\u001b[0m\u001b[0moutput_file\u001b[0m\u001b[1;33m)\u001b[0m\u001b[1;33m\u001b[0m\u001b[1;33m\u001b[0m\u001b[0m\n\u001b[0;32m    255\u001b[0m \u001b[1;33m\u001b[0m\u001b[0m\n\u001b[1;32m--> 256\u001b[1;33m             \u001b[0mdata\u001b[0m \u001b[1;33m=\u001b[0m \u001b[0mself\u001b[0m\u001b[1;33m.\u001b[0m\u001b[0mto_html\u001b[0m\u001b[1;33m(\u001b[0m\u001b[1;33m)\u001b[0m\u001b[1;33m\u001b[0m\u001b[1;33m\u001b[0m\u001b[0m\n\u001b[0m\u001b[0;32m    257\u001b[0m \u001b[1;33m\u001b[0m\u001b[0m\n\u001b[0;32m    258\u001b[0m             \u001b[1;32mif\u001b[0m \u001b[0moutput_file\u001b[0m\u001b[1;33m.\u001b[0m\u001b[0msuffix\u001b[0m \u001b[1;33m!=\u001b[0m \u001b[1;34m\".html\"\u001b[0m\u001b[1;33m:\u001b[0m\u001b[1;33m\u001b[0m\u001b[1;33m\u001b[0m\u001b[0m\n",
      "\u001b[1;32mF:\\Anaconda\\envs\\kaggle\\lib\\site-packages\\pandas_profiling\\profile_report.py\u001b[0m in \u001b[0;36mto_html\u001b[1;34m(self)\u001b[0m\n\u001b[0;32m    357\u001b[0m \u001b[1;33m\u001b[0m\u001b[0m\n\u001b[0;32m    358\u001b[0m         \"\"\"\n\u001b[1;32m--> 359\u001b[1;33m         \u001b[1;32mreturn\u001b[0m \u001b[0mself\u001b[0m\u001b[1;33m.\u001b[0m\u001b[0mhtml\u001b[0m\u001b[1;33m\u001b[0m\u001b[1;33m\u001b[0m\u001b[0m\n\u001b[0m\u001b[0;32m    360\u001b[0m \u001b[1;33m\u001b[0m\u001b[0m\n\u001b[0;32m    361\u001b[0m     \u001b[1;32mdef\u001b[0m \u001b[0mto_json\u001b[0m\u001b[1;33m(\u001b[0m\u001b[0mself\u001b[0m\u001b[1;33m)\u001b[0m \u001b[1;33m->\u001b[0m \u001b[0mstr\u001b[0m\u001b[1;33m:\u001b[0m\u001b[1;33m\u001b[0m\u001b[1;33m\u001b[0m\u001b[0m\n",
      "\u001b[1;32mF:\\Anaconda\\envs\\kaggle\\lib\\site-packages\\pandas_profiling\\profile_report.py\u001b[0m in \u001b[0;36mhtml\u001b[1;34m(self)\u001b[0m\n\u001b[0;32m    177\u001b[0m     \u001b[1;32mdef\u001b[0m \u001b[0mhtml\u001b[0m\u001b[1;33m(\u001b[0m\u001b[0mself\u001b[0m\u001b[1;33m)\u001b[0m\u001b[1;33m:\u001b[0m\u001b[1;33m\u001b[0m\u001b[1;33m\u001b[0m\u001b[0m\n\u001b[0;32m    178\u001b[0m         \u001b[1;32mif\u001b[0m \u001b[0mself\u001b[0m\u001b[1;33m.\u001b[0m\u001b[0m_html\u001b[0m \u001b[1;32mis\u001b[0m \u001b[1;32mNone\u001b[0m\u001b[1;33m:\u001b[0m\u001b[1;33m\u001b[0m\u001b[1;33m\u001b[0m\u001b[0m\n\u001b[1;32m--> 179\u001b[1;33m             \u001b[0mself\u001b[0m\u001b[1;33m.\u001b[0m\u001b[0m_html\u001b[0m \u001b[1;33m=\u001b[0m \u001b[0mself\u001b[0m\u001b[1;33m.\u001b[0m\u001b[0m_render_html\u001b[0m\u001b[1;33m(\u001b[0m\u001b[1;33m)\u001b[0m\u001b[1;33m\u001b[0m\u001b[1;33m\u001b[0m\u001b[0m\n\u001b[0m\u001b[0;32m    180\u001b[0m         \u001b[1;32mreturn\u001b[0m \u001b[0mself\u001b[0m\u001b[1;33m.\u001b[0m\u001b[0m_html\u001b[0m\u001b[1;33m\u001b[0m\u001b[1;33m\u001b[0m\u001b[0m\n\u001b[0;32m    181\u001b[0m \u001b[1;33m\u001b[0m\u001b[0m\n",
      "\u001b[1;32mF:\\Anaconda\\envs\\kaggle\\lib\\site-packages\\pandas_profiling\\profile_report.py\u001b[0m in \u001b[0;36m_render_html\u001b[1;34m(self)\u001b[0m\n\u001b[0;32m    284\u001b[0m         \u001b[1;32mfrom\u001b[0m \u001b[0mpandas_profiling\u001b[0m\u001b[1;33m.\u001b[0m\u001b[0mreport\u001b[0m\u001b[1;33m.\u001b[0m\u001b[0mpresentation\u001b[0m\u001b[1;33m.\u001b[0m\u001b[0mflavours\u001b[0m \u001b[1;32mimport\u001b[0m \u001b[0mHTMLReport\u001b[0m\u001b[1;33m\u001b[0m\u001b[1;33m\u001b[0m\u001b[0m\n\u001b[0;32m    285\u001b[0m \u001b[1;33m\u001b[0m\u001b[0m\n\u001b[1;32m--> 286\u001b[1;33m         \u001b[0mreport\u001b[0m \u001b[1;33m=\u001b[0m \u001b[0mself\u001b[0m\u001b[1;33m.\u001b[0m\u001b[0mreport\u001b[0m\u001b[1;33m\u001b[0m\u001b[1;33m\u001b[0m\u001b[0m\n\u001b[0m\u001b[0;32m    287\u001b[0m \u001b[1;33m\u001b[0m\u001b[0m\n\u001b[0;32m    288\u001b[0m         \u001b[0mdisable_progress_bar\u001b[0m \u001b[1;33m=\u001b[0m \u001b[1;32mnot\u001b[0m \u001b[0mconfig\u001b[0m\u001b[1;33m[\u001b[0m\u001b[1;34m\"progress_bar\"\u001b[0m\u001b[1;33m]\u001b[0m\u001b[1;33m.\u001b[0m\u001b[0mget\u001b[0m\u001b[1;33m(\u001b[0m\u001b[0mbool\u001b[0m\u001b[1;33m)\u001b[0m\u001b[1;33m\u001b[0m\u001b[1;33m\u001b[0m\u001b[0m\n",
      "\u001b[1;32mF:\\Anaconda\\envs\\kaggle\\lib\\site-packages\\pandas_profiling\\profile_report.py\u001b[0m in \u001b[0;36mreport\u001b[1;34m(self)\u001b[0m\n\u001b[0;32m    171\u001b[0m     \u001b[1;32mdef\u001b[0m \u001b[0mreport\u001b[0m\u001b[1;33m(\u001b[0m\u001b[0mself\u001b[0m\u001b[1;33m)\u001b[0m\u001b[1;33m:\u001b[0m\u001b[1;33m\u001b[0m\u001b[1;33m\u001b[0m\u001b[0m\n\u001b[0;32m    172\u001b[0m         \u001b[1;32mif\u001b[0m \u001b[0mself\u001b[0m\u001b[1;33m.\u001b[0m\u001b[0m_report\u001b[0m \u001b[1;32mis\u001b[0m \u001b[1;32mNone\u001b[0m\u001b[1;33m:\u001b[0m\u001b[1;33m\u001b[0m\u001b[1;33m\u001b[0m\u001b[0m\n\u001b[1;32m--> 173\u001b[1;33m             \u001b[0mself\u001b[0m\u001b[1;33m.\u001b[0m\u001b[0m_report\u001b[0m \u001b[1;33m=\u001b[0m \u001b[0mget_report_structure\u001b[0m\u001b[1;33m(\u001b[0m\u001b[0mself\u001b[0m\u001b[1;33m.\u001b[0m\u001b[0mdescription_set\u001b[0m\u001b[1;33m)\u001b[0m\u001b[1;33m\u001b[0m\u001b[1;33m\u001b[0m\u001b[0m\n\u001b[0m\u001b[0;32m    174\u001b[0m         \u001b[1;32mreturn\u001b[0m \u001b[0mself\u001b[0m\u001b[1;33m.\u001b[0m\u001b[0m_report\u001b[0m\u001b[1;33m\u001b[0m\u001b[1;33m\u001b[0m\u001b[0m\n\u001b[0;32m    175\u001b[0m \u001b[1;33m\u001b[0m\u001b[0m\n",
      "\u001b[1;32mF:\\Anaconda\\envs\\kaggle\\lib\\site-packages\\pandas_profiling\\profile_report.py\u001b[0m in \u001b[0;36mdescription_set\u001b[1;34m(self)\u001b[0m\n\u001b[0;32m    152\u001b[0m     \u001b[1;32mdef\u001b[0m \u001b[0mdescription_set\u001b[0m\u001b[1;33m(\u001b[0m\u001b[0mself\u001b[0m\u001b[1;33m)\u001b[0m\u001b[1;33m:\u001b[0m\u001b[1;33m\u001b[0m\u001b[1;33m\u001b[0m\u001b[0m\n\u001b[0;32m    153\u001b[0m         \u001b[1;32mif\u001b[0m \u001b[0mself\u001b[0m\u001b[1;33m.\u001b[0m\u001b[0m_description_set\u001b[0m \u001b[1;32mis\u001b[0m \u001b[1;32mNone\u001b[0m\u001b[1;33m:\u001b[0m\u001b[1;33m\u001b[0m\u001b[1;33m\u001b[0m\u001b[0m\n\u001b[1;32m--> 154\u001b[1;33m             \u001b[0mself\u001b[0m\u001b[1;33m.\u001b[0m\u001b[0m_description_set\u001b[0m \u001b[1;33m=\u001b[0m \u001b[0mdescribe_df\u001b[0m\u001b[1;33m(\u001b[0m\u001b[0mself\u001b[0m\u001b[1;33m.\u001b[0m\u001b[0mtitle\u001b[0m\u001b[1;33m,\u001b[0m \u001b[0mself\u001b[0m\u001b[1;33m.\u001b[0m\u001b[0mdf\u001b[0m\u001b[1;33m,\u001b[0m \u001b[0mself\u001b[0m\u001b[1;33m.\u001b[0m\u001b[0m_sample\u001b[0m\u001b[1;33m)\u001b[0m\u001b[1;33m\u001b[0m\u001b[1;33m\u001b[0m\u001b[0m\n\u001b[0m\u001b[0;32m    155\u001b[0m         \u001b[1;32mreturn\u001b[0m \u001b[0mself\u001b[0m\u001b[1;33m.\u001b[0m\u001b[0m_description_set\u001b[0m\u001b[1;33m\u001b[0m\u001b[1;33m\u001b[0m\u001b[0m\n\u001b[0;32m    156\u001b[0m \u001b[1;33m\u001b[0m\u001b[0m\n",
      "\u001b[1;32mF:\\Anaconda\\envs\\kaggle\\lib\\site-packages\\pandas_profiling\\model\\describe.py\u001b[0m in \u001b[0;36mdescribe\u001b[1;34m(title, df, sample)\u001b[0m\n\u001b[0;32m     70\u001b[0m         \u001b[0mtotal\u001b[0m\u001b[1;33m=\u001b[0m\u001b[0mnumber_of_tasks\u001b[0m\u001b[1;33m,\u001b[0m \u001b[0mdesc\u001b[0m\u001b[1;33m=\u001b[0m\u001b[1;34m\"Summarize dataset\"\u001b[0m\u001b[1;33m,\u001b[0m \u001b[0mdisable\u001b[0m\u001b[1;33m=\u001b[0m\u001b[0mdisable_progress_bar\u001b[0m\u001b[1;33m\u001b[0m\u001b[1;33m\u001b[0m\u001b[0m\n\u001b[0;32m     71\u001b[0m     ) as pbar:\n\u001b[1;32m---> 72\u001b[1;33m         \u001b[0mseries_description\u001b[0m \u001b[1;33m=\u001b[0m \u001b[0mget_series_descriptions\u001b[0m\u001b[1;33m(\u001b[0m\u001b[0mdf\u001b[0m\u001b[1;33m,\u001b[0m \u001b[0mpbar\u001b[0m\u001b[1;33m)\u001b[0m\u001b[1;33m\u001b[0m\u001b[1;33m\u001b[0m\u001b[0m\n\u001b[0m\u001b[0;32m     73\u001b[0m \u001b[1;33m\u001b[0m\u001b[0m\n\u001b[0;32m     74\u001b[0m         \u001b[0mpbar\u001b[0m\u001b[1;33m.\u001b[0m\u001b[0mset_postfix_str\u001b[0m\u001b[1;33m(\u001b[0m\u001b[1;34m\"Get variable types\"\u001b[0m\u001b[1;33m)\u001b[0m\u001b[1;33m\u001b[0m\u001b[1;33m\u001b[0m\u001b[0m\n",
      "\u001b[1;32mF:\\Anaconda\\envs\\kaggle\\lib\\site-packages\\pandas_profiling\\model\\summary.py\u001b[0m in \u001b[0;36mget_series_descriptions\u001b[1;34m(df, pbar)\u001b[0m\n\u001b[0;32m    517\u001b[0m         \u001b[1;32mwith\u001b[0m \u001b[0mmultiprocessing\u001b[0m\u001b[1;33m.\u001b[0m\u001b[0mpool\u001b[0m\u001b[1;33m.\u001b[0m\u001b[0mThreadPool\u001b[0m\u001b[1;33m(\u001b[0m\u001b[0mpool_size\u001b[0m\u001b[1;33m)\u001b[0m \u001b[1;32mas\u001b[0m \u001b[0mexecutor\u001b[0m\u001b[1;33m:\u001b[0m\u001b[1;33m\u001b[0m\u001b[1;33m\u001b[0m\u001b[0m\n\u001b[0;32m    518\u001b[0m             for i, (column, description) in enumerate(\n\u001b[1;32m--> 519\u001b[1;33m                 \u001b[0mexecutor\u001b[0m\u001b[1;33m.\u001b[0m\u001b[0mimap_unordered\u001b[0m\u001b[1;33m(\u001b[0m\u001b[0mmultiprocess_1d\u001b[0m\u001b[1;33m,\u001b[0m \u001b[0margs\u001b[0m\u001b[1;33m)\u001b[0m\u001b[1;33m\u001b[0m\u001b[1;33m\u001b[0m\u001b[0m\n\u001b[0m\u001b[0;32m    520\u001b[0m             ):\n\u001b[0;32m    521\u001b[0m                 \u001b[0mpbar\u001b[0m\u001b[1;33m.\u001b[0m\u001b[0mset_postfix_str\u001b[0m\u001b[1;33m(\u001b[0m\u001b[1;34mf\"Describe variable:{column}\"\u001b[0m\u001b[1;33m)\u001b[0m\u001b[1;33m\u001b[0m\u001b[1;33m\u001b[0m\u001b[0m\n",
      "\u001b[1;32mF:\\Anaconda\\envs\\kaggle\\lib\\multiprocessing\\pool.py\u001b[0m in \u001b[0;36mnext\u001b[1;34m(self, timeout)\u001b[0m\n\u001b[0;32m    746\u001b[0m         \u001b[1;32mif\u001b[0m \u001b[0msuccess\u001b[0m\u001b[1;33m:\u001b[0m\u001b[1;33m\u001b[0m\u001b[1;33m\u001b[0m\u001b[0m\n\u001b[0;32m    747\u001b[0m             \u001b[1;32mreturn\u001b[0m \u001b[0mvalue\u001b[0m\u001b[1;33m\u001b[0m\u001b[1;33m\u001b[0m\u001b[0m\n\u001b[1;32m--> 748\u001b[1;33m         \u001b[1;32mraise\u001b[0m \u001b[0mvalue\u001b[0m\u001b[1;33m\u001b[0m\u001b[1;33m\u001b[0m\u001b[0m\n\u001b[0m\u001b[0;32m    749\u001b[0m \u001b[1;33m\u001b[0m\u001b[0m\n\u001b[0;32m    750\u001b[0m     \u001b[0m__next__\u001b[0m \u001b[1;33m=\u001b[0m \u001b[0mnext\u001b[0m                    \u001b[1;31m# XXX\u001b[0m\u001b[1;33m\u001b[0m\u001b[1;33m\u001b[0m\u001b[0m\n",
      "\u001b[1;32mF:\\Anaconda\\envs\\kaggle\\lib\\multiprocessing\\pool.py\u001b[0m in \u001b[0;36mworker\u001b[1;34m(inqueue, outqueue, initializer, initargs, maxtasks, wrap_exception)\u001b[0m\n\u001b[0;32m    119\u001b[0m         \u001b[0mjob\u001b[0m\u001b[1;33m,\u001b[0m \u001b[0mi\u001b[0m\u001b[1;33m,\u001b[0m \u001b[0mfunc\u001b[0m\u001b[1;33m,\u001b[0m \u001b[0margs\u001b[0m\u001b[1;33m,\u001b[0m \u001b[0mkwds\u001b[0m \u001b[1;33m=\u001b[0m \u001b[0mtask\u001b[0m\u001b[1;33m\u001b[0m\u001b[1;33m\u001b[0m\u001b[0m\n\u001b[0;32m    120\u001b[0m         \u001b[1;32mtry\u001b[0m\u001b[1;33m:\u001b[0m\u001b[1;33m\u001b[0m\u001b[1;33m\u001b[0m\u001b[0m\n\u001b[1;32m--> 121\u001b[1;33m             \u001b[0mresult\u001b[0m \u001b[1;33m=\u001b[0m \u001b[1;33m(\u001b[0m\u001b[1;32mTrue\u001b[0m\u001b[1;33m,\u001b[0m \u001b[0mfunc\u001b[0m\u001b[1;33m(\u001b[0m\u001b[1;33m*\u001b[0m\u001b[0margs\u001b[0m\u001b[1;33m,\u001b[0m \u001b[1;33m**\u001b[0m\u001b[0mkwds\u001b[0m\u001b[1;33m)\u001b[0m\u001b[1;33m)\u001b[0m\u001b[1;33m\u001b[0m\u001b[1;33m\u001b[0m\u001b[0m\n\u001b[0m\u001b[0;32m    122\u001b[0m         \u001b[1;32mexcept\u001b[0m \u001b[0mException\u001b[0m \u001b[1;32mas\u001b[0m \u001b[0me\u001b[0m\u001b[1;33m:\u001b[0m\u001b[1;33m\u001b[0m\u001b[1;33m\u001b[0m\u001b[0m\n\u001b[0;32m    123\u001b[0m             \u001b[1;32mif\u001b[0m \u001b[0mwrap_exception\u001b[0m \u001b[1;32mand\u001b[0m \u001b[0mfunc\u001b[0m \u001b[1;32mis\u001b[0m \u001b[1;32mnot\u001b[0m \u001b[0m_helper_reraises_exception\u001b[0m\u001b[1;33m:\u001b[0m\u001b[1;33m\u001b[0m\u001b[1;33m\u001b[0m\u001b[0m\n",
      "\u001b[1;32mF:\\Anaconda\\envs\\kaggle\\lib\\site-packages\\pandas_profiling\\model\\summary.py\u001b[0m in \u001b[0;36mmultiprocess_1d\u001b[1;34m(args)\u001b[0m\n\u001b[0;32m    494\u001b[0m         \"\"\"\n\u001b[0;32m    495\u001b[0m         \u001b[0mcolumn\u001b[0m\u001b[1;33m,\u001b[0m \u001b[0mseries\u001b[0m \u001b[1;33m=\u001b[0m \u001b[0margs\u001b[0m\u001b[1;33m\u001b[0m\u001b[1;33m\u001b[0m\u001b[0m\n\u001b[1;32m--> 496\u001b[1;33m         \u001b[1;32mreturn\u001b[0m \u001b[0mcolumn\u001b[0m\u001b[1;33m,\u001b[0m \u001b[0mdescribe_1d\u001b[0m\u001b[1;33m(\u001b[0m\u001b[0mseries\u001b[0m\u001b[1;33m)\u001b[0m\u001b[1;33m\u001b[0m\u001b[1;33m\u001b[0m\u001b[0m\n\u001b[0m\u001b[0;32m    497\u001b[0m \u001b[1;33m\u001b[0m\u001b[0m\n\u001b[0;32m    498\u001b[0m     \u001b[1;31m# Multiprocessing of Describe 1D for each column\u001b[0m\u001b[1;33m\u001b[0m\u001b[1;33m\u001b[0m\u001b[1;33m\u001b[0m\u001b[0m\n",
      "\u001b[1;32mF:\\Anaconda\\envs\\kaggle\\lib\\site-packages\\pandas_profiling\\model\\summary.py\u001b[0m in \u001b[0;36mdescribe_1d\u001b[1;34m(series)\u001b[0m\n\u001b[0;32m    463\u001b[0m         \u001b[1;32mif\u001b[0m \u001b[0mseries_description\u001b[0m\u001b[1;33m[\u001b[0m\u001b[1;34m\"type\"\u001b[0m\u001b[1;33m]\u001b[0m \u001b[1;32min\u001b[0m \u001b[0mtype_to_func\u001b[0m\u001b[1;33m:\u001b[0m\u001b[1;33m\u001b[0m\u001b[1;33m\u001b[0m\u001b[0m\n\u001b[0;32m    464\u001b[0m             series_description.update(\n\u001b[1;32m--> 465\u001b[1;33m                 \u001b[0mtype_to_func\u001b[0m\u001b[1;33m[\u001b[0m\u001b[0mseries_description\u001b[0m\u001b[1;33m[\u001b[0m\u001b[1;34m\"type\"\u001b[0m\u001b[1;33m]\u001b[0m\u001b[1;33m]\u001b[0m\u001b[1;33m(\u001b[0m\u001b[0mseries\u001b[0m\u001b[1;33m,\u001b[0m \u001b[0mseries_description\u001b[0m\u001b[1;33m)\u001b[0m\u001b[1;33m\u001b[0m\u001b[1;33m\u001b[0m\u001b[0m\n\u001b[0m\u001b[0;32m    466\u001b[0m             )\n\u001b[0;32m    467\u001b[0m         \u001b[1;32melse\u001b[0m\u001b[1;33m:\u001b[0m\u001b[1;33m\u001b[0m\u001b[1;33m\u001b[0m\u001b[0m\n",
      "\u001b[1;32mF:\\Anaconda\\envs\\kaggle\\lib\\site-packages\\pandas_profiling\\model\\summary.py\u001b[0m in \u001b[0;36mdescribe_numeric_1d\u001b[1;34m(series, series_description)\u001b[0m\n\u001b[0;32m    219\u001b[0m         )\n\u001b[0;32m    220\u001b[0m         \u001b[1;32mif\u001b[0m \u001b[0mchi_squared_threshold\u001b[0m \u001b[1;33m>\u001b[0m \u001b[1;36m0.0\u001b[0m\u001b[1;33m:\u001b[0m\u001b[1;33m\u001b[0m\u001b[1;33m\u001b[0m\u001b[0m\n\u001b[1;32m--> 221\u001b[1;33m             \u001b[0mhistogram\u001b[0m\u001b[1;33m,\u001b[0m \u001b[0m_\u001b[0m \u001b[1;33m=\u001b[0m \u001b[0mnp\u001b[0m\u001b[1;33m.\u001b[0m\u001b[0mhistogram\u001b[0m\u001b[1;33m(\u001b[0m\u001b[0mfinite_values\u001b[0m\u001b[1;33m,\u001b[0m \u001b[0mbins\u001b[0m\u001b[1;33m=\u001b[0m\u001b[1;34m\"auto\"\u001b[0m\u001b[1;33m)\u001b[0m\u001b[1;33m\u001b[0m\u001b[1;33m\u001b[0m\u001b[0m\n\u001b[0m\u001b[0;32m    222\u001b[0m             \u001b[0mstats\u001b[0m\u001b[1;33m[\u001b[0m\u001b[1;34m\"chi_squared\"\u001b[0m\u001b[1;33m]\u001b[0m \u001b[1;33m=\u001b[0m \u001b[0mchisquare\u001b[0m\u001b[1;33m(\u001b[0m\u001b[0mhistogram\u001b[0m\u001b[1;33m)\u001b[0m\u001b[1;33m\u001b[0m\u001b[1;33m\u001b[0m\u001b[0m\n\u001b[0;32m    223\u001b[0m \u001b[1;33m\u001b[0m\u001b[0m\n",
      "\u001b[1;32m<__array_function__ internals>\u001b[0m in \u001b[0;36mhistogram\u001b[1;34m(*args, **kwargs)\u001b[0m\n",
      "\u001b[1;32mF:\\Anaconda\\envs\\kaggle\\lib\\site-packages\\numpy\\lib\\histograms.py\u001b[0m in \u001b[0;36mhistogram\u001b[1;34m(a, bins, range, normed, weights, density)\u001b[0m\n\u001b[0;32m    854\u001b[0m             \u001b[1;31m# The index computation is not guaranteed to give exactly\u001b[0m\u001b[1;33m\u001b[0m\u001b[1;33m\u001b[0m\u001b[1;33m\u001b[0m\u001b[0m\n\u001b[0;32m    855\u001b[0m             \u001b[1;31m# consistent results within ~1 ULP of the bin edges.\u001b[0m\u001b[1;33m\u001b[0m\u001b[1;33m\u001b[0m\u001b[1;33m\u001b[0m\u001b[0m\n\u001b[1;32m--> 856\u001b[1;33m             \u001b[0mdecrement\u001b[0m \u001b[1;33m=\u001b[0m \u001b[0mtmp_a\u001b[0m \u001b[1;33m<\u001b[0m \u001b[0mbin_edges\u001b[0m\u001b[1;33m[\u001b[0m\u001b[0mindices\u001b[0m\u001b[1;33m]\u001b[0m\u001b[1;33m\u001b[0m\u001b[1;33m\u001b[0m\u001b[0m\n\u001b[0m\u001b[0;32m    857\u001b[0m             \u001b[0mindices\u001b[0m\u001b[1;33m[\u001b[0m\u001b[0mdecrement\u001b[0m\u001b[1;33m]\u001b[0m \u001b[1;33m-=\u001b[0m \u001b[1;36m1\u001b[0m\u001b[1;33m\u001b[0m\u001b[1;33m\u001b[0m\u001b[0m\n\u001b[0;32m    858\u001b[0m             \u001b[1;31m# The last bin includes the right edge. The other bins do not.\u001b[0m\u001b[1;33m\u001b[0m\u001b[1;33m\u001b[0m\u001b[1;33m\u001b[0m\u001b[0m\n",
      "\u001b[1;31mIndexError\u001b[0m: index -9223372036854775808 is out of bounds for axis 0 with size 572736"
     ]
    }
   ],
   "source": [
    "import pandas_profiling\n",
    "pfr = pandas_profiling.ProfileReport(train)\n",
    "pfr.to_file(\"../traineg.html\")"
   ]
  },
  {
   "cell_type": "code",
   "execution_count": 44,
   "metadata": {},
   "outputs": [
    {
     "data": {
      "text/html": [
       "<div>\n",
       "<style scoped>\n",
       "    .dataframe tbody tr th:only-of-type {\n",
       "        vertical-align: middle;\n",
       "    }\n",
       "\n",
       "    .dataframe tbody tr th {\n",
       "        vertical-align: top;\n",
       "    }\n",
       "\n",
       "    .dataframe thead th {\n",
       "        text-align: right;\n",
       "    }\n",
       "</style>\n",
       "<table border=\"1\" class=\"dataframe\">\n",
       "  <thead>\n",
       "    <tr style=\"text-align: right;\">\n",
       "      <th></th>\n",
       "      <th>id</th>\n",
       "      <th>loanAmnt</th>\n",
       "      <th>term</th>\n",
       "      <th>interestRate</th>\n",
       "      <th>installment</th>\n",
       "      <th>grade</th>\n",
       "      <th>subGrade</th>\n",
       "      <th>employmentTitle</th>\n",
       "      <th>employmentLength</th>\n",
       "      <th>homeOwnership</th>\n",
       "      <th>annualIncome</th>\n",
       "      <th>verificationStatus</th>\n",
       "      <th>issueDate</th>\n",
       "      <th>isDefault</th>\n",
       "      <th>purpose</th>\n",
       "      <th>postCode</th>\n",
       "      <th>regionCode</th>\n",
       "      <th>dti</th>\n",
       "      <th>delinquency_2years</th>\n",
       "      <th>ficoRangeLow</th>\n",
       "      <th>ficoRangeHigh</th>\n",
       "      <th>openAcc</th>\n",
       "      <th>pubRec</th>\n",
       "      <th>pubRecBankruptcies</th>\n",
       "      <th>revolBal</th>\n",
       "      <th>revolUtil</th>\n",
       "      <th>totalAcc</th>\n",
       "      <th>initialListStatus</th>\n",
       "      <th>applicationType</th>\n",
       "      <th>earliesCreditLine</th>\n",
       "      <th>title</th>\n",
       "      <th>n0</th>\n",
       "      <th>n1</th>\n",
       "      <th>n2</th>\n",
       "      <th>n4</th>\n",
       "      <th>n5</th>\n",
       "      <th>n6</th>\n",
       "      <th>n7</th>\n",
       "      <th>n8</th>\n",
       "      <th>n9</th>\n",
       "      <th>n10</th>\n",
       "      <th>n11</th>\n",
       "      <th>n12</th>\n",
       "      <th>n13</th>\n",
       "      <th>n14</th>\n",
       "      <th>issueDateDT</th>\n",
       "      <th>earliesCreditLineDT</th>\n",
       "    </tr>\n",
       "  </thead>\n",
       "  <tbody>\n",
       "    <tr>\n",
       "      <th>799995</th>\n",
       "      <td>799995</td>\n",
       "      <td>25000</td>\n",
       "      <td>3</td>\n",
       "      <td>14.492188</td>\n",
       "      <td>860.500</td>\n",
       "      <td>3</td>\n",
       "      <td>C4</td>\n",
       "      <td>2659.0</td>\n",
       "      <td>7.0</td>\n",
       "      <td>1</td>\n",
       "      <td>72000.0</td>\n",
       "      <td>0</td>\n",
       "      <td>2016-07-01</td>\n",
       "      <td>0</td>\n",
       "      <td>0</td>\n",
       "      <td>242.0</td>\n",
       "      <td>8</td>\n",
       "      <td>19.031250</td>\n",
       "      <td>0</td>\n",
       "      <td>710</td>\n",
       "      <td>714</td>\n",
       "      <td>14</td>\n",
       "      <td>0</td>\n",
       "      <td>0.0</td>\n",
       "      <td>9933</td>\n",
       "      <td>46.40625</td>\n",
       "      <td>15</td>\n",
       "      <td>1</td>\n",
       "      <td>0</td>\n",
       "      <td>2011-08-01</td>\n",
       "      <td>0.0</td>\n",
       "      <td>0.0</td>\n",
       "      <td>5.0</td>\n",
       "      <td>10.0</td>\n",
       "      <td>6.0</td>\n",
       "      <td>6.0</td>\n",
       "      <td>2.0</td>\n",
       "      <td>12.0</td>\n",
       "      <td>13.0</td>\n",
       "      <td>10.0</td>\n",
       "      <td>14.0</td>\n",
       "      <td>0.0</td>\n",
       "      <td>0.0</td>\n",
       "      <td>0.0</td>\n",
       "      <td>3.0</td>\n",
       "      <td>3318.0</td>\n",
       "      <td>67.0</td>\n",
       "    </tr>\n",
       "    <tr>\n",
       "      <th>799996</th>\n",
       "      <td>799996</td>\n",
       "      <td>17000</td>\n",
       "      <td>3</td>\n",
       "      <td>7.898438</td>\n",
       "      <td>532.000</td>\n",
       "      <td>1</td>\n",
       "      <td>A4</td>\n",
       "      <td>29205.0</td>\n",
       "      <td>10.0</td>\n",
       "      <td>0</td>\n",
       "      <td>99000.0</td>\n",
       "      <td>2</td>\n",
       "      <td>2013-04-01</td>\n",
       "      <td>0</td>\n",
       "      <td>4</td>\n",
       "      <td>563.0</td>\n",
       "      <td>10</td>\n",
       "      <td>15.718750</td>\n",
       "      <td>1</td>\n",
       "      <td>720</td>\n",
       "      <td>724</td>\n",
       "      <td>7</td>\n",
       "      <td>0</td>\n",
       "      <td>0.0</td>\n",
       "      <td>20472</td>\n",
       "      <td>98.37500</td>\n",
       "      <td>42</td>\n",
       "      <td>0</td>\n",
       "      <td>0</td>\n",
       "      <td>1989-05-01</td>\n",
       "      <td>33376.0</td>\n",
       "      <td>0.0</td>\n",
       "      <td>2.0</td>\n",
       "      <td>2.0</td>\n",
       "      <td>2.0</td>\n",
       "      <td>15.0</td>\n",
       "      <td>16.0</td>\n",
       "      <td>2.0</td>\n",
       "      <td>19.0</td>\n",
       "      <td>2.0</td>\n",
       "      <td>7.0</td>\n",
       "      <td>0.0</td>\n",
       "      <td>0.0</td>\n",
       "      <td>0.0</td>\n",
       "      <td>0.0</td>\n",
       "      <td>2132.0</td>\n",
       "      <td>45.0</td>\n",
       "    </tr>\n",
       "    <tr>\n",
       "      <th>799997</th>\n",
       "      <td>799997</td>\n",
       "      <td>6000</td>\n",
       "      <td>3</td>\n",
       "      <td>13.328125</td>\n",
       "      <td>203.125</td>\n",
       "      <td>3</td>\n",
       "      <td>C3</td>\n",
       "      <td>2582.0</td>\n",
       "      <td>10.0</td>\n",
       "      <td>1</td>\n",
       "      <td>65000.0</td>\n",
       "      <td>2</td>\n",
       "      <td>2015-10-01</td>\n",
       "      <td>1</td>\n",
       "      <td>0</td>\n",
       "      <td>47.0</td>\n",
       "      <td>17</td>\n",
       "      <td>12.109375</td>\n",
       "      <td>1</td>\n",
       "      <td>670</td>\n",
       "      <td>674</td>\n",
       "      <td>5</td>\n",
       "      <td>0</td>\n",
       "      <td>0.0</td>\n",
       "      <td>6381</td>\n",
       "      <td>51.90625</td>\n",
       "      <td>36</td>\n",
       "      <td>1</td>\n",
       "      <td>0</td>\n",
       "      <td>2002-07-01</td>\n",
       "      <td>0.0</td>\n",
       "      <td>2.0</td>\n",
       "      <td>1.0</td>\n",
       "      <td>4.0</td>\n",
       "      <td>1.0</td>\n",
       "      <td>4.0</td>\n",
       "      <td>26.0</td>\n",
       "      <td>4.0</td>\n",
       "      <td>10.0</td>\n",
       "      <td>4.0</td>\n",
       "      <td>5.0</td>\n",
       "      <td>0.0</td>\n",
       "      <td>0.0</td>\n",
       "      <td>1.0</td>\n",
       "      <td>4.0</td>\n",
       "      <td>3044.0</td>\n",
       "      <td>58.0</td>\n",
       "    </tr>\n",
       "    <tr>\n",
       "      <th>799998</th>\n",
       "      <td>799998</td>\n",
       "      <td>19200</td>\n",
       "      <td>3</td>\n",
       "      <td>6.921875</td>\n",
       "      <td>592.000</td>\n",
       "      <td>1</td>\n",
       "      <td>A4</td>\n",
       "      <td>151.0</td>\n",
       "      <td>10.0</td>\n",
       "      <td>0</td>\n",
       "      <td>96000.0</td>\n",
       "      <td>2</td>\n",
       "      <td>2015-02-01</td>\n",
       "      <td>0</td>\n",
       "      <td>4</td>\n",
       "      <td>34.0</td>\n",
       "      <td>18</td>\n",
       "      <td>29.250000</td>\n",
       "      <td>0</td>\n",
       "      <td>675</td>\n",
       "      <td>679</td>\n",
       "      <td>16</td>\n",
       "      <td>0</td>\n",
       "      <td>0.0</td>\n",
       "      <td>69702</td>\n",
       "      <td>61.31250</td>\n",
       "      <td>37</td>\n",
       "      <td>1</td>\n",
       "      <td>0</td>\n",
       "      <td>1994-01-01</td>\n",
       "      <td>4.0</td>\n",
       "      <td>0.0</td>\n",
       "      <td>5.0</td>\n",
       "      <td>8.0</td>\n",
       "      <td>7.0</td>\n",
       "      <td>10.0</td>\n",
       "      <td>6.0</td>\n",
       "      <td>12.0</td>\n",
       "      <td>22.0</td>\n",
       "      <td>8.0</td>\n",
       "      <td>16.0</td>\n",
       "      <td>0.0</td>\n",
       "      <td>0.0</td>\n",
       "      <td>0.0</td>\n",
       "      <td>5.0</td>\n",
       "      <td>2802.0</td>\n",
       "      <td>50.0</td>\n",
       "    </tr>\n",
       "    <tr>\n",
       "      <th>799999</th>\n",
       "      <td>799999</td>\n",
       "      <td>9000</td>\n",
       "      <td>3</td>\n",
       "      <td>11.062500</td>\n",
       "      <td>295.000</td>\n",
       "      <td>2</td>\n",
       "      <td>B3</td>\n",
       "      <td>13.0</td>\n",
       "      <td>5.0</td>\n",
       "      <td>0</td>\n",
       "      <td>120000.0</td>\n",
       "      <td>0</td>\n",
       "      <td>2018-08-01</td>\n",
       "      <td>0</td>\n",
       "      <td>4</td>\n",
       "      <td>62.0</td>\n",
       "      <td>13</td>\n",
       "      <td>8.992188</td>\n",
       "      <td>0</td>\n",
       "      <td>695</td>\n",
       "      <td>699</td>\n",
       "      <td>7</td>\n",
       "      <td>0</td>\n",
       "      <td>0.0</td>\n",
       "      <td>8420</td>\n",
       "      <td>72.62500</td>\n",
       "      <td>13</td>\n",
       "      <td>0</td>\n",
       "      <td>0</td>\n",
       "      <td>2002-02-01</td>\n",
       "      <td>4.0</td>\n",
       "      <td>2.0</td>\n",
       "      <td>2.0</td>\n",
       "      <td>3.0</td>\n",
       "      <td>2.0</td>\n",
       "      <td>3.0</td>\n",
       "      <td>4.0</td>\n",
       "      <td>4.0</td>\n",
       "      <td>8.0</td>\n",
       "      <td>3.0</td>\n",
       "      <td>7.0</td>\n",
       "      <td>0.0</td>\n",
       "      <td>0.0</td>\n",
       "      <td>0.0</td>\n",
       "      <td>2.0</td>\n",
       "      <td>4080.0</td>\n",
       "      <td>58.0</td>\n",
       "    </tr>\n",
       "  </tbody>\n",
       "</table>\n",
       "</div>"
      ],
      "text/plain": [
       "            id  loanAmnt  term  interestRate  installment  grade subGrade  \\\n",
       "799995  799995     25000     3     14.492188      860.500      3       C4   \n",
       "799996  799996     17000     3      7.898438      532.000      1       A4   \n",
       "799997  799997      6000     3     13.328125      203.125      3       C3   \n",
       "799998  799998     19200     3      6.921875      592.000      1       A4   \n",
       "799999  799999      9000     3     11.062500      295.000      2       B3   \n",
       "\n",
       "        employmentTitle  employmentLength  homeOwnership  annualIncome  \\\n",
       "799995           2659.0               7.0              1       72000.0   \n",
       "799996          29205.0              10.0              0       99000.0   \n",
       "799997           2582.0              10.0              1       65000.0   \n",
       "799998            151.0              10.0              0       96000.0   \n",
       "799999             13.0               5.0              0      120000.0   \n",
       "\n",
       "        verificationStatus   issueDate  isDefault  purpose  postCode  \\\n",
       "799995                   0  2016-07-01          0        0     242.0   \n",
       "799996                   2  2013-04-01          0        4     563.0   \n",
       "799997                   2  2015-10-01          1        0      47.0   \n",
       "799998                   2  2015-02-01          0        4      34.0   \n",
       "799999                   0  2018-08-01          0        4      62.0   \n",
       "\n",
       "        regionCode        dti  delinquency_2years  ficoRangeLow  \\\n",
       "799995           8  19.031250                   0           710   \n",
       "799996          10  15.718750                   1           720   \n",
       "799997          17  12.109375                   1           670   \n",
       "799998          18  29.250000                   0           675   \n",
       "799999          13   8.992188                   0           695   \n",
       "\n",
       "        ficoRangeHigh  openAcc  pubRec  pubRecBankruptcies  revolBal  \\\n",
       "799995            714       14       0                 0.0      9933   \n",
       "799996            724        7       0                 0.0     20472   \n",
       "799997            674        5       0                 0.0      6381   \n",
       "799998            679       16       0                 0.0     69702   \n",
       "799999            699        7       0                 0.0      8420   \n",
       "\n",
       "        revolUtil  totalAcc  initialListStatus  applicationType  \\\n",
       "799995   46.40625        15                  1                0   \n",
       "799996   98.37500        42                  0                0   \n",
       "799997   51.90625        36                  1                0   \n",
       "799998   61.31250        37                  1                0   \n",
       "799999   72.62500        13                  0                0   \n",
       "\n",
       "       earliesCreditLine    title   n0   n1    n2   n4    n5    n6    n7  \\\n",
       "799995        2011-08-01      0.0  0.0  5.0  10.0  6.0   6.0   2.0  12.0   \n",
       "799996        1989-05-01  33376.0  0.0  2.0   2.0  2.0  15.0  16.0   2.0   \n",
       "799997        2002-07-01      0.0  2.0  1.0   4.0  1.0   4.0  26.0   4.0   \n",
       "799998        1994-01-01      4.0  0.0  5.0   8.0  7.0  10.0   6.0  12.0   \n",
       "799999        2002-02-01      4.0  2.0  2.0   3.0  2.0   3.0   4.0   4.0   \n",
       "\n",
       "          n8    n9   n10  n11  n12  n13  n14  issueDateDT  earliesCreditLineDT  \n",
       "799995  13.0  10.0  14.0  0.0  0.0  0.0  3.0       3318.0                 67.0  \n",
       "799996  19.0   2.0   7.0  0.0  0.0  0.0  0.0       2132.0                 45.0  \n",
       "799997  10.0   4.0   5.0  0.0  0.0  1.0  4.0       3044.0                 58.0  \n",
       "799998  22.0   8.0  16.0  0.0  0.0  0.0  5.0       2802.0                 50.0  \n",
       "799999   8.0   3.0   7.0  0.0  0.0  0.0  2.0       4080.0                 58.0  "
      ]
     },
     "execution_count": 44,
     "metadata": {},
     "output_type": "execute_result"
    }
   ],
   "source": []
  },
  {
   "cell_type": "code",
   "execution_count": null,
   "metadata": {},
   "outputs": [],
   "source": []
  },
  {
   "cell_type": "code",
   "execution_count": null,
   "metadata": {},
   "outputs": [],
   "source": []
  },
  {
   "cell_type": "code",
   "execution_count": 46,
   "metadata": {
    "ExecuteTime": {
     "end_time": "2020-09-17T14:14:28.333677Z",
     "start_time": "2020-09-17T14:14:16.065Z"
    }
   },
   "outputs": [
    {
     "data": {
      "application/vnd.jupyter.widget-view+json": {
       "model_id": "65b7d677e42e42ae93bc627a213ad158",
       "version_major": 2,
       "version_minor": 0
      },
      "text/plain": [
       "HBox(children=(FloatProgress(value=0.0, description='Summarize dataset', max=60.0, style=ProgressStyle(descrip…"
      ]
     },
     "metadata": {},
     "output_type": "display_data"
    },
    {
     "name": "stdout",
     "output_type": "stream",
     "text": [
      "\n"
     ]
    },
    {
     "data": {
      "application/vnd.jupyter.widget-view+json": {
       "model_id": "c89104f2da9a484cb33ab58e3864e917",
       "version_major": 2,
       "version_minor": 0
      },
      "text/plain": [
       "HBox(children=(FloatProgress(value=0.0, description='Generate report structure', max=1.0, style=ProgressStyle(…"
      ]
     },
     "metadata": {},
     "output_type": "display_data"
    },
    {
     "name": "stdout",
     "output_type": "stream",
     "text": [
      "\n"
     ]
    },
    {
     "data": {
      "application/vnd.jupyter.widget-view+json": {
       "model_id": "02578808597e417fb63b5ab71f47aa9b",
       "version_major": 2,
       "version_minor": 0
      },
      "text/plain": [
       "HBox(children=(FloatProgress(value=0.0, description='Render HTML', max=1.0, style=ProgressStyle(description_wi…"
      ]
     },
     "metadata": {},
     "output_type": "display_data"
    },
    {
     "name": "stdout",
     "output_type": "stream",
     "text": [
      "\n"
     ]
    },
    {
     "data": {
      "application/vnd.jupyter.widget-view+json": {
       "model_id": "cf97a4ffc74d4aceb8d714270cb7dec6",
       "version_major": 2,
       "version_minor": 0
      },
      "text/plain": [
       "HBox(children=(FloatProgress(value=0.0, description='Export report to file', max=1.0, style=ProgressStyle(desc…"
      ]
     },
     "metadata": {},
     "output_type": "display_data"
    },
    {
     "name": "stdout",
     "output_type": "stream",
     "text": [
      "\n"
     ]
    }
   ],
   "source": [
    "pfr = pandas_profiling.ProfileReport(test)\n",
    "pfr.to_file(\"./testeg.html\")"
   ]
  },
  {
   "cell_type": "code",
   "execution_count": null,
   "metadata": {
    "ExecuteTime": {
     "end_time": "2020-09-17T14:14:28.334679Z",
     "start_time": "2020-09-17T14:14:16.066Z"
    }
   },
   "outputs": [],
   "source": [
    "test.info()"
   ]
  }
 ],
 "metadata": {
  "kernelspec": {
   "display_name": "kaggle",
   "language": "python",
   "name": "kaggle"
  },
  "language_info": {
   "codemirror_mode": {
    "name": "ipython",
    "version": 3
   },
   "file_extension": ".py",
   "mimetype": "text/x-python",
   "name": "python",
   "nbconvert_exporter": "python",
   "pygments_lexer": "ipython3",
   "version": "3.7.9"
  },
  "toc": {
   "base_numbering": 1,
   "nav_menu": {},
   "number_sections": true,
   "sideBar": true,
   "skip_h1_title": false,
   "title_cell": "Table of Contents",
   "title_sidebar": "Contents",
   "toc_cell": false,
   "toc_position": {},
   "toc_section_display": true,
   "toc_window_display": false
  },
  "varInspector": {
   "cols": {
    "lenName": 16,
    "lenType": 16,
    "lenVar": 40
   },
   "kernels_config": {
    "python": {
     "delete_cmd_postfix": "",
     "delete_cmd_prefix": "del ",
     "library": "var_list.py",
     "varRefreshCmd": "print(var_dic_list())"
    },
    "r": {
     "delete_cmd_postfix": ") ",
     "delete_cmd_prefix": "rm(",
     "library": "var_list.r",
     "varRefreshCmd": "cat(var_dic_list()) "
    }
   },
   "types_to_exclude": [
    "module",
    "function",
    "builtin_function_or_method",
    "instance",
    "_Feature"
   ],
   "window_display": false
  }
 },
 "nbformat": 4,
 "nbformat_minor": 4
}
