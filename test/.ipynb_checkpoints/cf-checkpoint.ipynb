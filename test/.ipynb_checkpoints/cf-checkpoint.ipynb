{
 "cells": [
  {
   "cell_type": "markdown",
   "metadata": {},
   "source": [
    "##  emm"
   ]
  },
  {
   "cell_type": "markdown",
   "metadata": {},
   "source": [
    "### shape"
   ]
  },
  {
   "cell_type": "markdown",
   "metadata": {
    "ExecuteTime": {
     "end_time": "2020-09-16T12:32:29.465542Z",
     "start_time": "2020-09-16T12:32:29.451530Z"
    }
   },
   "source": [
    "## .convert_dtypes"
   ]
  },
  {
   "cell_type": "markdown",
   "metadata": {},
   "source": [
    "## 拼接train&test"
   ]
  },
  {
   "cell_type": "markdown",
   "metadata": {
    "ExecuteTime": {
     "end_time": "2020-09-16T12:32:29.465542Z",
     "start_time": "2020-09-16T12:32:29.451530Z"
    }
   },
   "source": [
    "### string"
   ]
  },
  {
   "cell_type": "markdown",
   "metadata": {
    "ExecuteTime": {
     "end_time": "2020-09-16T12:32:29.465542Z",
     "start_time": "2020-09-16T12:32:29.451530Z"
    }
   },
   "source": [
    "### to_datetime"
   ]
  },
  {
   "cell_type": "markdown",
   "metadata": {
    "ExecuteTime": {
     "end_time": "2020-09-16T12:32:29.465542Z",
     "start_time": "2020-09-16T12:32:29.451530Z"
    }
   },
   "source": [
    "### drop useless\n",
    "\n",
    "- duplicate fea\n",
    "- 卡方\n",
    "\n",
    "  - const fea\n",
    "\n",
    "### type\n",
    "\n",
    "- label"
   ]
  },
  {
   "cell_type": "markdown",
   "metadata": {},
   "source": [
    "## \\<NA>"
   ]
  },
  {
   "cell_type": "markdown",
   "metadata": {
    "ExecuteTime": {
     "end_time": "2020-09-16T12:32:29.465542Z",
     "start_time": "2020-09-16T12:32:29.451530Z"
    }
   },
   "source": [
    "- int/ f"
   ]
  },
  {
   "cell_type": "markdown",
   "metadata": {
    "ExecuteTime": {
     "end_time": "2020-09-16T12:32:29.465542Z",
     "start_time": "2020-09-16T12:32:29.451530Z"
    }
   },
   "source": [
    "loat,\n",
    "- bounded\n",
    "- text,"
   ]
  },
  {
   "cell_type": "markdown",
   "metadata": {
    "ExecuteTime": {
     "end_time": "2020-09-16T12:32:29.465542Z",
     "start_time": "2020-09-16T12:32:29.451530Z"
    }
   },
   "source": [
    "- structure\n",
    "\n"
   ]
  },
  {
   "cell_type": "markdown",
   "metadata": {
    "ExecuteTime": {
     "end_time": "2020-09-16T12:32:29.465542Z",
     "start_time": "2020-09-16T12:32:29.451530Z"
    }
   },
   "source": [
    "### info\n",
    "\n",
    "- dtype"
   ]
  },
  {
   "cell_type": "markdown",
   "metadata": {
    "ExecuteTime": {
     "end_time": "2020-09-16T12:32:29.465542Z",
     "start_time": "2020-09-16T12:32:29.451530Z"
    }
   },
   "source": [
    "### mem-usage"
   ]
  }
 ],
 "metadata": {
  "kernelspec": {
   "display_name": "kaggle",
   "language": "python",
   "name": "kaggle"
  },
  "language_info": {
   "codemirror_mode": {
    "name": "ipython",
    "version": 3
   },
   "file_extension": ".py",
   "mimetype": "text/x-python",
   "name": "python",
   "nbconvert_exporter": "python",
   "pygments_lexer": "ipython3",
   "version": "3.7.9"
  },
  "toc": {
   "base_numbering": 1,
   "nav_menu": {},
   "number_sections": true,
   "sideBar": true,
   "skip_h1_title": false,
   "title_cell": "Table of Contents",
   "title_sidebar": "Contents",
   "toc_cell": false,
   "toc_position": {},
   "toc_section_display": true,
   "toc_window_display": false
  },
  "varInspector": {
   "cols": {
    "lenName": 16,
    "lenType": 16,
    "lenVar": 40
   },
   "kernels_config": {
    "python": {
     "delete_cmd_postfix": "",
     "delete_cmd_prefix": "del ",
     "library": "var_list.py",
     "varRefreshCmd": "print(var_dic_list())"
    },
    "r": {
     "delete_cmd_postfix": ") ",
     "delete_cmd_prefix": "rm(",
     "library": "var_list.r",
     "varRefreshCmd": "cat(var_dic_list()) "
    }
   },
   "types_to_exclude": [
    "module",
    "function",
    "builtin_function_or_method",
    "instance",
    "_Feature"
   ],
   "window_display": false
  }
 },
 "nbformat": 4,
 "nbformat_minor": 4
}
