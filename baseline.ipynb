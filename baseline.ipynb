{
 "cells": [
  {
   "cell_type": "code",
   "execution_count": 1,
   "metadata": {
    "ExecuteTime": {
     "end_time": "2020-09-16T09:52:00.443225Z",
     "start_time": "2020-09-16T09:51:59.535906Z"
    }
   },
   "outputs": [],
   "source": [
    "import pandas as pd\n",
    "import numpy as np\n",
    "import matplotlib.pyplot as plt\n",
    "import seaborn as sns\n",
    "import datetime\n",
    "from tqdm import tqdm\n",
    "from sklearn.preprocessing import LabelEncoder\n",
    "from sklearn.feature_selection import SelectKBest\n",
    "from sklearn.feature_selection import chi2\n",
    "from sklearn.preprocessing import MinMaxScaler\n",
    "import xgboost as xgb\n",
    "import lightgbm as lgb\n",
    "from catboost import CatBoostRegressor\n",
    "import warnings\n",
    "from sklearn.model_selection import StratifiedKFold, KFold\n",
    "from sklearn.metrics import accuracy_score, f1_score, roc_auc_score, log_loss\n",
    "warnings.filterwarnings('ignore')"
   ]
  },
  {
   "cell_type": "markdown",
   "metadata": {},
   "source": [
    "#### 用convert_dtypes()读取数据"
   ]
  },
  {
   "cell_type": "code",
   "execution_count": 2,
   "metadata": {
    "ExecuteTime": {
     "end_time": "2020-09-16T09:52:03.411451Z",
     "start_time": "2020-09-16T09:52:00.444227Z"
    }
   },
   "outputs": [],
   "source": [
    "train = pd.read_csv('./input/train.csv').convert_dtypes(convert_string=False)\n",
    "test = pd.read_csv('./input/testA.csv').convert_dtypes(convert_string=False)"
   ]
  },
  {
   "cell_type": "markdown",
   "metadata": {},
   "source": [
    "#### 定义全局变量"
   ]
  },
  {
   "cell_type": "markdown",
   "metadata": {},
   "source": [
    "# 先拼train和test 本来想封装一个函数用来拼接\n",
    "因为似乎concat有个问题，会lose dtype?\n",
    "复盘了一下M5 感觉M5-simple-fe，def merge-by-concat不太看得懂"
   ]
  },
  {
   "cell_type": "code",
   "execution_count": 3,
   "metadata": {
    "ExecuteTime": {
     "end_time": "2020-09-16T09:52:03.426976Z",
     "start_time": "2020-09-16T09:52:03.412453Z"
    }
   },
   "outputs": [],
   "source": [
    "# train.shape  # (800000, 48) & len(train)=800000"
   ]
  },
  {
   "cell_type": "code",
   "execution_count": 4,
   "metadata": {
    "ExecuteTime": {
     "end_time": "2020-09-16T09:52:03.442987Z",
     "start_time": "2020-09-16T09:52:03.428975Z"
    }
   },
   "outputs": [],
   "source": [
    "# test.shape # (200000, 47)"
   ]
  },
  {
   "cell_type": "code",
   "execution_count": 8,
   "metadata": {
    "ExecuteTime": {
     "end_time": "2020-09-16T09:54:15.130375Z",
     "start_time": "2020-09-16T09:54:15.115837Z"
    }
   },
   "outputs": [],
   "source": [
    "pd.set_option('display.max_columns', None)\n",
    "pd.set_option('display.max_rows', 20)"
   ]
  },
  {
   "cell_type": "code",
   "execution_count": 9,
   "metadata": {
    "ExecuteTime": {
     "end_time": "2020-09-16T09:54:17.243918Z",
     "start_time": "2020-09-16T09:54:17.028725Z"
    }
   },
   "outputs": [
    {
     "data": {
      "text/html": [
       "<div>\n",
       "<style scoped>\n",
       "    .dataframe tbody tr th:only-of-type {\n",
       "        vertical-align: middle;\n",
       "    }\n",
       "\n",
       "    .dataframe tbody tr th {\n",
       "        vertical-align: top;\n",
       "    }\n",
       "\n",
       "    .dataframe thead th {\n",
       "        text-align: right;\n",
       "    }\n",
       "</style>\n",
       "<table border=\"1\" class=\"dataframe\">\n",
       "  <thead>\n",
       "    <tr style=\"text-align: right;\">\n",
       "      <th></th>\n",
       "      <th>id</th>\n",
       "      <th>loanAmnt</th>\n",
       "      <th>term</th>\n",
       "      <th>interestRate</th>\n",
       "      <th>installment</th>\n",
       "      <th>grade</th>\n",
       "      <th>subGrade</th>\n",
       "      <th>employmentTitle</th>\n",
       "      <th>employmentLength</th>\n",
       "      <th>homeOwnership</th>\n",
       "      <th>annualIncome</th>\n",
       "      <th>verificationStatus</th>\n",
       "      <th>issueDate</th>\n",
       "      <th>isDefault</th>\n",
       "      <th>purpose</th>\n",
       "      <th>postCode</th>\n",
       "      <th>regionCode</th>\n",
       "      <th>dti</th>\n",
       "      <th>delinquency_2years</th>\n",
       "      <th>ficoRangeLow</th>\n",
       "      <th>ficoRangeHigh</th>\n",
       "      <th>openAcc</th>\n",
       "      <th>pubRec</th>\n",
       "      <th>pubRecBankruptcies</th>\n",
       "      <th>revolBal</th>\n",
       "      <th>revolUtil</th>\n",
       "      <th>totalAcc</th>\n",
       "      <th>initialListStatus</th>\n",
       "      <th>applicationType</th>\n",
       "      <th>earliesCreditLine</th>\n",
       "      <th>title</th>\n",
       "      <th>policyCode</th>\n",
       "      <th>n0</th>\n",
       "      <th>n1</th>\n",
       "      <th>n2</th>\n",
       "      <th>n3</th>\n",
       "      <th>n4</th>\n",
       "      <th>n5</th>\n",
       "      <th>n6</th>\n",
       "      <th>n7</th>\n",
       "      <th>n8</th>\n",
       "      <th>n9</th>\n",
       "      <th>n10</th>\n",
       "      <th>n11</th>\n",
       "      <th>n12</th>\n",
       "      <th>n13</th>\n",
       "      <th>n14</th>\n",
       "      <th>flag</th>\n",
       "    </tr>\n",
       "  </thead>\n",
       "  <tbody>\n",
       "    <tr>\n",
       "      <th>0</th>\n",
       "      <td>0</td>\n",
       "      <td>35000</td>\n",
       "      <td>5</td>\n",
       "      <td>19.52</td>\n",
       "      <td>917.97</td>\n",
       "      <td>E</td>\n",
       "      <td>E2</td>\n",
       "      <td>320</td>\n",
       "      <td>2 years</td>\n",
       "      <td>2</td>\n",
       "      <td>110000.0</td>\n",
       "      <td>2</td>\n",
       "      <td>2014-07-01</td>\n",
       "      <td>1</td>\n",
       "      <td>1</td>\n",
       "      <td>137</td>\n",
       "      <td>32</td>\n",
       "      <td>17.05</td>\n",
       "      <td>0</td>\n",
       "      <td>730</td>\n",
       "      <td>734</td>\n",
       "      <td>7</td>\n",
       "      <td>0</td>\n",
       "      <td>0</td>\n",
       "      <td>24178</td>\n",
       "      <td>48.9</td>\n",
       "      <td>27</td>\n",
       "      <td>0</td>\n",
       "      <td>0</td>\n",
       "      <td>Aug-2001</td>\n",
       "      <td>1</td>\n",
       "      <td>1</td>\n",
       "      <td>0</td>\n",
       "      <td>2</td>\n",
       "      <td>2</td>\n",
       "      <td>2</td>\n",
       "      <td>4</td>\n",
       "      <td>9</td>\n",
       "      <td>8</td>\n",
       "      <td>4</td>\n",
       "      <td>12</td>\n",
       "      <td>2</td>\n",
       "      <td>7</td>\n",
       "      <td>0</td>\n",
       "      <td>0</td>\n",
       "      <td>0</td>\n",
       "      <td>2</td>\n",
       "      <td>train</td>\n",
       "    </tr>\n",
       "    <tr>\n",
       "      <th>1</th>\n",
       "      <td>1</td>\n",
       "      <td>18000</td>\n",
       "      <td>5</td>\n",
       "      <td>18.49</td>\n",
       "      <td>461.90</td>\n",
       "      <td>D</td>\n",
       "      <td>D2</td>\n",
       "      <td>219843</td>\n",
       "      <td>5 years</td>\n",
       "      <td>0</td>\n",
       "      <td>46000.0</td>\n",
       "      <td>2</td>\n",
       "      <td>2012-08-01</td>\n",
       "      <td>0</td>\n",
       "      <td>0</td>\n",
       "      <td>156</td>\n",
       "      <td>18</td>\n",
       "      <td>27.83</td>\n",
       "      <td>0</td>\n",
       "      <td>700</td>\n",
       "      <td>704</td>\n",
       "      <td>13</td>\n",
       "      <td>0</td>\n",
       "      <td>0</td>\n",
       "      <td>15096</td>\n",
       "      <td>38.9</td>\n",
       "      <td>18</td>\n",
       "      <td>1</td>\n",
       "      <td>0</td>\n",
       "      <td>May-2002</td>\n",
       "      <td>1723</td>\n",
       "      <td>1</td>\n",
       "      <td>&lt;NA&gt;</td>\n",
       "      <td>&lt;NA&gt;</td>\n",
       "      <td>&lt;NA&gt;</td>\n",
       "      <td>&lt;NA&gt;</td>\n",
       "      <td>10</td>\n",
       "      <td>&lt;NA&gt;</td>\n",
       "      <td>&lt;NA&gt;</td>\n",
       "      <td>&lt;NA&gt;</td>\n",
       "      <td>&lt;NA&gt;</td>\n",
       "      <td>&lt;NA&gt;</td>\n",
       "      <td>13</td>\n",
       "      <td>&lt;NA&gt;</td>\n",
       "      <td>&lt;NA&gt;</td>\n",
       "      <td>&lt;NA&gt;</td>\n",
       "      <td>&lt;NA&gt;</td>\n",
       "      <td>train</td>\n",
       "    </tr>\n",
       "    <tr>\n",
       "      <th>2</th>\n",
       "      <td>2</td>\n",
       "      <td>12000</td>\n",
       "      <td>5</td>\n",
       "      <td>16.99</td>\n",
       "      <td>298.17</td>\n",
       "      <td>D</td>\n",
       "      <td>D3</td>\n",
       "      <td>31698</td>\n",
       "      <td>8 years</td>\n",
       "      <td>0</td>\n",
       "      <td>74000.0</td>\n",
       "      <td>2</td>\n",
       "      <td>2015-10-01</td>\n",
       "      <td>0</td>\n",
       "      <td>0</td>\n",
       "      <td>337</td>\n",
       "      <td>14</td>\n",
       "      <td>22.77</td>\n",
       "      <td>0</td>\n",
       "      <td>675</td>\n",
       "      <td>679</td>\n",
       "      <td>11</td>\n",
       "      <td>0</td>\n",
       "      <td>0</td>\n",
       "      <td>4606</td>\n",
       "      <td>51.8</td>\n",
       "      <td>27</td>\n",
       "      <td>0</td>\n",
       "      <td>0</td>\n",
       "      <td>May-2006</td>\n",
       "      <td>0</td>\n",
       "      <td>1</td>\n",
       "      <td>0</td>\n",
       "      <td>0</td>\n",
       "      <td>3</td>\n",
       "      <td>3</td>\n",
       "      <td>0</td>\n",
       "      <td>0</td>\n",
       "      <td>21</td>\n",
       "      <td>4</td>\n",
       "      <td>5</td>\n",
       "      <td>3</td>\n",
       "      <td>11</td>\n",
       "      <td>0</td>\n",
       "      <td>0</td>\n",
       "      <td>0</td>\n",
       "      <td>4</td>\n",
       "      <td>train</td>\n",
       "    </tr>\n",
       "    <tr>\n",
       "      <th>3</th>\n",
       "      <td>3</td>\n",
       "      <td>11000</td>\n",
       "      <td>3</td>\n",
       "      <td>7.26</td>\n",
       "      <td>340.96</td>\n",
       "      <td>A</td>\n",
       "      <td>A4</td>\n",
       "      <td>46854</td>\n",
       "      <td>10+ years</td>\n",
       "      <td>1</td>\n",
       "      <td>118000.0</td>\n",
       "      <td>1</td>\n",
       "      <td>2015-08-01</td>\n",
       "      <td>0</td>\n",
       "      <td>4</td>\n",
       "      <td>148</td>\n",
       "      <td>11</td>\n",
       "      <td>17.21</td>\n",
       "      <td>0</td>\n",
       "      <td>685</td>\n",
       "      <td>689</td>\n",
       "      <td>9</td>\n",
       "      <td>0</td>\n",
       "      <td>0</td>\n",
       "      <td>9948</td>\n",
       "      <td>52.6</td>\n",
       "      <td>28</td>\n",
       "      <td>1</td>\n",
       "      <td>0</td>\n",
       "      <td>May-1999</td>\n",
       "      <td>4</td>\n",
       "      <td>1</td>\n",
       "      <td>6</td>\n",
       "      <td>4</td>\n",
       "      <td>6</td>\n",
       "      <td>6</td>\n",
       "      <td>4</td>\n",
       "      <td>16</td>\n",
       "      <td>4</td>\n",
       "      <td>7</td>\n",
       "      <td>21</td>\n",
       "      <td>6</td>\n",
       "      <td>9</td>\n",
       "      <td>0</td>\n",
       "      <td>0</td>\n",
       "      <td>0</td>\n",
       "      <td>1</td>\n",
       "      <td>train</td>\n",
       "    </tr>\n",
       "    <tr>\n",
       "      <th>4</th>\n",
       "      <td>4</td>\n",
       "      <td>3000</td>\n",
       "      <td>3</td>\n",
       "      <td>12.99</td>\n",
       "      <td>101.07</td>\n",
       "      <td>C</td>\n",
       "      <td>C2</td>\n",
       "      <td>54</td>\n",
       "      <td>NaN</td>\n",
       "      <td>1</td>\n",
       "      <td>29000.0</td>\n",
       "      <td>2</td>\n",
       "      <td>2016-03-01</td>\n",
       "      <td>0</td>\n",
       "      <td>10</td>\n",
       "      <td>301</td>\n",
       "      <td>21</td>\n",
       "      <td>32.16</td>\n",
       "      <td>0</td>\n",
       "      <td>690</td>\n",
       "      <td>694</td>\n",
       "      <td>12</td>\n",
       "      <td>0</td>\n",
       "      <td>0</td>\n",
       "      <td>2942</td>\n",
       "      <td>32.0</td>\n",
       "      <td>27</td>\n",
       "      <td>0</td>\n",
       "      <td>0</td>\n",
       "      <td>Aug-1977</td>\n",
       "      <td>11</td>\n",
       "      <td>1</td>\n",
       "      <td>1</td>\n",
       "      <td>2</td>\n",
       "      <td>7</td>\n",
       "      <td>7</td>\n",
       "      <td>2</td>\n",
       "      <td>4</td>\n",
       "      <td>9</td>\n",
       "      <td>10</td>\n",
       "      <td>15</td>\n",
       "      <td>7</td>\n",
       "      <td>12</td>\n",
       "      <td>0</td>\n",
       "      <td>0</td>\n",
       "      <td>0</td>\n",
       "      <td>4</td>\n",
       "      <td>train</td>\n",
       "    </tr>\n",
       "    <tr>\n",
       "      <th>...</th>\n",
       "      <td>...</td>\n",
       "      <td>...</td>\n",
       "      <td>...</td>\n",
       "      <td>...</td>\n",
       "      <td>...</td>\n",
       "      <td>...</td>\n",
       "      <td>...</td>\n",
       "      <td>...</td>\n",
       "      <td>...</td>\n",
       "      <td>...</td>\n",
       "      <td>...</td>\n",
       "      <td>...</td>\n",
       "      <td>...</td>\n",
       "      <td>...</td>\n",
       "      <td>...</td>\n",
       "      <td>...</td>\n",
       "      <td>...</td>\n",
       "      <td>...</td>\n",
       "      <td>...</td>\n",
       "      <td>...</td>\n",
       "      <td>...</td>\n",
       "      <td>...</td>\n",
       "      <td>...</td>\n",
       "      <td>...</td>\n",
       "      <td>...</td>\n",
       "      <td>...</td>\n",
       "      <td>...</td>\n",
       "      <td>...</td>\n",
       "      <td>...</td>\n",
       "      <td>...</td>\n",
       "      <td>...</td>\n",
       "      <td>...</td>\n",
       "      <td>...</td>\n",
       "      <td>...</td>\n",
       "      <td>...</td>\n",
       "      <td>...</td>\n",
       "      <td>...</td>\n",
       "      <td>...</td>\n",
       "      <td>...</td>\n",
       "      <td>...</td>\n",
       "      <td>...</td>\n",
       "      <td>...</td>\n",
       "      <td>...</td>\n",
       "      <td>...</td>\n",
       "      <td>...</td>\n",
       "      <td>...</td>\n",
       "      <td>...</td>\n",
       "      <td>...</td>\n",
       "    </tr>\n",
       "    <tr>\n",
       "      <th>199995</th>\n",
       "      <td>999995</td>\n",
       "      <td>7000</td>\n",
       "      <td>3</td>\n",
       "      <td>11.14</td>\n",
       "      <td>229.64</td>\n",
       "      <td>B</td>\n",
       "      <td>B2</td>\n",
       "      <td>330967</td>\n",
       "      <td>7 years</td>\n",
       "      <td>1</td>\n",
       "      <td>30000.0</td>\n",
       "      <td>2</td>\n",
       "      <td>2012-10-01</td>\n",
       "      <td>-1</td>\n",
       "      <td>4</td>\n",
       "      <td>36</td>\n",
       "      <td>13</td>\n",
       "      <td>32.92</td>\n",
       "      <td>0</td>\n",
       "      <td>685</td>\n",
       "      <td>689</td>\n",
       "      <td>8</td>\n",
       "      <td>0</td>\n",
       "      <td>0</td>\n",
       "      <td>5021</td>\n",
       "      <td>54.0</td>\n",
       "      <td>17</td>\n",
       "      <td>1</td>\n",
       "      <td>0</td>\n",
       "      <td>Nov-2005</td>\n",
       "      <td>52663</td>\n",
       "      <td>1</td>\n",
       "      <td>0</td>\n",
       "      <td>2</td>\n",
       "      <td>2</td>\n",
       "      <td>2</td>\n",
       "      <td>2</td>\n",
       "      <td>6</td>\n",
       "      <td>11</td>\n",
       "      <td>2</td>\n",
       "      <td>6</td>\n",
       "      <td>2</td>\n",
       "      <td>8</td>\n",
       "      <td>0</td>\n",
       "      <td>0</td>\n",
       "      <td>0</td>\n",
       "      <td>4</td>\n",
       "      <td>test</td>\n",
       "    </tr>\n",
       "    <tr>\n",
       "      <th>199996</th>\n",
       "      <td>999996</td>\n",
       "      <td>6000</td>\n",
       "      <td>3</td>\n",
       "      <td>6.24</td>\n",
       "      <td>183.19</td>\n",
       "      <td>A</td>\n",
       "      <td>A2</td>\n",
       "      <td>38930</td>\n",
       "      <td>1 year</td>\n",
       "      <td>1</td>\n",
       "      <td>56000.0</td>\n",
       "      <td>0</td>\n",
       "      <td>2015-10-01</td>\n",
       "      <td>-1</td>\n",
       "      <td>0</td>\n",
       "      <td>261</td>\n",
       "      <td>8</td>\n",
       "      <td>20.38</td>\n",
       "      <td>0</td>\n",
       "      <td>720</td>\n",
       "      <td>724</td>\n",
       "      <td>25</td>\n",
       "      <td>0</td>\n",
       "      <td>0</td>\n",
       "      <td>10163</td>\n",
       "      <td>35.9</td>\n",
       "      <td>27</td>\n",
       "      <td>0</td>\n",
       "      <td>0</td>\n",
       "      <td>Oct-2006</td>\n",
       "      <td>0</td>\n",
       "      <td>1</td>\n",
       "      <td>0</td>\n",
       "      <td>5</td>\n",
       "      <td>6</td>\n",
       "      <td>6</td>\n",
       "      <td>5</td>\n",
       "      <td>5</td>\n",
       "      <td>14</td>\n",
       "      <td>12</td>\n",
       "      <td>13</td>\n",
       "      <td>6</td>\n",
       "      <td>25</td>\n",
       "      <td>0</td>\n",
       "      <td>0</td>\n",
       "      <td>0</td>\n",
       "      <td>0</td>\n",
       "      <td>test</td>\n",
       "    </tr>\n",
       "    <tr>\n",
       "      <th>199997</th>\n",
       "      <td>999997</td>\n",
       "      <td>14000</td>\n",
       "      <td>5</td>\n",
       "      <td>15.88</td>\n",
       "      <td>339.57</td>\n",
       "      <td>C</td>\n",
       "      <td>C4</td>\n",
       "      <td>282016</td>\n",
       "      <td>8 years</td>\n",
       "      <td>2</td>\n",
       "      <td>80000.0</td>\n",
       "      <td>2</td>\n",
       "      <td>2013-07-01</td>\n",
       "      <td>-1</td>\n",
       "      <td>4</td>\n",
       "      <td>46</td>\n",
       "      <td>27</td>\n",
       "      <td>15.12</td>\n",
       "      <td>0</td>\n",
       "      <td>675</td>\n",
       "      <td>679</td>\n",
       "      <td>21</td>\n",
       "      <td>0</td>\n",
       "      <td>0</td>\n",
       "      <td>31401</td>\n",
       "      <td>86.0</td>\n",
       "      <td>63</td>\n",
       "      <td>0</td>\n",
       "      <td>0</td>\n",
       "      <td>Dec-2001</td>\n",
       "      <td>4</td>\n",
       "      <td>1</td>\n",
       "      <td>0</td>\n",
       "      <td>7</td>\n",
       "      <td>13</td>\n",
       "      <td>13</td>\n",
       "      <td>9</td>\n",
       "      <td>21</td>\n",
       "      <td>18</td>\n",
       "      <td>21</td>\n",
       "      <td>42</td>\n",
       "      <td>13</td>\n",
       "      <td>21</td>\n",
       "      <td>0</td>\n",
       "      <td>0</td>\n",
       "      <td>0</td>\n",
       "      <td>0</td>\n",
       "      <td>test</td>\n",
       "    </tr>\n",
       "    <tr>\n",
       "      <th>199998</th>\n",
       "      <td>999998</td>\n",
       "      <td>8000</td>\n",
       "      <td>3</td>\n",
       "      <td>18.06</td>\n",
       "      <td>289.47</td>\n",
       "      <td>D</td>\n",
       "      <td>D2</td>\n",
       "      <td>97</td>\n",
       "      <td>4 years</td>\n",
       "      <td>1</td>\n",
       "      <td>190000.0</td>\n",
       "      <td>0</td>\n",
       "      <td>2017-10-01</td>\n",
       "      <td>-1</td>\n",
       "      <td>0</td>\n",
       "      <td>99</td>\n",
       "      <td>8</td>\n",
       "      <td>9.33</td>\n",
       "      <td>0</td>\n",
       "      <td>690</td>\n",
       "      <td>694</td>\n",
       "      <td>11</td>\n",
       "      <td>0</td>\n",
       "      <td>0</td>\n",
       "      <td>28493</td>\n",
       "      <td>64.0</td>\n",
       "      <td>24</td>\n",
       "      <td>0</td>\n",
       "      <td>0</td>\n",
       "      <td>Aug-2005</td>\n",
       "      <td>0</td>\n",
       "      <td>1</td>\n",
       "      <td>0</td>\n",
       "      <td>3</td>\n",
       "      <td>6</td>\n",
       "      <td>6</td>\n",
       "      <td>4</td>\n",
       "      <td>12</td>\n",
       "      <td>5</td>\n",
       "      <td>8</td>\n",
       "      <td>19</td>\n",
       "      <td>6</td>\n",
       "      <td>11</td>\n",
       "      <td>0</td>\n",
       "      <td>0</td>\n",
       "      <td>0</td>\n",
       "      <td>2</td>\n",
       "      <td>test</td>\n",
       "    </tr>\n",
       "    <tr>\n",
       "      <th>199999</th>\n",
       "      <td>999999</td>\n",
       "      <td>8000</td>\n",
       "      <td>3</td>\n",
       "      <td>6.68</td>\n",
       "      <td>245.85</td>\n",
       "      <td>A</td>\n",
       "      <td>A3</td>\n",
       "      <td>320</td>\n",
       "      <td>7 years</td>\n",
       "      <td>1</td>\n",
       "      <td>46000.0</td>\n",
       "      <td>0</td>\n",
       "      <td>2015-02-01</td>\n",
       "      <td>-1</td>\n",
       "      <td>4</td>\n",
       "      <td>31</td>\n",
       "      <td>2</td>\n",
       "      <td>6.47</td>\n",
       "      <td>0</td>\n",
       "      <td>715</td>\n",
       "      <td>719</td>\n",
       "      <td>4</td>\n",
       "      <td>0</td>\n",
       "      <td>0</td>\n",
       "      <td>7608</td>\n",
       "      <td>65.6</td>\n",
       "      <td>10</td>\n",
       "      <td>0</td>\n",
       "      <td>0</td>\n",
       "      <td>Aug-2002</td>\n",
       "      <td>4</td>\n",
       "      <td>1</td>\n",
       "      <td>0</td>\n",
       "      <td>2</td>\n",
       "      <td>2</td>\n",
       "      <td>2</td>\n",
       "      <td>2</td>\n",
       "      <td>3</td>\n",
       "      <td>4</td>\n",
       "      <td>3</td>\n",
       "      <td>4</td>\n",
       "      <td>2</td>\n",
       "      <td>4</td>\n",
       "      <td>0</td>\n",
       "      <td>0</td>\n",
       "      <td>0</td>\n",
       "      <td>0</td>\n",
       "      <td>test</td>\n",
       "    </tr>\n",
       "  </tbody>\n",
       "</table>\n",
       "<p>1000000 rows × 48 columns</p>\n",
       "</div>"
      ],
      "text/plain": [
       "            id  loanAmnt  term  interestRate  installment grade subGrade  \\\n",
       "0            0     35000     5         19.52       917.97     E       E2   \n",
       "1            1     18000     5         18.49       461.90     D       D2   \n",
       "2            2     12000     5         16.99       298.17     D       D3   \n",
       "3            3     11000     3          7.26       340.96     A       A4   \n",
       "4            4      3000     3         12.99       101.07     C       C2   \n",
       "...        ...       ...   ...           ...          ...   ...      ...   \n",
       "199995  999995      7000     3         11.14       229.64     B       B2   \n",
       "199996  999996      6000     3          6.24       183.19     A       A2   \n",
       "199997  999997     14000     5         15.88       339.57     C       C4   \n",
       "199998  999998      8000     3         18.06       289.47     D       D2   \n",
       "199999  999999      8000     3          6.68       245.85     A       A3   \n",
       "\n",
       "        employmentTitle employmentLength  homeOwnership  annualIncome  \\\n",
       "0                   320          2 years              2      110000.0   \n",
       "1                219843          5 years              0       46000.0   \n",
       "2                 31698          8 years              0       74000.0   \n",
       "3                 46854        10+ years              1      118000.0   \n",
       "4                    54              NaN              1       29000.0   \n",
       "...                 ...              ...            ...           ...   \n",
       "199995           330967          7 years              1       30000.0   \n",
       "199996            38930           1 year              1       56000.0   \n",
       "199997           282016          8 years              2       80000.0   \n",
       "199998               97          4 years              1      190000.0   \n",
       "199999              320          7 years              1       46000.0   \n",
       "\n",
       "        verificationStatus   issueDate  isDefault  purpose  postCode  \\\n",
       "0                        2  2014-07-01          1        1       137   \n",
       "1                        2  2012-08-01          0        0       156   \n",
       "2                        2  2015-10-01          0        0       337   \n",
       "3                        1  2015-08-01          0        4       148   \n",
       "4                        2  2016-03-01          0       10       301   \n",
       "...                    ...         ...        ...      ...       ...   \n",
       "199995                   2  2012-10-01         -1        4        36   \n",
       "199996                   0  2015-10-01         -1        0       261   \n",
       "199997                   2  2013-07-01         -1        4        46   \n",
       "199998                   0  2017-10-01         -1        0        99   \n",
       "199999                   0  2015-02-01         -1        4        31   \n",
       "\n",
       "        regionCode    dti  delinquency_2years  ficoRangeLow  ficoRangeHigh  \\\n",
       "0               32  17.05                   0           730            734   \n",
       "1               18  27.83                   0           700            704   \n",
       "2               14  22.77                   0           675            679   \n",
       "3               11  17.21                   0           685            689   \n",
       "4               21  32.16                   0           690            694   \n",
       "...            ...    ...                 ...           ...            ...   \n",
       "199995          13  32.92                   0           685            689   \n",
       "199996           8  20.38                   0           720            724   \n",
       "199997          27  15.12                   0           675            679   \n",
       "199998           8   9.33                   0           690            694   \n",
       "199999           2   6.47                   0           715            719   \n",
       "\n",
       "        openAcc  pubRec  pubRecBankruptcies  revolBal  revolUtil  totalAcc  \\\n",
       "0             7       0                   0     24178       48.9        27   \n",
       "1            13       0                   0     15096       38.9        18   \n",
       "2            11       0                   0      4606       51.8        27   \n",
       "3             9       0                   0      9948       52.6        28   \n",
       "4            12       0                   0      2942       32.0        27   \n",
       "...         ...     ...                 ...       ...        ...       ...   \n",
       "199995        8       0                   0      5021       54.0        17   \n",
       "199996       25       0                   0     10163       35.9        27   \n",
       "199997       21       0                   0     31401       86.0        63   \n",
       "199998       11       0                   0     28493       64.0        24   \n",
       "199999        4       0                   0      7608       65.6        10   \n",
       "\n",
       "        initialListStatus  applicationType earliesCreditLine  title  \\\n",
       "0                       0                0          Aug-2001      1   \n",
       "1                       1                0          May-2002   1723   \n",
       "2                       0                0          May-2006      0   \n",
       "3                       1                0          May-1999      4   \n",
       "4                       0                0          Aug-1977     11   \n",
       "...                   ...              ...               ...    ...   \n",
       "199995                  1                0          Nov-2005  52663   \n",
       "199996                  0                0          Oct-2006      0   \n",
       "199997                  0                0          Dec-2001      4   \n",
       "199998                  0                0          Aug-2005      0   \n",
       "199999                  0                0          Aug-2002      4   \n",
       "\n",
       "        policyCode    n0    n1    n2    n3  n4    n5    n6    n7    n8    n9  \\\n",
       "0                1     0     2     2     2   4     9     8     4    12     2   \n",
       "1                1  <NA>  <NA>  <NA>  <NA>  10  <NA>  <NA>  <NA>  <NA>  <NA>   \n",
       "2                1     0     0     3     3   0     0    21     4     5     3   \n",
       "3                1     6     4     6     6   4    16     4     7    21     6   \n",
       "4                1     1     2     7     7   2     4     9    10    15     7   \n",
       "...            ...   ...   ...   ...   ...  ..   ...   ...   ...   ...   ...   \n",
       "199995           1     0     2     2     2   2     6    11     2     6     2   \n",
       "199996           1     0     5     6     6   5     5    14    12    13     6   \n",
       "199997           1     0     7    13    13   9    21    18    21    42    13   \n",
       "199998           1     0     3     6     6   4    12     5     8    19     6   \n",
       "199999           1     0     2     2     2   2     3     4     3     4     2   \n",
       "\n",
       "        n10   n11   n12   n13   n14   flag  \n",
       "0         7     0     0     0     2  train  \n",
       "1        13  <NA>  <NA>  <NA>  <NA>  train  \n",
       "2        11     0     0     0     4  train  \n",
       "3         9     0     0     0     1  train  \n",
       "4        12     0     0     0     4  train  \n",
       "...     ...   ...   ...   ...   ...    ...  \n",
       "199995    8     0     0     0     4   test  \n",
       "199996   25     0     0     0     0   test  \n",
       "199997   21     0     0     0     0   test  \n",
       "199998   11     0     0     0     2   test  \n",
       "199999    4     0     0     0     0   test  \n",
       "\n",
       "[1000000 rows x 48 columns]"
      ]
     },
     "execution_count": 9,
     "metadata": {},
     "output_type": "execute_result"
    }
   ],
   "source": [
    "TARGET = 'isDefault'\n",
    "train['flag'] = 'train'\n",
    "test['flag'] = 'test'\n",
    "test[TARGET] = -1\n",
    "df = pd.concat([train, test])\n",
    "df"
   ]
  },
  {
   "cell_type": "code",
   "execution_count": null,
   "metadata": {},
   "outputs": [],
   "source": []
  },
  {
   "cell_type": "code",
   "execution_count": null,
   "metadata": {},
   "outputs": [],
   "source": [
    "train[col] = df[: len(train)]\n",
    "test[col] = df[len(train):]\n",
    " \n",
    "df = pd.concat([train[col], test[col], axis = 0])"
   ]
  },
  {
   "cell_type": "markdown",
   "metadata": {},
   "source": [
    "# drop policycode"
   ]
  },
  {
   "cell_type": "code",
   "execution_count": null,
   "metadata": {
    "ExecuteTime": {
     "end_time": "2020-09-16T07:00:47.575272Z",
     "start_time": "2020-09-16T07:00:47.561260Z"
    }
   },
   "outputs": [],
   "source": [
    "# train.dtypes Int"
   ]
  },
  {
   "cell_type": "markdown",
   "metadata": {},
   "source": [
    "#### issueDate"
   ]
  },
  {
   "cell_type": "markdown",
   "metadata": {},
   "source": [
    "#### 这里对了吗？？？datetime? string?"
   ]
  },
  {
   "cell_type": "code",
   "execution_count": null,
   "metadata": {
    "ExecuteTime": {
     "end_time": "2020-09-16T07:01:01.387708Z",
     "start_time": "2020-09-16T07:00:47.576273Z"
    }
   },
   "outputs": [],
   "source": [
    "#转化成时间格式，查了确实train的最小日期是2007-6-1，这里加了个issueDateDT,还行吧，就是日期会让数值特别大，\n",
    "for data in [train, testa]:\n",
    "    data['issueDate'] = pd.to_datetime(data['issueDate'],format='%Y-%m-%d')\n",
    "    startdate = datetime.datetime.strptime('2007-06-01', '%Y-%m-%d')\n",
    "    # 构造时间特征\n",
    "    data['issueDateDT'] = data['issueDate'].apply(lambda x: x-startdate).dt.days"
   ]
  },
  {
   "cell_type": "code",
   "execution_count": null,
   "metadata": {
    "ExecuteTime": {
     "end_time": "2020-09-16T07:01:01.403722Z",
     "start_time": "2020-09-16T07:01:01.388709Z"
    }
   },
   "outputs": [],
   "source": [
    "# train.dtypes   # issueDate datetime64[ns]"
   ]
  },
  {
   "cell_type": "code",
   "execution_count": null,
   "metadata": {
    "ExecuteTime": {
     "end_time": "2020-09-16T07:01:01.577877Z",
     "start_time": "2020-09-16T07:01:01.404724Z"
    }
   },
   "outputs": [],
   "source": []
  },
  {
   "cell_type": "markdown",
   "metadata": {},
   "source": [
    "#### employmentLength的 years删掉，10+ <1转"
   ]
  },
  {
   "cell_type": "code",
   "execution_count": null,
   "metadata": {
    "ExecuteTime": {
     "end_time": "2020-09-16T07:01:03.177324Z",
     "start_time": "2020-09-16T07:01:01.578878Z"
    }
   },
   "outputs": [],
   "source": [
    "def employmentLength_to_int(s):\n",
    "    if pd.isnull(s):\n",
    "        return s\n",
    "    else:\n",
    "        return np.int8(s.split()[0])\n",
    "for data in [train, testa]:\n",
    "    data['employmentLength'].replace(to_replace='10+ years', value='10 years', inplace=True)\n",
    "    data['employmentLength'].replace('< 1 year', '0 years', inplace=True)\n",
    "    data['employmentLength'] = data['employmentLength'].apply(employmentLength_to_int)"
   ]
  },
  {
   "cell_type": "code",
   "execution_count": null,
   "metadata": {
    "ExecuteTime": {
     "end_time": "2020-09-16T07:01:03.193339Z",
     "start_time": "2020-09-16T07:01:03.179326Z"
    }
   },
   "outputs": [],
   "source": [
    "train['employmentLength'].value_counts(dropna=False).sort_index()"
   ]
  },
  {
   "cell_type": "markdown",
   "metadata": {},
   "source": [
    "#### 这里float，转成Int8，就不知道这种用祖传函数能不能自动转?"
   ]
  },
  {
   "cell_type": "code",
   "execution_count": null,
   "metadata": {
    "ExecuteTime": {
     "end_time": "2020-09-16T07:54:53.666383Z",
     "start_time": "2020-09-16T07:54:53.651369Z"
    }
   },
   "outputs": [],
   "source": [
    "for data in [train, testa]:\n",
    "    data['employmentTitle'] = data['employmentTitle'].astype('Int8')"
   ]
  },
  {
   "cell_type": "code",
   "execution_count": null,
   "metadata": {
    "ExecuteTime": {
     "end_time": "2020-09-16T07:01:03.225366Z",
     "start_time": "2020-09-16T07:01:03.210355Z"
    }
   },
   "outputs": [],
   "source": []
  },
  {
   "cell_type": "markdown",
   "metadata": {},
   "source": [
    "#### earliesCreditLine 这个正常了，就是值有点多，不知道要怎么利用抽取信息做特征"
   ]
  },
  {
   "cell_type": "code",
   "execution_count": null,
   "metadata": {
    "ExecuteTime": {
     "end_time": "2020-09-16T07:01:03.241382Z",
     "start_time": "2020-09-16T07:01:03.226367Z"
    }
   },
   "outputs": [],
   "source": [
    "pd.set_option('display.max_rows', None)"
   ]
  },
  {
   "cell_type": "code",
   "execution_count": null,
   "metadata": {
    "ExecuteTime": {
     "end_time": "2020-09-16T07:01:03.273409Z",
     "start_time": "2020-09-16T07:01:03.242383Z"
    }
   },
   "outputs": [],
   "source": [
    "train['earliesCreditLine'].sample(20)"
   ]
  },
  {
   "cell_type": "code",
   "execution_count": null,
   "metadata": {
    "ExecuteTime": {
     "end_time": "2020-09-16T07:01:03.399509Z",
     "start_time": "2020-09-16T07:01:03.274410Z"
    }
   },
   "outputs": [],
   "source": [
    "for data in [train, testa]:\n",
    "    data['earliesCreditLine'] = pd.to_datetime(data['earliesCreditLine'],format='%b-%Y')"
   ]
  },
  {
   "cell_type": "code",
   "execution_count": null,
   "metadata": {
    "ExecuteTime": {
     "end_time": "2020-09-16T07:01:40.927422Z",
     "start_time": "2020-09-16T07:01:25.670467Z"
    }
   },
   "outputs": [],
   "source": [
    "pd.set_option('display.max_columns', None)\n",
    "train.describe(include=\"all\")"
   ]
  },
  {
   "cell_type": "code",
   "execution_count": null,
   "metadata": {
    "ExecuteTime": {
     "end_time": "2020-09-16T07:34:18.335492Z",
     "start_time": "2020-09-16T07:34:18.202202Z"
    }
   },
   "outputs": [],
   "source": [
    "train.info()"
   ]
  },
  {
   "cell_type": "code",
   "execution_count": null,
   "metadata": {
    "ExecuteTime": {
     "end_time": "2020-09-16T07:01:03.418532Z",
     "start_time": "2020-09-16T07:00:41.311Z"
    }
   },
   "outputs": [],
   "source": [
    "# dw这里是提取年信息，我想利用原始信息，顺便还可以describe一下,暂时不用他的\n",
    "# for data in [train, testa]:\n",
    "#     data['earliesCreditLine'] = data['earliesCreditLine'].apply(lambda s: int(s[-4:]))"
   ]
  },
  {
   "cell_type": "code",
   "execution_count": null,
   "metadata": {},
   "outputs": [],
   "source": []
  },
  {
   "cell_type": "markdown",
   "metadata": {},
   "source": [
    "#### 压缩一下内存"
   ]
  },
  {
   "cell_type": "code",
   "execution_count": null,
   "metadata": {
    "ExecuteTime": {
     "end_time": "2020-09-16T08:10:54.086021Z",
     "start_time": "2020-09-16T08:10:54.078014Z"
    }
   },
   "outputs": [],
   "source": [
    "import psutil\n",
    "\n",
    "## Simple \"Memory profilers\" to see memory usage\n",
    "def get_memory_usage():\n",
    "    return np.round(psutil.Process(os.getpid()).memory_info()[0]/2.**30, 2)\n",
    "\n",
    "def sizeof_fmt(num, suffix='B'):\n",
    "    for unit in ['','Ki','Mi','Gi','Ti','Pi','Ei','Zi']:\n",
    "        if abs(num) < 1024.0:\n",
    "            return \"%3.1f%s%s\" % (num, unit, suffix)\n",
    "        num /= 1024.0\n",
    "    return \"%.1f%s%s\" % (num, 'Yi', suffix)"
   ]
  },
  {
   "cell_type": "code",
   "execution_count": null,
   "metadata": {
    "ExecuteTime": {
     "end_time": "2020-09-16T08:11:03.379924Z",
     "start_time": "2020-09-16T08:11:03.177744Z"
    }
   },
   "outputs": [],
   "source": [
    "## Memory Reducer\n",
    "# :df pandas dataframe to reduce size             # type: pd.DataFrame()\n",
    "# :verbose                                        # type: bool\n",
    "def reduce_mem_usage(df, verbose=True):\n",
    "    numerics = ['Int16', 'Int32', 'Int64', 'float16', 'float32', 'float64']\n",
    "    start_mem = df.memory_usage().sum() / 1024**2\n",
    "    for col in df.columns:\n",
    "        col_type = df[col].dtypes\n",
    "        if col_type in numerics:\n",
    "            c_min = df[col].min()\n",
    "            c_max = df[col].max()\n",
    "            if str(col_type)[:3] == 'Int':\n",
    "                if c_min > np.iinfo(np.int8).min and c_max < np.iinfo(np.int8).max:\n",
    "                    df[col] = df[col].astype('Int8')\n",
    "                elif c_min > np.iinfo(np.int16).min and c_max < np.iinfo(np.int16).max:\n",
    "                       df[col] = df[col].astype('Int16')\n",
    "                elif c_min > np.iinfo(np.int32).min and c_max < np.iinfo(np.int32).max:\n",
    "                    df[col] = df[col].astype('Int32')\n",
    "                elif c_min > np.iinfo(np.int64).min and c_max < np.iinfo(np.int64).max:\n",
    "                    df[col] = df[col].astype('Int64')\n",
    "            else:\n",
    "                if c_min > np.finfo(np.float16).min and c_max < np.finfo(np.float16).max:\n",
    "                    df[col] = df[col].astype(np.float16)\n",
    "                elif c_min > np.finfo(np.float32).min and c_max < np.finfo(np.float32).max:\n",
    "                    df[col] = df[col].astype(np.float32)\n",
    "                else:\n",
    "                    df[col] = df[col].astype(np.float64)\n",
    "    end_mem = df.memory_usage().sum() / 1024**2\n",
    "    if verbose: print('Mem. usage decreased to {:5.2f} Mb ({:.1f}% reduction)'.format(end_mem, 100 * (start_mem - end_mem) / start_mem))\n",
    "    return df"
   ]
  },
  {
   "cell_type": "markdown",
   "metadata": {},
   "source": [
    "这里可以拼train 和test成df"
   ]
  },
  {
   "cell_type": "code",
   "execution_count": null,
   "metadata": {
    "ExecuteTime": {
     "end_time": "2020-09-16T08:12:37.840446Z",
     "start_time": "2020-09-16T08:12:37.836442Z"
    }
   },
   "outputs": [],
   "source": [
    "print(\"{:>20}: {:>8}\".format('Original df',sizeof_fmt(train.memory_usage(index=True).sum())))"
   ]
  },
  {
   "cell_type": "code",
   "execution_count": null,
   "metadata": {
    "ExecuteTime": {
     "end_time": "2020-09-16T08:13:18.985781Z",
     "start_time": "2020-09-16T08:13:18.684333Z"
    }
   },
   "outputs": [],
   "source": [
    "train = reduce_mem_usage(train)"
   ]
  },
  {
   "cell_type": "code",
   "execution_count": null,
   "metadata": {
    "ExecuteTime": {
     "end_time": "2020-09-16T08:13:39.416828Z",
     "start_time": "2020-09-16T08:13:39.294215Z"
    }
   },
   "outputs": [],
   "source": [
    "train.info()"
   ]
  },
  {
   "cell_type": "code",
   "execution_count": null,
   "metadata": {},
   "outputs": [],
   "source": []
  },
  {
   "cell_type": "code",
   "execution_count": null,
   "metadata": {},
   "outputs": [],
   "source": []
  },
  {
   "cell_type": "code",
   "execution_count": null,
   "metadata": {},
   "outputs": [],
   "source": []
  },
  {
   "cell_type": "markdown",
   "metadata": {},
   "source": [
    "#### 数据类型转换"
   ]
  },
  {
   "cell_type": "code",
   "execution_count": null,
   "metadata": {
    "ExecuteTime": {
     "end_time": "2020-09-16T07:01:03.421533Z",
     "start_time": "2020-09-16T07:00:41.319Z"
    }
   },
   "outputs": [],
   "source": []
  },
  {
   "cell_type": "code",
   "execution_count": null,
   "metadata": {},
   "outputs": [],
   "source": []
  },
  {
   "cell_type": "code",
   "execution_count": null,
   "metadata": {
    "ExecuteTime": {
     "end_time": "2020-09-16T07:01:03.423536Z",
     "start_time": "2020-09-16T07:00:41.323Z"
    }
   },
   "outputs": [],
   "source": [
    "# cat_fea = ['grade', 'subGrade', 'employmentTitle', 'verificationStatus', \\\n",
    "#           'purpose', 'postCode', 'regionCode','applicationType','initialListStatus', 'title', 'policyCode']"
   ]
  },
  {
   "cell_type": "code",
   "execution_count": null,
   "metadata": {
    "ExecuteTime": {
     "end_time": "2020-09-16T07:01:03.424537Z",
     "start_time": "2020-09-16T07:00:41.324Z"
    }
   },
   "outputs": [],
   "source": [
    "# cols = ['id', 'loanAmnt', 'term', 'interestRate', 'installment', 'grade',\n",
    "#        'subGrade', 'employmentTitle', 'employmentLength', 'homeOwnership',\n",
    "#        'annualIncome', 'verificationStatus', 'issueDate', 'isDefault',\n",
    "#        'purpose', 'postCode', 'regionCode', 'dti', 'detlinquency_2years',\n",
    "#        'ficoRangeLow', 'ficoRangeHigh', 'openAcc', 'pubRec',\n",
    "#        'pubRecBankruptcies', 'revolBal', 'revolUtil', 'totalAcc',\n",
    "#        'initialListStatus', 'applicationType', 'earliesCreditLine', 'title',\n",
    "#        'policyCode', 'n0', 'n1', 'n2', 'n4', 'n5', 'n6', 'n7', 'n8', 'n9',\n",
    "#        'n10', 'n11', 'n12', 'n13', 'n14']"
   ]
  },
  {
   "cell_type": "markdown",
   "metadata": {},
   "source": [
    "'issueDate', 'isDefault', 'earliesCreditLine'"
   ]
  },
  {
   "cell_type": "code",
   "execution_count": null,
   "metadata": {
    "ExecuteTime": {
     "end_time": "2020-09-16T07:01:03.425538Z",
     "start_time": "2020-09-16T07:00:41.325Z"
    }
   },
   "outputs": [],
   "source": [
    "# num_fea = [a for a in cols if a not in cat_fea]\n",
    "# num_fea"
   ]
  },
  {
   "cell_type": "code",
   "execution_count": null,
   "metadata": {},
   "outputs": [],
   "source": []
  },
  {
   "cell_type": "code",
   "execution_count": null,
   "metadata": {
    "ExecuteTime": {
     "end_time": "2020-09-16T07:01:03.425538Z",
     "start_time": "2020-09-16T07:00:41.327Z"
    }
   },
   "outputs": [],
   "source": [
    "# ## 定义了一个统计函数，方便后续信息统计\n",
    "# def Sta_inf(data):\n",
    "#     print('_min',np.min(data))\n",
    "#     print('_max:',np.max(data))\n",
    "#     print('_mean',np.mean(data))\n",
    "#     print('_ptp',np.ptp(data))\n",
    "#     print('_std',np.std(data))\n",
    "#     print('_var',np.var(data))"
   ]
  }
 ],
 "metadata": {
  "kernelspec": {
   "display_name": "kaggle",
   "language": "python",
   "name": "kaggle"
  },
  "language_info": {
   "codemirror_mode": {
    "name": "ipython",
    "version": 3
   },
   "file_extension": ".py",
   "mimetype": "text/x-python",
   "name": "python",
   "nbconvert_exporter": "python",
   "pygments_lexer": "ipython3",
   "version": "3.7.9"
  },
  "toc": {
   "base_numbering": 1,
   "nav_menu": {},
   "number_sections": true,
   "sideBar": true,
   "skip_h1_title": false,
   "title_cell": "Table of Contents",
   "title_sidebar": "Contents",
   "toc_cell": false,
   "toc_position": {},
   "toc_section_display": true,
   "toc_window_display": false
  },
  "varInspector": {
   "cols": {
    "lenName": 16,
    "lenType": 16,
    "lenVar": 40
   },
   "kernels_config": {
    "python": {
     "delete_cmd_postfix": "",
     "delete_cmd_prefix": "del ",
     "library": "var_list.py",
     "varRefreshCmd": "print(var_dic_list())"
    },
    "r": {
     "delete_cmd_postfix": ") ",
     "delete_cmd_prefix": "rm(",
     "library": "var_list.r",
     "varRefreshCmd": "cat(var_dic_list()) "
    }
   },
   "types_to_exclude": [
    "module",
    "function",
    "builtin_function_or_method",
    "instance",
    "_Feature"
   ],
   "window_display": false
  }
 },
 "nbformat": 4,
 "nbformat_minor": 4
}
