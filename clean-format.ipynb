{
 "cells": [
  {
   "cell_type": "code",
   "execution_count": 30,
   "metadata": {
    "ExecuteTime": {
     "end_time": "2020-09-16T14:22:54.635915Z",
     "start_time": "2020-09-16T14:22:54.620937Z"
    }
   },
   "outputs": [],
   "source": [
    "import pandas as pd\n",
    "import numpy as np\n",
    "import matplotlib.pyplot as plt\n",
    "import seaborn as sns\n",
    "import datetime\n",
    "from tqdm import tqdm\n",
    "from sklearn.preprocessing import LabelEncoder\n",
    "from sklearn.feature_selection import SelectKBest\n",
    "from sklearn.feature_selection import chi2\n",
    "from sklearn.preprocessing import MinMaxScaler\n",
    "import xgboost as xgb\n",
    "import lightgbm as lgb\n",
    "from catboost import CatBoostRegressor\n",
    "import warnings\n",
    "from sklearn.model_selection import StratifiedKFold, KFold\n",
    "from sklearn.metrics import accuracy_score, f1_score, roc_auc_score, log_loss\n",
    "warnings.filterwarnings('ignore')"
   ]
  },
  {
   "cell_type": "markdown",
   "metadata": {},
   "source": [
    "# 用convert_dtypes()读取数据"
   ]
  },
  {
   "cell_type": "code",
   "execution_count": 2,
   "metadata": {
    "ExecuteTime": {
     "end_time": "2020-09-16T12:43:09.804982Z",
     "start_time": "2020-09-16T12:43:06.791651Z"
    }
   },
   "outputs": [],
   "source": [
    "train = pd.read_csv('./input/train.csv').convert_dtypes(convert_string=False)\n",
    "test = pd.read_csv('./input/testA.csv').convert_dtypes(convert_string=False)"
   ]
  },
  {
   "cell_type": "markdown",
   "metadata": {},
   "source": [
    "## 定义全局变量"
   ]
  },
  {
   "cell_type": "markdown",
   "metadata": {},
   "source": [
    "# 先拼train和test 本来想封装一个函数用来拼接\n",
    "因为似乎concat有个问题，会lose dtype?\n",
    "复盘了一下M5 感觉M5-simple-fe，def merge-by-concat不太看得懂"
   ]
  },
  {
   "cell_type": "markdown",
   "metadata": {},
   "source": [
    "### 防呆 这里+col: 'flag'，test的y('isDefault')设为-1"
   ]
  },
  {
   "cell_type": "code",
   "execution_count": 3,
   "metadata": {
    "ExecuteTime": {
     "end_time": "2020-09-16T12:43:09.820503Z",
     "start_time": "2020-09-16T12:43:09.805982Z"
    }
   },
   "outputs": [],
   "source": [
    "# train.shape  # (800000, 48) & len(train)=800000\n",
    "# test.shape # (200000, 47)"
   ]
  },
  {
   "cell_type": "code",
   "execution_count": 4,
   "metadata": {
    "ExecuteTime": {
     "end_time": "2020-09-16T12:43:09.835382Z",
     "start_time": "2020-09-16T12:43:09.821504Z"
    }
   },
   "outputs": [],
   "source": [
    "pd.set_option('display.max_columns', None)\n",
    "pd.set_option('display.max_rows', 20)"
   ]
  },
  {
   "cell_type": "code",
   "execution_count": 5,
   "metadata": {
    "ExecuteTime": {
     "end_time": "2020-09-16T12:43:10.038050Z",
     "start_time": "2020-09-16T12:43:09.836384Z"
    }
   },
   "outputs": [],
   "source": [
    "TARGET = 'isDefault'\n",
    "train['flag'] = 'train'\n",
    "test['flag'] = 'test'\n",
    "test[TARGET] = -1\n",
    "df = pd.concat([train, test])\n",
    "# df"
   ]
  },
  {
   "cell_type": "code",
   "execution_count": 6,
   "metadata": {
    "ExecuteTime": {
     "end_time": "2020-09-16T12:43:10.054064Z",
     "start_time": "2020-09-16T12:43:10.039052Z"
    }
   },
   "outputs": [],
   "source": [
    "# df.info()"
   ]
  },
  {
   "cell_type": "markdown",
   "metadata": {},
   "source": [
    "### drop policycode, 把flag astype 'string"
   ]
  },
  {
   "cell_type": "code",
   "execution_count": 7,
   "metadata": {
    "ExecuteTime": {
     "end_time": "2020-09-16T12:43:10.192190Z",
     "start_time": "2020-09-16T12:43:10.055066Z"
    }
   },
   "outputs": [],
   "source": [
    "df.drop('policyCode',axis = 1, inplace=True)"
   ]
  },
  {
   "cell_type": "code",
   "execution_count": 8,
   "metadata": {
    "ExecuteTime": {
     "end_time": "2020-09-16T12:43:10.316303Z",
     "start_time": "2020-09-16T12:43:10.194190Z"
    }
   },
   "outputs": [
    {
     "data": {
      "text/plain": [
       "0         train\n",
       "1         train\n",
       "2         train\n",
       "3         train\n",
       "4         train\n",
       "          ...  \n",
       "199995     test\n",
       "199996     test\n",
       "199997     test\n",
       "199998     test\n",
       "199999     test\n",
       "Name: flag, Length: 1000000, dtype: string"
      ]
     },
     "execution_count": 8,
     "metadata": {},
     "output_type": "execute_result"
    }
   ],
   "source": [
    "df['flag'].astype('string')"
   ]
  },
  {
   "cell_type": "markdown",
   "metadata": {},
   "source": [
    "### issueDate"
   ]
  },
  {
   "cell_type": "markdown",
   "metadata": {},
   "source": [
    "#### 这里如果string能读datetime吗? "
   ]
  },
  {
   "cell_type": "markdown",
   "metadata": {},
   "source": [
    "#### 这里有个全局变量startdate小心"
   ]
  },
  {
   "cell_type": "code",
   "execution_count": 9,
   "metadata": {
    "ExecuteTime": {
     "end_time": "2020-09-16T12:43:24.141344Z",
     "start_time": "2020-09-16T12:43:10.317305Z"
    }
   },
   "outputs": [],
   "source": [
    "#转化成时间格式，查了确实train的最小日期是2007-6-1，这里加了个issueDateDT,还行吧，就是日期会让数值特别大，\n",
    "\n",
    "df['issueDate'] = pd.to_datetime(df['issueDate'],format='%Y-%m-%d')\n",
    "startdate = datetime.datetime.strptime('2007-06-01', '%Y-%m-%d')\n",
    "# 构造时间特征\n",
    "df['issueDateDT'] = df['issueDate'].apply(lambda x: x-startdate).dt.days"
   ]
  },
  {
   "cell_type": "code",
   "execution_count": 10,
   "metadata": {
    "ExecuteTime": {
     "end_time": "2020-09-16T12:43:24.156770Z",
     "start_time": "2020-09-16T12:43:24.142345Z"
    }
   },
   "outputs": [],
   "source": [
    "pd.set_option('display.max_rows', None)"
   ]
  },
  {
   "cell_type": "code",
   "execution_count": 11,
   "metadata": {
    "ExecuteTime": {
     "end_time": "2020-09-16T12:43:24.172177Z",
     "start_time": "2020-09-16T12:43:24.157772Z"
    }
   },
   "outputs": [],
   "source": [
    "# df.dtypes   # issueDate datetime64[ns]  '<M8[ns]'"
   ]
  },
  {
   "cell_type": "markdown",
   "metadata": {},
   "source": [
    "### employmentLength的 years删掉，10+ <1转"
   ]
  },
  {
   "cell_type": "code",
   "execution_count": 12,
   "metadata": {
    "ExecuteTime": {
     "end_time": "2020-09-16T12:43:25.794740Z",
     "start_time": "2020-09-16T12:43:24.173179Z"
    }
   },
   "outputs": [],
   "source": [
    "def employmentLength_to_int(s):\n",
    "    if pd.isnull(s):\n",
    "        return s\n",
    "    else:\n",
    "        return np.int8(s.split()[0])\n",
    "\n",
    "df['employmentLength'].replace(to_replace='10+ years', value='10 years', inplace=True)\n",
    "df['employmentLength'].replace('< 1 year', '0 years', inplace=True)\n",
    "df['employmentLength'] = df['employmentLength'].apply(employmentLength_to_int)"
   ]
  },
  {
   "cell_type": "code",
   "execution_count": 13,
   "metadata": {
    "ExecuteTime": {
     "end_time": "2020-09-16T12:43:25.825940Z",
     "start_time": "2020-09-16T12:43:25.795742Z"
    }
   },
   "outputs": [
    {
     "data": {
      "text/plain": [
       "0.0      80226\n",
       "1.0      65671\n",
       "2.0      90565\n",
       "3.0      80163\n",
       "4.0      59818\n",
       "5.0      62645\n",
       "6.0      46582\n",
       "7.0      44230\n",
       "8.0      45168\n",
       "9.0      37866\n",
       "10.0    328525\n",
       "NaN      58541\n",
       "Name: employmentLength, dtype: int64"
      ]
     },
     "execution_count": 13,
     "metadata": {},
     "output_type": "execute_result"
    }
   ],
   "source": [
    "df['employmentLength'].value_counts(dropna=False).sort_index()"
   ]
  },
  {
   "cell_type": "markdown",
   "metadata": {},
   "source": [
    "#### 这里float，转成Int8"
   ]
  },
  {
   "cell_type": "code",
   "execution_count": 14,
   "metadata": {
    "ExecuteTime": {
     "end_time": "2020-09-16T12:43:25.840953Z",
     "start_time": "2020-09-16T12:43:25.826941Z"
    }
   },
   "outputs": [],
   "source": [
    "df['employmentTitle'] = df['employmentTitle'].astype('Int8')"
   ]
  },
  {
   "cell_type": "code",
   "execution_count": 15,
   "metadata": {
    "ExecuteTime": {
     "end_time": "2020-09-16T12:43:25.856489Z",
     "start_time": "2020-09-16T12:43:25.842956Z"
    }
   },
   "outputs": [],
   "source": [
    "# df['employmentTitle'].dtypes  # Int8"
   ]
  },
  {
   "cell_type": "markdown",
   "metadata": {},
   "source": [
    "### earliesCreditLine 转datetime"
   ]
  },
  {
   "cell_type": "markdown",
   "metadata": {},
   "source": [
    "#### 这个现在正常了，就是值有点多，不知道要怎么利用抽取信息做特征"
   ]
  },
  {
   "cell_type": "markdown",
   "metadata": {},
   "source": [
    "之前用excel打开，会变成乱码"
   ]
  },
  {
   "cell_type": "code",
   "execution_count": 16,
   "metadata": {
    "ExecuteTime": {
     "end_time": "2020-09-16T12:43:25.888517Z",
     "start_time": "2020-09-16T12:43:25.857490Z"
    }
   },
   "outputs": [
    {
     "data": {
      "text/plain": [
       "196015    Dec-2000\n",
       "19061     Oct-1995\n",
       "787886    Sep-1994\n",
       "270386    Sep-2005\n",
       "946       Nov-2005\n",
       "270408    Aug-1989\n",
       "722243    Nov-2003\n",
       "679218    Oct-1995\n",
       "713224    Apr-1985\n",
       "98882     Aug-2007\n",
       "95375     Apr-2002\n",
       "770125    Oct-2003\n",
       "630686    Jul-2001\n",
       "41929     May-2004\n",
       "687233    Dec-2001\n",
       "275784    Dec-2004\n",
       "394192    Oct-2002\n",
       "138796    Nov-1999\n",
       "640208    Oct-2004\n",
       "653499    Sep-2004\n",
       "Name: earliesCreditLine, dtype: object"
      ]
     },
     "execution_count": 16,
     "metadata": {},
     "output_type": "execute_result"
    }
   ],
   "source": [
    "df['earliesCreditLine'].sample(10)"
   ]
  },
  {
   "cell_type": "code",
   "execution_count": 17,
   "metadata": {
    "ExecuteTime": {
     "end_time": "2020-09-16T12:43:26.014373Z",
     "start_time": "2020-09-16T12:43:25.889519Z"
    }
   },
   "outputs": [],
   "source": [
    "# dw 这里是提取年信息，我想利用原始信息，顺便还可以describe一下,暂时不用他的\n",
    "df['earliesCreditLine'] = pd.to_datetime(df['earliesCreditLine'],format='%b-%Y')"
   ]
  },
  {
   "cell_type": "code",
   "execution_count": 18,
   "metadata": {
    "ExecuteTime": {
     "end_time": "2020-09-16T12:43:41.244726Z",
     "start_time": "2020-09-16T12:43:26.015375Z"
    }
   },
   "outputs": [
    {
     "data": {
      "text/html": [
       "<div>\n",
       "<style scoped>\n",
       "    .dataframe tbody tr th:only-of-type {\n",
       "        vertical-align: middle;\n",
       "    }\n",
       "\n",
       "    .dataframe tbody tr th {\n",
       "        vertical-align: top;\n",
       "    }\n",
       "\n",
       "    .dataframe thead th {\n",
       "        text-align: right;\n",
       "    }\n",
       "</style>\n",
       "<table border=\"1\" class=\"dataframe\">\n",
       "  <thead>\n",
       "    <tr style=\"text-align: right;\">\n",
       "      <th></th>\n",
       "      <th>id</th>\n",
       "      <th>loanAmnt</th>\n",
       "      <th>term</th>\n",
       "      <th>interestRate</th>\n",
       "      <th>installment</th>\n",
       "      <th>grade</th>\n",
       "      <th>subGrade</th>\n",
       "      <th>employmentTitle</th>\n",
       "      <th>employmentLength</th>\n",
       "      <th>homeOwnership</th>\n",
       "      <th>annualIncome</th>\n",
       "      <th>verificationStatus</th>\n",
       "      <th>issueDate</th>\n",
       "      <th>isDefault</th>\n",
       "      <th>purpose</th>\n",
       "      <th>postCode</th>\n",
       "      <th>regionCode</th>\n",
       "      <th>dti</th>\n",
       "      <th>delinquency_2years</th>\n",
       "      <th>ficoRangeLow</th>\n",
       "      <th>ficoRangeHigh</th>\n",
       "      <th>openAcc</th>\n",
       "      <th>pubRec</th>\n",
       "      <th>pubRecBankruptcies</th>\n",
       "      <th>revolBal</th>\n",
       "      <th>revolUtil</th>\n",
       "      <th>totalAcc</th>\n",
       "      <th>initialListStatus</th>\n",
       "      <th>applicationType</th>\n",
       "      <th>earliesCreditLine</th>\n",
       "      <th>title</th>\n",
       "      <th>policyCode</th>\n",
       "      <th>n0</th>\n",
       "      <th>n1</th>\n",
       "      <th>n2</th>\n",
       "      <th>n3</th>\n",
       "      <th>n4</th>\n",
       "      <th>n5</th>\n",
       "      <th>n6</th>\n",
       "      <th>n7</th>\n",
       "      <th>n8</th>\n",
       "      <th>n9</th>\n",
       "      <th>n10</th>\n",
       "      <th>n11</th>\n",
       "      <th>n12</th>\n",
       "      <th>n13</th>\n",
       "      <th>n14</th>\n",
       "      <th>flag</th>\n",
       "    </tr>\n",
       "  </thead>\n",
       "  <tbody>\n",
       "    <tr>\n",
       "      <th>count</th>\n",
       "      <td>800000.000000</td>\n",
       "      <td>800000.000000</td>\n",
       "      <td>800000.000000</td>\n",
       "      <td>800000.000000</td>\n",
       "      <td>800000.000000</td>\n",
       "      <td>800000</td>\n",
       "      <td>800000</td>\n",
       "      <td>799999.000000</td>\n",
       "      <td>753201</td>\n",
       "      <td>800000.000000</td>\n",
       "      <td>8.000000e+05</td>\n",
       "      <td>800000.000000</td>\n",
       "      <td>800000</td>\n",
       "      <td>800000.000000</td>\n",
       "      <td>800000.000000</td>\n",
       "      <td>799999.000000</td>\n",
       "      <td>800000.000000</td>\n",
       "      <td>799761.000000</td>\n",
       "      <td>800000.000000</td>\n",
       "      <td>800000.000000</td>\n",
       "      <td>800000.000000</td>\n",
       "      <td>800000.000000</td>\n",
       "      <td>800000.000000</td>\n",
       "      <td>799595.000000</td>\n",
       "      <td>8.000000e+05</td>\n",
       "      <td>799469.000000</td>\n",
       "      <td>800000.000000</td>\n",
       "      <td>800000.000000</td>\n",
       "      <td>800000.000000</td>\n",
       "      <td>800000</td>\n",
       "      <td>799999.000000</td>\n",
       "      <td>800000.0</td>\n",
       "      <td>759730.000000</td>\n",
       "      <td>759730.000000</td>\n",
       "      <td>759730.000000</td>\n",
       "      <td>759730.000000</td>\n",
       "      <td>766761.000000</td>\n",
       "      <td>759730.000000</td>\n",
       "      <td>759730.000000</td>\n",
       "      <td>759730.000000</td>\n",
       "      <td>759729.000000</td>\n",
       "      <td>759730.000000</td>\n",
       "      <td>766761.000000</td>\n",
       "      <td>730248.000000</td>\n",
       "      <td>759730.000000</td>\n",
       "      <td>759730.000000</td>\n",
       "      <td>759730.000000</td>\n",
       "      <td>800000</td>\n",
       "    </tr>\n",
       "    <tr>\n",
       "      <th>unique</th>\n",
       "      <td>NaN</td>\n",
       "      <td>NaN</td>\n",
       "      <td>NaN</td>\n",
       "      <td>NaN</td>\n",
       "      <td>NaN</td>\n",
       "      <td>7</td>\n",
       "      <td>35</td>\n",
       "      <td>NaN</td>\n",
       "      <td>11</td>\n",
       "      <td>NaN</td>\n",
       "      <td>NaN</td>\n",
       "      <td>NaN</td>\n",
       "      <td>139</td>\n",
       "      <td>NaN</td>\n",
       "      <td>NaN</td>\n",
       "      <td>NaN</td>\n",
       "      <td>NaN</td>\n",
       "      <td>NaN</td>\n",
       "      <td>NaN</td>\n",
       "      <td>NaN</td>\n",
       "      <td>NaN</td>\n",
       "      <td>NaN</td>\n",
       "      <td>NaN</td>\n",
       "      <td>NaN</td>\n",
       "      <td>NaN</td>\n",
       "      <td>NaN</td>\n",
       "      <td>NaN</td>\n",
       "      <td>NaN</td>\n",
       "      <td>NaN</td>\n",
       "      <td>720</td>\n",
       "      <td>NaN</td>\n",
       "      <td>NaN</td>\n",
       "      <td>NaN</td>\n",
       "      <td>NaN</td>\n",
       "      <td>NaN</td>\n",
       "      <td>NaN</td>\n",
       "      <td>NaN</td>\n",
       "      <td>NaN</td>\n",
       "      <td>NaN</td>\n",
       "      <td>NaN</td>\n",
       "      <td>NaN</td>\n",
       "      <td>NaN</td>\n",
       "      <td>NaN</td>\n",
       "      <td>NaN</td>\n",
       "      <td>NaN</td>\n",
       "      <td>NaN</td>\n",
       "      <td>NaN</td>\n",
       "      <td>1</td>\n",
       "    </tr>\n",
       "    <tr>\n",
       "      <th>top</th>\n",
       "      <td>NaN</td>\n",
       "      <td>NaN</td>\n",
       "      <td>NaN</td>\n",
       "      <td>NaN</td>\n",
       "      <td>NaN</td>\n",
       "      <td>B</td>\n",
       "      <td>C1</td>\n",
       "      <td>NaN</td>\n",
       "      <td>10+ years</td>\n",
       "      <td>NaN</td>\n",
       "      <td>NaN</td>\n",
       "      <td>NaN</td>\n",
       "      <td>2016-03-01</td>\n",
       "      <td>NaN</td>\n",
       "      <td>NaN</td>\n",
       "      <td>NaN</td>\n",
       "      <td>NaN</td>\n",
       "      <td>NaN</td>\n",
       "      <td>NaN</td>\n",
       "      <td>NaN</td>\n",
       "      <td>NaN</td>\n",
       "      <td>NaN</td>\n",
       "      <td>NaN</td>\n",
       "      <td>NaN</td>\n",
       "      <td>NaN</td>\n",
       "      <td>NaN</td>\n",
       "      <td>NaN</td>\n",
       "      <td>NaN</td>\n",
       "      <td>NaN</td>\n",
       "      <td>Aug-2001</td>\n",
       "      <td>NaN</td>\n",
       "      <td>NaN</td>\n",
       "      <td>NaN</td>\n",
       "      <td>NaN</td>\n",
       "      <td>NaN</td>\n",
       "      <td>NaN</td>\n",
       "      <td>NaN</td>\n",
       "      <td>NaN</td>\n",
       "      <td>NaN</td>\n",
       "      <td>NaN</td>\n",
       "      <td>NaN</td>\n",
       "      <td>NaN</td>\n",
       "      <td>NaN</td>\n",
       "      <td>NaN</td>\n",
       "      <td>NaN</td>\n",
       "      <td>NaN</td>\n",
       "      <td>NaN</td>\n",
       "      <td>train</td>\n",
       "    </tr>\n",
       "    <tr>\n",
       "      <th>freq</th>\n",
       "      <td>NaN</td>\n",
       "      <td>NaN</td>\n",
       "      <td>NaN</td>\n",
       "      <td>NaN</td>\n",
       "      <td>NaN</td>\n",
       "      <td>233690</td>\n",
       "      <td>50763</td>\n",
       "      <td>NaN</td>\n",
       "      <td>262753</td>\n",
       "      <td>NaN</td>\n",
       "      <td>NaN</td>\n",
       "      <td>NaN</td>\n",
       "      <td>29066</td>\n",
       "      <td>NaN</td>\n",
       "      <td>NaN</td>\n",
       "      <td>NaN</td>\n",
       "      <td>NaN</td>\n",
       "      <td>NaN</td>\n",
       "      <td>NaN</td>\n",
       "      <td>NaN</td>\n",
       "      <td>NaN</td>\n",
       "      <td>NaN</td>\n",
       "      <td>NaN</td>\n",
       "      <td>NaN</td>\n",
       "      <td>NaN</td>\n",
       "      <td>NaN</td>\n",
       "      <td>NaN</td>\n",
       "      <td>NaN</td>\n",
       "      <td>NaN</td>\n",
       "      <td>5567</td>\n",
       "      <td>NaN</td>\n",
       "      <td>NaN</td>\n",
       "      <td>NaN</td>\n",
       "      <td>NaN</td>\n",
       "      <td>NaN</td>\n",
       "      <td>NaN</td>\n",
       "      <td>NaN</td>\n",
       "      <td>NaN</td>\n",
       "      <td>NaN</td>\n",
       "      <td>NaN</td>\n",
       "      <td>NaN</td>\n",
       "      <td>NaN</td>\n",
       "      <td>NaN</td>\n",
       "      <td>NaN</td>\n",
       "      <td>NaN</td>\n",
       "      <td>NaN</td>\n",
       "      <td>NaN</td>\n",
       "      <td>800000</td>\n",
       "    </tr>\n",
       "    <tr>\n",
       "      <th>mean</th>\n",
       "      <td>399999.500000</td>\n",
       "      <td>14416.818875</td>\n",
       "      <td>3.482745</td>\n",
       "      <td>13.238391</td>\n",
       "      <td>437.947723</td>\n",
       "      <td>NaN</td>\n",
       "      <td>NaN</td>\n",
       "      <td>72005.351714</td>\n",
       "      <td>NaN</td>\n",
       "      <td>0.614213</td>\n",
       "      <td>7.613391e+04</td>\n",
       "      <td>1.009683</td>\n",
       "      <td>NaN</td>\n",
       "      <td>0.199513</td>\n",
       "      <td>1.745982</td>\n",
       "      <td>258.535648</td>\n",
       "      <td>16.385758</td>\n",
       "      <td>18.284557</td>\n",
       "      <td>0.318239</td>\n",
       "      <td>696.204081</td>\n",
       "      <td>700.204226</td>\n",
       "      <td>11.598020</td>\n",
       "      <td>0.214915</td>\n",
       "      <td>0.134163</td>\n",
       "      <td>1.622871e+04</td>\n",
       "      <td>51.790734</td>\n",
       "      <td>24.998861</td>\n",
       "      <td>0.416953</td>\n",
       "      <td>0.019267</td>\n",
       "      <td>NaN</td>\n",
       "      <td>1754.113589</td>\n",
       "      <td>1.0</td>\n",
       "      <td>0.511932</td>\n",
       "      <td>3.642330</td>\n",
       "      <td>5.642648</td>\n",
       "      <td>5.642648</td>\n",
       "      <td>4.735641</td>\n",
       "      <td>8.107937</td>\n",
       "      <td>8.575994</td>\n",
       "      <td>8.282953</td>\n",
       "      <td>14.622488</td>\n",
       "      <td>5.592345</td>\n",
       "      <td>11.643896</td>\n",
       "      <td>0.000815</td>\n",
       "      <td>0.003384</td>\n",
       "      <td>0.089366</td>\n",
       "      <td>2.178606</td>\n",
       "      <td>NaN</td>\n",
       "    </tr>\n",
       "    <tr>\n",
       "      <th>std</th>\n",
       "      <td>230940.252013</td>\n",
       "      <td>8716.086178</td>\n",
       "      <td>0.855832</td>\n",
       "      <td>4.765757</td>\n",
       "      <td>261.460393</td>\n",
       "      <td>NaN</td>\n",
       "      <td>NaN</td>\n",
       "      <td>106585.640204</td>\n",
       "      <td>NaN</td>\n",
       "      <td>0.675749</td>\n",
       "      <td>6.894751e+04</td>\n",
       "      <td>0.782716</td>\n",
       "      <td>NaN</td>\n",
       "      <td>0.399634</td>\n",
       "      <td>2.367453</td>\n",
       "      <td>200.037446</td>\n",
       "      <td>11.036679</td>\n",
       "      <td>11.150155</td>\n",
       "      <td>0.880325</td>\n",
       "      <td>31.865995</td>\n",
       "      <td>31.866674</td>\n",
       "      <td>5.475286</td>\n",
       "      <td>0.606467</td>\n",
       "      <td>0.377471</td>\n",
       "      <td>2.245802e+04</td>\n",
       "      <td>24.516126</td>\n",
       "      <td>11.999201</td>\n",
       "      <td>0.493055</td>\n",
       "      <td>0.137464</td>\n",
       "      <td>NaN</td>\n",
       "      <td>7941.474040</td>\n",
       "      <td>0.0</td>\n",
       "      <td>1.333266</td>\n",
       "      <td>2.246825</td>\n",
       "      <td>3.302810</td>\n",
       "      <td>3.302810</td>\n",
       "      <td>2.949969</td>\n",
       "      <td>4.799210</td>\n",
       "      <td>7.400536</td>\n",
       "      <td>4.561689</td>\n",
       "      <td>8.124610</td>\n",
       "      <td>3.216184</td>\n",
       "      <td>5.484104</td>\n",
       "      <td>0.030075</td>\n",
       "      <td>0.062041</td>\n",
       "      <td>0.509069</td>\n",
       "      <td>1.844377</td>\n",
       "      <td>NaN</td>\n",
       "    </tr>\n",
       "    <tr>\n",
       "      <th>min</th>\n",
       "      <td>0.000000</td>\n",
       "      <td>500.000000</td>\n",
       "      <td>3.000000</td>\n",
       "      <td>5.310000</td>\n",
       "      <td>15.690000</td>\n",
       "      <td>NaN</td>\n",
       "      <td>NaN</td>\n",
       "      <td>0.000000</td>\n",
       "      <td>NaN</td>\n",
       "      <td>0.000000</td>\n",
       "      <td>0.000000e+00</td>\n",
       "      <td>0.000000</td>\n",
       "      <td>NaN</td>\n",
       "      <td>0.000000</td>\n",
       "      <td>0.000000</td>\n",
       "      <td>0.000000</td>\n",
       "      <td>0.000000</td>\n",
       "      <td>-1.000000</td>\n",
       "      <td>0.000000</td>\n",
       "      <td>630.000000</td>\n",
       "      <td>634.000000</td>\n",
       "      <td>0.000000</td>\n",
       "      <td>0.000000</td>\n",
       "      <td>0.000000</td>\n",
       "      <td>0.000000e+00</td>\n",
       "      <td>0.000000</td>\n",
       "      <td>2.000000</td>\n",
       "      <td>0.000000</td>\n",
       "      <td>0.000000</td>\n",
       "      <td>NaN</td>\n",
       "      <td>0.000000</td>\n",
       "      <td>1.0</td>\n",
       "      <td>0.000000</td>\n",
       "      <td>0.000000</td>\n",
       "      <td>0.000000</td>\n",
       "      <td>0.000000</td>\n",
       "      <td>0.000000</td>\n",
       "      <td>0.000000</td>\n",
       "      <td>0.000000</td>\n",
       "      <td>0.000000</td>\n",
       "      <td>1.000000</td>\n",
       "      <td>0.000000</td>\n",
       "      <td>0.000000</td>\n",
       "      <td>0.000000</td>\n",
       "      <td>0.000000</td>\n",
       "      <td>0.000000</td>\n",
       "      <td>0.000000</td>\n",
       "      <td>NaN</td>\n",
       "    </tr>\n",
       "    <tr>\n",
       "      <th>25%</th>\n",
       "      <td>199999.750000</td>\n",
       "      <td>8000.000000</td>\n",
       "      <td>3.000000</td>\n",
       "      <td>9.750000</td>\n",
       "      <td>248.450000</td>\n",
       "      <td>NaN</td>\n",
       "      <td>NaN</td>\n",
       "      <td>427.000000</td>\n",
       "      <td>NaN</td>\n",
       "      <td>0.000000</td>\n",
       "      <td>4.560000e+04</td>\n",
       "      <td>0.000000</td>\n",
       "      <td>NaN</td>\n",
       "      <td>0.000000</td>\n",
       "      <td>0.000000</td>\n",
       "      <td>103.000000</td>\n",
       "      <td>8.000000</td>\n",
       "      <td>11.790000</td>\n",
       "      <td>0.000000</td>\n",
       "      <td>670.000000</td>\n",
       "      <td>674.000000</td>\n",
       "      <td>8.000000</td>\n",
       "      <td>0.000000</td>\n",
       "      <td>0.000000</td>\n",
       "      <td>5.944000e+03</td>\n",
       "      <td>33.400000</td>\n",
       "      <td>16.000000</td>\n",
       "      <td>0.000000</td>\n",
       "      <td>0.000000</td>\n",
       "      <td>NaN</td>\n",
       "      <td>0.000000</td>\n",
       "      <td>1.0</td>\n",
       "      <td>0.000000</td>\n",
       "      <td>2.000000</td>\n",
       "      <td>3.000000</td>\n",
       "      <td>3.000000</td>\n",
       "      <td>3.000000</td>\n",
       "      <td>5.000000</td>\n",
       "      <td>4.000000</td>\n",
       "      <td>5.000000</td>\n",
       "      <td>9.000000</td>\n",
       "      <td>3.000000</td>\n",
       "      <td>8.000000</td>\n",
       "      <td>0.000000</td>\n",
       "      <td>0.000000</td>\n",
       "      <td>0.000000</td>\n",
       "      <td>1.000000</td>\n",
       "      <td>NaN</td>\n",
       "    </tr>\n",
       "    <tr>\n",
       "      <th>50%</th>\n",
       "      <td>399999.500000</td>\n",
       "      <td>12000.000000</td>\n",
       "      <td>3.000000</td>\n",
       "      <td>12.740000</td>\n",
       "      <td>375.135000</td>\n",
       "      <td>NaN</td>\n",
       "      <td>NaN</td>\n",
       "      <td>7755.000000</td>\n",
       "      <td>NaN</td>\n",
       "      <td>1.000000</td>\n",
       "      <td>6.500000e+04</td>\n",
       "      <td>1.000000</td>\n",
       "      <td>NaN</td>\n",
       "      <td>0.000000</td>\n",
       "      <td>0.000000</td>\n",
       "      <td>203.000000</td>\n",
       "      <td>14.000000</td>\n",
       "      <td>17.610000</td>\n",
       "      <td>0.000000</td>\n",
       "      <td>690.000000</td>\n",
       "      <td>694.000000</td>\n",
       "      <td>11.000000</td>\n",
       "      <td>0.000000</td>\n",
       "      <td>0.000000</td>\n",
       "      <td>1.113200e+04</td>\n",
       "      <td>52.100000</td>\n",
       "      <td>23.000000</td>\n",
       "      <td>0.000000</td>\n",
       "      <td>0.000000</td>\n",
       "      <td>NaN</td>\n",
       "      <td>1.000000</td>\n",
       "      <td>1.0</td>\n",
       "      <td>0.000000</td>\n",
       "      <td>3.000000</td>\n",
       "      <td>5.000000</td>\n",
       "      <td>5.000000</td>\n",
       "      <td>4.000000</td>\n",
       "      <td>7.000000</td>\n",
       "      <td>7.000000</td>\n",
       "      <td>7.000000</td>\n",
       "      <td>13.000000</td>\n",
       "      <td>5.000000</td>\n",
       "      <td>11.000000</td>\n",
       "      <td>0.000000</td>\n",
       "      <td>0.000000</td>\n",
       "      <td>0.000000</td>\n",
       "      <td>2.000000</td>\n",
       "      <td>NaN</td>\n",
       "    </tr>\n",
       "    <tr>\n",
       "      <th>75%</th>\n",
       "      <td>599999.250000</td>\n",
       "      <td>20000.000000</td>\n",
       "      <td>3.000000</td>\n",
       "      <td>15.990000</td>\n",
       "      <td>580.710000</td>\n",
       "      <td>NaN</td>\n",
       "      <td>NaN</td>\n",
       "      <td>117663.500000</td>\n",
       "      <td>NaN</td>\n",
       "      <td>1.000000</td>\n",
       "      <td>9.000000e+04</td>\n",
       "      <td>2.000000</td>\n",
       "      <td>NaN</td>\n",
       "      <td>0.000000</td>\n",
       "      <td>4.000000</td>\n",
       "      <td>395.000000</td>\n",
       "      <td>22.000000</td>\n",
       "      <td>24.060000</td>\n",
       "      <td>0.000000</td>\n",
       "      <td>710.000000</td>\n",
       "      <td>714.000000</td>\n",
       "      <td>14.000000</td>\n",
       "      <td>0.000000</td>\n",
       "      <td>0.000000</td>\n",
       "      <td>1.973400e+04</td>\n",
       "      <td>70.700000</td>\n",
       "      <td>32.000000</td>\n",
       "      <td>1.000000</td>\n",
       "      <td>0.000000</td>\n",
       "      <td>NaN</td>\n",
       "      <td>5.000000</td>\n",
       "      <td>1.0</td>\n",
       "      <td>0.000000</td>\n",
       "      <td>5.000000</td>\n",
       "      <td>7.000000</td>\n",
       "      <td>7.000000</td>\n",
       "      <td>6.000000</td>\n",
       "      <td>11.000000</td>\n",
       "      <td>11.000000</td>\n",
       "      <td>10.000000</td>\n",
       "      <td>19.000000</td>\n",
       "      <td>7.000000</td>\n",
       "      <td>14.000000</td>\n",
       "      <td>0.000000</td>\n",
       "      <td>0.000000</td>\n",
       "      <td>0.000000</td>\n",
       "      <td>3.000000</td>\n",
       "      <td>NaN</td>\n",
       "    </tr>\n",
       "    <tr>\n",
       "      <th>max</th>\n",
       "      <td>799999.000000</td>\n",
       "      <td>40000.000000</td>\n",
       "      <td>5.000000</td>\n",
       "      <td>30.990000</td>\n",
       "      <td>1715.420000</td>\n",
       "      <td>NaN</td>\n",
       "      <td>NaN</td>\n",
       "      <td>378351.000000</td>\n",
       "      <td>NaN</td>\n",
       "      <td>5.000000</td>\n",
       "      <td>1.099920e+07</td>\n",
       "      <td>2.000000</td>\n",
       "      <td>NaN</td>\n",
       "      <td>1.000000</td>\n",
       "      <td>13.000000</td>\n",
       "      <td>940.000000</td>\n",
       "      <td>50.000000</td>\n",
       "      <td>999.000000</td>\n",
       "      <td>39.000000</td>\n",
       "      <td>845.000000</td>\n",
       "      <td>850.000000</td>\n",
       "      <td>86.000000</td>\n",
       "      <td>86.000000</td>\n",
       "      <td>12.000000</td>\n",
       "      <td>2.904836e+06</td>\n",
       "      <td>892.300000</td>\n",
       "      <td>162.000000</td>\n",
       "      <td>1.000000</td>\n",
       "      <td>1.000000</td>\n",
       "      <td>NaN</td>\n",
       "      <td>61680.000000</td>\n",
       "      <td>1.0</td>\n",
       "      <td>51.000000</td>\n",
       "      <td>33.000000</td>\n",
       "      <td>63.000000</td>\n",
       "      <td>63.000000</td>\n",
       "      <td>49.000000</td>\n",
       "      <td>70.000000</td>\n",
       "      <td>132.000000</td>\n",
       "      <td>79.000000</td>\n",
       "      <td>128.000000</td>\n",
       "      <td>45.000000</td>\n",
       "      <td>82.000000</td>\n",
       "      <td>4.000000</td>\n",
       "      <td>4.000000</td>\n",
       "      <td>39.000000</td>\n",
       "      <td>30.000000</td>\n",
       "      <td>NaN</td>\n",
       "    </tr>\n",
       "  </tbody>\n",
       "</table>\n",
       "</div>"
      ],
      "text/plain": [
       "                   id       loanAmnt           term   interestRate  \\\n",
       "count   800000.000000  800000.000000  800000.000000  800000.000000   \n",
       "unique            NaN            NaN            NaN            NaN   \n",
       "top               NaN            NaN            NaN            NaN   \n",
       "freq              NaN            NaN            NaN            NaN   \n",
       "mean    399999.500000   14416.818875       3.482745      13.238391   \n",
       "std     230940.252013    8716.086178       0.855832       4.765757   \n",
       "min          0.000000     500.000000       3.000000       5.310000   \n",
       "25%     199999.750000    8000.000000       3.000000       9.750000   \n",
       "50%     399999.500000   12000.000000       3.000000      12.740000   \n",
       "75%     599999.250000   20000.000000       3.000000      15.990000   \n",
       "max     799999.000000   40000.000000       5.000000      30.990000   \n",
       "\n",
       "          installment   grade subGrade  employmentTitle employmentLength  \\\n",
       "count   800000.000000  800000   800000    799999.000000           753201   \n",
       "unique            NaN       7       35              NaN               11   \n",
       "top               NaN       B       C1              NaN        10+ years   \n",
       "freq              NaN  233690    50763              NaN           262753   \n",
       "mean       437.947723     NaN      NaN     72005.351714              NaN   \n",
       "std        261.460393     NaN      NaN    106585.640204              NaN   \n",
       "min         15.690000     NaN      NaN         0.000000              NaN   \n",
       "25%        248.450000     NaN      NaN       427.000000              NaN   \n",
       "50%        375.135000     NaN      NaN      7755.000000              NaN   \n",
       "75%        580.710000     NaN      NaN    117663.500000              NaN   \n",
       "max       1715.420000     NaN      NaN    378351.000000              NaN   \n",
       "\n",
       "        homeOwnership  annualIncome  verificationStatus   issueDate  \\\n",
       "count   800000.000000  8.000000e+05       800000.000000      800000   \n",
       "unique            NaN           NaN                 NaN         139   \n",
       "top               NaN           NaN                 NaN  2016-03-01   \n",
       "freq              NaN           NaN                 NaN       29066   \n",
       "mean         0.614213  7.613391e+04            1.009683         NaN   \n",
       "std          0.675749  6.894751e+04            0.782716         NaN   \n",
       "min          0.000000  0.000000e+00            0.000000         NaN   \n",
       "25%          0.000000  4.560000e+04            0.000000         NaN   \n",
       "50%          1.000000  6.500000e+04            1.000000         NaN   \n",
       "75%          1.000000  9.000000e+04            2.000000         NaN   \n",
       "max          5.000000  1.099920e+07            2.000000         NaN   \n",
       "\n",
       "            isDefault        purpose       postCode     regionCode  \\\n",
       "count   800000.000000  800000.000000  799999.000000  800000.000000   \n",
       "unique            NaN            NaN            NaN            NaN   \n",
       "top               NaN            NaN            NaN            NaN   \n",
       "freq              NaN            NaN            NaN            NaN   \n",
       "mean         0.199513       1.745982     258.535648      16.385758   \n",
       "std          0.399634       2.367453     200.037446      11.036679   \n",
       "min          0.000000       0.000000       0.000000       0.000000   \n",
       "25%          0.000000       0.000000     103.000000       8.000000   \n",
       "50%          0.000000       0.000000     203.000000      14.000000   \n",
       "75%          0.000000       4.000000     395.000000      22.000000   \n",
       "max          1.000000      13.000000     940.000000      50.000000   \n",
       "\n",
       "                  dti  delinquency_2years   ficoRangeLow  ficoRangeHigh  \\\n",
       "count   799761.000000       800000.000000  800000.000000  800000.000000   \n",
       "unique            NaN                 NaN            NaN            NaN   \n",
       "top               NaN                 NaN            NaN            NaN   \n",
       "freq              NaN                 NaN            NaN            NaN   \n",
       "mean        18.284557            0.318239     696.204081     700.204226   \n",
       "std         11.150155            0.880325      31.865995      31.866674   \n",
       "min         -1.000000            0.000000     630.000000     634.000000   \n",
       "25%         11.790000            0.000000     670.000000     674.000000   \n",
       "50%         17.610000            0.000000     690.000000     694.000000   \n",
       "75%         24.060000            0.000000     710.000000     714.000000   \n",
       "max        999.000000           39.000000     845.000000     850.000000   \n",
       "\n",
       "              openAcc         pubRec  pubRecBankruptcies      revolBal  \\\n",
       "count   800000.000000  800000.000000       799595.000000  8.000000e+05   \n",
       "unique            NaN            NaN                 NaN           NaN   \n",
       "top               NaN            NaN                 NaN           NaN   \n",
       "freq              NaN            NaN                 NaN           NaN   \n",
       "mean        11.598020       0.214915            0.134163  1.622871e+04   \n",
       "std          5.475286       0.606467            0.377471  2.245802e+04   \n",
       "min          0.000000       0.000000            0.000000  0.000000e+00   \n",
       "25%          8.000000       0.000000            0.000000  5.944000e+03   \n",
       "50%         11.000000       0.000000            0.000000  1.113200e+04   \n",
       "75%         14.000000       0.000000            0.000000  1.973400e+04   \n",
       "max         86.000000      86.000000           12.000000  2.904836e+06   \n",
       "\n",
       "            revolUtil       totalAcc  initialListStatus  applicationType  \\\n",
       "count   799469.000000  800000.000000      800000.000000    800000.000000   \n",
       "unique            NaN            NaN                NaN              NaN   \n",
       "top               NaN            NaN                NaN              NaN   \n",
       "freq              NaN            NaN                NaN              NaN   \n",
       "mean        51.790734      24.998861           0.416953         0.019267   \n",
       "std         24.516126      11.999201           0.493055         0.137464   \n",
       "min          0.000000       2.000000           0.000000         0.000000   \n",
       "25%         33.400000      16.000000           0.000000         0.000000   \n",
       "50%         52.100000      23.000000           0.000000         0.000000   \n",
       "75%         70.700000      32.000000           1.000000         0.000000   \n",
       "max        892.300000     162.000000           1.000000         1.000000   \n",
       "\n",
       "       earliesCreditLine          title  policyCode             n0  \\\n",
       "count             800000  799999.000000    800000.0  759730.000000   \n",
       "unique               720            NaN         NaN            NaN   \n",
       "top             Aug-2001            NaN         NaN            NaN   \n",
       "freq                5567            NaN         NaN            NaN   \n",
       "mean                 NaN    1754.113589         1.0       0.511932   \n",
       "std                  NaN    7941.474040         0.0       1.333266   \n",
       "min                  NaN       0.000000         1.0       0.000000   \n",
       "25%                  NaN       0.000000         1.0       0.000000   \n",
       "50%                  NaN       1.000000         1.0       0.000000   \n",
       "75%                  NaN       5.000000         1.0       0.000000   \n",
       "max                  NaN   61680.000000         1.0      51.000000   \n",
       "\n",
       "                   n1             n2             n3             n4  \\\n",
       "count   759730.000000  759730.000000  759730.000000  766761.000000   \n",
       "unique            NaN            NaN            NaN            NaN   \n",
       "top               NaN            NaN            NaN            NaN   \n",
       "freq              NaN            NaN            NaN            NaN   \n",
       "mean         3.642330       5.642648       5.642648       4.735641   \n",
       "std          2.246825       3.302810       3.302810       2.949969   \n",
       "min          0.000000       0.000000       0.000000       0.000000   \n",
       "25%          2.000000       3.000000       3.000000       3.000000   \n",
       "50%          3.000000       5.000000       5.000000       4.000000   \n",
       "75%          5.000000       7.000000       7.000000       6.000000   \n",
       "max         33.000000      63.000000      63.000000      49.000000   \n",
       "\n",
       "                   n5             n6             n7             n8  \\\n",
       "count   759730.000000  759730.000000  759730.000000  759729.000000   \n",
       "unique            NaN            NaN            NaN            NaN   \n",
       "top               NaN            NaN            NaN            NaN   \n",
       "freq              NaN            NaN            NaN            NaN   \n",
       "mean         8.107937       8.575994       8.282953      14.622488   \n",
       "std          4.799210       7.400536       4.561689       8.124610   \n",
       "min          0.000000       0.000000       0.000000       1.000000   \n",
       "25%          5.000000       4.000000       5.000000       9.000000   \n",
       "50%          7.000000       7.000000       7.000000      13.000000   \n",
       "75%         11.000000      11.000000      10.000000      19.000000   \n",
       "max         70.000000     132.000000      79.000000     128.000000   \n",
       "\n",
       "                   n9            n10            n11            n12  \\\n",
       "count   759730.000000  766761.000000  730248.000000  759730.000000   \n",
       "unique            NaN            NaN            NaN            NaN   \n",
       "top               NaN            NaN            NaN            NaN   \n",
       "freq              NaN            NaN            NaN            NaN   \n",
       "mean         5.592345      11.643896       0.000815       0.003384   \n",
       "std          3.216184       5.484104       0.030075       0.062041   \n",
       "min          0.000000       0.000000       0.000000       0.000000   \n",
       "25%          3.000000       8.000000       0.000000       0.000000   \n",
       "50%          5.000000      11.000000       0.000000       0.000000   \n",
       "75%          7.000000      14.000000       0.000000       0.000000   \n",
       "max         45.000000      82.000000       4.000000       4.000000   \n",
       "\n",
       "                  n13            n14    flag  \n",
       "count   759730.000000  759730.000000  800000  \n",
       "unique            NaN            NaN       1  \n",
       "top               NaN            NaN   train  \n",
       "freq              NaN            NaN  800000  \n",
       "mean         0.089366       2.178606     NaN  \n",
       "std          0.509069       1.844377     NaN  \n",
       "min          0.000000       0.000000     NaN  \n",
       "25%          0.000000       1.000000     NaN  \n",
       "50%          0.000000       2.000000     NaN  \n",
       "75%          0.000000       3.000000     NaN  \n",
       "max         39.000000      30.000000     NaN  "
      ]
     },
     "execution_count": 18,
     "metadata": {},
     "output_type": "execute_result"
    }
   ],
   "source": [
    "pd.set_option('display.max_columns', None)\n",
    "train.describe(include=\"all\")"
   ]
  },
  {
   "cell_type": "code",
   "execution_count": 19,
   "metadata": {
    "ExecuteTime": {
     "end_time": "2020-09-16T12:43:41.260245Z",
     "start_time": "2020-09-16T12:43:41.245726Z"
    }
   },
   "outputs": [],
   "source": [
    "# df.info()"
   ]
  },
  {
   "cell_type": "markdown",
   "metadata": {},
   "source": [
    "#### 压缩一下内存"
   ]
  },
  {
   "cell_type": "code",
   "execution_count": 20,
   "metadata": {
    "ExecuteTime": {
     "end_time": "2020-09-16T12:43:41.276259Z",
     "start_time": "2020-09-16T12:43:41.261245Z"
    }
   },
   "outputs": [],
   "source": [
    "import psutil\n",
    "\n",
    "## Simple \"Memory profilers\" to see memory usage\n",
    "def get_memory_usage():\n",
    "    return np.round(psutil.Process(os.getpid()).memory_info()[0]/2.**30, 2)\n",
    "\n",
    "def sizeof_fmt(num, suffix='B'):\n",
    "    for unit in ['','Ki','Mi','Gi','Ti','Pi','Ei','Zi']:\n",
    "        if abs(num) < 1024.0:\n",
    "            return \"%3.1f%s%s\" % (num, unit, suffix)\n",
    "        num /= 1024.0\n",
    "    return \"%.1f%s%s\" % (num, 'Yi', suffix)"
   ]
  },
  {
   "cell_type": "code",
   "execution_count": 21,
   "metadata": {
    "ExecuteTime": {
     "end_time": "2020-09-16T12:43:41.291273Z",
     "start_time": "2020-09-16T12:43:41.277259Z"
    }
   },
   "outputs": [],
   "source": [
    "# 这里改了一些 Int\n",
    "## Memory Reducer\n",
    "# :df pandas dataframe to reduce size             # type: pd.DataFrame()\n",
    "# :verbose                                        # type: bool\n",
    "def reduce_mem_usage(df, verbose=True):\n",
    "    numerics = ['Int16', 'Int32', 'Int64', 'float16', 'float32', 'float64']\n",
    "    start_mem = df.memory_usage().sum() / 1024**2\n",
    "    for col in df.columns:\n",
    "        col_type = df[col].dtypes\n",
    "        if col_type in numerics:\n",
    "            c_min = df[col].min()\n",
    "            c_max = df[col].max()\n",
    "            if str(col_type)[:3] == 'Int':\n",
    "                if c_min > np.iinfo(np.int8).min and c_max < np.iinfo(np.int8).max:\n",
    "                    df[col] = df[col].astype('Int8')\n",
    "                elif c_min > np.iinfo(np.int16).min and c_max < np.iinfo(np.int16).max:\n",
    "                       df[col] = df[col].astype('Int16')\n",
    "                elif c_min > np.iinfo(np.int32).min and c_max < np.iinfo(np.int32).max:\n",
    "                    df[col] = df[col].astype('Int32')\n",
    "                elif c_min > np.iinfo(np.int64).min and c_max < np.iinfo(np.int64).max:\n",
    "                    df[col] = df[col].astype('Int64')\n",
    "            else:\n",
    "                if c_min > np.finfo(np.float16).min and c_max < np.finfo(np.float16).max:\n",
    "                    df[col] = df[col].astype(np.float16)\n",
    "                elif c_min > np.finfo(np.float32).min and c_max < np.finfo(np.float32).max:\n",
    "                    df[col] = df[col].astype(np.float32)\n",
    "                else:\n",
    "                    df[col] = df[col].astype(np.float64)\n",
    "    end_mem = df.memory_usage().sum() / 1024**2\n",
    "    if verbose: print('Mem. usage decreased to {:5.2f} Mb ({:.1f}% reduction)'.format(end_mem, 100 * (start_mem - end_mem) / start_mem))\n",
    "    return df"
   ]
  },
  {
   "cell_type": "code",
   "execution_count": 22,
   "metadata": {
    "ExecuteTime": {
     "end_time": "2020-09-16T12:43:41.307286Z",
     "start_time": "2020-09-16T12:43:41.292273Z"
    }
   },
   "outputs": [
    {
     "name": "stdout",
     "output_type": "stream",
     "text": [
      "         Original df: 321.2MiB\n"
     ]
    }
   ],
   "source": [
    "print(\"{:>20}: {:>8}\".format('Original df',sizeof_fmt(train.memory_usage(index=True).sum())))"
   ]
  },
  {
   "cell_type": "code",
   "execution_count": 23,
   "metadata": {
    "ExecuteTime": {
     "end_time": "2020-09-16T12:43:41.685626Z",
     "start_time": "2020-09-16T12:43:41.310289Z"
    }
   },
   "outputs": [
    {
     "name": "stdout",
     "output_type": "stream",
     "text": [
      "Mem. usage decreased to 146.87 Mb (63.4% reduction)\n"
     ]
    }
   ],
   "source": [
    "df = reduce_mem_usage(df)"
   ]
  },
  {
   "cell_type": "code",
   "execution_count": 24,
   "metadata": {
    "ExecuteTime": {
     "end_time": "2020-09-16T12:43:41.873183Z",
     "start_time": "2020-09-16T12:43:41.687628Z"
    }
   },
   "outputs": [
    {
     "name": "stdout",
     "output_type": "stream",
     "text": [
      "<class 'pandas.core.frame.DataFrame'>\n",
      "Int64Index: 1000000 entries, 0 to 199999\n",
      "Data columns (total 48 columns):\n",
      " #   Column              Non-Null Count    Dtype         \n",
      "---  ------              --------------    -----         \n",
      " 0   id                  1000000 non-null  Int32         \n",
      " 1   loanAmnt            1000000 non-null  Int32         \n",
      " 2   term                1000000 non-null  Int8          \n",
      " 3   interestRate        1000000 non-null  float16       \n",
      " 4   installment         1000000 non-null  float16       \n",
      " 5   grade               1000000 non-null  object        \n",
      " 6   subGrade            1000000 non-null  object        \n",
      " 7   employmentTitle     999999 non-null   Int8          \n",
      " 8   employmentLength    941459 non-null   float16       \n",
      " 9   homeOwnership       1000000 non-null  Int8          \n",
      " 10  annualIncome        1000000 non-null  float32       \n",
      " 11  verificationStatus  1000000 non-null  Int8          \n",
      " 12  issueDate           1000000 non-null  datetime64[ns]\n",
      " 13  isDefault           1000000 non-null  Int8          \n",
      " 14  purpose             1000000 non-null  Int8          \n",
      " 15  postCode            999999 non-null   Int16         \n",
      " 16  regionCode          1000000 non-null  Int8          \n",
      " 17  dti                 999700 non-null   float16       \n",
      " 18  delinquency_2years  1000000 non-null  Int8          \n",
      " 19  ficoRangeLow        1000000 non-null  Int16         \n",
      " 20  ficoRangeHigh       1000000 non-null  Int16         \n",
      " 21  openAcc             1000000 non-null  Int8          \n",
      " 22  pubRec              1000000 non-null  Int8          \n",
      " 23  pubRecBankruptcies  999479 non-null   Int8          \n",
      " 24  revolBal            1000000 non-null  Int32         \n",
      " 25  revolUtil           999342 non-null   float16       \n",
      " 26  totalAcc            1000000 non-null  Int16         \n",
      " 27  initialListStatus   1000000 non-null  Int8          \n",
      " 28  applicationType     1000000 non-null  Int8          \n",
      " 29  earliesCreditLine   1000000 non-null  datetime64[ns]\n",
      " 30  title               999999 non-null   Int32         \n",
      " 31  n0                  949619 non-null   Int8          \n",
      " 32  n1                  949619 non-null   Int8          \n",
      " 33  n2                  949619 non-null   Int8          \n",
      " 34  n3                  949619 non-null   Int8          \n",
      " 35  n4                  958367 non-null   Int8          \n",
      " 36  n5                  949619 non-null   Int8          \n",
      " 37  n6                  949619 non-null   Int16         \n",
      " 38  n7                  949619 non-null   Int8          \n",
      " 39  n8                  949618 non-null   Int16         \n",
      " 40  n9                  949619 non-null   Int8          \n",
      " 41  n10                 958367 non-null   Int8          \n",
      " 42  n11                 912673 non-null   Int8          \n",
      " 43  n12                 949619 non-null   Int8          \n",
      " 44  n13                 949619 non-null   Int8          \n",
      " 45  n14                 949619 non-null   Int8          \n",
      " 46  flag                1000000 non-null  object        \n",
      " 47  issueDateDT         1000000 non-null  float16       \n",
      "dtypes: Int16(6), Int32(4), Int8(26), datetime64[ns](2), float16(6), float32(1), object(3)\n",
      "memory usage: 146.9+ MB\n"
     ]
    }
   ],
   "source": [
    "# 看下数据类型变没变\n",
    "df.info()"
   ]
  },
  {
   "cell_type": "markdown",
   "metadata": {},
   "source": [
    "#### 保存"
   ]
  },
  {
   "cell_type": "code",
   "execution_count": 26,
   "metadata": {
    "ExecuteTime": {
     "end_time": "2020-09-16T12:44:45.734859Z",
     "start_time": "2020-09-16T12:44:21.736719Z"
    }
   },
   "outputs": [],
   "source": [
    "# df.to_csv('cf-df.csv')"
   ]
  },
  {
   "cell_type": "code",
   "execution_count": 28,
   "metadata": {
    "ExecuteTime": {
     "end_time": "2020-09-16T12:46:27.538373Z",
     "start_time": "2020-09-16T12:46:27.043919Z"
    }
   },
   "outputs": [],
   "source": [
    "# import pickle\n",
    "# df.to_pickle('cf-df.pkl')"
   ]
  },
  {
   "cell_type": "code",
   "execution_count": 31,
   "metadata": {
    "ExecuteTime": {
     "end_time": "2020-09-16T14:24:25.780016Z",
     "start_time": "2020-09-16T14:24:24.249878Z"
    }
   },
   "outputs": [],
   "source": [
    "# df = pd.read_pickle('cf-df.pkl')"
   ]
  },
  {
   "cell_type": "code",
   "execution_count": 37,
   "metadata": {
    "ExecuteTime": {
     "end_time": "2020-09-16T14:26:15.113806Z",
     "start_time": "2020-09-16T14:26:15.083777Z"
    }
   },
   "outputs": [],
   "source": [
    "train = df[:800000]\n",
    "test = df[800000:]"
   ]
  },
  {
   "cell_type": "code",
   "execution_count": 36,
   "metadata": {
    "ExecuteTime": {
     "end_time": "2020-09-16T14:25:38.317480Z",
     "start_time": "2020-09-16T14:25:38.127875Z"
    }
   },
   "outputs": [
    {
     "data": {
      "text/html": [
       "<div>\n",
       "<style scoped>\n",
       "    .dataframe tbody tr th:only-of-type {\n",
       "        vertical-align: middle;\n",
       "    }\n",
       "\n",
       "    .dataframe tbody tr th {\n",
       "        vertical-align: top;\n",
       "    }\n",
       "\n",
       "    .dataframe thead th {\n",
       "        text-align: right;\n",
       "    }\n",
       "</style>\n",
       "<table border=\"1\" class=\"dataframe\">\n",
       "  <thead>\n",
       "    <tr style=\"text-align: right;\">\n",
       "      <th></th>\n",
       "      <th>id</th>\n",
       "      <th>loanAmnt</th>\n",
       "      <th>term</th>\n",
       "      <th>interestRate</th>\n",
       "      <th>installment</th>\n",
       "      <th>grade</th>\n",
       "      <th>subGrade</th>\n",
       "      <th>employmentTitle</th>\n",
       "      <th>employmentLength</th>\n",
       "      <th>homeOwnership</th>\n",
       "      <th>annualIncome</th>\n",
       "      <th>verificationStatus</th>\n",
       "      <th>issueDate</th>\n",
       "      <th>isDefault</th>\n",
       "      <th>purpose</th>\n",
       "      <th>postCode</th>\n",
       "      <th>regionCode</th>\n",
       "      <th>dti</th>\n",
       "      <th>delinquency_2years</th>\n",
       "      <th>ficoRangeLow</th>\n",
       "      <th>ficoRangeHigh</th>\n",
       "      <th>openAcc</th>\n",
       "      <th>pubRec</th>\n",
       "      <th>pubRecBankruptcies</th>\n",
       "      <th>revolBal</th>\n",
       "      <th>revolUtil</th>\n",
       "      <th>totalAcc</th>\n",
       "      <th>initialListStatus</th>\n",
       "      <th>applicationType</th>\n",
       "      <th>earliesCreditLine</th>\n",
       "      <th>title</th>\n",
       "      <th>n0</th>\n",
       "      <th>n1</th>\n",
       "      <th>n2</th>\n",
       "      <th>n3</th>\n",
       "      <th>n4</th>\n",
       "      <th>n5</th>\n",
       "      <th>n6</th>\n",
       "      <th>n7</th>\n",
       "      <th>n8</th>\n",
       "      <th>n9</th>\n",
       "      <th>n10</th>\n",
       "      <th>n11</th>\n",
       "      <th>n12</th>\n",
       "      <th>n13</th>\n",
       "      <th>n14</th>\n",
       "      <th>flag</th>\n",
       "      <th>issueDateDT</th>\n",
       "    </tr>\n",
       "  </thead>\n",
       "  <tbody>\n",
       "    <tr>\n",
       "      <th>0</th>\n",
       "      <td>800000</td>\n",
       "      <td>14000</td>\n",
       "      <td>3</td>\n",
       "      <td>10.992188</td>\n",
       "      <td>458.25</td>\n",
       "      <td>B</td>\n",
       "      <td>B3</td>\n",
       "      <td>115</td>\n",
       "      <td>10.0</td>\n",
       "      <td>0</td>\n",
       "      <td>80000.0</td>\n",
       "      <td>0</td>\n",
       "      <td>2014-07-01</td>\n",
       "      <td>-1</td>\n",
       "      <td>0</td>\n",
       "      <td>163</td>\n",
       "      <td>21</td>\n",
       "      <td>10.562500</td>\n",
       "      <td>1</td>\n",
       "      <td>715</td>\n",
       "      <td>719</td>\n",
       "      <td>17</td>\n",
       "      <td>0</td>\n",
       "      <td>0</td>\n",
       "      <td>9846</td>\n",
       "      <td>30.703125</td>\n",
       "      <td>29</td>\n",
       "      <td>0</td>\n",
       "      <td>0</td>\n",
       "      <td>1974-11-01</td>\n",
       "      <td>0</td>\n",
       "      <td>1</td>\n",
       "      <td>4</td>\n",
       "      <td>6</td>\n",
       "      <td>6</td>\n",
       "      <td>6</td>\n",
       "      <td>8</td>\n",
       "      <td>4</td>\n",
       "      <td>15</td>\n",
       "      <td>19</td>\n",
       "      <td>6</td>\n",
       "      <td>17</td>\n",
       "      <td>0</td>\n",
       "      <td>0</td>\n",
       "      <td>1</td>\n",
       "      <td>3</td>\n",
       "      <td>test</td>\n",
       "      <td>2588.0</td>\n",
       "    </tr>\n",
       "    <tr>\n",
       "      <th>1</th>\n",
       "      <td>800001</td>\n",
       "      <td>20000</td>\n",
       "      <td>5</td>\n",
       "      <td>14.648438</td>\n",
       "      <td>472.25</td>\n",
       "      <td>C</td>\n",
       "      <td>C5</td>\n",
       "      <td>10</td>\n",
       "      <td>10.0</td>\n",
       "      <td>0</td>\n",
       "      <td>50000.0</td>\n",
       "      <td>0</td>\n",
       "      <td>2015-07-01</td>\n",
       "      <td>-1</td>\n",
       "      <td>2</td>\n",
       "      <td>235</td>\n",
       "      <td>8</td>\n",
       "      <td>21.406250</td>\n",
       "      <td>2</td>\n",
       "      <td>670</td>\n",
       "      <td>674</td>\n",
       "      <td>5</td>\n",
       "      <td>0</td>\n",
       "      <td>0</td>\n",
       "      <td>8946</td>\n",
       "      <td>56.593750</td>\n",
       "      <td>14</td>\n",
       "      <td>0</td>\n",
       "      <td>0</td>\n",
       "      <td>2001-07-01</td>\n",
       "      <td>5</td>\n",
       "      <td>2</td>\n",
       "      <td>1</td>\n",
       "      <td>3</td>\n",
       "      <td>3</td>\n",
       "      <td>1</td>\n",
       "      <td>1</td>\n",
       "      <td>3</td>\n",
       "      <td>3</td>\n",
       "      <td>9</td>\n",
       "      <td>3</td>\n",
       "      <td>5</td>\n",
       "      <td>0</td>\n",
       "      <td>0</td>\n",
       "      <td>2</td>\n",
       "      <td>2</td>\n",
       "      <td>test</td>\n",
       "      <td>2952.0</td>\n",
       "    </tr>\n",
       "    <tr>\n",
       "      <th>2</th>\n",
       "      <td>800002</td>\n",
       "      <td>12000</td>\n",
       "      <td>3</td>\n",
       "      <td>19.984375</td>\n",
       "      <td>446.00</td>\n",
       "      <td>D</td>\n",
       "      <td>D4</td>\n",
       "      <td>-5</td>\n",
       "      <td>2.0</td>\n",
       "      <td>1</td>\n",
       "      <td>60000.0</td>\n",
       "      <td>2</td>\n",
       "      <td>2016-10-01</td>\n",
       "      <td>-1</td>\n",
       "      <td>0</td>\n",
       "      <td>526</td>\n",
       "      <td>20</td>\n",
       "      <td>33.500000</td>\n",
       "      <td>0</td>\n",
       "      <td>710</td>\n",
       "      <td>714</td>\n",
       "      <td>12</td>\n",
       "      <td>0</td>\n",
       "      <td>0</td>\n",
       "      <td>970</td>\n",
       "      <td>17.593750</td>\n",
       "      <td>43</td>\n",
       "      <td>1</td>\n",
       "      <td>0</td>\n",
       "      <td>2006-08-01</td>\n",
       "      <td>0</td>\n",
       "      <td>0</td>\n",
       "      <td>1</td>\n",
       "      <td>4</td>\n",
       "      <td>4</td>\n",
       "      <td>1</td>\n",
       "      <td>1</td>\n",
       "      <td>36</td>\n",
       "      <td>5</td>\n",
       "      <td>6</td>\n",
       "      <td>4</td>\n",
       "      <td>12</td>\n",
       "      <td>0</td>\n",
       "      <td>0</td>\n",
       "      <td>0</td>\n",
       "      <td>7</td>\n",
       "      <td>test</td>\n",
       "      <td>3410.0</td>\n",
       "    </tr>\n",
       "    <tr>\n",
       "      <th>3</th>\n",
       "      <td>800003</td>\n",
       "      <td>17500</td>\n",
       "      <td>5</td>\n",
       "      <td>14.312500</td>\n",
       "      <td>410.00</td>\n",
       "      <td>C</td>\n",
       "      <td>C4</td>\n",
       "      <td>124</td>\n",
       "      <td>4.0</td>\n",
       "      <td>0</td>\n",
       "      <td>37000.0</td>\n",
       "      <td>1</td>\n",
       "      <td>2014-11-01</td>\n",
       "      <td>-1</td>\n",
       "      <td>4</td>\n",
       "      <td>248</td>\n",
       "      <td>11</td>\n",
       "      <td>13.953125</td>\n",
       "      <td>0</td>\n",
       "      <td>685</td>\n",
       "      <td>689</td>\n",
       "      <td>10</td>\n",
       "      <td>1</td>\n",
       "      <td>1</td>\n",
       "      <td>10249</td>\n",
       "      <td>52.312500</td>\n",
       "      <td>18</td>\n",
       "      <td>0</td>\n",
       "      <td>0</td>\n",
       "      <td>2002-07-01</td>\n",
       "      <td>4</td>\n",
       "      <td>0</td>\n",
       "      <td>2</td>\n",
       "      <td>2</td>\n",
       "      <td>2</td>\n",
       "      <td>4</td>\n",
       "      <td>7</td>\n",
       "      <td>2</td>\n",
       "      <td>8</td>\n",
       "      <td>14</td>\n",
       "      <td>2</td>\n",
       "      <td>10</td>\n",
       "      <td>0</td>\n",
       "      <td>0</td>\n",
       "      <td>0</td>\n",
       "      <td>3</td>\n",
       "      <td>test</td>\n",
       "      <td>2710.0</td>\n",
       "    </tr>\n",
       "    <tr>\n",
       "      <th>4</th>\n",
       "      <td>800004</td>\n",
       "      <td>35000</td>\n",
       "      <td>3</td>\n",
       "      <td>17.093750</td>\n",
       "      <td>1249.00</td>\n",
       "      <td>D</td>\n",
       "      <td>D1</td>\n",
       "      <td>62</td>\n",
       "      <td>0.0</td>\n",
       "      <td>1</td>\n",
       "      <td>80000.0</td>\n",
       "      <td>1</td>\n",
       "      <td>2017-10-01</td>\n",
       "      <td>-1</td>\n",
       "      <td>0</td>\n",
       "      <td>115</td>\n",
       "      <td>8</td>\n",
       "      <td>24.968750</td>\n",
       "      <td>0</td>\n",
       "      <td>685</td>\n",
       "      <td>689</td>\n",
       "      <td>19</td>\n",
       "      <td>0</td>\n",
       "      <td>0</td>\n",
       "      <td>33199</td>\n",
       "      <td>35.593750</td>\n",
       "      <td>22</td>\n",
       "      <td>0</td>\n",
       "      <td>0</td>\n",
       "      <td>2000-12-01</td>\n",
       "      <td>0</td>\n",
       "      <td>0</td>\n",
       "      <td>8</td>\n",
       "      <td>11</td>\n",
       "      <td>11</td>\n",
       "      <td>9</td>\n",
       "      <td>11</td>\n",
       "      <td>3</td>\n",
       "      <td>16</td>\n",
       "      <td>18</td>\n",
       "      <td>11</td>\n",
       "      <td>19</td>\n",
       "      <td>0</td>\n",
       "      <td>0</td>\n",
       "      <td>0</td>\n",
       "      <td>1</td>\n",
       "      <td>test</td>\n",
       "      <td>3776.0</td>\n",
       "    </tr>\n",
       "  </tbody>\n",
       "</table>\n",
       "</div>"
      ],
      "text/plain": [
       "       id  loanAmnt  term  interestRate  installment grade subGrade  \\\n",
       "0  800000     14000     3     10.992188       458.25     B       B3   \n",
       "1  800001     20000     5     14.648438       472.25     C       C5   \n",
       "2  800002     12000     3     19.984375       446.00     D       D4   \n",
       "3  800003     17500     5     14.312500       410.00     C       C4   \n",
       "4  800004     35000     3     17.093750      1249.00     D       D1   \n",
       "\n",
       "   employmentTitle  employmentLength  homeOwnership  annualIncome  \\\n",
       "0              115              10.0              0       80000.0   \n",
       "1               10              10.0              0       50000.0   \n",
       "2               -5               2.0              1       60000.0   \n",
       "3              124               4.0              0       37000.0   \n",
       "4               62               0.0              1       80000.0   \n",
       "\n",
       "   verificationStatus  issueDate  isDefault  purpose  postCode  regionCode  \\\n",
       "0                   0 2014-07-01         -1        0       163          21   \n",
       "1                   0 2015-07-01         -1        2       235           8   \n",
       "2                   2 2016-10-01         -1        0       526          20   \n",
       "3                   1 2014-11-01         -1        4       248          11   \n",
       "4                   1 2017-10-01         -1        0       115           8   \n",
       "\n",
       "         dti  delinquency_2years  ficoRangeLow  ficoRangeHigh  openAcc  \\\n",
       "0  10.562500                   1           715            719       17   \n",
       "1  21.406250                   2           670            674        5   \n",
       "2  33.500000                   0           710            714       12   \n",
       "3  13.953125                   0           685            689       10   \n",
       "4  24.968750                   0           685            689       19   \n",
       "\n",
       "   pubRec  pubRecBankruptcies  revolBal  revolUtil  totalAcc  \\\n",
       "0       0                   0      9846  30.703125        29   \n",
       "1       0                   0      8946  56.593750        14   \n",
       "2       0                   0       970  17.593750        43   \n",
       "3       1                   1     10249  52.312500        18   \n",
       "4       0                   0     33199  35.593750        22   \n",
       "\n",
       "   initialListStatus  applicationType earliesCreditLine  title  n0  n1  n2  \\\n",
       "0                  0                0        1974-11-01      0   1   4   6   \n",
       "1                  0                0        2001-07-01      5   2   1   3   \n",
       "2                  1                0        2006-08-01      0   0   1   4   \n",
       "3                  0                0        2002-07-01      4   0   2   2   \n",
       "4                  0                0        2000-12-01      0   0   8  11   \n",
       "\n",
       "   n3  n4  n5  n6  n7  n8  n9  n10  n11  n12  n13  n14  flag  issueDateDT  \n",
       "0   6   6   8   4  15  19   6   17    0    0    1    3  test       2588.0  \n",
       "1   3   1   1   3   3   9   3    5    0    0    2    2  test       2952.0  \n",
       "2   4   1   1  36   5   6   4   12    0    0    0    7  test       3410.0  \n",
       "3   2   4   7   2   8  14   2   10    0    0    0    3  test       2710.0  \n",
       "4  11   9  11   3  16  18  11   19    0    0    0    1  test       3776.0  "
      ]
     },
     "execution_count": 36,
     "metadata": {},
     "output_type": "execute_result"
    }
   ],
   "source": [
    "test.head()"
   ]
  },
  {
   "cell_type": "code",
   "execution_count": 38,
   "metadata": {
    "ExecuteTime": {
     "end_time": "2020-09-16T14:26:56.326602Z",
     "start_time": "2020-09-16T14:26:56.057244Z"
    }
   },
   "outputs": [],
   "source": [
    "train.to_pickle('cf-train.pkl')"
   ]
  },
  {
   "cell_type": "code",
   "execution_count": 39,
   "metadata": {
    "ExecuteTime": {
     "end_time": "2020-09-16T14:27:27.337693Z",
     "start_time": "2020-09-16T14:27:27.265061Z"
    }
   },
   "outputs": [],
   "source": [
    "test.to_pickle('cf-testa.pkl')"
   ]
  },
  {
   "cell_type": "code",
   "execution_count": 29,
   "metadata": {
    "ExecuteTime": {
     "end_time": "2020-09-16T13:57:36.387758Z",
     "start_time": "2020-09-16T13:46:20.223689Z"
    }
   },
   "outputs": [
    {
     "ename": "KeyboardInterrupt",
     "evalue": "",
     "output_type": "error",
     "traceback": [
      "\u001b[1;31m---------------------------------------------------------------------------\u001b[0m",
      "\u001b[1;31mKeyboardInterrupt\u001b[0m                         Traceback (most recent call last)",
      "\u001b[1;32m<ipython-input-29-00cf07b74dcd>\u001b[0m in \u001b[0;36m<module>\u001b[1;34m\u001b[0m\n\u001b[1;32m----> 1\u001b[1;33m \u001b[0mdf\u001b[0m\u001b[1;33m\u001b[0m\u001b[1;33m\u001b[0m\u001b[0m\n\u001b[0m",
      "\u001b[1;32mF:\\Anaconda\\envs\\kaggle\\lib\\site-packages\\IPython\\core\\displayhook.py\u001b[0m in \u001b[0;36m__call__\u001b[1;34m(self, result)\u001b[0m\n\u001b[0;32m    260\u001b[0m             \u001b[0mself\u001b[0m\u001b[1;33m.\u001b[0m\u001b[0mstart_displayhook\u001b[0m\u001b[1;33m(\u001b[0m\u001b[1;33m)\u001b[0m\u001b[1;33m\u001b[0m\u001b[1;33m\u001b[0m\u001b[0m\n\u001b[0;32m    261\u001b[0m             \u001b[0mself\u001b[0m\u001b[1;33m.\u001b[0m\u001b[0mwrite_output_prompt\u001b[0m\u001b[1;33m(\u001b[0m\u001b[1;33m)\u001b[0m\u001b[1;33m\u001b[0m\u001b[1;33m\u001b[0m\u001b[0m\n\u001b[1;32m--> 262\u001b[1;33m             \u001b[0mformat_dict\u001b[0m\u001b[1;33m,\u001b[0m \u001b[0mmd_dict\u001b[0m \u001b[1;33m=\u001b[0m \u001b[0mself\u001b[0m\u001b[1;33m.\u001b[0m\u001b[0mcompute_format_data\u001b[0m\u001b[1;33m(\u001b[0m\u001b[0mresult\u001b[0m\u001b[1;33m)\u001b[0m\u001b[1;33m\u001b[0m\u001b[1;33m\u001b[0m\u001b[0m\n\u001b[0m\u001b[0;32m    263\u001b[0m             \u001b[0mself\u001b[0m\u001b[1;33m.\u001b[0m\u001b[0mupdate_user_ns\u001b[0m\u001b[1;33m(\u001b[0m\u001b[0mresult\u001b[0m\u001b[1;33m)\u001b[0m\u001b[1;33m\u001b[0m\u001b[1;33m\u001b[0m\u001b[0m\n\u001b[0;32m    264\u001b[0m             \u001b[0mself\u001b[0m\u001b[1;33m.\u001b[0m\u001b[0mfill_exec_result\u001b[0m\u001b[1;33m(\u001b[0m\u001b[0mresult\u001b[0m\u001b[1;33m)\u001b[0m\u001b[1;33m\u001b[0m\u001b[1;33m\u001b[0m\u001b[0m\n",
      "\u001b[1;32mF:\\Anaconda\\envs\\kaggle\\lib\\site-packages\\IPython\\core\\displayhook.py\u001b[0m in \u001b[0;36mcompute_format_data\u001b[1;34m(self, result)\u001b[0m\n\u001b[0;32m    149\u001b[0m \u001b[1;33m\u001b[0m\u001b[0m\n\u001b[0;32m    150\u001b[0m         \"\"\"\n\u001b[1;32m--> 151\u001b[1;33m         \u001b[1;32mreturn\u001b[0m \u001b[0mself\u001b[0m\u001b[1;33m.\u001b[0m\u001b[0mshell\u001b[0m\u001b[1;33m.\u001b[0m\u001b[0mdisplay_formatter\u001b[0m\u001b[1;33m.\u001b[0m\u001b[0mformat\u001b[0m\u001b[1;33m(\u001b[0m\u001b[0mresult\u001b[0m\u001b[1;33m)\u001b[0m\u001b[1;33m\u001b[0m\u001b[1;33m\u001b[0m\u001b[0m\n\u001b[0m\u001b[0;32m    152\u001b[0m \u001b[1;33m\u001b[0m\u001b[0m\n\u001b[0;32m    153\u001b[0m     \u001b[1;31m# This can be set to True by the write_output_prompt method in a subclass\u001b[0m\u001b[1;33m\u001b[0m\u001b[1;33m\u001b[0m\u001b[1;33m\u001b[0m\u001b[0m\n",
      "\u001b[1;32mF:\\Anaconda\\envs\\kaggle\\lib\\site-packages\\IPython\\core\\formatters.py\u001b[0m in \u001b[0;36mformat\u001b[1;34m(self, obj, include, exclude)\u001b[0m\n\u001b[0;32m    178\u001b[0m             \u001b[0mmd\u001b[0m \u001b[1;33m=\u001b[0m \u001b[1;32mNone\u001b[0m\u001b[1;33m\u001b[0m\u001b[1;33m\u001b[0m\u001b[0m\n\u001b[0;32m    179\u001b[0m             \u001b[1;32mtry\u001b[0m\u001b[1;33m:\u001b[0m\u001b[1;33m\u001b[0m\u001b[1;33m\u001b[0m\u001b[0m\n\u001b[1;32m--> 180\u001b[1;33m                 \u001b[0mdata\u001b[0m \u001b[1;33m=\u001b[0m \u001b[0mformatter\u001b[0m\u001b[1;33m(\u001b[0m\u001b[0mobj\u001b[0m\u001b[1;33m)\u001b[0m\u001b[1;33m\u001b[0m\u001b[1;33m\u001b[0m\u001b[0m\n\u001b[0m\u001b[0;32m    181\u001b[0m             \u001b[1;32mexcept\u001b[0m\u001b[1;33m:\u001b[0m\u001b[1;33m\u001b[0m\u001b[1;33m\u001b[0m\u001b[0m\n\u001b[0;32m    182\u001b[0m                 \u001b[1;31m# FIXME: log the exception\u001b[0m\u001b[1;33m\u001b[0m\u001b[1;33m\u001b[0m\u001b[1;33m\u001b[0m\u001b[0m\n",
      "\u001b[1;32m<decorator-gen-9>\u001b[0m in \u001b[0;36m__call__\u001b[1;34m(self, obj)\u001b[0m\n",
      "\u001b[1;32mF:\\Anaconda\\envs\\kaggle\\lib\\site-packages\\IPython\\core\\formatters.py\u001b[0m in \u001b[0;36mcatch_format_error\u001b[1;34m(method, self, *args, **kwargs)\u001b[0m\n\u001b[0;32m    222\u001b[0m     \u001b[1;34m\"\"\"show traceback on failed format call\"\"\"\u001b[0m\u001b[1;33m\u001b[0m\u001b[1;33m\u001b[0m\u001b[0m\n\u001b[0;32m    223\u001b[0m     \u001b[1;32mtry\u001b[0m\u001b[1;33m:\u001b[0m\u001b[1;33m\u001b[0m\u001b[1;33m\u001b[0m\u001b[0m\n\u001b[1;32m--> 224\u001b[1;33m         \u001b[0mr\u001b[0m \u001b[1;33m=\u001b[0m \u001b[0mmethod\u001b[0m\u001b[1;33m(\u001b[0m\u001b[0mself\u001b[0m\u001b[1;33m,\u001b[0m \u001b[1;33m*\u001b[0m\u001b[0margs\u001b[0m\u001b[1;33m,\u001b[0m \u001b[1;33m**\u001b[0m\u001b[0mkwargs\u001b[0m\u001b[1;33m)\u001b[0m\u001b[1;33m\u001b[0m\u001b[1;33m\u001b[0m\u001b[0m\n\u001b[0m\u001b[0;32m    225\u001b[0m     \u001b[1;32mexcept\u001b[0m \u001b[0mNotImplementedError\u001b[0m\u001b[1;33m:\u001b[0m\u001b[1;33m\u001b[0m\u001b[1;33m\u001b[0m\u001b[0m\n\u001b[0;32m    226\u001b[0m         \u001b[1;31m# don't warn on NotImplementedErrors\u001b[0m\u001b[1;33m\u001b[0m\u001b[1;33m\u001b[0m\u001b[1;33m\u001b[0m\u001b[0m\n",
      "\u001b[1;32mF:\\Anaconda\\envs\\kaggle\\lib\\site-packages\\IPython\\core\\formatters.py\u001b[0m in \u001b[0;36m__call__\u001b[1;34m(self, obj)\u001b[0m\n\u001b[0;32m    343\u001b[0m             \u001b[0mmethod\u001b[0m \u001b[1;33m=\u001b[0m \u001b[0mget_real_method\u001b[0m\u001b[1;33m(\u001b[0m\u001b[0mobj\u001b[0m\u001b[1;33m,\u001b[0m \u001b[0mself\u001b[0m\u001b[1;33m.\u001b[0m\u001b[0mprint_method\u001b[0m\u001b[1;33m)\u001b[0m\u001b[1;33m\u001b[0m\u001b[1;33m\u001b[0m\u001b[0m\n\u001b[0;32m    344\u001b[0m             \u001b[1;32mif\u001b[0m \u001b[0mmethod\u001b[0m \u001b[1;32mis\u001b[0m \u001b[1;32mnot\u001b[0m \u001b[1;32mNone\u001b[0m\u001b[1;33m:\u001b[0m\u001b[1;33m\u001b[0m\u001b[1;33m\u001b[0m\u001b[0m\n\u001b[1;32m--> 345\u001b[1;33m                 \u001b[1;32mreturn\u001b[0m \u001b[0mmethod\u001b[0m\u001b[1;33m(\u001b[0m\u001b[1;33m)\u001b[0m\u001b[1;33m\u001b[0m\u001b[1;33m\u001b[0m\u001b[0m\n\u001b[0m\u001b[0;32m    346\u001b[0m             \u001b[1;32mreturn\u001b[0m \u001b[1;32mNone\u001b[0m\u001b[1;33m\u001b[0m\u001b[1;33m\u001b[0m\u001b[0m\n\u001b[0;32m    347\u001b[0m         \u001b[1;32melse\u001b[0m\u001b[1;33m:\u001b[0m\u001b[1;33m\u001b[0m\u001b[1;33m\u001b[0m\u001b[0m\n",
      "\u001b[1;32mF:\\Anaconda\\envs\\kaggle\\lib\\site-packages\\pandas\\core\\frame.py\u001b[0m in \u001b[0;36m_repr_html_\u001b[1;34m(self)\u001b[0m\n\u001b[0;32m    796\u001b[0m                 \u001b[0mrender_links\u001b[0m\u001b[1;33m=\u001b[0m\u001b[1;32mFalse\u001b[0m\u001b[1;33m,\u001b[0m\u001b[1;33m\u001b[0m\u001b[1;33m\u001b[0m\u001b[0m\n\u001b[0;32m    797\u001b[0m             )\n\u001b[1;32m--> 798\u001b[1;33m             \u001b[1;32mreturn\u001b[0m \u001b[0mformatter\u001b[0m\u001b[1;33m.\u001b[0m\u001b[0mto_html\u001b[0m\u001b[1;33m(\u001b[0m\u001b[0mnotebook\u001b[0m\u001b[1;33m=\u001b[0m\u001b[1;32mTrue\u001b[0m\u001b[1;33m)\u001b[0m\u001b[1;33m\u001b[0m\u001b[1;33m\u001b[0m\u001b[0m\n\u001b[0m\u001b[0;32m    799\u001b[0m         \u001b[1;32melse\u001b[0m\u001b[1;33m:\u001b[0m\u001b[1;33m\u001b[0m\u001b[1;33m\u001b[0m\u001b[0m\n\u001b[0;32m    800\u001b[0m             \u001b[1;32mreturn\u001b[0m \u001b[1;32mNone\u001b[0m\u001b[1;33m\u001b[0m\u001b[1;33m\u001b[0m\u001b[0m\n",
      "\u001b[1;32mF:\\Anaconda\\envs\\kaggle\\lib\\site-packages\\pandas\\io\\formats\\format.py\u001b[0m in \u001b[0;36mto_html\u001b[1;34m(self, buf, encoding, classes, notebook, border)\u001b[0m\n\u001b[0;32m    987\u001b[0m         \u001b[0mKlass\u001b[0m \u001b[1;33m=\u001b[0m \u001b[0mNotebookFormatter\u001b[0m \u001b[1;32mif\u001b[0m \u001b[0mnotebook\u001b[0m \u001b[1;32melse\u001b[0m \u001b[0mHTMLFormatter\u001b[0m\u001b[1;33m\u001b[0m\u001b[1;33m\u001b[0m\u001b[0m\n\u001b[0;32m    988\u001b[0m         return Klass(self, classes=classes, border=border).get_result(\n\u001b[1;32m--> 989\u001b[1;33m             \u001b[0mbuf\u001b[0m\u001b[1;33m=\u001b[0m\u001b[0mbuf\u001b[0m\u001b[1;33m,\u001b[0m \u001b[0mencoding\u001b[0m\u001b[1;33m=\u001b[0m\u001b[0mencoding\u001b[0m\u001b[1;33m\u001b[0m\u001b[1;33m\u001b[0m\u001b[0m\n\u001b[0m\u001b[0;32m    990\u001b[0m         )\n\u001b[0;32m    991\u001b[0m \u001b[1;33m\u001b[0m\u001b[0m\n",
      "\u001b[1;32mF:\\Anaconda\\envs\\kaggle\\lib\\site-packages\\pandas\\io\\formats\\format.py\u001b[0m in \u001b[0;36mget_result\u001b[1;34m(self, buf, encoding)\u001b[0m\n\u001b[0;32m    518\u001b[0m         \"\"\"\n\u001b[0;32m    519\u001b[0m         \u001b[1;32mwith\u001b[0m \u001b[0mself\u001b[0m\u001b[1;33m.\u001b[0m\u001b[0mget_buffer\u001b[0m\u001b[1;33m(\u001b[0m\u001b[0mbuf\u001b[0m\u001b[1;33m,\u001b[0m \u001b[0mencoding\u001b[0m\u001b[1;33m=\u001b[0m\u001b[0mencoding\u001b[0m\u001b[1;33m)\u001b[0m \u001b[1;32mas\u001b[0m \u001b[0mf\u001b[0m\u001b[1;33m:\u001b[0m\u001b[1;33m\u001b[0m\u001b[1;33m\u001b[0m\u001b[0m\n\u001b[1;32m--> 520\u001b[1;33m             \u001b[0mself\u001b[0m\u001b[1;33m.\u001b[0m\u001b[0mwrite_result\u001b[0m\u001b[1;33m(\u001b[0m\u001b[0mbuf\u001b[0m\u001b[1;33m=\u001b[0m\u001b[0mf\u001b[0m\u001b[1;33m)\u001b[0m\u001b[1;33m\u001b[0m\u001b[1;33m\u001b[0m\u001b[0m\n\u001b[0m\u001b[0;32m    521\u001b[0m             \u001b[1;32mif\u001b[0m \u001b[0mbuf\u001b[0m \u001b[1;32mis\u001b[0m \u001b[1;32mNone\u001b[0m\u001b[1;33m:\u001b[0m\u001b[1;33m\u001b[0m\u001b[1;33m\u001b[0m\u001b[0m\n\u001b[0;32m    522\u001b[0m                 \u001b[1;32mreturn\u001b[0m \u001b[0mf\u001b[0m\u001b[1;33m.\u001b[0m\u001b[0mgetvalue\u001b[0m\u001b[1;33m(\u001b[0m\u001b[1;33m)\u001b[0m\u001b[1;33m\u001b[0m\u001b[1;33m\u001b[0m\u001b[0m\n",
      "\u001b[1;32mF:\\Anaconda\\envs\\kaggle\\lib\\site-packages\\pandas\\io\\formats\\html.py\u001b[0m in \u001b[0;36mwrite_result\u001b[1;34m(self, buf)\u001b[0m\n\u001b[0;32m    201\u001b[0m \u001b[1;33m\u001b[0m\u001b[0m\n\u001b[0;32m    202\u001b[0m     \u001b[1;32mdef\u001b[0m \u001b[0mwrite_result\u001b[0m\u001b[1;33m(\u001b[0m\u001b[0mself\u001b[0m\u001b[1;33m,\u001b[0m \u001b[0mbuf\u001b[0m\u001b[1;33m:\u001b[0m \u001b[0mIO\u001b[0m\u001b[1;33m[\u001b[0m\u001b[0mstr\u001b[0m\u001b[1;33m]\u001b[0m\u001b[1;33m)\u001b[0m \u001b[1;33m->\u001b[0m \u001b[1;32mNone\u001b[0m\u001b[1;33m:\u001b[0m\u001b[1;33m\u001b[0m\u001b[1;33m\u001b[0m\u001b[0m\n\u001b[1;32m--> 203\u001b[1;33m         \u001b[0mbuffer_put_lines\u001b[0m\u001b[1;33m(\u001b[0m\u001b[0mbuf\u001b[0m\u001b[1;33m,\u001b[0m \u001b[0mself\u001b[0m\u001b[1;33m.\u001b[0m\u001b[0mrender\u001b[0m\u001b[1;33m(\u001b[0m\u001b[1;33m)\u001b[0m\u001b[1;33m)\u001b[0m\u001b[1;33m\u001b[0m\u001b[1;33m\u001b[0m\u001b[0m\n\u001b[0m\u001b[0;32m    204\u001b[0m \u001b[1;33m\u001b[0m\u001b[0m\n\u001b[0;32m    205\u001b[0m     \u001b[1;32mdef\u001b[0m \u001b[0m_write_table\u001b[0m\u001b[1;33m(\u001b[0m\u001b[0mself\u001b[0m\u001b[1;33m,\u001b[0m \u001b[0mindent\u001b[0m\u001b[1;33m:\u001b[0m \u001b[0mint\u001b[0m \u001b[1;33m=\u001b[0m \u001b[1;36m0\u001b[0m\u001b[1;33m)\u001b[0m \u001b[1;33m->\u001b[0m \u001b[1;32mNone\u001b[0m\u001b[1;33m:\u001b[0m\u001b[1;33m\u001b[0m\u001b[1;33m\u001b[0m\u001b[0m\n",
      "\u001b[1;32mF:\\Anaconda\\envs\\kaggle\\lib\\site-packages\\pandas\\io\\formats\\html.py\u001b[0m in \u001b[0;36mrender\u001b[1;34m(self)\u001b[0m\n\u001b[0;32m    605\u001b[0m         \u001b[0mself\u001b[0m\u001b[1;33m.\u001b[0m\u001b[0mwrite\u001b[0m\u001b[1;33m(\u001b[0m\u001b[1;34m\"<div>\"\u001b[0m\u001b[1;33m)\u001b[0m\u001b[1;33m\u001b[0m\u001b[1;33m\u001b[0m\u001b[0m\n\u001b[0;32m    606\u001b[0m         \u001b[0mself\u001b[0m\u001b[1;33m.\u001b[0m\u001b[0mwrite_style\u001b[0m\u001b[1;33m(\u001b[0m\u001b[1;33m)\u001b[0m\u001b[1;33m\u001b[0m\u001b[1;33m\u001b[0m\u001b[0m\n\u001b[1;32m--> 607\u001b[1;33m         \u001b[0msuper\u001b[0m\u001b[1;33m(\u001b[0m\u001b[1;33m)\u001b[0m\u001b[1;33m.\u001b[0m\u001b[0mrender\u001b[0m\u001b[1;33m(\u001b[0m\u001b[1;33m)\u001b[0m\u001b[1;33m\u001b[0m\u001b[1;33m\u001b[0m\u001b[0m\n\u001b[0m\u001b[0;32m    608\u001b[0m         \u001b[0mself\u001b[0m\u001b[1;33m.\u001b[0m\u001b[0mwrite\u001b[0m\u001b[1;33m(\u001b[0m\u001b[1;34m\"</div>\"\u001b[0m\u001b[1;33m)\u001b[0m\u001b[1;33m\u001b[0m\u001b[1;33m\u001b[0m\u001b[0m\n\u001b[0;32m    609\u001b[0m         \u001b[1;32mreturn\u001b[0m \u001b[0mself\u001b[0m\u001b[1;33m.\u001b[0m\u001b[0melements\u001b[0m\u001b[1;33m\u001b[0m\u001b[1;33m\u001b[0m\u001b[0m\n",
      "\u001b[1;32mF:\\Anaconda\\envs\\kaggle\\lib\\site-packages\\pandas\\io\\formats\\html.py\u001b[0m in \u001b[0;36mrender\u001b[1;34m(self)\u001b[0m\n\u001b[0;32m    190\u001b[0m \u001b[1;33m\u001b[0m\u001b[0m\n\u001b[0;32m    191\u001b[0m     \u001b[1;32mdef\u001b[0m \u001b[0mrender\u001b[0m\u001b[1;33m(\u001b[0m\u001b[0mself\u001b[0m\u001b[1;33m)\u001b[0m \u001b[1;33m->\u001b[0m \u001b[0mList\u001b[0m\u001b[1;33m[\u001b[0m\u001b[0mstr\u001b[0m\u001b[1;33m]\u001b[0m\u001b[1;33m:\u001b[0m\u001b[1;33m\u001b[0m\u001b[1;33m\u001b[0m\u001b[0m\n\u001b[1;32m--> 192\u001b[1;33m         \u001b[0mself\u001b[0m\u001b[1;33m.\u001b[0m\u001b[0m_write_table\u001b[0m\u001b[1;33m(\u001b[0m\u001b[1;33m)\u001b[0m\u001b[1;33m\u001b[0m\u001b[1;33m\u001b[0m\u001b[0m\n\u001b[0m\u001b[0;32m    193\u001b[0m \u001b[1;33m\u001b[0m\u001b[0m\n\u001b[0;32m    194\u001b[0m         \u001b[1;32mif\u001b[0m \u001b[0mself\u001b[0m\u001b[1;33m.\u001b[0m\u001b[0mshould_show_dimensions\u001b[0m\u001b[1;33m:\u001b[0m\u001b[1;33m\u001b[0m\u001b[1;33m\u001b[0m\u001b[0m\n",
      "\u001b[1;32mF:\\Anaconda\\envs\\kaggle\\lib\\site-packages\\pandas\\io\\formats\\html.py\u001b[0m in \u001b[0;36m_write_table\u001b[1;34m(self, indent)\u001b[0m\n\u001b[0;32m    231\u001b[0m             \u001b[0mself\u001b[0m\u001b[1;33m.\u001b[0m\u001b[0m_write_header\u001b[0m\u001b[1;33m(\u001b[0m\u001b[0mindent\u001b[0m \u001b[1;33m+\u001b[0m \u001b[0mself\u001b[0m\u001b[1;33m.\u001b[0m\u001b[0mindent_delta\u001b[0m\u001b[1;33m)\u001b[0m\u001b[1;33m\u001b[0m\u001b[1;33m\u001b[0m\u001b[0m\n\u001b[0;32m    232\u001b[0m \u001b[1;33m\u001b[0m\u001b[0m\n\u001b[1;32m--> 233\u001b[1;33m         \u001b[0mself\u001b[0m\u001b[1;33m.\u001b[0m\u001b[0m_write_body\u001b[0m\u001b[1;33m(\u001b[0m\u001b[0mindent\u001b[0m \u001b[1;33m+\u001b[0m \u001b[0mself\u001b[0m\u001b[1;33m.\u001b[0m\u001b[0mindent_delta\u001b[0m\u001b[1;33m)\u001b[0m\u001b[1;33m\u001b[0m\u001b[1;33m\u001b[0m\u001b[0m\n\u001b[0m\u001b[0;32m    234\u001b[0m \u001b[1;33m\u001b[0m\u001b[0m\n\u001b[0;32m    235\u001b[0m         \u001b[0mself\u001b[0m\u001b[1;33m.\u001b[0m\u001b[0mwrite\u001b[0m\u001b[1;33m(\u001b[0m\u001b[1;34m\"</table>\"\u001b[0m\u001b[1;33m,\u001b[0m \u001b[0mindent\u001b[0m\u001b[1;33m)\u001b[0m\u001b[1;33m\u001b[0m\u001b[1;33m\u001b[0m\u001b[0m\n",
      "\u001b[1;32mF:\\Anaconda\\envs\\kaggle\\lib\\site-packages\\pandas\\io\\formats\\html.py\u001b[0m in \u001b[0;36m_write_body\u001b[1;34m(self, indent)\u001b[0m\n\u001b[0;32m    383\u001b[0m             \u001b[0mself\u001b[0m\u001b[1;33m.\u001b[0m\u001b[0m_write_hierarchical_rows\u001b[0m\u001b[1;33m(\u001b[0m\u001b[0mfmt_values\u001b[0m\u001b[1;33m,\u001b[0m \u001b[0mindent\u001b[0m \u001b[1;33m+\u001b[0m \u001b[0mself\u001b[0m\u001b[1;33m.\u001b[0m\u001b[0mindent_delta\u001b[0m\u001b[1;33m)\u001b[0m\u001b[1;33m\u001b[0m\u001b[1;33m\u001b[0m\u001b[0m\n\u001b[0;32m    384\u001b[0m         \u001b[1;32melse\u001b[0m\u001b[1;33m:\u001b[0m\u001b[1;33m\u001b[0m\u001b[1;33m\u001b[0m\u001b[0m\n\u001b[1;32m--> 385\u001b[1;33m             \u001b[0mself\u001b[0m\u001b[1;33m.\u001b[0m\u001b[0m_write_regular_rows\u001b[0m\u001b[1;33m(\u001b[0m\u001b[0mfmt_values\u001b[0m\u001b[1;33m,\u001b[0m \u001b[0mindent\u001b[0m \u001b[1;33m+\u001b[0m \u001b[0mself\u001b[0m\u001b[1;33m.\u001b[0m\u001b[0mindent_delta\u001b[0m\u001b[1;33m)\u001b[0m\u001b[1;33m\u001b[0m\u001b[1;33m\u001b[0m\u001b[0m\n\u001b[0m\u001b[0;32m    386\u001b[0m \u001b[1;33m\u001b[0m\u001b[0m\n\u001b[0;32m    387\u001b[0m         \u001b[0mself\u001b[0m\u001b[1;33m.\u001b[0m\u001b[0mwrite\u001b[0m\u001b[1;33m(\u001b[0m\u001b[1;34m\"</tbody>\"\u001b[0m\u001b[1;33m,\u001b[0m \u001b[0mindent\u001b[0m\u001b[1;33m)\u001b[0m\u001b[1;33m\u001b[0m\u001b[1;33m\u001b[0m\u001b[0m\n",
      "\u001b[1;32mF:\\Anaconda\\envs\\kaggle\\lib\\site-packages\\pandas\\io\\formats\\html.py\u001b[0m in \u001b[0;36m_write_regular_rows\u001b[1;34m(self, fmt_values, indent)\u001b[0m\n\u001b[0;32m    430\u001b[0m                 \u001b[0mrow\u001b[0m\u001b[1;33m.\u001b[0m\u001b[0minsert\u001b[0m\u001b[1;33m(\u001b[0m\u001b[0mdot_col_ix\u001b[0m\u001b[1;33m,\u001b[0m \u001b[1;34m\"...\"\u001b[0m\u001b[1;33m)\u001b[0m\u001b[1;33m\u001b[0m\u001b[1;33m\u001b[0m\u001b[0m\n\u001b[0;32m    431\u001b[0m             self.write_tr(\n\u001b[1;32m--> 432\u001b[1;33m                 \u001b[0mrow\u001b[0m\u001b[1;33m,\u001b[0m \u001b[0mindent\u001b[0m\u001b[1;33m,\u001b[0m \u001b[0mself\u001b[0m\u001b[1;33m.\u001b[0m\u001b[0mindent_delta\u001b[0m\u001b[1;33m,\u001b[0m \u001b[0mtags\u001b[0m\u001b[1;33m=\u001b[0m\u001b[1;32mNone\u001b[0m\u001b[1;33m,\u001b[0m \u001b[0mnindex_levels\u001b[0m\u001b[1;33m=\u001b[0m\u001b[0mself\u001b[0m\u001b[1;33m.\u001b[0m\u001b[0mrow_levels\u001b[0m\u001b[1;33m\u001b[0m\u001b[1;33m\u001b[0m\u001b[0m\n\u001b[0m\u001b[0;32m    433\u001b[0m             )\n\u001b[0;32m    434\u001b[0m \u001b[1;33m\u001b[0m\u001b[0m\n",
      "\u001b[1;32mF:\\Anaconda\\envs\\kaggle\\lib\\site-packages\\pandas\\io\\formats\\html.py\u001b[0m in \u001b[0;36mwrite_tr\u001b[1;34m(self, line, indent, indent_delta, header, align, tags, nindex_levels)\u001b[0m\n\u001b[0;32m    184\u001b[0m                 \u001b[0mself\u001b[0m\u001b[1;33m.\u001b[0m\u001b[0mwrite_th\u001b[0m\u001b[1;33m(\u001b[0m\u001b[0ms\u001b[0m\u001b[1;33m,\u001b[0m \u001b[0mindent\u001b[0m\u001b[1;33m=\u001b[0m\u001b[0mindent\u001b[0m\u001b[1;33m,\u001b[0m \u001b[0mheader\u001b[0m\u001b[1;33m=\u001b[0m\u001b[0mheader\u001b[0m\u001b[1;33m,\u001b[0m \u001b[0mtags\u001b[0m\u001b[1;33m=\u001b[0m\u001b[0mval_tag\u001b[0m\u001b[1;33m)\u001b[0m\u001b[1;33m\u001b[0m\u001b[1;33m\u001b[0m\u001b[0m\n\u001b[0;32m    185\u001b[0m             \u001b[1;32melse\u001b[0m\u001b[1;33m:\u001b[0m\u001b[1;33m\u001b[0m\u001b[1;33m\u001b[0m\u001b[0m\n\u001b[1;32m--> 186\u001b[1;33m                 \u001b[0mself\u001b[0m\u001b[1;33m.\u001b[0m\u001b[0mwrite_td\u001b[0m\u001b[1;33m(\u001b[0m\u001b[0ms\u001b[0m\u001b[1;33m,\u001b[0m \u001b[0mindent\u001b[0m\u001b[1;33m,\u001b[0m \u001b[0mtags\u001b[0m\u001b[1;33m=\u001b[0m\u001b[0mval_tag\u001b[0m\u001b[1;33m)\u001b[0m\u001b[1;33m\u001b[0m\u001b[1;33m\u001b[0m\u001b[0m\n\u001b[0m\u001b[0;32m    187\u001b[0m \u001b[1;33m\u001b[0m\u001b[0m\n\u001b[0;32m    188\u001b[0m         \u001b[0mindent\u001b[0m \u001b[1;33m-=\u001b[0m \u001b[0mindent_delta\u001b[0m\u001b[1;33m\u001b[0m\u001b[1;33m\u001b[0m\u001b[0m\n",
      "\u001b[1;32mF:\\Anaconda\\envs\\kaggle\\lib\\site-packages\\pandas\\io\\formats\\html.py\u001b[0m in \u001b[0;36mwrite_td\u001b[1;34m(self, s, indent, tags)\u001b[0m\n\u001b[0;32m    133\u001b[0m \u001b[1;33m\u001b[0m\u001b[0m\n\u001b[0;32m    134\u001b[0m     \u001b[1;32mdef\u001b[0m \u001b[0mwrite_td\u001b[0m\u001b[1;33m(\u001b[0m\u001b[0mself\u001b[0m\u001b[1;33m,\u001b[0m \u001b[0ms\u001b[0m\u001b[1;33m:\u001b[0m \u001b[0mAny\u001b[0m\u001b[1;33m,\u001b[0m \u001b[0mindent\u001b[0m\u001b[1;33m:\u001b[0m \u001b[0mint\u001b[0m \u001b[1;33m=\u001b[0m \u001b[1;36m0\u001b[0m\u001b[1;33m,\u001b[0m \u001b[0mtags\u001b[0m\u001b[1;33m:\u001b[0m \u001b[0mOptional\u001b[0m\u001b[1;33m[\u001b[0m\u001b[0mstr\u001b[0m\u001b[1;33m]\u001b[0m \u001b[1;33m=\u001b[0m \u001b[1;32mNone\u001b[0m\u001b[1;33m)\u001b[0m \u001b[1;33m->\u001b[0m \u001b[1;32mNone\u001b[0m\u001b[1;33m:\u001b[0m\u001b[1;33m\u001b[0m\u001b[1;33m\u001b[0m\u001b[0m\n\u001b[1;32m--> 135\u001b[1;33m         \u001b[0mself\u001b[0m\u001b[1;33m.\u001b[0m\u001b[0m_write_cell\u001b[0m\u001b[1;33m(\u001b[0m\u001b[0ms\u001b[0m\u001b[1;33m,\u001b[0m \u001b[0mkind\u001b[0m\u001b[1;33m=\u001b[0m\u001b[1;34m\"td\"\u001b[0m\u001b[1;33m,\u001b[0m \u001b[0mindent\u001b[0m\u001b[1;33m=\u001b[0m\u001b[0mindent\u001b[0m\u001b[1;33m,\u001b[0m \u001b[0mtags\u001b[0m\u001b[1;33m=\u001b[0m\u001b[0mtags\u001b[0m\u001b[1;33m)\u001b[0m\u001b[1;33m\u001b[0m\u001b[1;33m\u001b[0m\u001b[0m\n\u001b[0m\u001b[0;32m    136\u001b[0m \u001b[1;33m\u001b[0m\u001b[0m\n\u001b[0;32m    137\u001b[0m     def _write_cell(\n",
      "\u001b[1;32mF:\\Anaconda\\envs\\kaggle\\lib\\site-packages\\pandas\\io\\formats\\html.py\u001b[0m in \u001b[0;36m_write_cell\u001b[1;34m(self, s, kind, indent, tags)\u001b[0m\n\u001b[0;32m    141\u001b[0m             \u001b[0mstart_tag\u001b[0m \u001b[1;33m=\u001b[0m \u001b[1;34mf\"<{kind} {tags}>\"\u001b[0m\u001b[1;33m\u001b[0m\u001b[1;33m\u001b[0m\u001b[0m\n\u001b[0;32m    142\u001b[0m         \u001b[1;32melse\u001b[0m\u001b[1;33m:\u001b[0m\u001b[1;33m\u001b[0m\u001b[1;33m\u001b[0m\u001b[0m\n\u001b[1;32m--> 143\u001b[1;33m             \u001b[0mstart_tag\u001b[0m \u001b[1;33m=\u001b[0m \u001b[1;34mf\"<{kind}>\"\u001b[0m\u001b[1;33m\u001b[0m\u001b[1;33m\u001b[0m\u001b[0m\n\u001b[0m\u001b[0;32m    144\u001b[0m \u001b[1;33m\u001b[0m\u001b[0m\n\u001b[0;32m    145\u001b[0m         \u001b[1;32mif\u001b[0m \u001b[0mself\u001b[0m\u001b[1;33m.\u001b[0m\u001b[0mescape\u001b[0m\u001b[1;33m:\u001b[0m\u001b[1;33m\u001b[0m\u001b[1;33m\u001b[0m\u001b[0m\n",
      "\u001b[1;31mKeyboardInterrupt\u001b[0m: "
     ]
    }
   ],
   "source": [
    "df"
   ]
  },
  {
   "cell_type": "code",
   "execution_count": null,
   "metadata": {
    "ExecuteTime": {
     "end_time": "2020-09-16T12:44:00.480494Z",
     "start_time": "2020-09-16T12:43:05.786Z"
    }
   },
   "outputs": [],
   "source": [
    "# cat_fea = ['grade', 'subGrade', 'employmentTitle', 'verificationStatus', \\\n",
    "#           'purpose', 'postCode', 'regionCode','applicationType','initialListStatus', 'title', 'policyCode']"
   ]
  },
  {
   "cell_type": "code",
   "execution_count": null,
   "metadata": {
    "ExecuteTime": {
     "end_time": "2020-09-16T12:44:00.481494Z",
     "start_time": "2020-09-16T12:43:05.787Z"
    }
   },
   "outputs": [],
   "source": [
    "# cols = ['id', 'loanAmnt', 'term', 'interestRate', 'installment', 'grade',\n",
    "#        'subGrade', 'employmentTitle', 'employmentLength', 'homeOwnership',\n",
    "#        'annualIncome', 'verificationStatus', 'issueDate', 'isDefault',\n",
    "#        'purpose', 'postCode', 'regionCode', 'dti', 'detlinquency_2years',\n",
    "#        'ficoRangeLow', 'ficoRangeHigh', 'openAcc', 'pubRec',\n",
    "#        'pubRecBankruptcies', 'revolBal', 'revolUtil', 'totalAcc',\n",
    "#        'initialListStatus', 'applicationType', 'earliesCreditLine', 'title',\n",
    "#        'policyCode', 'n0', 'n1', 'n2', 'n4', 'n5', 'n6', 'n7', 'n8', 'n9',\n",
    "#        'n10', 'n11', 'n12', 'n13', 'n14']"
   ]
  },
  {
   "cell_type": "code",
   "execution_count": null,
   "metadata": {
    "ExecuteTime": {
     "end_time": "2020-09-16T12:44:00.482495Z",
     "start_time": "2020-09-16T12:43:05.790Z"
    }
   },
   "outputs": [],
   "source": [
    "# num_fea = [a for a in cols if a not in cat_fea]\n",
    "# num_fea"
   ]
  },
  {
   "cell_type": "code",
   "execution_count": null,
   "metadata": {},
   "outputs": [],
   "source": []
  },
  {
   "cell_type": "code",
   "execution_count": null,
   "metadata": {
    "ExecuteTime": {
     "end_time": "2020-09-16T12:44:00.483497Z",
     "start_time": "2020-09-16T12:43:05.792Z"
    }
   },
   "outputs": [],
   "source": [
    "# ## 定义了一个统计函数，方便后续信息统计\n",
    "# def Sta_inf(data):\n",
    "#     print('_min',np.min(data))\n",
    "#     print('_max:',np.max(data))\n",
    "#     print('_mean',np.mean(data))\n",
    "#     print('_ptp',np.ptp(data))\n",
    "#     print('_std',np.std(data))\n",
    "#     print('_var',np.var(data))"
   ]
  }
 ],
 "metadata": {
  "kernelspec": {
   "display_name": "kaggle",
   "language": "python",
   "name": "kaggle"
  },
  "language_info": {
   "codemirror_mode": {
    "name": "ipython",
    "version": 3
   },
   "file_extension": ".py",
   "mimetype": "text/x-python",
   "name": "python",
   "nbconvert_exporter": "python",
   "pygments_lexer": "ipython3",
   "version": "3.7.9"
  },
  "toc": {
   "base_numbering": 1,
   "nav_menu": {},
   "number_sections": true,
   "sideBar": true,
   "skip_h1_title": false,
   "title_cell": "Table of Contents",
   "title_sidebar": "Contents",
   "toc_cell": false,
   "toc_position": {},
   "toc_section_display": true,
   "toc_window_display": false
  },
  "varInspector": {
   "cols": {
    "lenName": 16,
    "lenType": 16,
    "lenVar": 40
   },
   "kernels_config": {
    "python": {
     "delete_cmd_postfix": "",
     "delete_cmd_prefix": "del ",
     "library": "var_list.py",
     "varRefreshCmd": "print(var_dic_list())"
    },
    "r": {
     "delete_cmd_postfix": ") ",
     "delete_cmd_prefix": "rm(",
     "library": "var_list.r",
     "varRefreshCmd": "cat(var_dic_list()) "
    }
   },
   "types_to_exclude": [
    "module",
    "function",
    "builtin_function_or_method",
    "instance",
    "_Feature"
   ],
   "window_display": false
  }
 },
 "nbformat": 4,
 "nbformat_minor": 4
}
